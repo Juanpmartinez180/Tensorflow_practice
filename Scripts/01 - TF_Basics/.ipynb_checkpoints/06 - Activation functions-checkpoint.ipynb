{
 "cells": [
  {
   "cell_type": "markdown",
   "metadata": {},
   "source": [
    "# Activation Functions"
   ]
  },
  {
   "cell_type": "code",
   "execution_count": 10,
   "metadata": {},
   "outputs": [],
   "source": [
    "import tensorflow as tf\n",
    "session = tf.Session()\n",
    "import numpy as np\n",
    "import matplotlib.pyplot as plt"
   ]
  },
  {
   "cell_type": "code",
   "execution_count": 2,
   "metadata": {},
   "outputs": [],
   "source": [
    "import tensorflow.nn as nn     #Neural network library import"
   ]
  },
  {
   "cell_type": "markdown",
   "metadata": {},
   "source": [
    "## ReLU function\n",
    "- Continua\n",
    "- No derivable"
   ]
  },
  {
   "cell_type": "markdown",
   "metadata": {},
   "source": [
    "$$f(x) = max(0,x)$$ "
   ]
  },
  {
   "cell_type": "code",
   "execution_count": 3,
   "metadata": {},
   "outputs": [
    {
     "name": "stdout",
     "output_type": "stream",
     "text": [
      "[ 0.  5. 15.]\n"
     ]
    }
   ],
   "source": [
    "print(session.run(nn.relu([-5.,5.,15.])))"
   ]
  },
  {
   "cell_type": "markdown",
   "metadata": {},
   "source": [
    "$$ f(x) = min(max(0,x),6)$$  ReLU 6 function is similar to standard ReLU, but instead to output values bigger than 0, it uses 6 as the threshold. It means a faster algorithm due all the incerities about decimal places near 0 (in case of regular ReLU) are solved by implementing a upper threshold value"
   ]
  },
  {
   "cell_type": "code",
   "execution_count": 4,
   "metadata": {},
   "outputs": [
    {
     "name": "stdout",
     "output_type": "stream",
     "text": [
      "[0. 5. 6.]\n"
     ]
    }
   ],
   "source": [
    "print(session.run(nn.relu6([-5.,5.,15.])))"
   ]
  },
  {
   "cell_type": "markdown",
   "metadata": {},
   "source": [
    "## Sigmoid Function\n",
    "- Continua \n",
    "- Derivable\n",
    "\n",
    "$$f(x) = \\frac{1}{1+e^{-x}}$$"
   ]
  },
  {
   "cell_type": "code",
   "execution_count": 5,
   "metadata": {},
   "outputs": [
    {
     "name": "stdout",
     "output_type": "stream",
     "text": [
      "[0.11920292 0.26894143 0.5        0.7310586 ]\n"
     ]
    }
   ],
   "source": [
    "print(session.run(nn.sigmoid([-2.,-1.,0,1.])))"
   ]
  },
  {
   "cell_type": "markdown",
   "metadata": {},
   "source": [
    "## Hiperbolic tangent Function\n",
    "- Continua\n",
    "- Derivable\n",
    "- Rango de valores $(-1,1)$"
   ]
  },
  {
   "cell_type": "markdown",
   "metadata": {},
   "source": [
    "$$ f(x) = tanh(x) = \\frac{e^{x}-e^{-x}}{e^{x}+e^{-x}}$$"
   ]
  },
  {
   "cell_type": "code",
   "execution_count": 6,
   "metadata": {},
   "outputs": [
    {
     "name": "stdout",
     "output_type": "stream",
     "text": [
      "[-0.9640276 -0.7615942  0.         0.7615942  0.9640276]\n"
     ]
    }
   ],
   "source": [
    "print(session.run(nn.tanh([-2.,-1.,0.,1.,2.])))"
   ]
  },
  {
   "cell_type": "markdown",
   "metadata": {},
   "source": [
    "## Soft Sign Function\n",
    "- Version Continua de la funcion sign\n",
    "- No es derivable"
   ]
  },
  {
   "cell_type": "markdown",
   "metadata": {},
   "source": [
    "$$ f(x) = \\frac{x}{|x|+1} $$"
   ]
  },
  {
   "cell_type": "code",
   "execution_count": 7,
   "metadata": {},
   "outputs": [
    {
     "name": "stdout",
     "output_type": "stream",
     "text": [
      "[-0.6666667 -0.5        0.         0.5        0.6666667]\n"
     ]
    }
   ],
   "source": [
    "print(session.run(nn.softsign([-2.,-1.,0.,1.,2.])))"
   ]
  },
  {
   "cell_type": "markdown",
   "metadata": {},
   "source": [
    "## SoftPlus function\n",
    "- Version continua y derivable de la funcion ReLU"
   ]
  },
  {
   "cell_type": "markdown",
   "metadata": {},
   "source": [
    "$$ f(x) = ln(e^{x}+1)$$"
   ]
  },
  {
   "cell_type": "code",
   "execution_count": 8,
   "metadata": {},
   "outputs": [
    {
     "name": "stdout",
     "output_type": "stream",
     "text": [
      "[0.12692805 0.31326166 0.6931472  1.3132616  2.126928  ]\n"
     ]
    }
   ],
   "source": [
    "print(session.run(nn.softplus([-2.,-1.,0.,1.,2.])))"
   ]
  },
  {
   "cell_type": "markdown",
   "metadata": {},
   "source": [
    "## ELU Function (Exponencial lineal unitaria)\n",
    "- Similar a la softplus\n",
    "- Asíntota horizaontal tiende a -1"
   ]
  },
  {
   "cell_type": "markdown",
   "metadata": {},
   "source": [
    "$$ f(x) = e^{x}+1 \\ si\\ x<0 $$\n",
    "$$ x\\ si \\ x\\geq 0  $$"
   ]
  },
  {
   "cell_type": "code",
   "execution_count": 9,
   "metadata": {},
   "outputs": [
    {
     "name": "stdout",
     "output_type": "stream",
     "text": [
      "[-0.86466473 -0.63212055  0.          1.          2.        ]\n"
     ]
    }
   ],
   "source": [
    "print(session.run(nn.elu([-2.,-1.,0.,1.,2.])))"
   ]
  },
  {
   "cell_type": "code",
   "execution_count": 14,
   "metadata": {},
   "outputs": [
    {
     "data": {
      "image/png": "[encoded data removed]",
      "text/plain": [
       "<Figure size 432x288 with 1 Axes>"
      ]
     },
     "metadata": {
      "needs_background": "light"
     },
     "output_type": "display_data"
    }
   ],
   "source": [
    "plt.plot([-2.,-1.,0.,1.,2.],session.run(nn.elu([-2.,-1.,0.,1.,2.])) )\n",
    "plt.show()"
   ]
  },
  {
   "cell_type": "markdown",
   "metadata": {},
   "source": [
    "## Activation functions graph\n",
    "![](../../../tensorflow/resources/02-act.png)\n",
    "\n",
    "![](../../../tensorflow/resources/03-act.png)"
   ]
  },
  {
   "cell_type": "code",
   "execution_count": null,
   "metadata": {},
   "outputs": [],
   "source": []
  }
 ],
 "metadata": {
  "kernelspec": {
   "display_name": "Python 3",
   "language": "python",
   "name": "python3"
  },
  "language_info": {
   "codemirror_mode": {
    "name": "ipython",
    "version": 3
   },
   "file_extension": ".py",
   "mimetype": "text/x-python",
   "name": "python",
   "nbconvert_exporter": "python",
   "pygments_lexer": "ipython3",
   "version": "3.7.6"
  }
 },
 "nbformat": 4,
 "nbformat_minor": 4
}
