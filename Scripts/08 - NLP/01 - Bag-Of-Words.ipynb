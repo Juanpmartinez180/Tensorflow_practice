{
 "cells": [
  {
   "cell_type": "markdown",
   "metadata": {},
   "source": [
    "# Bag of Words \n",
    "\n",
    "This technic is used to convert text data to numeric data using sparsed vectors and a word-database.\n",
    "In this case we're going to use the Spam/Ham dataset.\n",
    "\n",
    "Library import"
   ]
  },
  {
   "cell_type": "code",
   "execution_count": 1,
   "metadata": {},
   "outputs": [],
   "source": [
    "import tensorflow as tf\n",
    "import matplotlib.pyplot as plt\n",
    "import csv\n",
    "import numpy as np\n",
    "import string\n",
    "import os\n",
    "import requests\n",
    "import io\n",
    "from zipfile import ZipFile\n",
    "from tensorflow.contrib import learn\n",
    "\n",
    "session = tf.Session()\n",
    "%config Completer.use_jedi = False"
   ]
  },
  {
   "cell_type": "code",
   "execution_count": 2,
   "metadata": {},
   "outputs": [],
   "source": [
    "save_file_nam = os.path.join('..','..','Datasets', 'spam_data.csv')   #Temporal folder and csv. file to save the data\n",
    "if os.path.isfile(save_file_nam):\n",
    "    #The file is already saved\n",
    "    text_data = []\n",
    "    with open(save_file_nam, 'r') as temp_output_file:\n",
    "        reader = csv.reader(temp_output_file)\n",
    "        for row in reader:\n",
    "            text_data.append(row)\n",
    "else:\n",
    "    #The file doesn't exist. We need to load it.\n",
    "    url = 'https://archive.ics.uci.edu/ml/machine-learning-databases/00228/smsspamcollection.zip'\n",
    "    req = requests.get(url)\n",
    "    z = ZipFile(io.BytesIO(req.content))\n",
    "    file = z.read('SMSSpamCollection')\n",
    "    # Binary file to text transformation\n",
    "    text_data = file.decode()\n",
    "    text_data = text_data.encode('ascii', errors = 'ignore')\n",
    "    text_data = text_data.decode().split('\\n')\n",
    "    text_data = [x.split('\\t') for x in text_data if len(x)>= 1]\n",
    "    # Save data in .csv file\n",
    "    with open(save_file_nam, 'w') as temp_output_file:\n",
    "        writer = csv.writer(temp_output_file)\n",
    "        writter.writerows(text_data)"
   ]
  },
  {
   "cell_type": "code",
   "execution_count": 4,
   "metadata": {},
   "outputs": [
    {
     "data": {
      "text/plain": [
       "['ham', 'Ok lar... Joking wif u oni...']"
      ]
     },
     "execution_count": 4,
     "metadata": {},
     "output_type": "execute_result"
    }
   ],
   "source": [
    "text_data[1]"
   ]
  }
 ],
 "metadata": {
  "kernelspec": {
   "display_name": "Python 3",
   "language": "python",
   "name": "python3"
  },
  "language_info": {
   "codemirror_mode": {
    "name": "ipython",
    "version": 3
   },
   "file_extension": ".py",
   "mimetype": "text/x-python",
   "name": "python",
   "nbconvert_exporter": "python",
   "pygments_lexer": "ipython3",
   "version": "3.7.6"
  }
 },
 "nbformat": 4,
 "nbformat_minor": 4
}
