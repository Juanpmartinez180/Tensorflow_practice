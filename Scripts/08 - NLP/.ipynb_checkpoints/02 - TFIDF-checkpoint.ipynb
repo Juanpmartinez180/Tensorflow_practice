{
 "cells": [
  {
   "cell_type": "markdown",
   "metadata": {},
   "source": [
    "## TF-IDF - Term Frequency - Inverse Document Frequency\n",
    "\n",
    "This technic is similar to bag of words, but in this case every word has his own weight based on the frequency in the text, rarity and other aspects.\n",
    "\n",
    "- $w_{tf}$: Text Frequency (Word frequency in a document)\n",
    "- $w_{df}$: Document Frequency (Total Word frequency in a documents set)\n",
    "\n",
    "$$ w_{tf-idf} = w_{tf}\\cdot \\log\\left(\\frac{1}{w_{df}}\\right) $$\n",
    "Library import"
   ]
  },
  {
   "cell_type": "code",
   "execution_count": 2,
   "metadata": {},
   "outputs": [],
   "source": [
    "import tensorflow as tf\n",
    "import matplotlib.pyplot as plt\n",
    "import csv\n",
    "import numpy as np\n",
    "import string\n",
    "import os\n",
    "import requests\n",
    "import io\n",
    "import nltk\n",
    "from zipfile import ZipFile\n",
    "from tensorflow.contrib import learn\n",
    "from sklearn.feature_extraction.text import TfidfVectorizer\n",
    "\n",
    "session = tf.Session()\n",
    "%config Completer.use_jedi = False "
   ]
  },
  {
   "cell_type": "code",
   "execution_count": 13,
   "metadata": {},
   "outputs": [
    {
     "name": "stderr",
     "output_type": "stream",
     "text": [
      "[nltk_data] Downloading package punkt to /home/juan/nltk_data...\n",
      "[nltk_data]   Unzipping tokenizers/punkt.zip.\n"
     ]
    },
    {
     "data": {
      "text/plain": [
       "True"
      ]
     },
     "execution_count": 13,
     "metadata": {},
     "output_type": "execute_result"
    }
   ],
   "source": [
    "nltk.download('punkt')"
   ]
  },
  {
   "cell_type": "markdown",
   "metadata": {},
   "source": [
    "Dataset import"
   ]
  },
  {
   "cell_type": "code",
   "execution_count": 3,
   "metadata": {},
   "outputs": [],
   "source": [
    "save_file_nam = os.path.join('..','..','Datasets', 'spam_data.csv')   \n",
    "text_data = []\n",
    "with open(save_file_nam, 'r') as temp_output_file:\n",
    "    reader = csv.reader(temp_output_file)\n",
    "    for row in reader:\n",
    "        text_data.append(row) "
   ]
  },
  {
   "cell_type": "markdown",
   "metadata": {},
   "source": [
    "Target and label variables separation"
   ]
  },
  {
   "cell_type": "code",
   "execution_count": 5,
   "metadata": {},
   "outputs": [],
   "source": [
    "texts = [x[1] for x in text_data]\n",
    "target = [x[0] for x in text_data]\n",
    "target = [1 if x == 'spam' else 0 for x in target]  # Target variable to binary 0-1"
   ]
  },
  {
   "cell_type": "markdown",
   "metadata": {},
   "source": [
    "### Text preprocessing\n",
    "\n",
    "- Number eliminiation\n",
    "- Lowercase convertion\n",
    "- Puntuation elimination\n",
    "- White spaces trim"
   ]
  },
  {
   "cell_type": "code",
   "execution_count": 6,
   "metadata": {},
   "outputs": [],
   "source": [
    "texts = [x.lower() for x in texts]  #Lower case convertion\n",
    "texts = [''.join(c for c in x if c not in string.punctuation) for x in texts]   #Join puntuaction characters.\n",
    "texts = [''.join(c for c in x if c not in '0123456789') for x in texts]  #Number elimination\n",
    "texts = [' '.join(x.split()) for x in texts]   #White spaces elimination"
   ]
  },
  {
   "cell_type": "markdown",
   "metadata": {},
   "source": [
    "Tokenizer function.\n",
    "This function return the separated words of a given phrase."
   ]
  },
  {
   "cell_type": "code",
   "execution_count": 14,
   "metadata": {},
   "outputs": [],
   "source": [
    "def tokenizer(text):\n",
    "    words = nltk.word_tokenize(text)\n",
    "    return(words)"
   ]
  },
  {
   "cell_type": "code",
   "execution_count": 18,
   "metadata": {},
   "outputs": [
    {
     "data": {
      "text/plain": [
       "['hello', 'how', 'are', 'you']"
      ]
     },
     "execution_count": 18,
     "metadata": {},
     "output_type": "execute_result"
    }
   ],
   "source": [
    "tokenizer('hello how are you')"
   ]
  },
  {
   "cell_type": "markdown",
   "metadata": {},
   "source": [
    "TF-IDF vectorizer function, using the tokenizer method and a given max number of features."
   ]
  },
  {
   "cell_type": "code",
   "execution_count": 15,
   "metadata": {},
   "outputs": [],
   "source": [
    "max_features = 1000\n",
    "\n",
    "tfidf = TfidfVectorizer(tokenizer = tokenizer, stop_words = 'english', max_features = max_features)\n",
    "\n",
    "sparse_tfidf_texts = tfidf.fit_transform(texts)"
   ]
  },
  {
   "cell_type": "markdown",
   "metadata": {},
   "source": [
    "Tokenized Sparse matrix is composed by:\n",
    "- Same number of row as the lenght of Texts data\n",
    "- Same number of columns as the max_feature number (importan words extrated from the text using tokenizer)\n",
    "- Is a sparsed matrix in wich $i-row$ and $j-column$ contains the frequency of the word $i$ in the $j$ document. (mostly filled with zeros)"
   ]
  },
  {
   "cell_type": "markdown",
   "metadata": {},
   "source": [
    "Test/train dataset split"
   ]
  },
  {
   "cell_type": "code",
   "execution_count": 35,
   "metadata": {},
   "outputs": [],
   "source": [
    "train_idx = np.random.choice(sparse_tfidf_texts.shape[0], round(0.8*sparse_tfidf_texts.shape[0]), replace = False)\n",
    "test_idx = np.array(list(set(range(sparse_tfidf_texts.shape[0]))-set(train_idx)))\n",
    "\n",
    "texts_train = sparse_tfidf_texts[train_idx]\n",
    "texts_test = sparse_tfidf_texts[test_idx]\n",
    "\n",
    "target_train = np.array([x for ix, x in enumerate(target) if ix in train_idx])\n",
    "target_test = np.array([x for ix, x in enumerate(target) if ix in test_idx])"
   ]
  },
  {
   "cell_type": "markdown",
   "metadata": {},
   "source": [
    "#### Tensorflow variables\n",
    "\n",
    "- Global variables and placeholders"
   ]
  },
  {
   "cell_type": "code",
   "execution_count": 26,
   "metadata": {},
   "outputs": [],
   "source": [
    "A = tf.Variable(tf.random_normal(shape = [max_features, 1]))\n",
    "b = tf.Variable(tf.random_normal(shape = [1,1]))\n",
    "x_data = tf.placeholder(shape = [None, max_features], dtype = tf.float32)\n",
    "y_target = tf.placeholder(shape = [None, 1], dtype = tf.float32)"
   ]
  },
  {
   "cell_type": "markdown",
   "metadata": {},
   "source": [
    "- Logistic Model"
   ]
  },
  {
   "cell_type": "code",
   "execution_count": 28,
   "metadata": {},
   "outputs": [],
   "source": [
    "model_output = tf.add(tf.matmul(x_data, A), b)"
   ]
  },
  {
   "cell_type": "markdown",
   "metadata": {},
   "source": [
    "- Loss function"
   ]
  },
  {
   "cell_type": "code",
   "execution_count": null,
   "metadata": {},
   "outputs": [],
   "source": [
    "loss = tf.reduce_mean(tf.nn.sigmoid_cross_entropy_with_logits(logits = model_output, labels = y_target))"
   ]
  },
  {
   "cell_type": "markdown",
   "metadata": {},
   "source": [
    "- Prediction function.\n",
    "\n",
    "Applying a sigmoid activation to the model output (logistic regression) $round$ function is going to turn values over 0.5 in 1 and values under 0.5 in to 0. If any other distribution is requeried a if/else function can be implemented.\n",
    "\n",
    "Then prediction is converted to a float number after comparing it with the target variable (boolean)."
   ]
  },
  {
   "cell_type": "code",
   "execution_count": 30,
   "metadata": {},
   "outputs": [],
   "source": [
    "prediction = tf.round(tf.sigmoid(model_output))\n",
    "predictions_correct = tf.cast(tf.equal(prediction, y_target), tf.float32)\n",
    "accuracy = tf.reduce_mean(predictions_correct)"
   ]
  },
  {
   "cell_type": "markdown",
   "metadata": {},
   "source": [
    "- Gradient descent optimizer and train step function"
   ]
  },
  {
   "cell_type": "code",
   "execution_count": 39,
   "metadata": {},
   "outputs": [],
   "source": [
    "learning_rate = 0.0008\n",
    "my_optim = tf.train.GradientDescentOptimizer(learning_rate = learning_rate)\n",
    "train_step = my_optim.minimize(loss)"
   ]
  },
  {
   "cell_type": "markdown",
   "metadata": {},
   "source": [
    "- Variables initialization"
   ]
  },
  {
   "cell_type": "code",
   "execution_count": 40,
   "metadata": {},
   "outputs": [],
   "source": [
    "init = tf.global_variables_initializer()\n",
    "session.run(init)"
   ]
  },
  {
   "cell_type": "markdown",
   "metadata": {},
   "source": [
    "### Model training"
   ]
  },
  {
   "cell_type": "code",
   "execution_count": 41,
   "metadata": {},
   "outputs": [
    {
     "name": "stdout",
     "output_type": "stream",
     "text": [
      "Step #500.0. Train loss: 0.772. Test loss: 0.774.\n",
      " Train Acc: 0.555. Test Acc: 0.527.\n",
      "Step #1000.0. Train loss: 0.723. Test loss: 0.726.\n",
      " Train Acc: 0.53. Test Acc: 0.569.\n",
      "Step #1500.0. Train loss: 0.715. Test loss: 0.685.\n",
      " Train Acc: 0.565. Test Acc: 0.603.\n",
      "Step #2000.0. Train loss: 0.656. Test loss: 0.65.\n",
      " Train Acc: 0.675. Test Acc: 0.639.\n",
      "Step #2500.0. Train loss: 0.642. Test loss: 0.621.\n",
      " Train Acc: 0.68. Test Acc: 0.657.\n",
      "Step #3000.0. Train loss: 0.533. Test loss: 0.596.\n",
      " Train Acc: 0.745. Test Acc: 0.676.\n",
      "Step #3500.0. Train loss: 0.618. Test loss: 0.575.\n",
      " Train Acc: 0.655. Test Acc: 0.699.\n",
      "Step #4000.0. Train loss: 0.563. Test loss: 0.556.\n",
      " Train Acc: 0.73. Test Acc: 0.726.\n",
      "Step #4500.0. Train loss: 0.536. Test loss: 0.54.\n",
      " Train Acc: 0.735. Test Acc: 0.742.\n",
      "Step #5000.0. Train loss: 0.578. Test loss: 0.527.\n",
      " Train Acc: 0.725. Test Acc: 0.758.\n",
      "Step #5500.0. Train loss: 0.551. Test loss: 0.515.\n",
      " Train Acc: 0.74. Test Acc: 0.769.\n",
      "Step #6000.0. Train loss: 0.457. Test loss: 0.505.\n",
      " Train Acc: 0.83. Test Acc: 0.774.\n",
      "Step #6500.0. Train loss: 0.518. Test loss: 0.496.\n",
      " Train Acc: 0.765. Test Acc: 0.787.\n",
      "Step #7000.0. Train loss: 0.557. Test loss: 0.488.\n",
      " Train Acc: 0.75. Test Acc: 0.797.\n",
      "Step #7500.0. Train loss: 0.459. Test loss: 0.481.\n",
      " Train Acc: 0.805. Test Acc: 0.804.\n",
      "Step #8000.0. Train loss: 0.554. Test loss: 0.475.\n",
      " Train Acc: 0.77. Test Acc: 0.807.\n",
      "Step #8500.0. Train loss: 0.454. Test loss: 0.47.\n",
      " Train Acc: 0.825. Test Acc: 0.816.\n",
      "Step #9000.0. Train loss: 0.443. Test loss: 0.465.\n",
      " Train Acc: 0.82. Test Acc: 0.819.\n",
      "Step #9500.0. Train loss: 0.449. Test loss: 0.461.\n",
      " Train Acc: 0.83. Test Acc: 0.821.\n",
      "Step #10000.0. Train loss: 0.54. Test loss: 0.457.\n",
      " Train Acc: 0.765. Test Acc: 0.822.\n",
      "Step #10500.0. Train loss: 0.439. Test loss: 0.454.\n",
      " Train Acc: 0.83. Test Acc: 0.826.\n",
      "Step #11000.0. Train loss: 0.381. Test loss: 0.451.\n",
      " Train Acc: 0.845. Test Acc: 0.83.\n",
      "Step #11500.0. Train loss: 0.433. Test loss: 0.448.\n",
      " Train Acc: 0.845. Test Acc: 0.832.\n",
      "Step #12000.0. Train loss: 0.45. Test loss: 0.446.\n",
      " Train Acc: 0.845. Test Acc: 0.836.\n",
      "Step #12500.0. Train loss: 0.505. Test loss: 0.444.\n",
      " Train Acc: 0.82. Test Acc: 0.84.\n",
      "Step #13000.0. Train loss: 0.515. Test loss: 0.442.\n",
      " Train Acc: 0.795. Test Acc: 0.84.\n",
      "Step #13500.0. Train loss: 0.424. Test loss: 0.44.\n",
      " Train Acc: 0.865. Test Acc: 0.842.\n",
      "Step #14000.0. Train loss: 0.474. Test loss: 0.438.\n",
      " Train Acc: 0.815. Test Acc: 0.844.\n",
      "Step #14500.0. Train loss: 0.464. Test loss: 0.437.\n",
      " Train Acc: 0.805. Test Acc: 0.847.\n",
      "Step #15000.0. Train loss: 0.396. Test loss: 0.436.\n",
      " Train Acc: 0.87. Test Acc: 0.848.\n"
     ]
    }
   ],
   "source": [
    "batch_size = 200\n",
    "train_loss = []\n",
    "test_loss = []\n",
    "train_acc = []\n",
    "test_acc = []\n",
    "i_data = []\n",
    "\n",
    "for i in range(15000):\n",
    "    rand_idx = np.random.choice(texts_train.shape[0], size = batch_size)\n",
    "    rand_x = texts_train[rand_idx].todense()\n",
    "    rand_y = np.transpose([target_train[rand_idx]])\n",
    "    \n",
    "    session.run(train_step, feed_dict = {x_data: rand_x,\n",
    "                                         y_target: rand_y})\n",
    "    \n",
    "    if (i+1)%100 == 0:\n",
    "        i_data.append(i+1)\n",
    "        \n",
    "        train_loss_temp = session.run(loss, feed_dict = {x_data: rand_x,\n",
    "                                                         y_target: rand_y})\n",
    "        train_loss.append(train_loss_temp)\n",
    "        \n",
    "        test_loss_temp = session.run(loss, feed_dict = {x_data: texts_test.todense(),\n",
    "                                                        y_target: np.transpose([target_test])})\n",
    "        test_loss.append(test_loss_temp)\n",
    "        \n",
    "        train_acc_temp = session.run(accuracy, feed_dict = {x_data: rand_x,\n",
    "                                                            y_target: rand_y})\n",
    "        train_acc.append(train_acc_temp)\n",
    "        \n",
    "        test_acc_temp = session.run(accuracy, feed_dict = {x_data: texts_test.todense(),\n",
    "                                                           y_target: np.transpose([target_test])})\n",
    "        test_acc.append(test_acc_temp)\n",
    "    if(i+1)%500 == 0:\n",
    "        acc_and_loss = [i+1, train_loss_temp, test_loss_temp, train_acc_temp, test_acc_temp]\n",
    "        acc_and_loss = np.round(acc_and_loss,3)\n",
    "        print('Step #{}. Train loss: {}. Test loss: {}.\\n Train Acc: {}. Test Acc: {}.'. format(*acc_and_loss))"
   ]
  },
  {
   "cell_type": "code",
   "execution_count": 42,
   "metadata": {},
   "outputs": [
    {
     "data": {
      "image/png": "[encoded data removed]",
      "text/plain": [
       "<Figure size 432x288 with 1 Axes>"
      ]
     },
     "metadata": {
      "needs_background": "light"
     },
     "output_type": "display_data"
    }
   ],
   "source": [
    "plt.plot(train_loss, 'r-', label = 'Training')\n",
    "plt.plot(test_loss, 'b--', label = 'Test')\n",
    "plt.title('Training and test Loss')\n",
    "plt.xlabel('Step')\n",
    "plt.ylabel('Cross Entropy Loss')\n",
    "plt.legend(loc = 'upper right')\n",
    "plt.show()"
   ]
  },
  {
   "cell_type": "code",
   "execution_count": 43,
   "metadata": {},
   "outputs": [
    {
     "data": {
      "image/png": "[encoded data removed]",
      "text/plain": [
       "<Figure size 432x288 with 1 Axes>"
      ]
     },
     "metadata": {
      "needs_background": "light"
     },
     "output_type": "display_data"
    }
   ],
   "source": [
    "plt.plot(train_acc, 'r-', label = 'Training')\n",
    "plt.plot(test_acc, 'b--', label = 'Test')\n",
    "plt.title('Training and test Accuracy')\n",
    "plt.xlabel('Step')\n",
    "plt.ylabel('Accuracy')\n",
    "plt.legend(loc = 'lower right')\n",
    "plt.show()"
   ]
  }
 ],
 "metadata": {
  "kernelspec": {
   "display_name": "Python 3",
   "language": "python",
   "name": "python3"
  },
  "language_info": {
   "codemirror_mode": {
    "name": "ipython",
    "version": 3
   },
   "file_extension": ".py",
   "mimetype": "text/x-python",
   "name": "python",
   "nbconvert_exporter": "python",
   "pygments_lexer": "ipython3",
   "version": "3.7.6"
  }
 },
 "nbformat": 4,
 "nbformat_minor": 4
}
