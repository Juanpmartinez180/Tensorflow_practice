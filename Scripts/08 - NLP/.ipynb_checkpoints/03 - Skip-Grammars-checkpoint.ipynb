{
 "cells": [
  {
   "cell_type": "markdown",
   "metadata": {},
   "source": [
    "## Skip Grammars - Contiunuous Bag Of Words\n",
    "\n",
    "This NLP technic take in consideration the order in wich the words are located in to the text.\n",
    "The main goal is understand how the words connect to each other and therefore the meaning of the phrase.\n",
    "\n",
    "i.e:\n",
    "- King - man + woman = Queen\n",
    "- Indian Pale Ale - hops + malta = Stout\n",
    "\n",
    "A word is predicted (Queen - Stout) using only the words and their relationship in the phrase. This technic in named  Continuous Bag of words.\n",
    "\n",
    "If we want to predict the words surrounding a specific word then Skip Grammar is the technic to use.\n",
    "\n",
    "\n",
    "#### Movies Review Analysis\n",
    "\n",
    "Based on a huge dataset of movie reviews we're going to classify if the kind of movie that the person saw:\n",
    "[cliche, love, hate, silly, sad] are the available categories.\n",
    "\n",
    "Library import"
   ]
  },
  {
   "cell_type": "code",
   "execution_count": 1,
   "metadata": {},
   "outputs": [],
   "source": [
    "import requests\n",
    "import io\n",
    "import tarfile\n",
    "import numpy as np\n",
    "import tensorflow as tf\n",
    "import matplotlib.pyplot as plt\n",
    "import random\n",
    "import os\n",
    "import string\n",
    "import collections\n",
    "import tarfile\n",
    "import urllib.request\n",
    "import nltk\n",
    "from nltk.corpus import stopwords\n",
    "\n",
    "session = tf.Session()\n",
    "%config Completer.use_jedi = False "
   ]
  },
  {
   "cell_type": "markdown",
   "metadata": {},
   "source": [
    "Constant definition"
   ]
  },
  {
   "cell_type": "code",
   "execution_count": 2,
   "metadata": {},
   "outputs": [],
   "source": [
    "batch_size = 50\n",
    "embedding_size = 200  \n",
    "vocabulary_size = 10000    #Words to consider \n",
    "generations = 50000    #Training iterations\n",
    "print_loss_every = 500\n",
    "num_sampled = int(batch_size/2)\n",
    "window_size = 2   #Number of possibilities for the result\n",
    "stops = stopwords.words('english')   #stopwords import\n",
    "print_valid_every = 2000\n",
    "valid_words = ['cliche', 'love', 'hate', 'silly', 'sad']   #Goal words to predict\n",
    "url = 'https://www.cs.cornell.edu/people/pabo/movie-review-data/rt-polaritydata.tar.gz'   #Dataset URL"
   ]
  },
  {
   "cell_type": "markdown",
   "metadata": {},
   "source": [
    "Dataset import\n"
   ]
  },
  {
   "cell_type": "code",
   "execution_count": 3,
   "metadata": {},
   "outputs": [],
   "source": [
    "def load_movies_data():\n",
    "    save_folder_name = '../../Datasets/movies_data'\n",
    "    pos_file = os.path.join(save_folder_name, 'rt-polarity.pos')\n",
    "    neg_file = os.path.join(save_folder_name, 'rt-polarity.neg')\n",
    "    \n",
    "    if os.path.exists(save_folder_name):\n",
    "        #We can import directly the dataset\n",
    "        pos_data = []\n",
    "        with open(pos_file, 'r') as temp_pos_file:\n",
    "            for row in temp_pos_file:\n",
    "                pos_data.append(row)\n",
    "        neg_data = []\n",
    "        with open(neg_file, 'r') as temp_neg_file:\n",
    "            for row in temp_neg_file:\n",
    "                neg_data.append(row)\n",
    "        \n",
    "    else: \n",
    "        #Firts we need to download the data then import the dataset\n",
    "        stream_data = urllib.request.urlopen(url)\n",
    "        tmp = io.BytesIO()\n",
    "        while True:\n",
    "            s = stream_data.read(16384)\n",
    "            if not s:\n",
    "                break\n",
    "            tmp.write(s)\n",
    "        stream_data.close()\n",
    "        tpm.seek(0)\n",
    "        tar_file = tarfile.open(fileobj = tmp, mode = 'r:gz')\n",
    "        pos = tar_file.extractfile('rt-polaritydata/rt-polarity.pos')\n",
    "        neg = tar_file.extractfile('rt-polaritydata/rt-polarity.neg')\n",
    "        pos_data = []\n",
    "        for line in pos:\n",
    "            pos_data.append(line.decode('ISO-8859-1').encode('ascii', errors = 'ignore').decode())\n",
    "        neg_data = []\n",
    "        for line in neg:\n",
    "            neg_data.append(line.decode('ISO-8859-1').encode('ascii', errors = 'ignore').decode())   \n",
    "        \n",
    "        tar_file.close()\n",
    "        \n",
    "        if not os.path.exists(save_folder_name):\n",
    "            os.makedirs(save_folder_name)\n",
    "        with open(pos_file, 'w') as pos_file_handler:\n",
    "            pos_file_handler.write(''.join(pos_data))\n",
    "        with open(neg_file, 'w') as neg_file_handler:\n",
    "            neg_file_handler.write(''.join(pos_data))\n",
    "    \n",
    "    texts = pos_data + neg_data\n",
    "    target = [1]*len(pos_data)+[0]*len(neg_data)\n",
    "    \n",
    "    return(texts, target)"
   ]
  },
  {
   "cell_type": "code",
   "execution_count": 4,
   "metadata": {},
   "outputs": [],
   "source": [
    "texts, target = load_movies_data()"
   ]
  },
  {
   "cell_type": "markdown",
   "metadata": {},
   "source": [
    "### Data preprocessing\n",
    "- Number eliminiation\n",
    "- Lowercase convertion\n",
    "- Puntuation elimination\n",
    "- White spaces trim"
   ]
  },
  {
   "cell_type": "code",
   "execution_count": 5,
   "metadata": {},
   "outputs": [],
   "source": [
    "def normalize_text(texts, stop):\n",
    "    texts = [x.lower() for x in texts]  #Lowercase convertion\n",
    "    texts = [''.join(c for c in x if c not in string.punctuation) for x in texts]  #Punctuation deleting\n",
    "    texts = [''.join(c for c in x if c not in '0123456789') for x in texts]  #Numbers deleting\n",
    "    texts = [' '.join(word for word in x.split() if word not in (stop)) for x in texts]  #White space omition\n",
    "    texts = [' '.join(x.split()) for x in texts]\n",
    "    return texts"
   ]
  },
  {
   "cell_type": "code",
   "execution_count": 6,
   "metadata": {},
   "outputs": [],
   "source": [
    "texts = normalize_text(texts, stops)"
   ]
  },
  {
   "cell_type": "markdown",
   "metadata": {},
   "source": [
    "- Text lenght analysis.\n",
    "\n",
    "We omit the data with less than 2 words"
   ]
  },
  {
   "cell_type": "code",
   "execution_count": 7,
   "metadata": {},
   "outputs": [],
   "source": [
    "target = [target[ix] for ix, x in enumerate(texts) if len(x.split())>2]\n",
    "texts = [x for x in texts if len(x.split())>2]"
   ]
  },
  {
   "cell_type": "code",
   "execution_count": 8,
   "metadata": {},
   "outputs": [
    {
     "data": {
      "image/png": "[encoded data removed]",
      "text/plain": [
       "<Figure size 432x288 with 1 Axes>"
      ]
     },
     "metadata": {
      "needs_background": "light"
     },
     "output_type": "display_data"
    }
   ],
   "source": [
    "texts_lenghts = [len(x.split()) for x in texts]\n",
    "texts_lenghts = [x for x in texts_lenghts]  # Delete messages with a lengh of more than 50 words\n",
    "plt.hist(texts_lenghts, bins = 25)\n",
    "plt.title('Number of words per frase')\n",
    "plt.ylabel('Frequency')\n",
    "plt.xlabel('Number of words')\n",
    "plt.show()"
   ]
  },
  {
   "cell_type": "markdown",
   "metadata": {
    "jupyter": {
     "outputs_hidden": true
    }
   },
   "source": [
    "- Dictionary build.\n",
    "\n",
    "A frequency-based dictionary is needed. This will give us a list of the most used words in our dataset. For words out of the $vocabulary size$ restriction a 'RARE' label will be used."
   ]
  },
  {
   "cell_type": "code",
   "execution_count": 9,
   "metadata": {},
   "outputs": [],
   "source": [
    "def build_dictionary(sentences, vocabulary_size):\n",
    "    split_sentences = [s.split() for s in sentences]   #Split of phrases in to words\n",
    "    words = [x for sublist in split_sentences for x in sublist] #Split of list of words in to a one list of words\n",
    "    count = [['RARE', -1]] #First category of dictionary is RARE with frecuency -1\n",
    "    count.extend(collections.Counter(words).most_common(vocabulary_size -1))\n",
    "    word_dict = {}\n",
    "    for word, word_count in count:\n",
    "        word_dict[word] = len(word_dict)  \n",
    "    return word_dict"
   ]
  },
  {
   "cell_type": "code",
   "execution_count": 10,
   "metadata": {},
   "outputs": [],
   "source": [
    "word_dict = build_dictionary(texts, vocabulary_size)"
   ]
  },
  {
   "cell_type": "code",
   "execution_count": 11,
   "metadata": {},
   "outputs": [
    {
     "data": {
      "text/plain": [
       "8"
      ]
     },
     "execution_count": 11,
     "metadata": {},
     "output_type": "execute_result"
    }
   ],
   "source": [
    "word_dict['good']"
   ]
  },
  {
   "cell_type": "markdown",
   "metadata": {},
   "source": [
    "- Phrase to number.\n",
    "\n",
    "This function convert every word-based sentence/phrase in to a array with the same size as the number of words in the sentence where the number is de ID or position of the word in the dictionary."
   ]
  },
  {
   "cell_type": "code",
   "execution_count": 12,
   "metadata": {},
   "outputs": [],
   "source": [
    "def text_to_number(sentences, word_dict):\n",
    "    data = []\n",
    "    for sentence in sentences:   #For every sentence in the dataset\n",
    "        sentence_data = []\n",
    "        for word in sentence:        #For every word in that sentece\n",
    "            if word in word_dict:          #If the word is in the dictionary\n",
    "                word_ix = word_dict[word]      #Word position/ID in word dict\n",
    "            else:\n",
    "                word_ix = 0 #Word position/ID for RARE words\n",
    "            sentence_data.append(word_ix)\n",
    "        data.append(sentence_data)\n",
    "    return data"
   ]
  },
  {
   "cell_type": "code",
   "execution_count": 13,
   "metadata": {},
   "outputs": [],
   "source": [
    "word_dict_rev = dict(zip(word_dict.values(), word_dict.keys()))\n",
    "\n",
    "text_data = text_to_number(texts, word_dict)   # text to dictionary ID convertion\n",
    "valid_examples = [word_dict[x] for x in valid_words]   #Same but with the target words"
   ]
  },
  {
   "cell_type": "markdown",
   "metadata": {},
   "source": [
    "- Batch data selection.\n",
    "\n",
    "The algorithm input is"
   ]
  },
  {
   "cell_type": "code",
   "execution_count": 14,
   "metadata": {},
   "outputs": [],
   "source": [
    "def generate_batch_data(sentences, batch_size, window_size, method = 'skip_gram'):\n",
    "    \"\"\"\n",
    "    Algorithm example:\n",
    "    \n",
    "    Mi perro come su comida -> (Mi, come), (perro, come), (su, come), (comida, come)\n",
    "    \"\"\"\n",
    "    \n",
    "    batch_data = []\n",
    "    label_data = []\n",
    "    \n",
    "    while len(batch_data) < batch_size:\n",
    "        rand_sentences = np.random.choice(sentences)\n",
    "        window_seq = [rand_sentences[max((ix - window_size),0) : (ix+window_size+1)] for ix, x in enumerate(rand_sentences)]\n",
    "        label_idx = [ix if ix < window_size else window_size for ix, x in enumerate(window_seq)]\n",
    "        \n",
    "        if method == 'skip_gram':\n",
    "            batch_and_labels = [(x[y], x[:y]+x[(y+1):]) for x,y in zip(window_seq, label_idx)]\n",
    "            tuple_data = [(x,y_) for x, y in batch_and_labels for y_ in y]\n",
    "        else:\n",
    "            raise ValueError('{} Method is not implemented'.format(method))\n",
    "        batch, labels = [list(x) for x in zip(*tuple_data)]\n",
    "        batch_data.extend(batch[:batch_size])\n",
    "        label_data.extend(labels[:batch_size])\n",
    "    batch_data = batch_data[:batch_size]\n",
    "    label_data = label_data[:batch_size]\n",
    "    \n",
    "    batch_data = np.array(batch_data)\n",
    "    label_data = np.transpose(np.array([label_data]))\n",
    "    \n",
    "    return(batch_data, label_data)"
   ]
  },
  {
   "cell_type": "markdown",
   "metadata": {},
   "source": [
    "## Train with Skip Grammars\n",
    "\n",
    "Tensorflow Variable declaration\n",
    "\n",
    "- Global variables"
   ]
  },
  {
   "cell_type": "code",
   "execution_count": 15,
   "metadata": {},
   "outputs": [],
   "source": [
    "embeddings = tf.Variable(tf.random_uniform([vocabulary_size, embedding_size], -1, 1))\n",
    "x_inputs = tf.placeholder( shape = [batch_size] , dtype =tf.int32)\n",
    "y_target = tf.placeholder(shape = [batch_size, 1], dtype = tf.int32)\n",
    "valid_dataset = tf.constant(valid_examples, dtype = tf.int32)"
   ]
  },
  {
   "cell_type": "markdown",
   "metadata": {},
   "source": [
    "- Sparsed Lookup matrix"
   ]
  },
  {
   "cell_type": "code",
   "execution_count": 16,
   "metadata": {},
   "outputs": [],
   "source": [
    "embed = tf.nn.embedding_lookup(embeddings, x_inputs)"
   ]
  },
  {
   "cell_type": "markdown",
   "metadata": {},
   "source": [
    "- Noise contrastive Error.\n",
    "\n",
    "This Error function allows to use sparsed vectors (mostly filled with zeros) without convergence issues.\n"
   ]
  },
  {
   "cell_type": "code",
   "execution_count": 17,
   "metadata": {},
   "outputs": [],
   "source": [
    "nce_weights = tf.Variable(tf.truncated_normal([vocabulary_size, embedding_size],    #size\n",
    "                                              stddev = 1.0/np.sqrt(embedding_size)))  #standard deviation initialization\n",
    "nce_biases = tf.Variable(tf.zeros([vocabulary_size]))"
   ]
  },
  {
   "cell_type": "markdown",
   "metadata": {},
   "source": [
    "- Loss Function\n",
    "\n",
    "Using NCE for the error measurement"
   ]
  },
  {
   "cell_type": "code",
   "execution_count": 18,
   "metadata": {},
   "outputs": [
    {
     "name": "stdout",
     "output_type": "stream",
     "text": [
      "WARNING:tensorflow:From /home/juan/anaconda3/lib/python3.7/site-packages/tensorflow/python/ops/nn_impl.py:180: add_dispatch_support.<locals>.wrapper (from tensorflow.python.ops.array_ops) is deprecated and will be removed in a future version.\n",
      "Instructions for updating:\n",
      "Use tf.where in 2.0, which has the same broadcast rule as np.where\n"
     ]
    }
   ],
   "source": [
    "loss = tf.reduce_mean(tf.nn.nce_loss(weights= nce_weights, biases= nce_biases,\n",
    "                                    inputs = embed, labels = y_target,\n",
    "                                    num_sampled = num_sampled, num_classes = vocabulary_size))"
   ]
  },
  {
   "cell_type": "markdown",
   "metadata": {},
   "source": [
    "\n",
    "To find similarity between the validation words and the actual words we use a Cosine distance Norm.\n",
    "https://es.wikipedia.org/wiki/Similitud_coseno"
   ]
  },
  {
   "cell_type": "code",
   "execution_count": 19,
   "metadata": {},
   "outputs": [],
   "source": [
    "norm = tf.sqrt(tf.reduce_sum(tf.square(embeddings), 1, keepdims = True))   #Norm of embeddings\n",
    "normalized_embeddings = embeddings/norm                                      #Embeddings normalization \n",
    "valid_embeddings = tf.nn.embedding_lookup(normalized_embeddings, valid_dataset)  #Lookup vector of the normalized embeddings over the valid words\n",
    "similarity = tf.matmul(valid_embeddings, normalized_embeddings, transpose_b = True)  #Similarity evaluation"
   ]
  },
  {
   "cell_type": "markdown",
   "metadata": {},
   "source": [
    "- Gradient Descendent Optimizer"
   ]
  },
  {
   "cell_type": "code",
   "execution_count": 20,
   "metadata": {},
   "outputs": [],
   "source": [
    "learning_rate = 1.0\n",
    "optimizer = tf.train.GradientDescentOptimizer(learning_rate= learning_rate).minimize(loss)"
   ]
  },
  {
   "cell_type": "markdown",
   "metadata": {},
   "source": [
    "- Variable initialization"
   ]
  },
  {
   "cell_type": "code",
   "execution_count": 25,
   "metadata": {},
   "outputs": [],
   "source": [
    "init = tf.global_variables_initializer()\n",
    "session.run(init)"
   ]
  },
  {
   "cell_type": "markdown",
   "metadata": {},
   "source": [
    "#### Training Loop"
   ]
  },
  {
   "cell_type": "code",
   "execution_count": 29,
   "metadata": {},
   "outputs": [
    {
     "name": "stderr",
     "output_type": "stream",
     "text": [
      "/home/juan/anaconda3/lib/python3.7/site-packages/ipykernel_launcher.py:12: VisibleDeprecationWarning: Creating an ndarray from ragged nested sequences (which is a list-or-tuple of lists-or-tuples-or ndarrays with different lengths or shapes) is deprecated. If you meant to do this, you must specify 'dtype=object' when creating the ndarray\n",
      "  if sys.path[0] == '':\n"
     ]
    },
    {
     "name": "stdout",
     "output_type": "stream",
     "text": [
      "Iteración 500, Pérdida: \n",
      "Iteración 1000, Pérdida: \n",
      "Iteración 1500, Pérdida: \n",
      "Iteración 2000, Pérdida: \n",
      "Palabras cercanas a cliche: africanamericans,  blanks,  quieter,  ring,  entry,  modesty,  preachy,  amuse,  boring,  follows, \n",
      "Palabras cercanas a love: inquiry,  imitation,  decline,  feral,  conditioning,  tensions,  effort,  elemento,  puerile,  awkward, \n",
      "Palabras cercanas a hate: hinton,  clare,  rising,  vain,  veteran,  releasing,  virtually,  precisely,  hightech,  hundred, \n",
      "Palabras cercanas a silly: kidnapping,  departs,  overstated,  executed,  tossed,  jealous,  christopher,  wendigo,  rest,  stretch, \n",
      "Palabras cercanas a sad: satin,  melodic,  minimalist,  biting,  abundance,  draws,  objects,  storys,  photographs,  inimitable, \n",
      "Iteración 2500, Pérdida: \n",
      "Iteración 3000, Pérdida: \n",
      "Iteración 3500, Pérdida: \n",
      "Iteración 4000, Pérdida: \n",
      "Palabras cercanas a cliche: africanamericans,  blanks,  quieter,  ring,  entry,  modesty,  preachy,  amuse,  boring,  follows, \n",
      "Palabras cercanas a love: inquiry,  imitation,  decline,  feral,  conditioning,  tensions,  effort,  elemento,  puerile,  awkward, \n",
      "Palabras cercanas a hate: hinton,  clare,  rising,  vain,  veteran,  releasing,  virtually,  precisely,  hightech,  hundred, \n",
      "Palabras cercanas a silly: kidnapping,  departs,  overstated,  executed,  tossed,  jealous,  christopher,  wendigo,  rest,  stretch, \n",
      "Palabras cercanas a sad: satin,  melodic,  minimalist,  biting,  abundance,  draws,  objects,  storys,  photographs,  inimitable, \n",
      "Iteración 4500, Pérdida: \n",
      "Iteración 5000, Pérdida: \n",
      "Iteración 5500, Pérdida: \n",
      "Iteración 6000, Pérdida: \n",
      "Palabras cercanas a cliche: africanamericans,  blanks,  quieter,  ring,  entry,  modesty,  preachy,  amuse,  boring,  follows, \n",
      "Palabras cercanas a love: inquiry,  imitation,  decline,  feral,  conditioning,  tensions,  effort,  elemento,  puerile,  awkward, \n",
      "Palabras cercanas a hate: hinton,  clare,  rising,  vain,  veteran,  releasing,  virtually,  precisely,  hightech,  hundred, \n",
      "Palabras cercanas a silly: kidnapping,  departs,  overstated,  executed,  tossed,  jealous,  christopher,  wendigo,  rest,  stretch, \n",
      "Palabras cercanas a sad: satin,  melodic,  minimalist,  biting,  abundance,  draws,  objects,  storys,  photographs,  inimitable, \n",
      "Iteración 6500, Pérdida: \n",
      "Iteración 7000, Pérdida: \n",
      "Iteración 7500, Pérdida: \n",
      "Iteración 8000, Pérdida: \n",
      "Palabras cercanas a cliche: africanamericans,  blanks,  quieter,  ring,  entry,  modesty,  preachy,  amuse,  boring,  follows, \n",
      "Palabras cercanas a love: inquiry,  imitation,  decline,  feral,  conditioning,  tensions,  effort,  elemento,  puerile,  awkward, \n",
      "Palabras cercanas a hate: hinton,  clare,  rising,  vain,  veteran,  releasing,  virtually,  precisely,  hightech,  hundred, \n",
      "Palabras cercanas a silly: kidnapping,  departs,  overstated,  executed,  tossed,  jealous,  christopher,  wendigo,  rest,  stretch, \n",
      "Palabras cercanas a sad: satin,  melodic,  minimalist,  biting,  abundance,  draws,  objects,  storys,  photographs,  inimitable, \n",
      "Iteración 8500, Pérdida: \n",
      "Iteración 9000, Pérdida: \n",
      "Iteración 9500, Pérdida: \n",
      "Iteración 10000, Pérdida: \n",
      "Palabras cercanas a cliche: africanamericans,  blanks,  quieter,  ring,  entry,  modesty,  preachy,  amuse,  boring,  follows, \n",
      "Palabras cercanas a love: inquiry,  imitation,  decline,  feral,  conditioning,  tensions,  effort,  elemento,  puerile,  awkward, \n",
      "Palabras cercanas a hate: hinton,  clare,  rising,  vain,  veteran,  releasing,  virtually,  precisely,  hightech,  hundred, \n",
      "Palabras cercanas a silly: kidnapping,  departs,  overstated,  executed,  tossed,  jealous,  christopher,  wendigo,  rest,  stretch, \n",
      "Palabras cercanas a sad: satin,  melodic,  minimalist,  biting,  abundance,  draws,  objects,  storys,  photographs,  inimitable, \n",
      "Iteración 10500, Pérdida: \n",
      "Iteración 11000, Pérdida: \n",
      "Iteración 11500, Pérdida: \n",
      "Iteración 12000, Pérdida: \n",
      "Palabras cercanas a cliche: africanamericans,  blanks,  quieter,  ring,  entry,  modesty,  preachy,  amuse,  boring,  follows, \n",
      "Palabras cercanas a love: inquiry,  imitation,  decline,  feral,  conditioning,  tensions,  effort,  elemento,  puerile,  awkward, \n",
      "Palabras cercanas a hate: hinton,  clare,  rising,  vain,  veteran,  releasing,  virtually,  precisely,  hightech,  hundred, \n",
      "Palabras cercanas a silly: kidnapping,  departs,  overstated,  executed,  tossed,  jealous,  christopher,  wendigo,  rest,  stretch, \n",
      "Palabras cercanas a sad: satin,  melodic,  minimalist,  biting,  abundance,  draws,  objects,  storys,  photographs,  inimitable, \n",
      "Iteración 12500, Pérdida: \n",
      "Iteración 13000, Pérdida: \n",
      "Iteración 13500, Pérdida: \n",
      "Iteración 14000, Pérdida: \n",
      "Palabras cercanas a cliche: africanamericans,  blanks,  quieter,  ring,  entry,  modesty,  preachy,  amuse,  boring,  follows, \n",
      "Palabras cercanas a love: inquiry,  imitation,  decline,  feral,  conditioning,  tensions,  effort,  elemento,  puerile,  awkward, \n",
      "Palabras cercanas a hate: hinton,  clare,  rising,  vain,  veteran,  releasing,  virtually,  precisely,  hightech,  hundred, \n",
      "Palabras cercanas a silly: kidnapping,  departs,  overstated,  executed,  tossed,  jealous,  christopher,  wendigo,  rest,  stretch, \n",
      "Palabras cercanas a sad: satin,  melodic,  minimalist,  biting,  abundance,  draws,  objects,  storys,  photographs,  inimitable, \n",
      "Iteración 14500, Pérdida: \n",
      "Iteración 15000, Pérdida: \n",
      "Iteración 15500, Pérdida: \n",
      "Iteración 16000, Pérdida: \n",
      "Palabras cercanas a cliche: africanamericans,  blanks,  quieter,  ring,  entry,  modesty,  preachy,  amuse,  boring,  follows, \n",
      "Palabras cercanas a love: inquiry,  imitation,  decline,  feral,  conditioning,  tensions,  effort,  elemento,  puerile,  awkward, \n",
      "Palabras cercanas a hate: hinton,  clare,  rising,  vain,  veteran,  releasing,  virtually,  precisely,  hightech,  hundred, \n",
      "Palabras cercanas a silly: kidnapping,  departs,  overstated,  executed,  tossed,  jealous,  christopher,  wendigo,  rest,  stretch, \n",
      "Palabras cercanas a sad: satin,  melodic,  minimalist,  biting,  abundance,  draws,  objects,  storys,  photographs,  inimitable, \n",
      "Iteración 16500, Pérdida: \n",
      "Iteración 17000, Pérdida: \n",
      "Iteración 17500, Pérdida: \n",
      "Iteración 18000, Pérdida: \n",
      "Palabras cercanas a cliche: africanamericans,  blanks,  quieter,  ring,  entry,  modesty,  preachy,  amuse,  boring,  follows, \n",
      "Palabras cercanas a love: inquiry,  imitation,  decline,  feral,  conditioning,  tensions,  effort,  elemento,  puerile,  awkward, \n",
      "Palabras cercanas a hate: hinton,  clare,  rising,  vain,  veteran,  releasing,  virtually,  precisely,  hightech,  hundred, \n",
      "Palabras cercanas a silly: kidnapping,  departs,  overstated,  executed,  tossed,  jealous,  christopher,  wendigo,  rest,  stretch, \n",
      "Palabras cercanas a sad: satin,  melodic,  minimalist,  biting,  abundance,  draws,  objects,  storys,  photographs,  inimitable, \n",
      "Iteración 18500, Pérdida: \n",
      "Iteración 19000, Pérdida: \n",
      "Iteración 19500, Pérdida: \n",
      "Iteración 20000, Pérdida: \n",
      "Palabras cercanas a cliche: africanamericans,  blanks,  quieter,  ring,  entry,  modesty,  preachy,  amuse,  boring,  follows, \n",
      "Palabras cercanas a love: inquiry,  imitation,  decline,  feral,  conditioning,  tensions,  effort,  elemento,  puerile,  awkward, \n",
      "Palabras cercanas a hate: hinton,  clare,  rising,  vain,  veteran,  releasing,  virtually,  precisely,  hightech,  hundred, \n",
      "Palabras cercanas a silly: kidnapping,  departs,  overstated,  executed,  tossed,  jealous,  christopher,  wendigo,  rest,  stretch, \n",
      "Palabras cercanas a sad: satin,  melodic,  minimalist,  biting,  abundance,  draws,  objects,  storys,  photographs,  inimitable, \n",
      "Iteración 20500, Pérdida: \n",
      "Iteración 21000, Pérdida: \n",
      "Iteración 21500, Pérdida: \n",
      "Iteración 22000, Pérdida: \n",
      "Palabras cercanas a cliche: africanamericans,  blanks,  quieter,  ring,  entry,  modesty,  preachy,  amuse,  boring,  follows, \n",
      "Palabras cercanas a love: inquiry,  imitation,  decline,  feral,  conditioning,  tensions,  effort,  elemento,  puerile,  awkward, \n",
      "Palabras cercanas a hate: hinton,  clare,  rising,  vain,  veteran,  releasing,  virtually,  precisely,  hightech,  hundred, \n",
      "Palabras cercanas a silly: kidnapping,  departs,  overstated,  executed,  tossed,  jealous,  christopher,  wendigo,  rest,  stretch, \n",
      "Palabras cercanas a sad: satin,  melodic,  minimalist,  biting,  abundance,  draws,  objects,  storys,  photographs,  inimitable, \n",
      "Iteración 22500, Pérdida: \n",
      "Iteración 23000, Pérdida: \n",
      "Iteración 23500, Pérdida: \n",
      "Iteración 24000, Pérdida: \n",
      "Palabras cercanas a cliche: africanamericans,  blanks,  quieter,  ring,  entry,  modesty,  preachy,  amuse,  boring,  follows, \n",
      "Palabras cercanas a love: inquiry,  imitation,  decline,  feral,  conditioning,  tensions,  effort,  elemento,  puerile,  awkward, \n",
      "Palabras cercanas a hate: hinton,  clare,  rising,  vain,  veteran,  releasing,  virtually,  precisely,  hightech,  hundred, \n",
      "Palabras cercanas a silly: kidnapping,  departs,  overstated,  executed,  tossed,  jealous,  christopher,  wendigo,  rest,  stretch, \n",
      "Palabras cercanas a sad: satin,  melodic,  minimalist,  biting,  abundance,  draws,  objects,  storys,  photographs,  inimitable, \n",
      "Iteración 24500, Pérdida: \n",
      "Iteración 25000, Pérdida: \n",
      "Iteración 25500, Pérdida: \n",
      "Iteración 26000, Pérdida: \n",
      "Palabras cercanas a cliche: africanamericans,  blanks,  quieter,  ring,  entry,  modesty,  preachy,  amuse,  boring,  follows, \n",
      "Palabras cercanas a love: inquiry,  imitation,  decline,  feral,  conditioning,  tensions,  effort,  elemento,  puerile,  awkward, \n",
      "Palabras cercanas a hate: hinton,  clare,  rising,  vain,  veteran,  releasing,  virtually,  precisely,  hightech,  hundred, \n",
      "Palabras cercanas a silly: kidnapping,  departs,  overstated,  executed,  tossed,  jealous,  christopher,  wendigo,  rest,  stretch, \n",
      "Palabras cercanas a sad: satin,  melodic,  minimalist,  biting,  abundance,  draws,  objects,  storys,  photographs,  inimitable, \n",
      "Iteración 26500, Pérdida: \n",
      "Iteración 27000, Pérdida: \n",
      "Iteración 27500, Pérdida: \n",
      "Iteración 28000, Pérdida: \n",
      "Palabras cercanas a cliche: africanamericans,  blanks,  quieter,  ring,  entry,  modesty,  preachy,  amuse,  boring,  follows, \n",
      "Palabras cercanas a love: inquiry,  imitation,  decline,  feral,  conditioning,  tensions,  effort,  elemento,  puerile,  awkward, \n",
      "Palabras cercanas a hate: hinton,  clare,  rising,  vain,  veteran,  releasing,  virtually,  precisely,  hightech,  hundred, \n",
      "Palabras cercanas a silly: kidnapping,  departs,  overstated,  executed,  tossed,  jealous,  christopher,  wendigo,  rest,  stretch, \n",
      "Palabras cercanas a sad: satin,  melodic,  minimalist,  biting,  abundance,  draws,  objects,  storys,  photographs,  inimitable, \n",
      "Iteración 28500, Pérdida: \n",
      "Iteración 29000, Pérdida: \n",
      "Iteración 29500, Pérdida: \n",
      "Iteración 30000, Pérdida: \n",
      "Palabras cercanas a cliche: africanamericans,  blanks,  quieter,  ring,  entry,  modesty,  preachy,  amuse,  boring,  follows, \n",
      "Palabras cercanas a love: inquiry,  imitation,  decline,  feral,  conditioning,  tensions,  effort,  elemento,  puerile,  awkward, \n",
      "Palabras cercanas a hate: hinton,  clare,  rising,  vain,  veteran,  releasing,  virtually,  precisely,  hightech,  hundred, \n",
      "Palabras cercanas a silly: kidnapping,  departs,  overstated,  executed,  tossed,  jealous,  christopher,  wendigo,  rest,  stretch, \n",
      "Palabras cercanas a sad: satin,  melodic,  minimalist,  biting,  abundance,  draws,  objects,  storys,  photographs,  inimitable, \n",
      "Iteración 30500, Pérdida: \n",
      "Iteración 31000, Pérdida: \n",
      "Iteración 31500, Pérdida: \n",
      "Iteración 32000, Pérdida: \n",
      "Palabras cercanas a cliche: africanamericans,  blanks,  quieter,  ring,  entry,  modesty,  preachy,  amuse,  boring,  follows, \n",
      "Palabras cercanas a love: inquiry,  imitation,  decline,  feral,  conditioning,  tensions,  effort,  elemento,  puerile,  awkward, \n",
      "Palabras cercanas a hate: hinton,  clare,  rising,  vain,  veteran,  releasing,  virtually,  precisely,  hightech,  hundred, \n",
      "Palabras cercanas a silly: kidnapping,  departs,  overstated,  executed,  tossed,  jealous,  christopher,  wendigo,  rest,  stretch, \n",
      "Palabras cercanas a sad: satin,  melodic,  minimalist,  biting,  abundance,  draws,  objects,  storys,  photographs,  inimitable, \n",
      "Iteración 32500, Pérdida: \n",
      "Iteración 33000, Pérdida: \n",
      "Iteración 33500, Pérdida: \n",
      "Iteración 34000, Pérdida: \n",
      "Palabras cercanas a cliche: africanamericans,  blanks,  quieter,  ring,  entry,  modesty,  preachy,  amuse,  boring,  follows, \n",
      "Palabras cercanas a love: inquiry,  imitation,  decline,  feral,  conditioning,  tensions,  effort,  elemento,  puerile,  awkward, \n",
      "Palabras cercanas a hate: hinton,  clare,  rising,  vain,  veteran,  releasing,  virtually,  precisely,  hightech,  hundred, \n",
      "Palabras cercanas a silly: kidnapping,  departs,  overstated,  executed,  tossed,  jealous,  christopher,  wendigo,  rest,  stretch, \n",
      "Palabras cercanas a sad: satin,  melodic,  minimalist,  biting,  abundance,  draws,  objects,  storys,  photographs,  inimitable, \n",
      "Iteración 34500, Pérdida: \n",
      "Iteración 35000, Pérdida: \n",
      "Iteración 35500, Pérdida: \n",
      "Iteración 36000, Pérdida: \n",
      "Palabras cercanas a cliche: africanamericans,  blanks,  quieter,  ring,  entry,  modesty,  preachy,  amuse,  boring,  follows, \n",
      "Palabras cercanas a love: inquiry,  imitation,  decline,  feral,  conditioning,  tensions,  effort,  elemento,  puerile,  awkward, \n",
      "Palabras cercanas a hate: hinton,  clare,  rising,  vain,  veteran,  releasing,  virtually,  precisely,  hightech,  hundred, \n",
      "Palabras cercanas a silly: kidnapping,  departs,  overstated,  executed,  tossed,  jealous,  christopher,  wendigo,  rest,  stretch, \n",
      "Palabras cercanas a sad: satin,  melodic,  minimalist,  biting,  abundance,  draws,  objects,  storys,  photographs,  inimitable, \n",
      "Iteración 36500, Pérdida: \n",
      "Iteración 37000, Pérdida: \n",
      "Iteración 37500, Pérdida: \n",
      "Iteración 38000, Pérdida: \n",
      "Palabras cercanas a cliche: africanamericans,  blanks,  quieter,  ring,  entry,  modesty,  preachy,  amuse,  boring,  follows, \n",
      "Palabras cercanas a love: inquiry,  imitation,  decline,  feral,  conditioning,  tensions,  effort,  elemento,  puerile,  awkward, \n",
      "Palabras cercanas a hate: hinton,  clare,  rising,  vain,  veteran,  releasing,  virtually,  precisely,  hightech,  hundred, \n",
      "Palabras cercanas a silly: kidnapping,  departs,  overstated,  executed,  tossed,  jealous,  christopher,  wendigo,  rest,  stretch, \n",
      "Palabras cercanas a sad: satin,  melodic,  minimalist,  biting,  abundance,  draws,  objects,  storys,  photographs,  inimitable, \n",
      "Iteración 38500, Pérdida: \n",
      "Iteración 39000, Pérdida: \n",
      "Iteración 39500, Pérdida: \n",
      "Iteración 40000, Pérdida: \n",
      "Palabras cercanas a cliche: africanamericans,  blanks,  quieter,  ring,  entry,  modesty,  preachy,  amuse,  boring,  follows, \n",
      "Palabras cercanas a love: inquiry,  imitation,  decline,  feral,  conditioning,  tensions,  effort,  elemento,  puerile,  awkward, \n",
      "Palabras cercanas a hate: hinton,  clare,  rising,  vain,  veteran,  releasing,  virtually,  precisely,  hightech,  hundred, \n",
      "Palabras cercanas a silly: kidnapping,  departs,  overstated,  executed,  tossed,  jealous,  christopher,  wendigo,  rest,  stretch, \n",
      "Palabras cercanas a sad: satin,  melodic,  minimalist,  biting,  abundance,  draws,  objects,  storys,  photographs,  inimitable, \n",
      "Iteración 40500, Pérdida: \n",
      "Iteración 41000, Pérdida: \n",
      "Iteración 41500, Pérdida: \n",
      "Iteración 42000, Pérdida: \n",
      "Palabras cercanas a cliche: africanamericans,  blanks,  quieter,  ring,  entry,  modesty,  preachy,  amuse,  boring,  follows, \n",
      "Palabras cercanas a love: inquiry,  imitation,  decline,  feral,  conditioning,  tensions,  effort,  elemento,  puerile,  awkward, \n",
      "Palabras cercanas a hate: hinton,  clare,  rising,  vain,  veteran,  releasing,  virtually,  precisely,  hightech,  hundred, \n",
      "Palabras cercanas a silly: kidnapping,  departs,  overstated,  executed,  tossed,  jealous,  christopher,  wendigo,  rest,  stretch, \n",
      "Palabras cercanas a sad: satin,  melodic,  minimalist,  biting,  abundance,  draws,  objects,  storys,  photographs,  inimitable, \n",
      "Iteración 42500, Pérdida: \n",
      "Iteración 43000, Pérdida: \n",
      "Iteración 43500, Pérdida: \n",
      "Iteración 44000, Pérdida: \n",
      "Palabras cercanas a cliche: africanamericans,  blanks,  quieter,  ring,  entry,  modesty,  preachy,  amuse,  boring,  follows, \n",
      "Palabras cercanas a love: inquiry,  imitation,  decline,  feral,  conditioning,  tensions,  effort,  elemento,  puerile,  awkward, \n",
      "Palabras cercanas a hate: hinton,  clare,  rising,  vain,  veteran,  releasing,  virtually,  precisely,  hightech,  hundred, \n",
      "Palabras cercanas a silly: kidnapping,  departs,  overstated,  executed,  tossed,  jealous,  christopher,  wendigo,  rest,  stretch, \n",
      "Palabras cercanas a sad: satin,  melodic,  minimalist,  biting,  abundance,  draws,  objects,  storys,  photographs,  inimitable, \n",
      "Iteración 44500, Pérdida: \n",
      "Iteración 45000, Pérdida: \n",
      "Iteración 45500, Pérdida: \n",
      "Iteración 46000, Pérdida: \n",
      "Palabras cercanas a cliche: africanamericans,  blanks,  quieter,  ring,  entry,  modesty,  preachy,  amuse,  boring,  follows, \n",
      "Palabras cercanas a love: inquiry,  imitation,  decline,  feral,  conditioning,  tensions,  effort,  elemento,  puerile,  awkward, \n",
      "Palabras cercanas a hate: hinton,  clare,  rising,  vain,  veteran,  releasing,  virtually,  precisely,  hightech,  hundred, \n",
      "Palabras cercanas a silly: kidnapping,  departs,  overstated,  executed,  tossed,  jealous,  christopher,  wendigo,  rest,  stretch, \n",
      "Palabras cercanas a sad: satin,  melodic,  minimalist,  biting,  abundance,  draws,  objects,  storys,  photographs,  inimitable, \n",
      "Iteración 46500, Pérdida: \n",
      "Iteración 47000, Pérdida: \n",
      "Iteración 47500, Pérdida: \n",
      "Iteración 48000, Pérdida: \n",
      "Palabras cercanas a cliche: africanamericans,  blanks,  quieter,  ring,  entry,  modesty,  preachy,  amuse,  boring,  follows, \n",
      "Palabras cercanas a love: inquiry,  imitation,  decline,  feral,  conditioning,  tensions,  effort,  elemento,  puerile,  awkward, \n",
      "Palabras cercanas a hate: hinton,  clare,  rising,  vain,  veteran,  releasing,  virtually,  precisely,  hightech,  hundred, \n",
      "Palabras cercanas a silly: kidnapping,  departs,  overstated,  executed,  tossed,  jealous,  christopher,  wendigo,  rest,  stretch, \n",
      "Palabras cercanas a sad: satin,  melodic,  minimalist,  biting,  abundance,  draws,  objects,  storys,  photographs,  inimitable, \n",
      "Iteración 48500, Pérdida: \n",
      "Iteración 49000, Pérdida: \n",
      "Iteración 49500, Pérdida: \n",
      "Iteración 50000, Pérdida: \n",
      "Palabras cercanas a cliche: africanamericans,  blanks,  quieter,  ring,  entry,  modesty,  preachy,  amuse,  boring,  follows, \n",
      "Palabras cercanas a love: inquiry,  imitation,  decline,  feral,  conditioning,  tensions,  effort,  elemento,  puerile,  awkward, \n",
      "Palabras cercanas a hate: hinton,  clare,  rising,  vain,  veteran,  releasing,  virtually,  precisely,  hightech,  hundred, \n",
      "Palabras cercanas a silly: kidnapping,  departs,  overstated,  executed,  tossed,  jealous,  christopher,  wendigo,  rest,  stretch, \n",
      "Palabras cercanas a sad: satin,  melodic,  minimalist,  biting,  abundance,  draws,  objects,  storys,  photographs,  inimitable, \n"
     ]
    }
   ],
   "source": [
    "loss_vect = []\n",
    "loss_x_vect = []\n",
    "for i in range(generations):\n",
    "    batch_inputs, batch_labels = generate_batch_data(text_data, batch_size, window_size)\n",
    "    feed_dict = {x_inputs: batch_inputs, y_target: batch_labels}\n",
    "    session.run(optimizer, feed_dict=feed_dict)\n",
    "    \n",
    "    if (i+1) % print_loss_every == 0:\n",
    "        loss_val = session.run(loss, feed_dict=feed_dict)\n",
    "        loss_vect.append(loss_val)\n",
    "        loss_x_vect.append(i+1)\n",
    "        print(\"Step #{}, Loss: {}\".format(i+1, loss_val))\n",
    "    \n",
    "    ## Validación de palabras más cercanas a las 5 seleccionadas\n",
    "    if (i+1) % print_valid_every == 0:\n",
    "        sim = session.run(similarity, feed_dict=feed_dict)\n",
    "        for j in range(len(valid_words)):\n",
    "            valid_word = word_dict_rev[valid_examples[j]]\n",
    "            top_k = 10\n",
    "            nearest = (-sim[j,:]).argsort()[1:top_k+1]\n",
    "            log_string = \"Nearest Words to {}:\".format(valid_word)\n",
    "            for k in range(top_k):\n",
    "                close_word = word_dict_rev[nearest[k]]\n",
    "                log_string = \"%s %s, \"%(log_string, close_word)\n",
    "            print(log_string)"
   ]
  },
  {
   "cell_type": "code",
   "execution_count": null,
   "metadata": {},
   "outputs": [],
   "source": []
  },
  {
   "cell_type": "code",
   "execution_count": 30,
   "metadata": {},
   "outputs": [
    {
     "data": {
      "text/plain": [
       "[<matplotlib.lines.Line2D at 0x7fe5241502d0>]"
      ]
     },
     "execution_count": 30,
     "metadata": {},
     "output_type": "execute_result"
    },
    {
     "data": {
      "image/png": "[encoded data removed]",
      "text/plain": [
       "<Figure size 432x288 with 1 Axes>"
      ]
     },
     "metadata": {
      "needs_background": "light"
     },
     "output_type": "display_data"
    }
   ],
   "source": [
    "plt.plot(loss_x_vect, loss_vect, 'k-', label = \"Función de pérdidas\")"
   ]
  },
  {
   "cell_type": "code",
   "execution_count": null,
   "metadata": {},
   "outputs": [],
   "source": []
  }
 ],
 "metadata": {
  "kernelspec": {
   "display_name": "Python 3",
   "language": "python",
   "name": "python3"
  },
  "language_info": {
   "codemirror_mode": {
    "name": "ipython",
    "version": 3
   },
   "file_extension": ".py",
   "mimetype": "text/x-python",
   "name": "python",
   "nbconvert_exporter": "python",
   "pygments_lexer": "ipython3",
   "version": "3.7.6"
  }
 },
 "nbformat": 4,
 "nbformat_minor": 4
}
