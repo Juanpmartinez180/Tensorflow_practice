{
 "cells": [
  {
   "cell_type": "markdown",
   "metadata": {},
   "source": [
    "# Flores de iris"
   ]
  },
  {
   "cell_type": "code",
   "execution_count": null,
   "metadata": {},
   "outputs": [],
   "source": [
    "from sklearn import datasets\n",
    "iris = datasets.load_iris()"
   ]
  },
  {
   "cell_type": "code",
   "execution_count": null,
   "metadata": {},
   "outputs": [],
   "source": [
    "len(iris.data)"
   ]
  },
  {
   "cell_type": "code",
   "execution_count": null,
   "metadata": {},
   "outputs": [],
   "source": [
    "len(iris.target)"
   ]
  },
  {
   "cell_type": "code",
   "execution_count": null,
   "metadata": {},
   "outputs": [],
   "source": [
    "iris.data[0]"
   ]
  },
  {
   "cell_type": "code",
   "execution_count": null,
   "metadata": {},
   "outputs": [],
   "source": [
    "set(iris.target)"
   ]
  },
  {
   "cell_type": "markdown",
   "metadata": {},
   "source": [
    "# Birth Weights\n"
   ]
  },
  {
   "cell_type": "code",
   "execution_count": 7,
   "metadata": {},
   "outputs": [],
   "source": [
    "import requests\n",
    "url = 'https://raw.githubusercontent.com/joanby/tensorflow/master/datasets/birthweight.csv'\n",
    "birth_file = requests.get(url)\n",
    "birth_data = birth_file.text.split('\\r\\n')"
   ]
  },
  {
   "cell_type": "code",
   "execution_count": 2,
   "metadata": {
    "collapsed": true,
    "jupyter": {
     "outputs_hidden": true
    }
   },
   "outputs": [
    {
     "data": {
      "text/plain": [
       "['LOW,AGE,LWT,RACE,SMOKE,PTL,HT,UI,BWT',\n",
       " '1.0,28.0,113.0,1.0,1.0,1.0,0.0,1.0,709.0',\n",
       " '1.0,29.0,130.0,0.0,0.0,0.0,0.0,1.0,1021.0',\n",
       " '1.0,34.0,187.0,1.0,1.0,0.0,1.0,0.0,1135.0',\n",
       " '1.0,25.0,105.0,1.0,0.0,1.0,1.0,0.0,1330.0',\n",
       " '1.0,25.0,85.0,1.0,0.0,0.0,0.0,1.0,1474.0',\n",
       " '1.0,27.0,150.0,1.0,0.0,0.0,0.0,0.0,1588.0',\n",
       " '1.0,23.0,97.0,1.0,0.0,0.0,0.0,1.0,1588.0',\n",
       " '1.0,24.0,128.0,1.0,0.0,1.0,0.0,0.0,1701.0',\n",
       " '1.0,24.0,132.0,1.0,0.0,0.0,1.0,0.0,1729.0',\n",
       " '1.0,21.0,165.0,0.0,1.0,0.0,1.0,0.0,1790.0',\n",
       " '1.0,32.0,105.0,1.0,1.0,0.0,0.0,0.0,1818.0',\n",
       " '1.0,19.0,91.0,0.0,1.0,1.0,0.0,1.0,1885.0',\n",
       " '1.0,25.0,115.0,1.0,0.0,0.0,0.0,0.0,1893.0',\n",
       " '1.0,16.0,130.0,1.0,0.0,0.0,0.0,0.0,1899.0',\n",
       " '1.0,25.0,92.0,0.0,1.0,0.0,0.0,0.0,1928.0',\n",
       " '1.0,20.0,150.0,0.0,1.0,0.0,0.0,0.0,1928.0',\n",
       " '1.0,21.0,190.0,1.0,0.0,0.0,0.0,1.0,1928.0',\n",
       " '1.0,24.0,155.0,0.0,1.0,1.0,0.0,0.0,1936.0',\n",
       " '1.0,21.0,103.0,1.0,0.0,0.0,0.0,0.0,1970.0',\n",
       " '1.0,20.0,125.0,1.0,0.0,0.0,0.0,1.0,2055.0',\n",
       " '1.0,25.0,89.0,1.0,0.0,1.0,0.0,0.0,2055.0',\n",
       " '1.0,19.0,102.0,0.0,0.0,0.0,0.0,0.0,2082.0',\n",
       " '1.0,19.0,112.0,0.0,1.0,0.0,0.0,1.0,2084.0',\n",
       " '1.0,26.0,117.0,0.0,1.0,1.0,0.0,1.0,2084.0',\n",
       " '1.0,24.0,138.0,0.0,0.0,0.0,0.0,0.0,2100.0',\n",
       " '1.0,17.0,130.0,1.0,1.0,1.0,0.0,1.0,2125.0',\n",
       " '1.0,20.0,120.0,1.0,1.0,0.0,0.0,0.0,2126.0',\n",
       " '1.0,22.0,130.0,0.0,1.0,1.0,0.0,1.0,2187.0',\n",
       " '1.0,27.0,130.0,1.0,0.0,0.0,0.0,1.0,2187.0',\n",
       " '1.0,20.0,80.0,1.0,1.0,0.0,0.0,1.0,2211.0',\n",
       " '1.0,17.0,110.0,0.0,1.0,0.0,0.0,0.0,2225.0',\n",
       " '1.0,25.0,105.0,1.0,0.0,1.0,0.0,0.0,2240.0',\n",
       " '1.0,20.0,109.0,1.0,0.0,0.0,0.0,0.0,2240.0',\n",
       " '1.0,18.0,148.0,1.0,0.0,0.0,0.0,0.0,2282.0',\n",
       " '1.0,18.0,110.0,1.0,1.0,1.0,0.0,0.0,2296.0',\n",
       " '1.0,20.0,121.0,0.0,1.0,1.0,0.0,1.0,2296.0',\n",
       " '1.0,21.0,100.0,1.0,0.0,1.0,0.0,0.0,2301.0',\n",
       " '1.0,26.0,96.0,1.0,0.0,0.0,0.0,0.0,2325.0',\n",
       " '1.0,31.0,102.0,0.0,1.0,1.0,0.0,0.0,2353.0',\n",
       " '1.0,15.0,110.0,0.0,0.0,0.0,0.0,0.0,2353.0',\n",
       " '1.0,23.0,187.0,1.0,1.0,0.0,0.0,0.0,2367.0',\n",
       " '1.0,20.0,122.0,1.0,1.0,1.0,0.0,0.0,2381.0',\n",
       " '1.0,24.0,105.0,1.0,1.0,0.0,0.0,0.0,2381.0',\n",
       " '1.0,15.0,115.0,1.0,0.0,0.0,0.0,1.0,2381.0',\n",
       " '1.0,23.0,120.0,1.0,0.0,0.0,0.0,0.0,2395.0',\n",
       " '1.0,30.0,142.0,0.0,1.0,1.0,0.0,0.0,2410.0',\n",
       " '1.0,22.0,130.0,0.0,1.0,0.0,0.0,0.0,2410.0',\n",
       " '1.0,17.0,120.0,0.0,1.0,0.0,0.0,0.0,2414.0',\n",
       " '1.0,23.0,110.0,0.0,1.0,1.0,0.0,0.0,2424.0',\n",
       " '1.0,17.0,120.0,1.0,0.0,0.0,0.0,0.0,2438.0',\n",
       " '1.0,26.0,154.0,1.0,0.0,1.0,1.0,0.0,2442.0',\n",
       " '1.0,20.0,105.0,1.0,0.0,0.0,0.0,0.0,2450.0',\n",
       " '1.0,26.0,168.0,0.0,1.0,0.0,0.0,0.0,2466.0',\n",
       " '1.0,14.0,101.0,1.0,1.0,1.0,0.0,0.0,2466.0',\n",
       " '1.0,28.0,95.0,0.0,1.0,0.0,0.0,0.0,2466.0',\n",
       " '1.0,14.0,100.0,1.0,0.0,0.0,0.0,0.0,2495.0',\n",
       " '1.0,23.0,94.0,1.0,1.0,0.0,0.0,0.0,2495.0',\n",
       " '1.0,17.0,142.0,1.0,0.0,0.0,1.0,0.0,2495.0',\n",
       " '1.0,21.0,130.0,0.0,1.0,0.0,1.0,0.0,2495.0',\n",
       " '0.0,19.0,182.0,1.0,0.0,0.0,0.0,1.0,2523.0',\n",
       " '0.0,33.0,155.0,1.0,0.0,0.0,0.0,0.0,2551.0',\n",
       " '0.0,20.0,105.0,0.0,1.0,0.0,0.0,0.0,2557.0',\n",
       " '0.0,21.0,108.0,0.0,1.0,0.0,0.0,1.0,2594.0',\n",
       " '0.0,18.0,107.0,0.0,1.0,0.0,0.0,1.0,2600.0',\n",
       " '0.0,21.0,124.0,1.0,0.0,0.0,0.0,0.0,2622.0',\n",
       " '0.0,22.0,118.0,0.0,0.0,0.0,0.0,0.0,2637.0',\n",
       " '0.0,17.0,103.0,1.0,0.0,0.0,0.0,0.0,2637.0',\n",
       " '0.0,29.0,123.0,0.0,1.0,0.0,0.0,0.0,2663.0',\n",
       " '0.0,26.0,113.0,0.0,1.0,0.0,0.0,0.0,2665.0',\n",
       " '0.0,19.0,95.0,1.0,0.0,0.0,0.0,0.0,2722.0',\n",
       " '0.0,19.0,150.0,1.0,0.0,0.0,0.0,0.0,2733.0',\n",
       " '0.0,22.0,95.0,1.0,0.0,0.0,1.0,0.0,2750.0',\n",
       " '0.0,30.0,107.0,1.0,0.0,1.0,0.0,1.0,2750.0',\n",
       " '0.0,18.0,100.0,0.0,1.0,0.0,0.0,0.0,2769.0',\n",
       " '0.0,18.0,100.0,1.0,1.0,0.0,0.0,0.0,2769.0',\n",
       " '0.0,15.0,98.0,1.0,0.0,0.0,0.0,0.0,2778.0',\n",
       " '0.0,25.0,118.0,0.0,1.0,0.0,0.0,0.0,2782.0',\n",
       " '0.0,20.0,120.0,1.0,0.0,0.0,0.0,1.0,2807.0',\n",
       " '0.0,28.0,120.0,0.0,1.0,0.0,0.0,0.0,2821.0',\n",
       " '0.0,32.0,121.0,1.0,0.0,0.0,0.0,0.0,2835.0',\n",
       " '0.0,31.0,100.0,0.0,0.0,0.0,0.0,1.0,2835.0',\n",
       " '0.0,36.0,202.0,0.0,0.0,0.0,0.0,0.0,2836.0',\n",
       " '0.0,28.0,120.0,1.0,0.0,0.0,0.0,0.0,2863.0',\n",
       " '0.0,25.0,120.0,1.0,0.0,0.0,0.0,1.0,2877.0',\n",
       " '0.0,28.0,167.0,0.0,0.0,0.0,0.0,0.0,2877.0',\n",
       " '0.0,17.0,122.0,0.0,1.0,0.0,0.0,0.0,2906.0',\n",
       " '0.0,29.0,150.0,0.0,0.0,0.0,0.0,0.0,2920.0',\n",
       " '0.0,26.0,168.0,1.0,1.0,0.0,0.0,0.0,2920.0',\n",
       " '0.0,17.0,113.0,1.0,0.0,0.0,0.0,0.0,2920.0',\n",
       " '0.0,17.0,113.0,1.0,0.0,0.0,0.0,0.0,2920.0',\n",
       " '0.0,24.0,90.0,0.0,1.0,1.0,0.0,0.0,2948.0',\n",
       " '0.0,35.0,121.0,1.0,1.0,1.0,1.0,0.0,2948.0',\n",
       " '0.0,25.0,155.0,0.0,1.0,1.0,0.0,0.0,2977.0',\n",
       " '0.0,25.0,125.0,1.0,0.0,0.0,0.0,0.0,2977.0',\n",
       " '0.0,29.0,140.0,0.0,1.0,0.0,0.0,0.0,2977.0',\n",
       " '0.0,19.0,138.0,0.0,1.0,0.0,1.0,0.0,2977.0',\n",
       " '0.0,27.0,124.0,0.0,1.0,0.0,0.0,0.0,2992.0',\n",
       " '0.0,31.0,115.0,0.0,1.0,0.0,0.0,0.0,3005.0',\n",
       " '0.0,33.0,109.0,0.0,1.0,0.0,0.0,0.0,3033.0',\n",
       " '0.0,21.0,185.0,1.0,1.0,0.0,0.0,0.0,3042.0',\n",
       " '0.0,19.0,189.0,0.0,0.0,0.0,0.0,0.0,3062.0',\n",
       " '0.0,23.0,130.0,1.0,0.0,0.0,0.0,0.0,3062.0',\n",
       " '0.0,21.0,160.0,0.0,0.0,0.0,0.0,0.0,3062.0',\n",
       " '0.0,18.0,90.0,0.0,1.0,0.0,0.0,1.0,3076.0',\n",
       " '0.0,18.0,90.0,0.0,1.0,0.0,0.0,1.0,3076.0',\n",
       " '0.0,32.0,132.0,0.0,0.0,0.0,0.0,0.0,3080.0',\n",
       " '0.0,19.0,132.0,1.0,0.0,0.0,0.0,0.0,3090.0',\n",
       " '0.0,24.0,115.0,0.0,0.0,0.0,0.0,0.0,3090.0',\n",
       " '0.0,22.0,85.0,1.0,1.0,0.0,0.0,0.0,3090.0',\n",
       " '0.0,22.0,120.0,0.0,0.0,0.0,1.0,0.0,3100.0',\n",
       " '0.0,23.0,128.0,1.0,0.0,0.0,0.0,0.0,3104.0',\n",
       " '0.0,22.0,130.0,0.0,1.0,0.0,0.0,0.0,3132.0',\n",
       " '0.0,30.0,95.0,0.0,1.0,0.0,0.0,0.0,3147.0',\n",
       " '0.0,19.0,115.0,1.0,0.0,0.0,0.0,0.0,3175.0',\n",
       " '0.0,16.0,110.0,1.0,0.0,0.0,0.0,0.0,3175.0',\n",
       " '0.0,21.0,110.0,1.0,1.0,0.0,0.0,1.0,3203.0',\n",
       " '0.0,30.0,153.0,1.0,0.0,0.0,0.0,0.0,3203.0',\n",
       " '0.0,20.0,103.0,1.0,0.0,0.0,0.0,0.0,3203.0',\n",
       " '0.0,17.0,119.0,1.0,0.0,0.0,0.0,0.0,3225.0',\n",
       " '0.0,17.0,119.0,1.0,0.0,0.0,0.0,0.0,3225.0',\n",
       " '0.0,23.0,119.0,1.0,0.0,0.0,0.0,0.0,3232.0',\n",
       " '0.0,24.0,110.0,1.0,0.0,0.0,0.0,0.0,3232.0',\n",
       " '0.0,28.0,140.0,0.0,0.0,0.0,0.0,0.0,3234.0',\n",
       " '0.0,26.0,133.0,1.0,1.0,0.0,0.0,0.0,3260.0',\n",
       " '0.0,20.0,169.0,1.0,0.0,1.0,0.0,1.0,3274.0',\n",
       " '0.0,24.0,115.0,1.0,0.0,0.0,0.0,0.0,3274.0',\n",
       " '0.0,28.0,250.0,1.0,1.0,0.0,0.0,0.0,3303.0',\n",
       " '0.0,20.0,141.0,0.0,0.0,0.0,0.0,1.0,3317.0',\n",
       " '0.0,22.0,158.0,1.0,0.0,1.0,0.0,0.0,3317.0',\n",
       " '0.0,22.0,112.0,0.0,1.0,1.0,0.0,0.0,3317.0',\n",
       " '0.0,31.0,150.0,1.0,1.0,0.0,0.0,0.0,3321.0',\n",
       " '0.0,23.0,115.0,1.0,1.0,0.0,0.0,0.0,3331.0',\n",
       " '0.0,16.0,112.0,1.0,0.0,0.0,0.0,0.0,3374.0',\n",
       " '0.0,16.0,135.0,0.0,1.0,0.0,0.0,0.0,3374.0',\n",
       " '0.0,18.0,229.0,1.0,0.0,0.0,0.0,0.0,3402.0',\n",
       " '0.0,25.0,140.0,0.0,0.0,0.0,0.0,0.0,3416.0',\n",
       " '0.0,32.0,134.0,0.0,1.0,1.0,0.0,0.0,3430.0',\n",
       " '0.0,20.0,121.0,1.0,1.0,0.0,0.0,0.0,3444.0',\n",
       " '0.0,23.0,190.0,0.0,0.0,0.0,0.0,0.0,3459.0',\n",
       " '0.0,22.0,131.0,0.0,0.0,0.0,0.0,0.0,3460.0',\n",
       " '0.0,32.0,170.0,0.0,0.0,0.0,0.0,0.0,3473.0',\n",
       " '0.0,30.0,110.0,1.0,0.0,0.0,0.0,0.0,3475.0',\n",
       " '0.0,20.0,127.0,1.0,0.0,0.0,0.0,0.0,3487.0',\n",
       " '0.0,23.0,123.0,1.0,0.0,0.0,0.0,0.0,3544.0',\n",
       " '0.0,17.0,120.0,1.0,1.0,0.0,0.0,0.0,3572.0',\n",
       " '0.0,19.0,105.0,1.0,0.0,0.0,0.0,0.0,3572.0',\n",
       " '0.0,23.0,130.0,0.0,0.0,0.0,0.0,0.0,3586.0',\n",
       " '0.0,36.0,175.0,0.0,0.0,0.0,0.0,0.0,3600.0',\n",
       " '0.0,22.0,125.0,0.0,0.0,0.0,0.0,0.0,3614.0',\n",
       " '0.0,24.0,133.0,0.0,0.0,0.0,0.0,0.0,3614.0',\n",
       " '0.0,21.0,134.0,1.0,0.0,0.0,0.0,0.0,3629.0',\n",
       " '0.0,19.0,235.0,0.0,1.0,0.0,1.0,0.0,3629.0',\n",
       " '0.0,25.0,200.0,0.0,0.0,1.0,0.0,1.0,3637.0',\n",
       " '0.0,16.0,135.0,0.0,1.0,0.0,0.0,0.0,3643.0',\n",
       " '0.0,29.0,135.0,0.0,0.0,0.0,0.0,0.0,3651.0',\n",
       " '0.0,29.0,154.0,0.0,0.0,0.0,0.0,0.0,3651.0',\n",
       " '0.0,19.0,147.0,0.0,1.0,0.0,0.0,0.0,3651.0',\n",
       " '0.0,19.0,147.0,0.0,1.0,0.0,0.0,0.0,3651.0',\n",
       " '0.0,30.0,137.0,0.0,0.0,0.0,0.0,0.0,3699.0',\n",
       " '0.0,24.0,110.0,0.0,0.0,0.0,0.0,0.0,3728.0',\n",
       " '0.0,19.0,184.0,0.0,1.0,0.0,1.0,0.0,3756.0',\n",
       " '0.0,24.0,110.0,0.0,0.0,1.0,0.0,0.0,3770.0',\n",
       " '0.0,23.0,110.0,0.0,0.0,0.0,0.0,0.0,3770.0',\n",
       " '0.0,20.0,120.0,1.0,0.0,0.0,0.0,0.0,3770.0',\n",
       " '0.0,25.0,141.0,0.0,0.0,0.0,1.0,0.0,3790.0',\n",
       " '0.0,30.0,112.0,0.0,0.0,0.0,0.0,0.0,3799.0',\n",
       " '0.0,22.0,169.0,0.0,0.0,0.0,0.0,0.0,3827.0',\n",
       " '0.0,18.0,120.0,0.0,1.0,0.0,0.0,0.0,3856.0',\n",
       " '0.0,16.0,170.0,1.0,0.0,0.0,0.0,0.0,3860.0',\n",
       " '0.0,32.0,186.0,0.0,0.0,0.0,0.0,0.0,3860.0',\n",
       " '0.0,18.0,120.0,1.0,0.0,0.0,0.0,0.0,3884.0',\n",
       " '0.0,29.0,130.0,0.0,1.0,0.0,0.0,0.0,3884.0',\n",
       " '0.0,33.0,117.0,0.0,0.0,0.0,0.0,1.0,3912.0',\n",
       " '0.0,20.0,170.0,0.0,1.0,0.0,0.0,0.0,3940.0',\n",
       " '0.0,28.0,134.0,1.0,0.0,0.0,0.0,0.0,3941.0',\n",
       " '0.0,14.0,135.0,0.0,0.0,1.0,0.0,0.0,3941.0',\n",
       " '0.0,28.0,130.0,1.0,0.0,0.0,0.0,0.0,3969.0',\n",
       " '0.0,25.0,120.0,0.0,0.0,0.0,0.0,0.0,3983.0',\n",
       " '0.0,16.0,135.0,1.0,0.0,0.0,0.0,0.0,3997.0',\n",
       " '0.0,20.0,158.0,0.0,0.0,0.0,0.0,0.0,3997.0',\n",
       " '0.0,26.0,160.0,0.0,0.0,0.0,0.0,0.0,4054.0',\n",
       " '0.0,21.0,115.0,0.0,0.0,0.0,0.0,0.0,4054.0',\n",
       " '0.0,22.0,129.0,0.0,0.0,0.0,0.0,0.0,4111.0',\n",
       " '0.0,25.0,130.0,0.0,0.0,0.0,0.0,0.0,4153.0',\n",
       " '0.0,31.0,120.0,0.0,0.0,0.0,0.0,0.0,4167.0',\n",
       " '0.0,35.0,170.0,0.0,0.0,1.0,0.0,0.0,4174.0',\n",
       " '0.0,19.0,120.0,0.0,1.0,0.0,1.0,0.0,4238.0',\n",
       " '0.0,24.0,216.0,0.0,0.0,0.0,0.0,0.0,4593.0',\n",
       " '0.0,45.0,123.0,0.0,0.0,1.0,0.0,0.0,4990.0',\n",
       " '']"
      ]
     },
     "execution_count": 2,
     "metadata": {},
     "output_type": "execute_result"
    }
   ],
   "source": [
    "birth_data"
   ]
  },
  {
   "cell_type": "code",
   "execution_count": 8,
   "metadata": {},
   "outputs": [
    {
     "data": {
      "text/plain": [
       "['LOW', 'AGE', 'LWT', 'RACE', 'SMOKE', 'PTL', 'HT', 'UI', 'BWT']"
      ]
     },
     "execution_count": 8,
     "metadata": {},
     "output_type": "execute_result"
    }
   ],
   "source": [
    "birth_header = birth_data[0].split(',')\n",
    "birth_header"
   ]
  },
  {
   "cell_type": "code",
   "execution_count": 9,
   "metadata": {},
   "outputs": [],
   "source": [
    "birth_data = [[float(x) for x in y.split(',') if len(x)>=1] for y in birth_data[1:] if len(y)>=1]\n"
   ]
  },
  {
   "cell_type": "code",
   "execution_count": 10,
   "metadata": {
    "collapsed": true,
    "jupyter": {
     "outputs_hidden": true
    }
   },
   "outputs": [
    {
     "data": {
      "text/plain": [
       "[[1.0, 28.0, 113.0, 1.0, 1.0, 1.0, 0.0, 1.0, 709.0],\n",
       " [1.0, 29.0, 130.0, 0.0, 0.0, 0.0, 0.0, 1.0, 1021.0],\n",
       " [1.0, 34.0, 187.0, 1.0, 1.0, 0.0, 1.0, 0.0, 1135.0],\n",
       " [1.0, 25.0, 105.0, 1.0, 0.0, 1.0, 1.0, 0.0, 1330.0],\n",
       " [1.0, 25.0, 85.0, 1.0, 0.0, 0.0, 0.0, 1.0, 1474.0],\n",
       " [1.0, 27.0, 150.0, 1.0, 0.0, 0.0, 0.0, 0.0, 1588.0],\n",
       " [1.0, 23.0, 97.0, 1.0, 0.0, 0.0, 0.0, 1.0, 1588.0],\n",
       " [1.0, 24.0, 128.0, 1.0, 0.0, 1.0, 0.0, 0.0, 1701.0],\n",
       " [1.0, 24.0, 132.0, 1.0, 0.0, 0.0, 1.0, 0.0, 1729.0],\n",
       " [1.0, 21.0, 165.0, 0.0, 1.0, 0.0, 1.0, 0.0, 1790.0],\n",
       " [1.0, 32.0, 105.0, 1.0, 1.0, 0.0, 0.0, 0.0, 1818.0],\n",
       " [1.0, 19.0, 91.0, 0.0, 1.0, 1.0, 0.0, 1.0, 1885.0],\n",
       " [1.0, 25.0, 115.0, 1.0, 0.0, 0.0, 0.0, 0.0, 1893.0],\n",
       " [1.0, 16.0, 130.0, 1.0, 0.0, 0.0, 0.0, 0.0, 1899.0],\n",
       " [1.0, 25.0, 92.0, 0.0, 1.0, 0.0, 0.0, 0.0, 1928.0],\n",
       " [1.0, 20.0, 150.0, 0.0, 1.0, 0.0, 0.0, 0.0, 1928.0],\n",
       " [1.0, 21.0, 190.0, 1.0, 0.0, 0.0, 0.0, 1.0, 1928.0],\n",
       " [1.0, 24.0, 155.0, 0.0, 1.0, 1.0, 0.0, 0.0, 1936.0],\n",
       " [1.0, 21.0, 103.0, 1.0, 0.0, 0.0, 0.0, 0.0, 1970.0],\n",
       " [1.0, 20.0, 125.0, 1.0, 0.0, 0.0, 0.0, 1.0, 2055.0],\n",
       " [1.0, 25.0, 89.0, 1.0, 0.0, 1.0, 0.0, 0.0, 2055.0],\n",
       " [1.0, 19.0, 102.0, 0.0, 0.0, 0.0, 0.0, 0.0, 2082.0],\n",
       " [1.0, 19.0, 112.0, 0.0, 1.0, 0.0, 0.0, 1.0, 2084.0],\n",
       " [1.0, 26.0, 117.0, 0.0, 1.0, 1.0, 0.0, 1.0, 2084.0],\n",
       " [1.0, 24.0, 138.0, 0.0, 0.0, 0.0, 0.0, 0.0, 2100.0],\n",
       " [1.0, 17.0, 130.0, 1.0, 1.0, 1.0, 0.0, 1.0, 2125.0],\n",
       " [1.0, 20.0, 120.0, 1.0, 1.0, 0.0, 0.0, 0.0, 2126.0],\n",
       " [1.0, 22.0, 130.0, 0.0, 1.0, 1.0, 0.0, 1.0, 2187.0],\n",
       " [1.0, 27.0, 130.0, 1.0, 0.0, 0.0, 0.0, 1.0, 2187.0],\n",
       " [1.0, 20.0, 80.0, 1.0, 1.0, 0.0, 0.0, 1.0, 2211.0],\n",
       " [1.0, 17.0, 110.0, 0.0, 1.0, 0.0, 0.0, 0.0, 2225.0],\n",
       " [1.0, 25.0, 105.0, 1.0, 0.0, 1.0, 0.0, 0.0, 2240.0],\n",
       " [1.0, 20.0, 109.0, 1.0, 0.0, 0.0, 0.0, 0.0, 2240.0],\n",
       " [1.0, 18.0, 148.0, 1.0, 0.0, 0.0, 0.0, 0.0, 2282.0],\n",
       " [1.0, 18.0, 110.0, 1.0, 1.0, 1.0, 0.0, 0.0, 2296.0],\n",
       " [1.0, 20.0, 121.0, 0.0, 1.0, 1.0, 0.0, 1.0, 2296.0],\n",
       " [1.0, 21.0, 100.0, 1.0, 0.0, 1.0, 0.0, 0.0, 2301.0],\n",
       " [1.0, 26.0, 96.0, 1.0, 0.0, 0.0, 0.0, 0.0, 2325.0],\n",
       " [1.0, 31.0, 102.0, 0.0, 1.0, 1.0, 0.0, 0.0, 2353.0],\n",
       " [1.0, 15.0, 110.0, 0.0, 0.0, 0.0, 0.0, 0.0, 2353.0],\n",
       " [1.0, 23.0, 187.0, 1.0, 1.0, 0.0, 0.0, 0.0, 2367.0],\n",
       " [1.0, 20.0, 122.0, 1.0, 1.0, 1.0, 0.0, 0.0, 2381.0],\n",
       " [1.0, 24.0, 105.0, 1.0, 1.0, 0.0, 0.0, 0.0, 2381.0],\n",
       " [1.0, 15.0, 115.0, 1.0, 0.0, 0.0, 0.0, 1.0, 2381.0],\n",
       " [1.0, 23.0, 120.0, 1.0, 0.0, 0.0, 0.0, 0.0, 2395.0],\n",
       " [1.0, 30.0, 142.0, 0.0, 1.0, 1.0, 0.0, 0.0, 2410.0],\n",
       " [1.0, 22.0, 130.0, 0.0, 1.0, 0.0, 0.0, 0.0, 2410.0],\n",
       " [1.0, 17.0, 120.0, 0.0, 1.0, 0.0, 0.0, 0.0, 2414.0],\n",
       " [1.0, 23.0, 110.0, 0.0, 1.0, 1.0, 0.0, 0.0, 2424.0],\n",
       " [1.0, 17.0, 120.0, 1.0, 0.0, 0.0, 0.0, 0.0, 2438.0],\n",
       " [1.0, 26.0, 154.0, 1.0, 0.0, 1.0, 1.0, 0.0, 2442.0],\n",
       " [1.0, 20.0, 105.0, 1.0, 0.0, 0.0, 0.0, 0.0, 2450.0],\n",
       " [1.0, 26.0, 168.0, 0.0, 1.0, 0.0, 0.0, 0.0, 2466.0],\n",
       " [1.0, 14.0, 101.0, 1.0, 1.0, 1.0, 0.0, 0.0, 2466.0],\n",
       " [1.0, 28.0, 95.0, 0.0, 1.0, 0.0, 0.0, 0.0, 2466.0],\n",
       " [1.0, 14.0, 100.0, 1.0, 0.0, 0.0, 0.0, 0.0, 2495.0],\n",
       " [1.0, 23.0, 94.0, 1.0, 1.0, 0.0, 0.0, 0.0, 2495.0],\n",
       " [1.0, 17.0, 142.0, 1.0, 0.0, 0.0, 1.0, 0.0, 2495.0],\n",
       " [1.0, 21.0, 130.0, 0.0, 1.0, 0.0, 1.0, 0.0, 2495.0],\n",
       " [0.0, 19.0, 182.0, 1.0, 0.0, 0.0, 0.0, 1.0, 2523.0],\n",
       " [0.0, 33.0, 155.0, 1.0, 0.0, 0.0, 0.0, 0.0, 2551.0],\n",
       " [0.0, 20.0, 105.0, 0.0, 1.0, 0.0, 0.0, 0.0, 2557.0],\n",
       " [0.0, 21.0, 108.0, 0.0, 1.0, 0.0, 0.0, 1.0, 2594.0],\n",
       " [0.0, 18.0, 107.0, 0.0, 1.0, 0.0, 0.0, 1.0, 2600.0],\n",
       " [0.0, 21.0, 124.0, 1.0, 0.0, 0.0, 0.0, 0.0, 2622.0],\n",
       " [0.0, 22.0, 118.0, 0.0, 0.0, 0.0, 0.0, 0.0, 2637.0],\n",
       " [0.0, 17.0, 103.0, 1.0, 0.0, 0.0, 0.0, 0.0, 2637.0],\n",
       " [0.0, 29.0, 123.0, 0.0, 1.0, 0.0, 0.0, 0.0, 2663.0],\n",
       " [0.0, 26.0, 113.0, 0.0, 1.0, 0.0, 0.0, 0.0, 2665.0],\n",
       " [0.0, 19.0, 95.0, 1.0, 0.0, 0.0, 0.0, 0.0, 2722.0],\n",
       " [0.0, 19.0, 150.0, 1.0, 0.0, 0.0, 0.0, 0.0, 2733.0],\n",
       " [0.0, 22.0, 95.0, 1.0, 0.0, 0.0, 1.0, 0.0, 2750.0],\n",
       " [0.0, 30.0, 107.0, 1.0, 0.0, 1.0, 0.0, 1.0, 2750.0],\n",
       " [0.0, 18.0, 100.0, 0.0, 1.0, 0.0, 0.0, 0.0, 2769.0],\n",
       " [0.0, 18.0, 100.0, 1.0, 1.0, 0.0, 0.0, 0.0, 2769.0],\n",
       " [0.0, 15.0, 98.0, 1.0, 0.0, 0.0, 0.0, 0.0, 2778.0],\n",
       " [0.0, 25.0, 118.0, 0.0, 1.0, 0.0, 0.0, 0.0, 2782.0],\n",
       " [0.0, 20.0, 120.0, 1.0, 0.0, 0.0, 0.0, 1.0, 2807.0],\n",
       " [0.0, 28.0, 120.0, 0.0, 1.0, 0.0, 0.0, 0.0, 2821.0],\n",
       " [0.0, 32.0, 121.0, 1.0, 0.0, 0.0, 0.0, 0.0, 2835.0],\n",
       " [0.0, 31.0, 100.0, 0.0, 0.0, 0.0, 0.0, 1.0, 2835.0],\n",
       " [0.0, 36.0, 202.0, 0.0, 0.0, 0.0, 0.0, 0.0, 2836.0],\n",
       " [0.0, 28.0, 120.0, 1.0, 0.0, 0.0, 0.0, 0.0, 2863.0],\n",
       " [0.0, 25.0, 120.0, 1.0, 0.0, 0.0, 0.0, 1.0, 2877.0],\n",
       " [0.0, 28.0, 167.0, 0.0, 0.0, 0.0, 0.0, 0.0, 2877.0],\n",
       " [0.0, 17.0, 122.0, 0.0, 1.0, 0.0, 0.0, 0.0, 2906.0],\n",
       " [0.0, 29.0, 150.0, 0.0, 0.0, 0.0, 0.0, 0.0, 2920.0],\n",
       " [0.0, 26.0, 168.0, 1.0, 1.0, 0.0, 0.0, 0.0, 2920.0],\n",
       " [0.0, 17.0, 113.0, 1.0, 0.0, 0.0, 0.0, 0.0, 2920.0],\n",
       " [0.0, 17.0, 113.0, 1.0, 0.0, 0.0, 0.0, 0.0, 2920.0],\n",
       " [0.0, 24.0, 90.0, 0.0, 1.0, 1.0, 0.0, 0.0, 2948.0],\n",
       " [0.0, 35.0, 121.0, 1.0, 1.0, 1.0, 1.0, 0.0, 2948.0],\n",
       " [0.0, 25.0, 155.0, 0.0, 1.0, 1.0, 0.0, 0.0, 2977.0],\n",
       " [0.0, 25.0, 125.0, 1.0, 0.0, 0.0, 0.0, 0.0, 2977.0],\n",
       " [0.0, 29.0, 140.0, 0.0, 1.0, 0.0, 0.0, 0.0, 2977.0],\n",
       " [0.0, 19.0, 138.0, 0.0, 1.0, 0.0, 1.0, 0.0, 2977.0],\n",
       " [0.0, 27.0, 124.0, 0.0, 1.0, 0.0, 0.0, 0.0, 2992.0],\n",
       " [0.0, 31.0, 115.0, 0.0, 1.0, 0.0, 0.0, 0.0, 3005.0],\n",
       " [0.0, 33.0, 109.0, 0.0, 1.0, 0.0, 0.0, 0.0, 3033.0],\n",
       " [0.0, 21.0, 185.0, 1.0, 1.0, 0.0, 0.0, 0.0, 3042.0],\n",
       " [0.0, 19.0, 189.0, 0.0, 0.0, 0.0, 0.0, 0.0, 3062.0],\n",
       " [0.0, 23.0, 130.0, 1.0, 0.0, 0.0, 0.0, 0.0, 3062.0],\n",
       " [0.0, 21.0, 160.0, 0.0, 0.0, 0.0, 0.0, 0.0, 3062.0],\n",
       " [0.0, 18.0, 90.0, 0.0, 1.0, 0.0, 0.0, 1.0, 3076.0],\n",
       " [0.0, 18.0, 90.0, 0.0, 1.0, 0.0, 0.0, 1.0, 3076.0],\n",
       " [0.0, 32.0, 132.0, 0.0, 0.0, 0.0, 0.0, 0.0, 3080.0],\n",
       " [0.0, 19.0, 132.0, 1.0, 0.0, 0.0, 0.0, 0.0, 3090.0],\n",
       " [0.0, 24.0, 115.0, 0.0, 0.0, 0.0, 0.0, 0.0, 3090.0],\n",
       " [0.0, 22.0, 85.0, 1.0, 1.0, 0.0, 0.0, 0.0, 3090.0],\n",
       " [0.0, 22.0, 120.0, 0.0, 0.0, 0.0, 1.0, 0.0, 3100.0],\n",
       " [0.0, 23.0, 128.0, 1.0, 0.0, 0.0, 0.0, 0.0, 3104.0],\n",
       " [0.0, 22.0, 130.0, 0.0, 1.0, 0.0, 0.0, 0.0, 3132.0],\n",
       " [0.0, 30.0, 95.0, 0.0, 1.0, 0.0, 0.0, 0.0, 3147.0],\n",
       " [0.0, 19.0, 115.0, 1.0, 0.0, 0.0, 0.0, 0.0, 3175.0],\n",
       " [0.0, 16.0, 110.0, 1.0, 0.0, 0.0, 0.0, 0.0, 3175.0],\n",
       " [0.0, 21.0, 110.0, 1.0, 1.0, 0.0, 0.0, 1.0, 3203.0],\n",
       " [0.0, 30.0, 153.0, 1.0, 0.0, 0.0, 0.0, 0.0, 3203.0],\n",
       " [0.0, 20.0, 103.0, 1.0, 0.0, 0.0, 0.0, 0.0, 3203.0],\n",
       " [0.0, 17.0, 119.0, 1.0, 0.0, 0.0, 0.0, 0.0, 3225.0],\n",
       " [0.0, 17.0, 119.0, 1.0, 0.0, 0.0, 0.0, 0.0, 3225.0],\n",
       " [0.0, 23.0, 119.0, 1.0, 0.0, 0.0, 0.0, 0.0, 3232.0],\n",
       " [0.0, 24.0, 110.0, 1.0, 0.0, 0.0, 0.0, 0.0, 3232.0],\n",
       " [0.0, 28.0, 140.0, 0.0, 0.0, 0.0, 0.0, 0.0, 3234.0],\n",
       " [0.0, 26.0, 133.0, 1.0, 1.0, 0.0, 0.0, 0.0, 3260.0],\n",
       " [0.0, 20.0, 169.0, 1.0, 0.0, 1.0, 0.0, 1.0, 3274.0],\n",
       " [0.0, 24.0, 115.0, 1.0, 0.0, 0.0, 0.0, 0.0, 3274.0],\n",
       " [0.0, 28.0, 250.0, 1.0, 1.0, 0.0, 0.0, 0.0, 3303.0],\n",
       " [0.0, 20.0, 141.0, 0.0, 0.0, 0.0, 0.0, 1.0, 3317.0],\n",
       " [0.0, 22.0, 158.0, 1.0, 0.0, 1.0, 0.0, 0.0, 3317.0],\n",
       " [0.0, 22.0, 112.0, 0.0, 1.0, 1.0, 0.0, 0.0, 3317.0],\n",
       " [0.0, 31.0, 150.0, 1.0, 1.0, 0.0, 0.0, 0.0, 3321.0],\n",
       " [0.0, 23.0, 115.0, 1.0, 1.0, 0.0, 0.0, 0.0, 3331.0],\n",
       " [0.0, 16.0, 112.0, 1.0, 0.0, 0.0, 0.0, 0.0, 3374.0],\n",
       " [0.0, 16.0, 135.0, 0.0, 1.0, 0.0, 0.0, 0.0, 3374.0],\n",
       " [0.0, 18.0, 229.0, 1.0, 0.0, 0.0, 0.0, 0.0, 3402.0],\n",
       " [0.0, 25.0, 140.0, 0.0, 0.0, 0.0, 0.0, 0.0, 3416.0],\n",
       " [0.0, 32.0, 134.0, 0.0, 1.0, 1.0, 0.0, 0.0, 3430.0],\n",
       " [0.0, 20.0, 121.0, 1.0, 1.0, 0.0, 0.0, 0.0, 3444.0],\n",
       " [0.0, 23.0, 190.0, 0.0, 0.0, 0.0, 0.0, 0.0, 3459.0],\n",
       " [0.0, 22.0, 131.0, 0.0, 0.0, 0.0, 0.0, 0.0, 3460.0],\n",
       " [0.0, 32.0, 170.0, 0.0, 0.0, 0.0, 0.0, 0.0, 3473.0],\n",
       " [0.0, 30.0, 110.0, 1.0, 0.0, 0.0, 0.0, 0.0, 3475.0],\n",
       " [0.0, 20.0, 127.0, 1.0, 0.0, 0.0, 0.0, 0.0, 3487.0],\n",
       " [0.0, 23.0, 123.0, 1.0, 0.0, 0.0, 0.0, 0.0, 3544.0],\n",
       " [0.0, 17.0, 120.0, 1.0, 1.0, 0.0, 0.0, 0.0, 3572.0],\n",
       " [0.0, 19.0, 105.0, 1.0, 0.0, 0.0, 0.0, 0.0, 3572.0],\n",
       " [0.0, 23.0, 130.0, 0.0, 0.0, 0.0, 0.0, 0.0, 3586.0],\n",
       " [0.0, 36.0, 175.0, 0.0, 0.0, 0.0, 0.0, 0.0, 3600.0],\n",
       " [0.0, 22.0, 125.0, 0.0, 0.0, 0.0, 0.0, 0.0, 3614.0],\n",
       " [0.0, 24.0, 133.0, 0.0, 0.0, 0.0, 0.0, 0.0, 3614.0],\n",
       " [0.0, 21.0, 134.0, 1.0, 0.0, 0.0, 0.0, 0.0, 3629.0],\n",
       " [0.0, 19.0, 235.0, 0.0, 1.0, 0.0, 1.0, 0.0, 3629.0],\n",
       " [0.0, 25.0, 200.0, 0.0, 0.0, 1.0, 0.0, 1.0, 3637.0],\n",
       " [0.0, 16.0, 135.0, 0.0, 1.0, 0.0, 0.0, 0.0, 3643.0],\n",
       " [0.0, 29.0, 135.0, 0.0, 0.0, 0.0, 0.0, 0.0, 3651.0],\n",
       " [0.0, 29.0, 154.0, 0.0, 0.0, 0.0, 0.0, 0.0, 3651.0],\n",
       " [0.0, 19.0, 147.0, 0.0, 1.0, 0.0, 0.0, 0.0, 3651.0],\n",
       " [0.0, 19.0, 147.0, 0.0, 1.0, 0.0, 0.0, 0.0, 3651.0],\n",
       " [0.0, 30.0, 137.0, 0.0, 0.0, 0.0, 0.0, 0.0, 3699.0],\n",
       " [0.0, 24.0, 110.0, 0.0, 0.0, 0.0, 0.0, 0.0, 3728.0],\n",
       " [0.0, 19.0, 184.0, 0.0, 1.0, 0.0, 1.0, 0.0, 3756.0],\n",
       " [0.0, 24.0, 110.0, 0.0, 0.0, 1.0, 0.0, 0.0, 3770.0],\n",
       " [0.0, 23.0, 110.0, 0.0, 0.0, 0.0, 0.0, 0.0, 3770.0],\n",
       " [0.0, 20.0, 120.0, 1.0, 0.0, 0.0, 0.0, 0.0, 3770.0],\n",
       " [0.0, 25.0, 141.0, 0.0, 0.0, 0.0, 1.0, 0.0, 3790.0],\n",
       " [0.0, 30.0, 112.0, 0.0, 0.0, 0.0, 0.0, 0.0, 3799.0],\n",
       " [0.0, 22.0, 169.0, 0.0, 0.0, 0.0, 0.0, 0.0, 3827.0],\n",
       " [0.0, 18.0, 120.0, 0.0, 1.0, 0.0, 0.0, 0.0, 3856.0],\n",
       " [0.0, 16.0, 170.0, 1.0, 0.0, 0.0, 0.0, 0.0, 3860.0],\n",
       " [0.0, 32.0, 186.0, 0.0, 0.0, 0.0, 0.0, 0.0, 3860.0],\n",
       " [0.0, 18.0, 120.0, 1.0, 0.0, 0.0, 0.0, 0.0, 3884.0],\n",
       " [0.0, 29.0, 130.0, 0.0, 1.0, 0.0, 0.0, 0.0, 3884.0],\n",
       " [0.0, 33.0, 117.0, 0.0, 0.0, 0.0, 0.0, 1.0, 3912.0],\n",
       " [0.0, 20.0, 170.0, 0.0, 1.0, 0.0, 0.0, 0.0, 3940.0],\n",
       " [0.0, 28.0, 134.0, 1.0, 0.0, 0.0, 0.0, 0.0, 3941.0],\n",
       " [0.0, 14.0, 135.0, 0.0, 0.0, 1.0, 0.0, 0.0, 3941.0],\n",
       " [0.0, 28.0, 130.0, 1.0, 0.0, 0.0, 0.0, 0.0, 3969.0],\n",
       " [0.0, 25.0, 120.0, 0.0, 0.0, 0.0, 0.0, 0.0, 3983.0],\n",
       " [0.0, 16.0, 135.0, 1.0, 0.0, 0.0, 0.0, 0.0, 3997.0],\n",
       " [0.0, 20.0, 158.0, 0.0, 0.0, 0.0, 0.0, 0.0, 3997.0],\n",
       " [0.0, 26.0, 160.0, 0.0, 0.0, 0.0, 0.0, 0.0, 4054.0],\n",
       " [0.0, 21.0, 115.0, 0.0, 0.0, 0.0, 0.0, 0.0, 4054.0],\n",
       " [0.0, 22.0, 129.0, 0.0, 0.0, 0.0, 0.0, 0.0, 4111.0],\n",
       " [0.0, 25.0, 130.0, 0.0, 0.0, 0.0, 0.0, 0.0, 4153.0],\n",
       " [0.0, 31.0, 120.0, 0.0, 0.0, 0.0, 0.0, 0.0, 4167.0],\n",
       " [0.0, 35.0, 170.0, 0.0, 0.0, 1.0, 0.0, 0.0, 4174.0],\n",
       " [0.0, 19.0, 120.0, 0.0, 1.0, 0.0, 1.0, 0.0, 4238.0],\n",
       " [0.0, 24.0, 216.0, 0.0, 0.0, 0.0, 0.0, 0.0, 4593.0],\n",
       " [0.0, 45.0, 123.0, 0.0, 0.0, 1.0, 0.0, 0.0, 4990.0]]"
      ]
     },
     "execution_count": 10,
     "metadata": {},
     "output_type": "execute_result"
    }
   ],
   "source": [
    "birth_data"
   ]
  },
  {
   "cell_type": "code",
   "execution_count": 11,
   "metadata": {},
   "outputs": [
    {
     "data": {
      "text/plain": [
       "[1.0, 28.0, 113.0, 1.0, 1.0, 1.0, 0.0, 1.0, 709.0]"
      ]
     },
     "execution_count": 11,
     "metadata": {},
     "output_type": "execute_result"
    }
   ],
   "source": [
    "birth_data[0]"
   ]
  },
  {
   "cell_type": "markdown",
   "metadata": {},
   "source": [
    "# Boston Houses\n",
    "The Boston data frame has 506 rows and 14 columns. This data frame contains the following columns:\n",
    "\n",
    "- crim: per capita crime rate by town.\n",
    "- zn: proportion of residential land zoned for lots over 25,000 sq.ft.\n",
    "- indus: proportion of non-retail business acres per town.\n",
    "- chas: Charles River dummy variable (= 1 if tract bounds river; 0 otherwise).\n",
    "- nox: nitrogen oxides concentration (parts per 10 million).\n",
    "- rm: average number of rooms per dwelling.\n",
    "- age: proportion of owner-occupied units built prior to 1940.\n",
    "- dis: weighted mean of distances to five Boston employment centres.\n",
    "- rad: index of accessibility to radial highways.\n",
    "- tax: full-value property-tax rate per 10,000USD.\n",
    "- ptratio: pupil-teacher ratio by town.\n",
    "- black: $1000(B_k - 0.63)^2$ where $B_k$ is the proportion of blacks by town.\n",
    "- lstat: lower status of the population (percent).\n",
    "- medv: median value of owner-occupied homes in 1000s USD."
   ]
  },
  {
   "cell_type": "code",
   "execution_count": 3,
   "metadata": {},
   "outputs": [],
   "source": [
    "from keras.datasets import boston_housing"
   ]
  },
  {
   "cell_type": "code",
   "execution_count": 4,
   "metadata": {},
   "outputs": [
    {
     "name": "stdout",
     "output_type": "stream",
     "text": [
      "Downloading data from https://s3.amazonaws.com/keras-datasets/boston_housing.npz\n",
      "57344/57026 [==============================] - 0s 7us/step\n"
     ]
    }
   ],
   "source": [
    "(x_train, y_train), (x_test, y_test) = boston_housing.load_data()"
   ]
  },
  {
   "cell_type": "code",
   "execution_count": 5,
   "metadata": {},
   "outputs": [
    {
     "data": {
      "text/plain": [
       "(404, 13)"
      ]
     },
     "execution_count": 5,
     "metadata": {},
     "output_type": "execute_result"
    }
   ],
   "source": [
    "x_train.shape"
   ]
  },
  {
   "cell_type": "code",
   "execution_count": 6,
   "metadata": {},
   "outputs": [
    {
     "data": {
      "text/plain": [
       "(404,)"
      ]
     },
     "execution_count": 6,
     "metadata": {},
     "output_type": "execute_result"
    }
   ],
   "source": [
    "y_train.shape"
   ]
  },
  {
   "cell_type": "code",
   "execution_count": 7,
   "metadata": {},
   "outputs": [
    {
     "data": {
      "text/plain": [
       "(102, 13)"
      ]
     },
     "execution_count": 7,
     "metadata": {},
     "output_type": "execute_result"
    }
   ],
   "source": [
    "x_test.shape"
   ]
  },
  {
   "cell_type": "code",
   "execution_count": 8,
   "metadata": {},
   "outputs": [
    {
     "data": {
      "text/plain": [
       "array([  1.23247,   0.     ,   8.14   ,   0.     ,   0.538  ,   6.142  ,\n",
       "        91.7    ,   3.9769 ,   4.     , 307.     ,  21.     , 396.9    ,\n",
       "        18.72   ])"
      ]
     },
     "execution_count": 8,
     "metadata": {},
     "output_type": "execute_result"
    }
   ],
   "source": [
    "x_train[0]"
   ]
  },
  {
   "cell_type": "code",
   "execution_count": 10,
   "metadata": {},
   "outputs": [],
   "source": [
    "housing_header = ['CRIM', 'ZN', 'INDUS', 'CHAS', 'NOX', 'RM', 'AGE', 'DIS', 'RAD', 'TAX', 'PTRATIO', 'BLACK', 'LSTAT', 'MEDV' ]"
   ]
  },
  {
   "cell_type": "markdown",
   "metadata": {},
   "source": [
    "# MNIST Dataset"
   ]
  },
  {
   "cell_type": "code",
   "execution_count": 12,
   "metadata": {},
   "outputs": [],
   "source": [
    "from tensorflow.examples.tutorials.mnist import input_data"
   ]
  },
  {
   "cell_type": "code",
   "execution_count": 17,
   "metadata": {},
   "outputs": [
    {
     "name": "stdout",
     "output_type": "stream",
     "text": [
      "Successfully downloaded train-images-idx3-ubyte.gz 9912422 bytes.\n",
      "Extracting ../../Datasets/MNIST_data/train-images-idx3-ubyte.gz\n",
      "Successfully downloaded train-labels-idx1-ubyte.gz 28881 bytes.\n",
      "Extracting ../../Datasets/MNIST_data/train-labels-idx1-ubyte.gz\n",
      "Successfully downloaded t10k-images-idx3-ubyte.gz 1648877 bytes.\n",
      "Extracting ../../Datasets/MNIST_data/t10k-images-idx3-ubyte.gz\n",
      "Successfully downloaded t10k-labels-idx1-ubyte.gz 4542 bytes.\n",
      "Extracting ../../Datasets/MNIST_data/t10k-labels-idx1-ubyte.gz\n"
     ]
    }
   ],
   "source": [
    "mnist = input_data.read_data_sets('../../Datasets/MNIST_data/', one_hot= True)"
   ]
  },
  {
   "cell_type": "code",
   "execution_count": 16,
   "metadata": {},
   "outputs": [
    {
     "data": {
      "text/plain": [
       "55000"
      ]
     },
     "execution_count": 16,
     "metadata": {},
     "output_type": "execute_result"
    }
   ],
   "source": [
    "len(mnist.train.images)"
   ]
  },
  {
   "cell_type": "code",
   "execution_count": 19,
   "metadata": {},
   "outputs": [
    {
     "data": {
      "text/plain": [
       "10000"
      ]
     },
     "execution_count": 19,
     "metadata": {},
     "output_type": "execute_result"
    }
   ],
   "source": [
    "len(mnist.test.images)"
   ]
  },
  {
   "cell_type": "code",
   "execution_count": 20,
   "metadata": {},
   "outputs": [
    {
     "data": {
      "text/plain": [
       "5000"
      ]
     },
     "execution_count": 20,
     "metadata": {},
     "output_type": "execute_result"
    }
   ],
   "source": [
    "len(mnist.validation.images)"
   ]
  },
  {
   "cell_type": "code",
   "execution_count": 26,
   "metadata": {},
   "outputs": [
    {
     "data": {
      "text/plain": [
       "array([0., 0., 0., 0., 0., 0., 0., 0., 0., 1.])"
      ]
     },
     "execution_count": 26,
     "metadata": {},
     "output_type": "execute_result"
    }
   ],
   "source": [
    "mnist.train.labels[8,:]"
   ]
  },
  {
   "cell_type": "code",
   "execution_count": 27,
   "metadata": {},
   "outputs": [
    {
     "data": {
      "text/plain": [
       "<matplotlib.image.AxesImage at 0x7fcbd4ac7410>"
      ]
     },
     "execution_count": 27,
     "metadata": {},
     "output_type": "execute_result"
    },
    {
     "data": {
      "image/png": "[encoded data removed]",
      "text/plain": [
       "<Figure size 432x288 with 1 Axes>"
      ]
     },
     "metadata": {
      "needs_background": "light"
     },
     "output_type": "display_data"
    }
   ],
   "source": [
    "import matplotlib.pyplot as plt\n",
    "plt.imshow(mnist.train.images[8].reshape([28,28]))"
   ]
  },
  {
   "cell_type": "markdown",
   "metadata": {},
   "source": [
    "# Spam Hat Text Data"
   ]
  },
  {
   "cell_type": "code",
   "execution_count": 28,
   "metadata": {},
   "outputs": [],
   "source": [
    "import requests\n",
    "import io\n",
    "from zipfile import ZipFile"
   ]
  },
  {
   "cell_type": "code",
   "execution_count": 29,
   "metadata": {},
   "outputs": [],
   "source": [
    "url = 'https://archive.ics.uci.edu/ml/machine-learning-databases/00228/smsspamcollection.zip'\n",
    "req = requests.get(url)"
   ]
  },
  {
   "cell_type": "code",
   "execution_count": 30,
   "metadata": {},
   "outputs": [],
   "source": [
    "z = ZipFile(io.BytesIO(req.content))"
   ]
  },
  {
   "cell_type": "code",
   "execution_count": 31,
   "metadata": {},
   "outputs": [],
   "source": [
    "file = z.read('SMSSpamCollection')"
   ]
  },
  {
   "cell_type": "code",
   "execution_count": 32,
   "metadata": {},
   "outputs": [],
   "source": [
    "text_data = file.decode()"
   ]
  },
  {
   "cell_type": "code",
   "execution_count": 34,
   "metadata": {},
   "outputs": [],
   "source": [
    "text_data = text_data.encode('ascii', errors = 'ignore')"
   ]
  },
  {
   "cell_type": "code",
   "execution_count": 36,
   "metadata": {},
   "outputs": [],
   "source": [
    "text_data = text_data.decode().split('\\n')"
   ]
  },
  {
   "cell_type": "code",
   "execution_count": 38,
   "metadata": {},
   "outputs": [],
   "source": [
    "text_data = [x.split('\\t') for x in text_data if len(x)>= 1]"
   ]
  },
  {
   "cell_type": "code",
   "execution_count": 40,
   "metadata": {},
   "outputs": [],
   "source": [
    "[text_data_target, text_data_train] = [list(x) for x in zip(*text_data)]"
   ]
  },
  {
   "cell_type": "code",
   "execution_count": 41,
   "metadata": {},
   "outputs": [
    {
     "data": {
      "text/plain": [
       "5574"
      ]
     },
     "execution_count": 41,
     "metadata": {},
     "output_type": "execute_result"
    }
   ],
   "source": [
    "len(text_data_train)"
   ]
  },
  {
   "cell_type": "code",
   "execution_count": 42,
   "metadata": {},
   "outputs": [
    {
     "data": {
      "text/plain": [
       "'Go until jurong point, crazy.. Available only in bugis n great world la e buffet... Cine there got amore wat...'"
      ]
     },
     "execution_count": 42,
     "metadata": {},
     "output_type": "execute_result"
    }
   ],
   "source": [
    "text_data_train[0]"
   ]
  },
  {
   "cell_type": "code",
   "execution_count": 43,
   "metadata": {},
   "outputs": [
    {
     "data": {
      "text/plain": [
       "{'ham', 'spam'}"
      ]
     },
     "execution_count": 43,
     "metadata": {},
     "output_type": "execute_result"
    }
   ],
   "source": [
    "set(text_data_target)"
   ]
  },
  {
   "cell_type": "markdown",
   "metadata": {},
   "source": [
    "# Movie Reviews "
   ]
  },
  {
   "cell_type": "code",
   "execution_count": 44,
   "metadata": {},
   "outputs": [],
   "source": [
    "import requests\n",
    "import io\n",
    "import tarfile"
   ]
  },
  {
   "cell_type": "code",
   "execution_count": 45,
   "metadata": {},
   "outputs": [],
   "source": [
    "url = 'https://www.cs.cornell.edu/people/pabo/movie-review-data/rt-polaritydata.tar.gz'\n",
    "req = requests.get(url)"
   ]
  },
  {
   "cell_type": "code",
   "execution_count": 54,
   "metadata": {},
   "outputs": [],
   "source": [
    "stream_data = io.BytesIO(req.content)"
   ]
  },
  {
   "cell_type": "code",
   "execution_count": 55,
   "metadata": {},
   "outputs": [],
   "source": [
    "tmp = io.BytesIO()"
   ]
  },
  {
   "cell_type": "code",
   "execution_count": 56,
   "metadata": {},
   "outputs": [],
   "source": [
    "while True:\n",
    "    s = stream_data.read(16384)\n",
    "    if not s:\n",
    "        break\n",
    "    tmp.write(s)\n",
    "stream_data.close()"
   ]
  },
  {
   "cell_type": "code",
   "execution_count": 57,
   "metadata": {},
   "outputs": [
    {
     "data": {
      "text/plain": [
       "0"
      ]
     },
     "execution_count": 57,
     "metadata": {},
     "output_type": "execute_result"
    }
   ],
   "source": [
    "tmp.seek(0)"
   ]
  },
  {
   "cell_type": "code",
   "execution_count": 59,
   "metadata": {},
   "outputs": [],
   "source": [
    "tar_file = tarfile.open(fileobj = tmp, mode = 'r:gz')"
   ]
  },
  {
   "cell_type": "code",
   "execution_count": 61,
   "metadata": {},
   "outputs": [],
   "source": [
    "pos = tar_file.extractfile('rt-polaritydata/rt-polarity.pos')\n",
    "neg = tar_file.extractfile('rt-polaritydata/rt-polarity.neg')"
   ]
  },
  {
   "cell_type": "code",
   "execution_count": 62,
   "metadata": {},
   "outputs": [],
   "source": [
    "pos_data = []\n",
    "for line in pos:\n",
    "    pos_data.append(line.decode('ISO-8859-1').encode('ascii', errors = 'ignore').decode())"
   ]
  },
  {
   "cell_type": "code",
   "execution_count": 63,
   "metadata": {},
   "outputs": [
    {
     "data": {
      "text/plain": [
       "5331"
      ]
     },
     "execution_count": 63,
     "metadata": {},
     "output_type": "execute_result"
    }
   ],
   "source": [
    "len(pos_data)"
   ]
  },
  {
   "cell_type": "code",
   "execution_count": 67,
   "metadata": {},
   "outputs": [
    {
     "data": {
      "text/plain": [
       "'the rock is destined to be the 21st century\\'s new \" conan \" and that he\\'s going to make a splash even greater than arnold schwarzenegger , jean-claud van damme or steven segal . \\n'"
      ]
     },
     "execution_count": 67,
     "metadata": {},
     "output_type": "execute_result"
    }
   ],
   "source": [
    "pos_data[0]"
   ]
  },
  {
   "cell_type": "code",
   "execution_count": 65,
   "metadata": {},
   "outputs": [],
   "source": [
    "neg_data = []\n",
    "for line in neg:\n",
    "    neg_data.append(line.decode('ISO-8859-1').encode('ascii', errors = 'ignore').decode())"
   ]
  },
  {
   "cell_type": "code",
   "execution_count": 66,
   "metadata": {},
   "outputs": [
    {
     "data": {
      "text/plain": [
       "'simplistic , silly and tedious . \\n'"
      ]
     },
     "execution_count": 66,
     "metadata": {},
     "output_type": "execute_result"
    }
   ],
   "source": [
    "neg_data[0]"
   ]
  },
  {
   "cell_type": "markdown",
   "metadata": {},
   "source": [
    "# CIFAR-10"
   ]
  },
  {
   "cell_type": "markdown",
   "metadata": {},
   "source": [
    "# Shakspeare in text"
   ]
  },
  {
   "cell_type": "code",
   "execution_count": 68,
   "metadata": {},
   "outputs": [],
   "source": [
    "import requests\n",
    "url = 'http://www.gutenberg.org/cache/epub/100/pg100.txt'\n"
   ]
  },
  {
   "cell_type": "code",
   "execution_count": 69,
   "metadata": {},
   "outputs": [],
   "source": [
    "req = requests.get(url)\n",
    "shak_file = req.content"
   ]
  },
  {
   "cell_type": "code",
   "execution_count": 72,
   "metadata": {},
   "outputs": [],
   "source": [
    "shak_text = shak_file.decode('utf-8')"
   ]
  },
  {
   "cell_type": "code",
   "execution_count": 76,
   "metadata": {},
   "outputs": [],
   "source": [
    "shak_text = shak_text[7675:]     #Disclaimer elimination"
   ]
  },
  {
   "cell_type": "markdown",
   "metadata": {},
   "source": [
    "# Idiom Translate"
   ]
  },
  {
   "cell_type": "code",
   "execution_count": 77,
   "metadata": {},
   "outputs": [],
   "source": [
    "import requests\n",
    "import io\n",
    "from zipfile import ZipFile"
   ]
  },
  {
   "cell_type": "code",
   "execution_count": 95,
   "metadata": {},
   "outputs": [],
   "source": [
    "with ZipFile('../../Datasets/spa-eng.zip') as zipObj:\n",
    "    zipObj.extractall('../../Datasets')\n",
    "file = open('../../Datasets/spa.txt').read()"
   ]
  },
  {
   "cell_type": "code",
   "execution_count": 109,
   "metadata": {},
   "outputs": [],
   "source": [
    "data_file = file\n",
    "data_file = data_file.encode('utf-8', errors = 'ignore')\n",
    "data_file = data_file.decode().split('\\n')"
   ]
  },
  {
   "cell_type": "code",
   "execution_count": 110,
   "metadata": {},
   "outputs": [],
   "source": [
    "data = [x.split('\\t') for x in data_file if len(x)>= 1]"
   ]
  },
  {
   "cell_type": "code",
   "execution_count": 111,
   "metadata": {},
   "outputs": [],
   "source": [
    "[eng_data, spa_data, CC_BY] = [list(x) for x in zip(*data)]"
   ]
  },
  {
   "cell_type": "code",
   "execution_count": 112,
   "metadata": {},
   "outputs": [
    {
     "data": {
      "text/plain": [
       "128084"
      ]
     },
     "execution_count": 112,
     "metadata": {},
     "output_type": "execute_result"
    }
   ],
   "source": [
    "len(spa_data)"
   ]
  },
  {
   "cell_type": "code",
   "execution_count": 113,
   "metadata": {},
   "outputs": [
    {
     "data": {
      "text/plain": [
       "'I am taller.'"
      ]
     },
     "execution_count": 113,
     "metadata": {},
     "output_type": "execute_result"
    }
   ],
   "source": [
    "eng_data[1995]"
   ]
  },
  {
   "cell_type": "code",
   "execution_count": 115,
   "metadata": {},
   "outputs": [
    {
     "data": {
      "text/plain": [
       "'Yo soy más alto.'"
      ]
     },
     "execution_count": 115,
     "metadata": {},
     "output_type": "execute_result"
    }
   ],
   "source": [
    "spa_data[1995]"
   ]
  }
 ],
 "metadata": {
  "kernelspec": {
   "display_name": "Python 3",
   "language": "python",
   "name": "python3"
  },
  "language_info": {
   "codemirror_mode": {
    "name": "ipython",
    "version": 3
   },
   "file_extension": ".py",
   "mimetype": "text/x-python",
   "name": "python",
   "nbconvert_exporter": "python",
   "pygments_lexer": "ipython3",
   "version": "3.7.6"
  }
 },
 "nbformat": 4,
 "nbformat_minor": 4
}
