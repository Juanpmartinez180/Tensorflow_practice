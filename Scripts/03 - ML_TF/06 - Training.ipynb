{
 "cells": [
  {
   "cell_type": "markdown",
   "metadata": {},
   "source": [
    "# Estocastic and batch training\n",
    "- Estocasting training only use 1 x and y value to train\n",
    "- Batch training use a whole set of values to traing and then calculate the avg loss value"
   ]
  },
  {
   "cell_type": "code",
   "execution_count": 1,
   "metadata": {},
   "outputs": [],
   "source": [
    "import numpy as np\n",
    "import matplotlib.pyplot as plt\n",
    "import tensorflow as tf\n",
    "session = tf.Session()"
   ]
  },
  {
   "cell_type": "code",
   "execution_count": 12,
   "metadata": {},
   "outputs": [],
   "source": [
    "batch_size = 25"
   ]
  },
  {
   "cell_type": "code",
   "execution_count": 27,
   "metadata": {},
   "outputs": [],
   "source": [
    "x_vals = np.random.normal(1.0, 0.1, 200)\n",
    "y_vals = np.repeat(10.0, 200)"
   ]
  },
  {
   "cell_type": "code",
   "execution_count": 45,
   "metadata": {},
   "outputs": [],
   "source": [
    "x_data = tf.placeholder(shape = [None, 1], dtype = tf.float32)\n",
    "y_target = tf.placeholder(shape = [None, 1], dtype = tf.float32)\n",
    "A = tf.Variable(tf.random_normal(shape=[1,1]))"
   ]
  },
  {
   "cell_type": "code",
   "execution_count": 46,
   "metadata": {},
   "outputs": [],
   "source": [
    "my_prediction = tf.matmul(x_data, A)"
   ]
  },
  {
   "cell_type": "code",
   "execution_count": 47,
   "metadata": {},
   "outputs": [],
   "source": [
    "loss = tf.reduce_mean(tf.square(my_prediction-y_target))"
   ]
  },
  {
   "cell_type": "code",
   "execution_count": 54,
   "metadata": {},
   "outputs": [],
   "source": [
    "my_optimizer = tf.train.GradientDescentOptimizer(learning_rate = 0.025)\n",
    "train_step = my_optimizer.minimize(loss)"
   ]
  },
  {
   "cell_type": "code",
   "execution_count": 55,
   "metadata": {},
   "outputs": [],
   "source": [
    "init = tf.global_variables_initializer()"
   ]
  },
  {
   "cell_type": "code",
   "execution_count": 56,
   "metadata": {},
   "outputs": [],
   "source": [
    "session.run(init)"
   ]
  },
  {
   "cell_type": "code",
   "execution_count": 57,
   "metadata": {},
   "outputs": [
    {
     "name": "stdout",
     "output_type": "stream",
     "text": [
      "Step #5 A=[[0.90794456]]\n",
      "Loss: 81.94797\n",
      "Step #10 A=[[2.970751]]\n",
      "Loss: 49.319023\n",
      "Step #15 A=[[4.5638695]]\n",
      "Loss: 28.583061\n",
      "Step #20 A=[[5.786809]]\n",
      "Loss: 18.255165\n",
      "Step #25 A=[[6.724918]]\n",
      "Loss: 9.988398\n",
      "Step #30 A=[[7.4496427]]\n",
      "Loss: 7.254785\n",
      "Step #35 A=[[8.00907]]\n",
      "Loss: 4.1743727\n",
      "Step #40 A=[[8.447084]]\n",
      "Loss: 2.338336\n",
      "Step #45 A=[[8.782418]]\n",
      "Loss: 2.2881947\n",
      "Step #50 A=[[9.048445]]\n",
      "Loss: 1.7330033\n",
      "Step #55 A=[[9.260737]]\n",
      "Loss: 1.0730618\n",
      "Step #60 A=[[9.410434]]\n",
      "Loss: 1.4479009\n",
      "Step #65 A=[[9.514812]]\n",
      "Loss: 1.1124108\n",
      "Step #70 A=[[9.617455]]\n",
      "Loss: 0.73345435\n",
      "Step #75 A=[[9.71294]]\n",
      "Loss: 1.3599238\n",
      "Step #80 A=[[9.773152]]\n",
      "Loss: 1.2620502\n",
      "Step #85 A=[[9.785581]]\n",
      "Loss: 0.8831496\n",
      "Step #90 A=[[9.810827]]\n",
      "Loss: 0.6769879\n",
      "Step #95 A=[[9.814248]]\n",
      "Loss: 0.8485192\n",
      "Step #100 A=[[9.807642]]\n",
      "Loss: 1.1353958\n",
      "Step #105 A=[[9.823105]]\n",
      "Loss: 1.3262204\n",
      "Step #110 A=[[9.842052]]\n",
      "Loss: 0.6584841\n",
      "Step #115 A=[[9.856147]]\n",
      "Loss: 0.6530171\n",
      "Step #120 A=[[9.838078]]\n",
      "Loss: 0.8358647\n",
      "Step #125 A=[[9.850542]]\n",
      "Loss: 1.2296692\n",
      "Step #130 A=[[9.833128]]\n",
      "Loss: 1.3044173\n",
      "Step #135 A=[[9.83302]]\n",
      "Loss: 1.2068341\n",
      "Step #140 A=[[9.833891]]\n",
      "Loss: 0.5355327\n",
      "Step #145 A=[[9.838932]]\n",
      "Loss: 0.90414757\n",
      "Step #150 A=[[9.856537]]\n",
      "Loss: 0.74078894\n",
      "Step #155 A=[[9.867273]]\n",
      "Loss: 0.8700806\n",
      "Step #160 A=[[9.862778]]\n",
      "Loss: 0.8793722\n",
      "Step #165 A=[[9.844629]]\n",
      "Loss: 1.6130236\n",
      "Step #170 A=[[9.853608]]\n",
      "Loss: 0.6956021\n",
      "Step #175 A=[[9.875124]]\n",
      "Loss: 0.91567534\n",
      "Step #180 A=[[9.87071]]\n",
      "Loss: 0.71626246\n",
      "Step #185 A=[[9.8759]]\n",
      "Loss: 0.67956424\n",
      "Step #190 A=[[9.867408]]\n",
      "Loss: 0.58991396\n",
      "Step #195 A=[[9.87622]]\n",
      "Loss: 0.9605829\n",
      "Step #200 A=[[9.866258]]\n",
      "Loss: 0.8449178\n"
     ]
    }
   ],
   "source": [
    "loss_batch = []\n",
    "for i in range(200):\n",
    "    rand_index = np.random.choice(200, size = batch_size)\n",
    "    rand_x = np.transpose([x_vals[rand_index]])\n",
    "    rand_y = np.transpose([y_vals[rand_index]])\n",
    "    session.run(train_step, feed_dict={x_data: rand_x, y_target: rand_y})\n",
    "    if (i+1)%5==0:\n",
    "        print('Step #'+str(i+1)+' A='+str(session.run(A)))\n",
    "        temp_loss = session.run(loss, feed_dict={x_data: rand_x, y_target: rand_y})\n",
    "        print('Loss: '+str(temp_loss))\n",
    "        loss_batch.append(temp_loss)"
   ]
  },
  {
   "cell_type": "code",
   "execution_count": 51,
   "metadata": {},
   "outputs": [
    {
     "name": "stdout",
     "output_type": "stream",
     "text": [
      "Step #5 A=[[1.5805705]]\n",
      "Loss: 69.35426\n",
      "Step #10 A=[[3.511569]]\n",
      "Loss: 40.584328\n",
      "Step #15 A=[[4.9816093]]\n",
      "Loss: 27.666304\n",
      "Step #20 A=[[6.116386]]\n",
      "Loss: 17.790562\n",
      "Step #25 A=[[6.978629]]\n",
      "Loss: 8.676601\n",
      "Step #30 A=[[7.609081]]\n",
      "Loss: 1.9906714\n",
      "Step #35 A=[[8.168152]]\n",
      "Loss: 4.337432\n",
      "Step #40 A=[[8.489441]]\n",
      "Loss: 4.858144\n",
      "Step #45 A=[[8.909059]]\n",
      "Loss: 2.3735125\n",
      "Step #50 A=[[9.146608]]\n",
      "Loss: 0.28935486\n",
      "Step #55 A=[[9.243301]]\n",
      "Loss: 0.77218115\n",
      "Step #60 A=[[9.419549]]\n",
      "Loss: 3.0904613\n",
      "Step #65 A=[[9.404886]]\n",
      "Loss: 0.7700172\n",
      "Step #70 A=[[9.395369]]\n",
      "Loss: 0.03525789\n",
      "Step #75 A=[[9.472127]]\n",
      "Loss: 0.156717\n",
      "Step #80 A=[[9.623859]]\n",
      "Loss: 0.32533467\n",
      "Step #85 A=[[9.661588]]\n",
      "Loss: 0.19930078\n",
      "Step #90 A=[[9.664193]]\n",
      "Loss: 1.7607408\n",
      "Step #95 A=[[9.484711]]\n",
      "Loss: 0.3915148\n",
      "Step #100 A=[[9.575067]]\n",
      "Loss: 1.6674182\n",
      "Step #105 A=[[9.534206]]\n",
      "Loss: 1.4911175\n",
      "Step #110 A=[[9.679653]]\n",
      "Loss: 0.29998356\n",
      "Step #115 A=[[9.788128]]\n",
      "Loss: 0.5466995\n",
      "Step #120 A=[[9.787767]]\n",
      "Loss: 0.08708808\n",
      "Step #125 A=[[9.799367]]\n",
      "Loss: 0.048814744\n",
      "Step #130 A=[[9.859622]]\n",
      "Loss: 2.1085827\n",
      "Step #135 A=[[9.872203]]\n",
      "Loss: 2.8579395\n",
      "Step #140 A=[[9.943389]]\n",
      "Loss: 1.6594775\n",
      "Step #145 A=[[9.714238]]\n",
      "Loss: 0.41420683\n",
      "Step #150 A=[[9.7046585]]\n",
      "Loss: 0.57222193\n",
      "Step #155 A=[[9.553253]]\n",
      "Loss: 0.014302862\n",
      "Step #160 A=[[9.593599]]\n",
      "Loss: 0.17685056\n",
      "Step #165 A=[[9.802873]]\n",
      "Loss: 0.38446963\n",
      "Step #170 A=[[9.80123]]\n",
      "Loss: 0.53177214\n",
      "Step #175 A=[[9.769105]]\n",
      "Loss: 1.0588416\n",
      "Step #180 A=[[10.02572]]\n",
      "Loss: 1.7966306\n",
      "Step #185 A=[[10.078091]]\n",
      "Loss: 0.0166552\n",
      "Step #190 A=[[9.984398]]\n",
      "Loss: 0.691053\n",
      "Step #195 A=[[10.02237]]\n",
      "Loss: 0.6743685\n",
      "Step #200 A=[[9.941398]]\n",
      "Loss: 1.9971812\n"
     ]
    }
   ],
   "source": [
    "loss_stochastic = []\n",
    "for i in range(200):\n",
    "    rand_index = np.random.choice(200, size = 1)\n",
    "    rand_x = np.transpose([x_vals[rand_index]])\n",
    "    rand_y = np.transpose([y_vals[rand_index]])\n",
    "    session.run(train_step, feed_dict={x_data: rand_x, y_target: rand_y})\n",
    "    if (i+1)%5==0:\n",
    "        print('Step #'+str(i+1)+' A='+str(session.run(A)))\n",
    "        temp_loss = session.run(loss, feed_dict={x_data: rand_x, y_target: rand_y})\n",
    "        print('Loss: '+str(temp_loss))\n",
    "        loss_stochastic.append(temp_loss)"
   ]
  },
  {
   "cell_type": "code",
   "execution_count": 58,
   "metadata": {},
   "outputs": [
    {
     "data": {
      "image/png": "[encoded data removed]",
      "text/plain": [
       "<Figure size 432x288 with 1 Axes>"
      ]
     },
     "metadata": {
      "needs_background": "light"
     },
     "output_type": "display_data"
    }
   ],
   "source": [
    "plt.plot(range(0,200,5), loss_stochastic, 'b-', label = 'Stochastic training')\n",
    "plt.plot(range(0,200,5), loss_batch, 'r--', label = 'Batch training (size=25)')\n",
    "plt.legend(loc='upper right', prop={'size' : 10})\n",
    "plt.show()"
   ]
  },
  {
   "cell_type": "markdown",
   "metadata": {},
   "source": [
    "## Conclutions\n",
    "\n",
    "### - Batch training\n",
    "- Batch training it's a faster-convergence algorithm. It takes less iterations compared to Stochastic type.\n",
    "- It uses a lots of computational resources\n",
    "- The curve is smoother\n",
    "### - Stochastic training\n",
    "- When the iteration number is high, the loss value is not smooth, tends to generate spikes\n",
    "- Fits for problems were the global minimum is hard to find. Then the random process allow to converge to it.\n",
    "\n"
   ]
  }
 ],
 "metadata": {
  "kernelspec": {
   "display_name": "Python 3",
   "language": "python",
   "name": "python3"
  },
  "language_info": {
   "codemirror_mode": {
    "name": "ipython",
    "version": 3
   },
   "file_extension": ".py",
   "mimetype": "text/x-python",
   "name": "python",
   "nbconvert_exporter": "python",
   "pygments_lexer": "ipython3",
   "version": "3.7.6"
  }
 },
 "nbformat": 4,
 "nbformat_minor": 4
}
