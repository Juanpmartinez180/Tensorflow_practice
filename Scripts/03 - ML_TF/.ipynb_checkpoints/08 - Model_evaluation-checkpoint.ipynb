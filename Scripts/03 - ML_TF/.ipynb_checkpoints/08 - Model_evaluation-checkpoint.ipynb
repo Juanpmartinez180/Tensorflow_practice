{
 "cells": [
  {
   "cell_type": "markdown",
   "metadata": {},
   "source": [
    "# Model evaluation\n"
   ]
  },
  {
   "cell_type": "code",
   "execution_count": 1,
   "metadata": {},
   "outputs": [],
   "source": [
    "import tensorflow as tf\n",
    "import numpy as np\n",
    "import matplotlib.pyplot as plt\n",
    "session = tf.Session()"
   ]
  },
  {
   "cell_type": "markdown",
   "metadata": {},
   "source": [
    "## Regression model"
   ]
  },
  {
   "cell_type": "code",
   "execution_count": 2,
   "metadata": {},
   "outputs": [],
   "source": [
    "x_vals = np.random.normal(1.0,0.1, 200)\n",
    "y_vals = np.repeat(10.0, 200)\n",
    "\n",
    "x_data = tf.placeholder(shape = [None, 1], dtype = tf.float32)\n",
    "y_target = tf.placeholder(shape = [None, 1], dtype = tf.float32)\n",
    "\n",
    "batch_size = 25"
   ]
  },
  {
   "cell_type": "code",
   "execution_count": 9,
   "metadata": {},
   "outputs": [],
   "source": [
    "#Create train set index. From the lenght of the dataset i pic only 80% data. Don't repeat values\n",
    "train_idx = np.random.choice(len(x_vals), size = round(len(x_vals)*0.8), replace = False) \n",
    "#Test set index. \n",
    "test_idx = np.array(list(set(range(len(x_vals)))-set(train_idx)))"
   ]
  },
  {
   "cell_type": "code",
   "execution_count": 10,
   "metadata": {},
   "outputs": [],
   "source": [
    "x_vals_train = x_vals[train_idx]\n",
    "x_vals_test = x_vals[test_idx]\n",
    "y_vals_train = y_vals[train_idx]\n",
    "y_vals_test = y_vals[test_idx]\n",
    "A = tf.Variable(tf.random_normal(shape = [1,1]))"
   ]
  },
  {
   "cell_type": "code",
   "execution_count": 11,
   "metadata": {},
   "outputs": [],
   "source": [
    "# Prediction model .. M = data*A\n",
    "my_prediction = tf.matmul(x_data, A)\n",
    "#Loss function \n",
    "loss = tf.reduce_mean(tf.square(my_prediction - y_target))\n",
    "#Gradient descent optimizer method\n",
    "my_optim = tf.train.GradientDescentOptimizer(learning_rate = 0.02)\n",
    "#Define train step minimizing the gradient using the defined loss function\n",
    "train_step = my_optim.minimize(loss)\n",
    "#Variables init.\n",
    "init = tf.global_variables_initializer()\n",
    "session.run(init)"
   ]
  },
  {
   "cell_type": "code",
   "execution_count": 13,
   "metadata": {},
   "outputs": [
    {
     "name": "stdout",
     "output_type": "stream",
     "text": [
      "Step #20 A=[[7.6181536]] Loss=5.983196\n",
      "Step #40 A=[[8.848383]] Loss=1.427578\n",
      "Step #60 A=[[9.408991]] Loss=1.3580393\n",
      "Step #80 A=[[9.607816]] Loss=1.2397038\n",
      "Step #100 A=[[9.698962]] Loss=1.0716151\n",
      "Step #120 A=[[9.7369]] Loss=1.2342963\n",
      "Step #140 A=[[9.75123]] Loss=1.0463711\n",
      "Step #160 A=[[9.731731]] Loss=0.6515716\n",
      "Step #180 A=[[9.713713]] Loss=0.8685186\n",
      "Step #200 A=[[9.780152]] Loss=0.8159008\n"
     ]
    }
   ],
   "source": [
    "for i in range(200):\n",
    "    rand_idx = np.random.choice(len(x_vals_train), size = batch_size)\n",
    "    rand_x = np.transpose([x_vals_train[rand_idx]])\n",
    "    rand_y = np.transpose([y_vals_train[rand_idx]])\n",
    "    session.run(train_step, feed_dict = {x_data: rand_x, y_target: rand_y})\n",
    "    if (i+1)%20==0:\n",
    "        print('Step #'+str(i+1)+' A='+str(session.run(A))+\n",
    "              ' Loss='+str(session.run(loss, feed_dict = {x_data: rand_x, y_target: rand_y})))"
   ]
  },
  {
   "cell_type": "markdown",
   "metadata": {},
   "source": [
    "### MSE model evaluation"
   ]
  },
  {
   "cell_type": "code",
   "execution_count": 16,
   "metadata": {},
   "outputs": [
    {
     "name": "stdout",
     "output_type": "stream",
     "text": [
      "Training set MSE: 1.086\n",
      "Test set MSE: 1.133\n"
     ]
    }
   ],
   "source": [
    "mse_train = session.run(loss, feed_dict = {x_data: np.transpose([x_vals_train]),\n",
    "                                           y_target : np.transpose([y_vals_train])})\n",
    "mse_test = session.run(loss, feed_dict = {x_data: np.transpose([x_vals_test]),\n",
    "                                         y_target : np.transpose([y_vals_test])})\n",
    "print('Training set MSE: '+str(np.round(mse_train,3)))\n",
    "print('Test set MSE: '+str(np.round(mse_test,3)))"
   ]
  },
  {
   "cell_type": "markdown",
   "metadata": {},
   "source": [
    "## Classification model"
   ]
  },
  {
   "cell_type": "code",
   "execution_count": 17,
   "metadata": {},
   "outputs": [],
   "source": [
    "from tensorflow.python.framework import ops\n",
    "ops.reset_default_graph()\n",
    "session = tf.Session()"
   ]
  },
  {
   "cell_type": "code",
   "execution_count": 20,
   "metadata": {},
   "outputs": [],
   "source": [
    "batch_size = 25\n",
    "x_vals = np.concatenate((np.random.normal(-2,1,100), np.random.normal(2,1,100)))\n",
    "y_vals = np.concatenate((np.repeat(0.0,100), np.repeat(1.0,100)))\n",
    "\n",
    "x_data = tf.placeholder(shape = [1, None], dtype = tf.float32)\n",
    "y_target = tf.placeholder(shape = [1, None], dtype = tf.float32)\n"
   ]
  },
  {
   "cell_type": "code",
   "execution_count": 21,
   "metadata": {},
   "outputs": [],
   "source": [
    "train_idx = np.random.choice(len(x_vals), size = round(len(x_vals)*0.8), replace = False)\n",
    "test_idx = np.array(list(set(range(len(x_vals)))-set(train_idx)))"
   ]
  },
  {
   "cell_type": "code",
   "execution_count": 24,
   "metadata": {},
   "outputs": [],
   "source": [
    "x_vals_train = x_vals[train_idx]\n",
    "x_vals_test = x_vals[test_idx]\n",
    "y_vals_train = y_vals[train_idx]\n",
    "y_vals_test = y_vals[test_idx]\n",
    "A = tf.Variable(tf.random_normal(mean = 10, shape = [1]))\n"
   ]
  },
  {
   "cell_type": "code",
   "execution_count": 30,
   "metadata": {},
   "outputs": [],
   "source": [
    "my_prediction = tf.add(x_data, A)\n",
    "init = tf.global_variables_initializer()\n",
    "session.run(init)"
   ]
  },
  {
   "cell_type": "code",
   "execution_count": 32,
   "metadata": {},
   "outputs": [],
   "source": [
    "#Cross entropy model loss function\n",
    "xentropy = tf.reduce_mean(tf.nn.sigmoid_cross_entropy_with_logits(logits=my_prediction, labels = y_target))\n",
    "#Optimizer using gradient descent and learning rate parameter\n",
    "my_optim = tf.train.GradientDescentOptimizer(learning_rate = 0.05)\n",
    "#Train step calculation using cross entropy model\n",
    "train_step = my_optim.minimize(xentropy)"
   ]
  },
  {
   "cell_type": "code",
   "execution_count": 33,
   "metadata": {},
   "outputs": [
    {
     "name": "stdout",
     "output_type": "stream",
     "text": [
      "Step #100 A = [10.016148]Loss = 5.31007\n",
      "Step #200 A = [6.9384885]Loss = 2.584816\n",
      "Step #300 A = [4.0275807]Loss = 1.4843423\n",
      "Step #400 A = [1.916989]Loss = 0.44635147\n",
      "Step #500 A = [0.8403279]Loss = 0.22415957\n",
      "Step #600 A = [0.2722728]Loss = 0.19477175\n",
      "Step #700 A = [-0.04895451]Loss = 0.14921227\n",
      "Step #800 A = [-0.2337648]Loss = 0.16407162\n",
      "Step #900 A = [-0.33391854]Loss = 0.14040023\n",
      "Step #1000 A = [-0.38141298]Loss = 0.17006056\n",
      "Step #1100 A = [-0.40856192]Loss = 0.18593544\n",
      "Step #1200 A = [-0.42577225]Loss = 0.16066551\n",
      "Step #1300 A = [-0.4321978]Loss = 0.09237136\n",
      "Step #1400 A = [-0.4235325]Loss = 0.13961071\n",
      "Step #1500 A = [-0.44336188]Loss = 0.17790289\n",
      "Step #1600 A = [-0.4385999]Loss = 0.15589713\n",
      "Step #1700 A = [-0.4474279]Loss = 0.20992911\n",
      "Step #1800 A = [-0.46732935]Loss = 0.17836857\n",
      "Step #1900 A = [-0.4567651]Loss = 0.16479649\n",
      "Step #2000 A = [-0.46641424]Loss = 0.1232274\n"
     ]
    }
   ],
   "source": [
    "for i in range(2000):\n",
    "    rand_idx = np.random.choice(len(x_vals_train), size = batch_size)\n",
    "    rand_x = [x_vals[rand_idx]]\n",
    "    rand_y = [y_vals[rand_idx]]\n",
    "    session.run(train_step, feed_dict = {x_data: rand_x, y_target: rand_y})\n",
    "    if (i+1)%100 == 0:\n",
    "        print('Step #'+str(i+1)+' A = '+str(session.run(A))+\n",
    "             'Loss = '+str(session.run(xentropy, feed_dict = {x_data: rand_x, y_target: rand_y})))"
   ]
  },
  {
   "cell_type": "markdown",
   "metadata": {},
   "source": [
    "### Model evaluation using Accuracy method"
   ]
  },
  {
   "cell_type": "code",
   "execution_count": 34,
   "metadata": {},
   "outputs": [],
   "source": [
    "y_prediction = tf.squeeze(tf.round(tf.nn.sigmoid(tf.add(x_data, A))))\n",
    "correct_prediction = tf.equal(y_prediction, y_target)\n",
    "accuracy = tf.reduce_mean(tf.cast(correct_prediction, tf.float32))"
   ]
  },
  {
   "cell_type": "code",
   "execution_count": 35,
   "metadata": {},
   "outputs": [],
   "source": [
    "acc_train = session.run(accuracy, feed_dict = {x_data: [x_vals_train], y_target: [y_vals_train] })\n",
    "acc_test = session.run(accuracy, feed_dict = {x_data: [x_vals_test], y_target: [y_vals_test] })"
   ]
  },
  {
   "cell_type": "code",
   "execution_count": 36,
   "metadata": {},
   "outputs": [
    {
     "name": "stdout",
     "output_type": "stream",
     "text": [
      "Training set accuracy: 0.95\n",
      "Test set accuracy: 0.975\n"
     ]
    }
   ],
   "source": [
    "print('Training set accuracy: '+str(acc_train))\n",
    "print('Test set accuracy: '+str(acc_test))"
   ]
  },
  {
   "cell_type": "markdown",
   "metadata": {},
   "source": [
    "### Models visualization"
   ]
  },
  {
   "cell_type": "code",
   "execution_count": 37,
   "metadata": {},
   "outputs": [
    {
     "data": {
      "text/plain": [
       "array([-0.46641424], dtype=float32)"
      ]
     },
     "execution_count": 37,
     "metadata": {},
     "output_type": "execute_result"
    }
   ],
   "source": [
    "A_result = session.run(A)\n",
    "A_result"
   ]
  },
  {
   "cell_type": "code",
   "execution_count": 41,
   "metadata": {},
   "outputs": [
    {
     "data": {
      "image/png": "[encoded data removed]",
      "text/plain": [
       "<Figure size 432x288 with 1 Axes>"
      ]
     },
     "metadata": {
      "needs_background": "light"
     },
     "output_type": "display_data"
    }
   ],
   "source": [
    "bins = np.linspace(-5, 5, 50)\n",
    "plt.hist(x_vals[0:100], bins, alpha = 0.5, label = 'N(-2,1)', color = 'red')\n",
    "plt.hist(x_vals[100:200], bins, alpha = 0.5, label = 'N(2,1)', color = 'yellow')\n",
    "plt.plot((A_result, A_result), (0, 12), 'k--', linewidth = 4, label = 'A'+str(np.round(A_result,2)))\n",
    "plt.legend(loc = 'upper right')\n",
    "plt.title('Binary Accuracy classifier '+str(np.round(acc_train, 2)))\n",
    "plt.show()"
   ]
  },
  {
   "cell_type": "code",
   "execution_count": null,
   "metadata": {},
   "outputs": [],
   "source": []
  }
 ],
 "metadata": {
  "kernelspec": {
   "display_name": "Python 3",
   "language": "python",
   "name": "python3"
  },
  "language_info": {
   "codemirror_mode": {
    "name": "ipython",
    "version": 3
   },
   "file_extension": ".py",
   "mimetype": "text/x-python",
   "name": "python",
   "nbconvert_exporter": "python",
   "pygments_lexer": "ipython3",
   "version": "3.7.6"
  }
 },
 "nbformat": 4,
 "nbformat_minor": 4
}
