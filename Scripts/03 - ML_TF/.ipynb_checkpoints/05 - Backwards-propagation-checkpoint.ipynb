{
 "cells": [
  {
   "cell_type": "markdown",
   "metadata": {},
   "source": [
    "# Backwards Propagation"
   ]
  },
  {
   "cell_type": "code",
   "execution_count": 1,
   "metadata": {},
   "outputs": [],
   "source": [
    "import tensorflow as tf\n",
    "import numpy as np\n",
    "import matplotlib.pyplot as plt\n",
    "session = tf.Session()"
   ]
  },
  {
   "cell_type": "markdown",
   "metadata": {},
   "source": [
    "### Regression example\n",
    "- $ X \\sim N(1.0, 0.1)$\n",
    "- $y = Ax, A = 10$\n",
    "- Target = 10\n",
    "- $ L2$ Loss function"
   ]
  },
  {
   "cell_type": "code",
   "execution_count": 13,
   "metadata": {},
   "outputs": [],
   "source": [
    "x_vals = np.random.normal(loc = 1, scale = 0.1, size = 200)   #media, normal_dev, samples\n",
    "y_vals = np.repeat(10., 200)    # Target values"
   ]
  },
  {
   "cell_type": "code",
   "execution_count": 14,
   "metadata": {},
   "outputs": [],
   "source": [
    "x_data = tf.placeholder(shape = [1], dtype = tf.float32)     # X and Y placeholders\n",
    "y_target = tf.placeholder(shape = [1], dtype = tf.float32)\n",
    "A = tf.Variable(tf.random_normal(shape=[1]))    # A variable"
   ]
  },
  {
   "cell_type": "code",
   "execution_count": 15,
   "metadata": {},
   "outputs": [],
   "source": [
    "my_pred = tf.multiply(A, x_data)    #Prediction algortithm"
   ]
  },
  {
   "cell_type": "code",
   "execution_count": 16,
   "metadata": {},
   "outputs": [],
   "source": [
    "loss = tf.square(my_pred - y_target)   #Loss function"
   ]
  },
  {
   "cell_type": "code",
   "execution_count": 17,
   "metadata": {},
   "outputs": [],
   "source": [
    "my_optim = tf.train.GradientDescentOptimizer(learning_rate = 0.025)  #Optimization function, learning rate is a value that measure the amount of information that is propagated to actualize the algorithm parameters\n",
    "train_step = my_optim.minimize(loss)  #Training steps, using optimization function with parameter = defined loss function\n"
   ]
  },
  {
   "cell_type": "code",
   "execution_count": null,
   "metadata": {},
   "outputs": [],
   "source": []
  },
  {
   "cell_type": "code",
   "execution_count": 18,
   "metadata": {},
   "outputs": [],
   "source": [
    "init = tf.global_variables_initializer()\n",
    "session.run(init)"
   ]
  },
  {
   "cell_type": "code",
   "execution_count": 24,
   "metadata": {},
   "outputs": [
    {
     "name": "stdout",
     "output_type": "stream",
     "text": [
      "Paso #20 A =[9.732595]Loss= [1.9591712]\n",
      "Paso #40 A =[9.966938]Loss= [0.7502801]\n",
      "Paso #60 A =[10.008899]Loss= [0.43119746]\n",
      "Paso #80 A =[10.030278]Loss= [0.00142134]\n",
      "Paso #100 A =[9.864687]Loss= [2.394035]\n",
      "Paso #120 A =[9.954906]Loss= [0.2434526]\n",
      "Paso #140 A =[9.75621]Loss= [0.4822984]\n",
      "Paso #160 A =[9.674641]Loss= [0.03154749]\n",
      "Paso #180 A =[9.831341]Loss= [0.17754908]\n",
      "Paso #200 A =[9.857815]Loss= [0.9295217]\n"
     ]
    }
   ],
   "source": [
    "for i in range(200):\n",
    "    rand_index = np.random.choice(200)\n",
    "    rand_x = [x_vals[rand_index]]\n",
    "    rand_y = [y_vals[rand_index]]\n",
    "    session.run(train_step, feed_dict={x_data: rand_x, y_target: rand_y})\n",
    "    if((i+1)%20==0):\n",
    "        print('Paso #'+str(i+1)+' A ='+str(session.run(A))+ \n",
    "              'Loss= '+str(session.run(loss, feed_dict={x_data: rand_x, y_target: rand_y})))"
   ]
  },
  {
   "cell_type": "markdown",
   "metadata": {},
   "source": [
    "### Binary Classification example\n",
    "- $X_1 \\sim N(-2, 1), X_2 \\sim N(2,1)$\n",
    "- $Target(X_1) = 0, Target(X_2) 1$\n",
    "- $sigmoid(X+A) = \\frac{1}{1+e^{-(x+A)}}  $\n",
    "- Determine the A value\n",
    "- Teorically $A \\simeq \\frac{m_1+m_2}{2}, m_1 = -2, m2 = 2$"
   ]
  },
  {
   "cell_type": "code",
   "execution_count": 49,
   "metadata": {},
   "outputs": [],
   "source": [
    "from tensorflow.python.framework import ops   # Reset the graph to use news variables\n",
    "ops.reset_default_graph()\n",
    "session = tf.Session()   "
   ]
  },
  {
   "cell_type": "code",
   "execution_count": 50,
   "metadata": {},
   "outputs": [],
   "source": [
    "x_vals = np.concatenate((np.random.normal(-2, 1, 100), np.random.normal(2, 1, 100)))   #Create x values, concatenating the 2 proposed distributions\n",
    "y_vals = np.concatenate((np.repeat(0.,100), np.repeat(1., 100)))  #Y values, concatenating 0 and 1 values, with the same shape as the x values"
   ]
  },
  {
   "cell_type": "code",
   "execution_count": 51,
   "metadata": {},
   "outputs": [],
   "source": [
    "x_data = tf.placeholder(shape=[1], dtype = tf.float32)    #Placeholders and variable definition\n",
    "y_target = tf.placeholder(shape=[1], dtype = tf.float32)\n",
    "A = tf.Variable(tf.random_normal(mean = 10, shape = [1]))   #Variable with mean=10, far from the expected wich is 10-- to prove that the algorithm can converge"
   ]
  },
  {
   "cell_type": "code",
   "execution_count": 52,
   "metadata": {},
   "outputs": [],
   "source": [
    "my_pred = tf.add(x_data, A)   #Prediction function definition"
   ]
  },
  {
   "cell_type": "code",
   "execution_count": 53,
   "metadata": {},
   "outputs": [],
   "source": [
    "my_prediction_expanded = tf.expand_dims(my_pred, 0)\n",
    "y_target_expanded = tf.expand_dims(y_target, 0)   #The loss function will be waiting 2 inputs. Predict and target are 1-value, so, we add and extra dimention (filled with zero)"
   ]
  },
  {
   "cell_type": "code",
   "execution_count": 54,
   "metadata": {},
   "outputs": [
    {
     "name": "stdout",
     "output_type": "stream",
     "text": [
      "[10.444208]\n"
     ]
    }
   ],
   "source": [
    "init = tf.global_variables_initializer()\n",
    "session.run(init)\n",
    "print(session.run(A))"
   ]
  },
  {
   "cell_type": "code",
   "execution_count": 55,
   "metadata": {},
   "outputs": [
    {
     "name": "stdout",
     "output_type": "stream",
     "text": [
      "WARNING:tensorflow:From /home/juan/anaconda3/lib/python3.7/site-packages/tensorflow/python/ops/nn_impl.py:180: add_dispatch_support.<locals>.wrapper (from tensorflow.python.ops.array_ops) is deprecated and will be removed in a future version.\n",
      "Instructions for updating:\n",
      "Use tf.where in 2.0, which has the same broadcast rule as np.where\n"
     ]
    }
   ],
   "source": [
    "xentr = tf.nn.sigmoid_cross_entropy_with_logits(logits = my_prediction_expanded, labels = y_target_expanded)"
   ]
  },
  {
   "cell_type": "code",
   "execution_count": 56,
   "metadata": {},
   "outputs": [],
   "source": [
    "my_opt = tf.train.GradientDescentOptimizer(learning_rate = 0.04)\n",
    "train_step = my_opt.minimize(xentr)"
   ]
  },
  {
   "cell_type": "code",
   "execution_count": 58,
   "metadata": {},
   "outputs": [
    {
     "name": "stdout",
     "output_type": "stream",
     "text": [
      "Paso #100, A= [8.606322], Loss= [[5.7033763]]\n",
      "Paso #200, A= [6.696693], Loss= [[0.00045988]]\n",
      "Paso #300, A= [4.86485], Loss= [[0.00047214]]\n",
      "Paso #400, A= [3.4161384], Loss= [[1.5819647]]\n",
      "Paso #500, A= [2.218584], Loss= [[0.7176569]]\n",
      "Paso #600, A= [1.4217608], Loss= [[0.07160142]]\n",
      "Paso #700, A= [0.99064106], Loss= [[0.41087523]]\n",
      "Paso #800, A= [0.59085554], Loss= [[0.08147641]]\n",
      "Paso #900, A= [0.289401], Loss= [[0.0286755]]\n",
      "Paso #1000, A= [0.34072942], Loss= [[0.02463129]]\n"
     ]
    }
   ],
   "source": [
    "for i in range(1000):      #Iterations\n",
    "    rand_idx = np.random.choice(200)   #Pic a rand number \n",
    "    rand_x = [x_vals[rand_idx]]\n",
    "    rand_y = [y_vals[rand_idx]]\n",
    "    session.run(train_step, feed_dict = {x_data: rand_x, y_target: rand_y})\n",
    "    if(i+1)%100 == 0:\n",
    "        print('Paso #'+str(i+1)+', A= '+str(session.run(A))+ \n",
    "              ', Loss= '+str(session.run(xentr, feed_dict = {x_data: rand_x, y_target: rand_y})) )\n",
    "    \n",
    "    "
   ]
  }
 ],
 "metadata": {
  "kernelspec": {
   "display_name": "Python 3",
   "language": "python",
   "name": "python3"
  },
  "language_info": {
   "codemirror_mode": {
    "name": "ipython",
    "version": 3
   },
   "file_extension": ".py",
   "mimetype": "text/x-python",
   "name": "python",
   "nbconvert_exporter": "python",
   "pygments_lexer": "ipython3",
   "version": "3.7.6"
  }
 },
 "nbformat": 4,
 "nbformat_minor": 4
}
