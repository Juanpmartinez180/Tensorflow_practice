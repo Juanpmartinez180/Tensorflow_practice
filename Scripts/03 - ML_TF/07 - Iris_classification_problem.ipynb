{
 "cells": [
  {
   "cell_type": "markdown",
   "metadata": {},
   "source": [
    "# Iris classification problem\n",
    "- In this case we only classify the Setosa specie. Using a binary classifier (Y/N)\n",
    "- Setosa == 0, other species ==1;==2"
   ]
  },
  {
   "cell_type": "code",
   "execution_count": 51,
   "metadata": {},
   "outputs": [],
   "source": [
    "import tensorflow as tf\n",
    "import numpy as np\n",
    "import matplotlib.pyplot as plt\n",
    "from sklearn import datasets\n",
    "session = tf.Session()"
   ]
  },
  {
   "cell_type": "markdown",
   "metadata": {},
   "source": [
    "### Import and data manipulation"
   ]
  },
  {
   "cell_type": "code",
   "execution_count": 52,
   "metadata": {},
   "outputs": [],
   "source": [
    "iris = datasets.load_iris()\n",
    "#create a target array. Filling with 1 where a setosa specie es true(x=0), and with zero for the other species(x=1,x=2)\n",
    "binary_target = np.array([1.0 if x == 0 else 0.0 for x in iris.target])\n",
    "#I keep the 2 and 3 column of the dataset.. necesary to generate the prediction\n",
    "iris_2d = np.array( [[x[2], x[3]] for x in iris.data])"
   ]
  },
  {
   "cell_type": "markdown",
   "metadata": {},
   "source": [
    "### Variable declaration"
   ]
  },
  {
   "cell_type": "code",
   "execution_count": 53,
   "metadata": {},
   "outputs": [],
   "source": [
    "batch_size = 20\n",
    "x1_data = tf.placeholder(shape = [batch_size, 1], dtype = tf.float32)\n",
    "x2_data = tf.placeholder(shape = [batch_size, 1], dtype = tf.float32)\n",
    "y_target = tf.placeholder(shape = [None, 1], dtype = tf.float32)"
   ]
  },
  {
   "cell_type": "markdown",
   "metadata": {},
   "source": [
    "### Model creation\n",
    "$$ y = Ax + b $$\n",
    "$$ x_2 = Ax_1 + b \\rightarrow x2 - Ax1 -b = 0 $$"
   ]
  },
  {
   "cell_type": "code",
   "execution_count": 54,
   "metadata": {},
   "outputs": [],
   "source": [
    "A = tf.Variable(tf.random_normal(shape = [1,1]))\n",
    "b = tf.Variable(tf.random_normal(shape = [1,1]))"
   ]
  },
  {
   "cell_type": "code",
   "execution_count": 80,
   "metadata": {},
   "outputs": [],
   "source": [
    "my_mult = tf.matmul(x2_data, A)\n",
    "my_add = tf.add(my_mult, b)\n",
    "my_pred = tf.subtract(x1_data, my_add)"
   ]
  },
  {
   "cell_type": "markdown",
   "metadata": {},
   "source": [
    "### Loss Function and back propagation"
   ]
  },
  {
   "cell_type": "code",
   "execution_count": 81,
   "metadata": {},
   "outputs": [],
   "source": [
    "xentropy = tf.nn.sigmoid_cross_entropy_with_logits(logits = my_pred, labels = y_target)\n",
    "my_optimizer = tf.train.GradientDescentOptimizer(learning_rate = 0.05)\n",
    "train_step = my_optimizer.minimize(xentropy)"
   ]
  },
  {
   "cell_type": "markdown",
   "metadata": {},
   "source": [
    "### Variable init."
   ]
  },
  {
   "cell_type": "code",
   "execution_count": 82,
   "metadata": {},
   "outputs": [],
   "source": [
    "init = tf.global_variables_initializer()\n",
    "session.run(init)"
   ]
  },
  {
   "cell_type": "markdown",
   "metadata": {},
   "source": [
    "## Model training"
   ]
  },
  {
   "cell_type": "code",
   "execution_count": 83,
   "metadata": {},
   "outputs": [
    {
     "name": "stdout",
     "output_type": "stream",
     "text": [
      "Paso #100, A=[[7.33103]], b =[[-2.4139388]]\n",
      "Paso #200, A=[[8.684222]], b =[[-3.5308084]]\n",
      "Paso #300, A=[[9.512531]], b =[[-4.267126]]\n",
      "Paso #400, A=[[10.193211]], b =[[-4.7043505]]\n",
      "Paso #500, A=[[10.727861]], b =[[-5.0798445]]\n",
      "Paso #600, A=[[11.139025]], b =[[-5.4005313]]\n",
      "Paso #700, A=[[11.536513]], b =[[-5.6948996]]\n",
      "Paso #800, A=[[11.877265]], b =[[-5.9323816]]\n",
      "Paso #900, A=[[12.159236]], b =[[-6.1854563]]\n",
      "Paso #1000, A=[[12.406979]], b =[[-6.413247]]\n"
     ]
    }
   ],
   "source": [
    "for i in range(1000):\n",
    "    rand_idx = np.random.choice(len(iris_2d), size=batch_size)\n",
    "    rand_x = iris_2d[rand_idx]\n",
    "    rand_x1 = np.array([[x[0]] for x in rand_x])\n",
    "    rand_x2 = np.array([[x[1]] for x in rand_x])\n",
    "    rand_y = np.array([[y] for y in binary_target[rand_idx]])\n",
    "    session.run(train_step, feed_dict={x1_data:rand_x1, x2_data:rand_x2, y_target:rand_y})\n",
    "    if(i+1)%100==0:\n",
    "        print('Paso #'+str(i+1)+\", A=\"+str(session.run(A))+\", b =\"+str(session.run(b)))"
   ]
  },
  {
   "cell_type": "markdown",
   "metadata": {},
   "source": [
    "### Trained Model"
   ]
  },
  {
   "cell_type": "code",
   "execution_count": 84,
   "metadata": {},
   "outputs": [],
   "source": [
    "[[slope]] = session.run(A)\n",
    "[[intercept]] = session.run(b)"
   ]
  },
  {
   "cell_type": "markdown",
   "metadata": {},
   "source": [
    "### Regression plot"
   ]
  },
  {
   "cell_type": "code",
   "execution_count": 85,
   "metadata": {},
   "outputs": [],
   "source": [
    "x = np.linspace(0, 3, num = 100)\n",
    "abline_values = []\n",
    "for i in x:\n",
    "    abline_values.append(slope*i+intercept)\n",
    "setosa_x = [a[1] for i, a in enumerate(iris_2d) if binary_target[i]==1]\n",
    "setosa_y = [a[0] for i, a in enumerate(iris_2d) if binary_target[i]==1]\n",
    "\n",
    "no_setosa_x = [a[1] for i, a in enumerate(iris_2d) if binary_target[i]==0]\n",
    "no_setosa_y = [a[0] for i, a in enumerate(iris_2d) if binary_target[i]==0]"
   ]
  },
  {
   "cell_type": "code",
   "execution_count": 90,
   "metadata": {},
   "outputs": [
    {
     "data": {
      "image/png": "[encoded data removed]",
      "text/plain": [
       "<Figure size 432x288 with 1 Axes>"
      ]
     },
     "metadata": {
      "needs_background": "light"
     },
     "output_type": "display_data"
    }
   ],
   "source": [
    "plt.plot(setosa_x, setosa_y, 'rx',ms =10, mew =2, label = 'setosa')\n",
    "plt.plot(no_setosa_x, no_setosa_y, 'ro', label = 'No setosa')\n",
    "plt.plot(x, abline_values, 'b-')\n",
    "plt.suptitle('Setosa lineal separation', fontsize = 18)\n",
    "plt.xlabel('Petalos lenght')\n",
    "plt.ylabel('Petalos anchura')\n",
    "plt.legend('lower right')\n",
    "plt.xlim([0,2.75])\n",
    "plt.ylim([0,7.5])\n",
    "plt.show()"
   ]
  },
  {
   "cell_type": "code",
   "execution_count": null,
   "metadata": {},
   "outputs": [],
   "source": []
  }
 ],
 "metadata": {
  "kernelspec": {
   "display_name": "Python 3",
   "language": "python",
   "name": "python3"
  },
  "language_info": {
   "codemirror_mode": {
    "name": "ipython",
    "version": 3
   },
   "file_extension": ".py",
   "mimetype": "text/x-python",
   "name": "python",
   "nbconvert_exporter": "python",
   "pygments_lexer": "ipython3",
   "version": "3.7.6"
  }
 },
 "nbformat": 4,
 "nbformat_minor": 4
}
