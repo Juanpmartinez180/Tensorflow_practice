{
 "cells": [
  {
   "cell_type": "markdown",
   "metadata": {},
   "source": [
    "# Regression using ortogonal distance\n",
    "\n",
    "- In linear regression the idea is fit a straight line wich minimize the vertical distance between the data and the line itself.\n",
    "$$(Yr - Yp)^2$$\n",
    "- Deming regression is a little bit different. Again we need to fit a straight line but here the idea is to minimize the projection of each data point to that line (ortogonal distance between data and line).\n",
    "$$ \\sqrt{(Xr - Xp)² + (Yr - Yp)²} $$\n",
    "\n",
    "If the regression equation has this form:\n",
    "$$y = mx + n$$\n",
    "\n",
    "With the point $(x_0, y_0)$, the distance between the data and the line is:\n",
    "\n",
    "$$ d = \\frac{|y_0 - (mx_0 + n)|}{\\sqrt{m² + 1}}$$"
   ]
  },
  {
   "cell_type": "code",
   "execution_count": 1,
   "metadata": {},
   "outputs": [],
   "source": [
    "import numpy as np\n",
    "import matplotlib.pyplot as plt\n",
    "import tensorflow as tf\n",
    "from sklearn import datasets\n",
    "\n",
    "session = tf.Session()\n",
    "iris = datasets.load_iris()\n",
    "\n",
    "%config Completer.use_jedi = False"
   ]
  },
  {
   "cell_type": "code",
   "execution_count": 2,
   "metadata": {},
   "outputs": [],
   "source": [
    "x_vals = np.array([x[3] for x in iris.data])\n",
    "y_vals = np.array([x[0] for x in iris.data])"
   ]
  },
  {
   "cell_type": "code",
   "execution_count": 25,
   "metadata": {},
   "outputs": [],
   "source": [
    "learning_rate = 0.02\n",
    "batch_size = 50\n",
    "x_data = tf.placeholder(shape = [None, 1], dtype= tf.float32)\n",
    "y_target = tf.placeholder(shape = [None, 1], dtype= tf.float32)\n",
    "m = tf.Variable(tf.random_normal(shape = [1,1]))\n",
    "n = tf.Variable(tf.random_normal(shape = [1,1]))                "
   ]
  },
  {
   "cell_type": "code",
   "execution_count": 40,
   "metadata": {},
   "outputs": [],
   "source": [
    "y_predict = tf.add(tf.matmul(x_data, m), n)         #Linear equation to solve\n",
    "\n",
    "'''Note:\n",
    "The original equation is : deming_num = tf.abs(tf.subtract(y_target, tf.add(tf.matmul(x_data, m), n))) \n",
    "If i change the ABS for a SQUARE is a form to convert a L1 to L2 regularization. With SQUARE the results \n",
    "are much better\n",
    "'''\n",
    "\n",
    "deming_num = tf.square(tf.subtract(y_target, tf.add(tf.matmul(x_data, m), n)))  #Num and den of the deming distance\n",
    "deming_den = tf.sqrt(tf.add(tf.square(m), 1.0))\n",
    "\n",
    "deming_loss = tf.reduce_mean(tf.truediv(deming_num, deming_den))  #Loss function using deming distance."
   ]
  },
  {
   "cell_type": "code",
   "execution_count": 34,
   "metadata": {},
   "outputs": [],
   "source": [
    "init = tf.global_variables_initializer()\n",
    "session.run(init)"
   ]
  },
  {
   "cell_type": "code",
   "execution_count": 35,
   "metadata": {},
   "outputs": [],
   "source": [
    "my_optim = tf.train.GradientDescentOptimizer(learning_rate = learning_rate)\n",
    "train_step = my_optim.minimize(deming_loss)"
   ]
  },
  {
   "cell_type": "code",
   "execution_count": 36,
   "metadata": {},
   "outputs": [
    {
     "name": "stdout",
     "output_type": "stream",
     "text": [
      "Step #20, m = [[1.9148711]], n = [[2.3809204]] Loss = 0.9471772\n",
      "Step #40, m = [[2.1578693]], n = [[2.6832814]] Loss = 0.6120497\n",
      "Step #60, m = [[2.1739492]], n = [[2.828238]] Loss = 0.54406774\n",
      "Step #80, m = [[2.148151]], n = [[2.9480634]] Loss = 0.55542475\n",
      "Step #100, m = [[2.0948637]], n = [[3.04925]] Loss = 0.4391298\n",
      "Step #120, m = [[2.049443]], n = [[3.1471815]] Loss = 0.5351951\n",
      "Step #140, m = [[1.9850044]], n = [[3.230116]] Loss = 0.51547706\n",
      "Step #160, m = [[1.9406352]], n = [[3.3173585]] Loss = 0.3574889\n",
      "Step #180, m = [[1.8857317]], n = [[3.3932834]] Loss = 0.36100745\n",
      "Step #200, m = [[1.8414]], n = [[3.4779766]] Loss = 0.39867374\n",
      "Step #220, m = [[1.7798775]], n = [[3.547925]] Loss = 0.27591613\n",
      "Step #240, m = [[1.716223]], n = [[3.6055124]] Loss = 0.35223296\n",
      "Step #260, m = [[1.6767206]], n = [[3.6821935]] Loss = 0.3364079\n",
      "Step #280, m = [[1.6269432]], n = [[3.7518194]] Loss = 0.2502879\n",
      "Step #300, m = [[1.5931294]], n = [[3.8214605]] Loss = 0.28385574\n"
     ]
    }
   ],
   "source": [
    "loss_vect = []\n",
    "for i in range(300):\n",
    "    rand_idx = np.random.choice(len(x_vals), size = batch_size)\n",
    "    rand_x = np.transpose([x_vals[rand_idx]])\n",
    "    rand_y = np.transpose([y_vals[rand_idx]])\n",
    "    session.run(train_step, feed_dict={x_data: rand_x,\n",
    "                                       y_target: rand_y})\n",
    "    temp_loss = session.run(deming_loss, feed_dict={x_data: rand_x,\n",
    "                                                    y_target: rand_y})\n",
    "    loss_vect.append(temp_loss)\n",
    "    \n",
    "    if(i+1)%20 == 0:\n",
    "        print('Step #'+ str(i+1) +\n",
    "              ', m = '+str(session.run(m))+\n",
    "              ', n = '+str(session.run(n))+\n",
    "              ' Loss = '+str(temp_loss))"
   ]
  },
  {
   "cell_type": "code",
   "execution_count": 37,
   "metadata": {},
   "outputs": [
    {
     "data": {
      "image/png": "[encoded data removed]",
      "text/plain": [
       "<Figure size 432x288 with 1 Axes>"
      ]
     },
     "metadata": {
      "needs_background": "light"
     },
     "output_type": "display_data"
    }
   ],
   "source": [
    "plt.title('Loss')\n",
    "plt.plot(loss_vect, 'b')\n",
    "plt.xlabel('Iteration')\n",
    "plt.ylabel('Loss')\n",
    "plt.show()"
   ]
  },
  {
   "cell_type": "code",
   "execution_count": 38,
   "metadata": {},
   "outputs": [
    {
     "name": "stdout",
     "output_type": "stream",
     "text": [
      "Regression equation = 1.593x + 3.821\n"
     ]
    }
   ],
   "source": [
    "[[slope]] = session.run(m)\n",
    "[[intercept]] = session.run(n)\n",
    "print('Regression equation = '+str(np.round(slope,3))+'x + '+str(np.round(intercept, 3)))"
   ]
  },
  {
   "cell_type": "code",
   "execution_count": 39,
   "metadata": {},
   "outputs": [
    {
     "data": {
      "image/png": "[encoded data removed]",
      "text/plain": [
       "<Figure size 432x288 with 1 Axes>"
      ]
     },
     "metadata": {
      "needs_background": "light"
     },
     "output_type": "display_data"
    }
   ],
   "source": [
    "best_fit = []\n",
    "for i in x_vals:\n",
    "    best_fit.append(slope * i + intercept)\n",
    "    \n",
    "plt.plot(x_vals, y_vals, 'o', label = 'Iris Data')\n",
    "plt.plot(x_vals, best_fit, 'r-', label = 'Prediction')\n",
    "plt.legend(loc = 'upper left')\n",
    "plt.title('Deming Linear Regression')\n",
    "plt.show()"
   ]
  }
 ],
 "metadata": {
  "kernelspec": {
   "display_name": "Python 3",
   "language": "python",
   "name": "python3"
  },
  "language_info": {
   "codemirror_mode": {
    "name": "ipython",
    "version": 3
   },
   "file_extension": ".py",
   "mimetype": "text/x-python",
   "name": "python",
   "nbconvert_exporter": "python",
   "pygments_lexer": "ipython3",
   "version": "3.7.6"
  }
 },
 "nbformat": 4,
 "nbformat_minor": 4
}
