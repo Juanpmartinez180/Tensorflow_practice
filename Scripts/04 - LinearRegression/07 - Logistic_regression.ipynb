{
 "cells": [
  {
   "cell_type": "markdown",
   "metadata": {},
   "source": [
    "# Logistic Regression"
   ]
  },
  {
   "cell_type": "code",
   "execution_count": 1,
   "metadata": {},
   "outputs": [],
   "source": [
    "import numpy as np\n",
    "import matplotlib.pyplot as plt\n",
    "import tensorflow as tf\n",
    "import requests\n",
    "from sklearn.preprocessing import normalize\n",
    "session = tf.Session()\n",
    "%config Completer.use_jedi = False"
   ]
  },
  {
   "cell_type": "markdown",
   "metadata": {},
   "source": [
    "# Data ingestion\n",
    "- The idea is predict if a born baby is under the median weight\n",
    "\n",
    "## Data download"
   ]
  },
  {
   "cell_type": "code",
   "execution_count": 2,
   "metadata": {},
   "outputs": [],
   "source": [
    "import requests\n",
    "url = 'https://raw.githubusercontent.com/joanby/tensorflow/master/datasets/birthweight.csv'\n",
    "birth_file = requests.get(url)\n",
    "birth_data = birth_file.text.split('\\r\\n')"
   ]
  },
  {
   "cell_type": "code",
   "execution_count": 3,
   "metadata": {},
   "outputs": [],
   "source": [
    "birth_header = birth_data[0].split(',')\n",
    "birth_data = [[float(x) for x in y.split(',') if len(x)>=1] for y in birth_data[1:] if len(y)>=1]"
   ]
  },
  {
   "cell_type": "markdown",
   "metadata": {},
   "source": [
    "### CSV File generation"
   ]
  },
  {
   "cell_type": "code",
   "execution_count": 4,
   "metadata": {},
   "outputs": [],
   "source": [
    "import os\n",
    "import csv\n",
    "\n",
    "birthweight_file_name = '../../Datasets/birthweight.csv' \n",
    "if not os.path.exists(birthweight_file_name):\n",
    "    with open(birthweight_file_name, 'w', newline = '') as f:\n",
    "        writer = csv.writer(f)\n",
    "        writer.writerow(birth_header)\n",
    "        writer.writerows(birth_data)\n",
    "        f.close()"
   ]
  },
  {
   "cell_type": "markdown",
   "metadata": {},
   "source": [
    "### CSV File read"
   ]
  },
  {
   "cell_type": "code",
   "execution_count": 5,
   "metadata": {},
   "outputs": [
    {
     "data": {
      "text/plain": [
       "['1.0', '28.0', '113.0', '1.0', '1.0', '1.0', '0.0', '1.0', '709.0']"
      ]
     },
     "execution_count": 5,
     "metadata": {},
     "output_type": "execute_result"
    }
   ],
   "source": [
    "birth_data = []\n",
    "with open(birthweight_file_name, newline='') as csvfile:\n",
    "    csv_reader = csv.reader(csvfile)\n",
    "    birth_header = next(csv_reader)\n",
    "    for row in csv_reader:\n",
    "        birth_data.append(row)\n",
    "birth_data[0]"
   ]
  },
  {
   "cell_type": "code",
   "execution_count": 6,
   "metadata": {},
   "outputs": [
    {
     "data": {
      "text/plain": [
       "[1.0, 28.0, 113.0, 1.0, 1.0, 1.0, 0.0, 1.0, 709.0]"
      ]
     },
     "execution_count": 6,
     "metadata": {},
     "output_type": "execute_result"
    }
   ],
   "source": [
    "birth_data = [[float(x) for x in row] for row in birth_data] #Transform the string data to float\n",
    "birth_data[0]"
   ]
  },
  {
   "cell_type": "code",
   "execution_count": 7,
   "metadata": {},
   "outputs": [],
   "source": [
    "y_vals = np.array([x[0] for x in birth_data])\n",
    "x_vals = np.array([x[1:8] for x in birth_data])"
   ]
  },
  {
   "cell_type": "markdown",
   "metadata": {},
   "source": [
    "## Dataset training and test split"
   ]
  },
  {
   "cell_type": "code",
   "execution_count": 8,
   "metadata": {},
   "outputs": [],
   "source": [
    "train_idx = np.random.choice(len(x_vals), size = round(len(x_vals)*0.8), replace = False)\n",
    "test_idx = np.array(list(set(range(len(x_vals))) - set(train_idx)))"
   ]
  },
  {
   "cell_type": "code",
   "execution_count": 9,
   "metadata": {},
   "outputs": [],
   "source": [
    "x_vals_train = x_vals[train_idx]\n",
    "y_vals_train = y_vals[train_idx]\n",
    "\n",
    "x_vals_test = x_vals[test_idx]\n",
    "y_vals_test = y_vals[test_idx]"
   ]
  },
  {
   "cell_type": "markdown",
   "metadata": {},
   "source": [
    "### Data normalization\n",
    "\n",
    "- Create a Min/Max normalization function"
   ]
  },
  {
   "cell_type": "code",
   "execution_count": 10,
   "metadata": {},
   "outputs": [],
   "source": [
    "def normalize_cols(m, col_min = np.array([None]), col_max = np.array([None])):\n",
    "    if not col_min[0]:\n",
    "        col_min = m.min(axis = 0)\n",
    "    if not col_max[0]:\n",
    "        col_max = m.max(axis = 0)\n",
    "    return(m-col_min)/(col_max-col_min), col_min, col_max"
   ]
  },
  {
   "cell_type": "code",
   "execution_count": 11,
   "metadata": {},
   "outputs": [
    {
     "name": "stderr",
     "output_type": "stream",
     "text": [
      "/home/juan/anaconda3/lib/python3.7/site-packages/numpy/lib/type_check.py:461: VisibleDeprecationWarning: Creating an ndarray from ragged nested sequences (which is a list-or-tuple of lists-or-tuples-or ndarrays with different lengths or shapes) is deprecated. If you meant to do this, you must specify 'dtype=object' when creating the ndarray\n",
      "  x = _nx.array(x, subok=True, copy=copy)\n"
     ]
    }
   ],
   "source": [
    "x_vals_train, train_min, train_max = np.nan_to_num(normalize_cols(x_vals_train))"
   ]
  },
  {
   "cell_type": "markdown",
   "metadata": {},
   "source": [
    "To normalize the test data is necesary to use the same min/max parameters as we used in the train data."
   ]
  },
  {
   "cell_type": "code",
   "execution_count": 12,
   "metadata": {},
   "outputs": [],
   "source": [
    "x_vals_test = np.nan_to_num(normalize_cols(x_vals_test, col_min = train_min, col_max = train_max))"
   ]
  },
  {
   "cell_type": "code",
   "execution_count": 24,
   "metadata": {},
   "outputs": [
    {
     "data": {
      "text/plain": [
       "array([0.25806452, 0.2147651 , 0.        , 1.        , 1.        ,\n",
       "       0.        , 0.        ])"
      ]
     },
     "execution_count": 24,
     "metadata": {},
     "output_type": "execute_result"
    }
   ],
   "source": []
  },
  {
   "cell_type": "markdown",
   "metadata": {},
   "source": [
    "# Logistic regression model\n",
    "\n",
    "- $x \\in\\mathbb R^7$\n",
    "- $A \\in\\mathbb R_{7\\times1}$\n",
    "- $b \\in\\mathbb R$\n",
    "- $y =  Ax + b \\in\\mathbb R$\n",
    "- $\\hat{y} = sigmoid(y)\\in(0, 1)$"
   ]
  },
  {
   "cell_type": "code",
   "execution_count": 13,
   "metadata": {},
   "outputs": [],
   "source": [
    "batch_size = 25\n",
    "x_data = tf.placeholder(shape=[None, 7], dtype = tf.float32)\n",
    "y_target = tf.placeholder(shape = [None, 1], dtype=tf.float32)\n",
    "A = tf.Variable(tf.random_normal(shape=[7,1]))\n",
    "b = tf.Variable(tf.random_normal(shape=[1,1]))\n",
    "y_pred = tf.add(tf.matmul(x_data, A), b)"
   ]
  },
  {
   "cell_type": "code",
   "execution_count": 14,
   "metadata": {},
   "outputs": [
    {
     "name": "stdout",
     "output_type": "stream",
     "text": [
      "WARNING:tensorflow:From /home/juan/anaconda3/lib/python3.7/site-packages/tensorflow/python/ops/nn_impl.py:180: add_dispatch_support.<locals>.wrapper (from tensorflow.python.ops.array_ops) is deprecated and will be removed in a future version.\n",
      "Instructions for updating:\n",
      "Use tf.where in 2.0, which has the same broadcast rule as np.where\n"
     ]
    }
   ],
   "source": [
    "loss = tf.reduce_mean(tf.nn.sigmoid_cross_entropy_with_logits(logits=y_pred, labels= y_target))\n",
    "init = tf.global_variables_initializer()\n",
    "session.run(init)\n",
    "my_optim = tf.train.GradientDescentOptimizer(learning_rate=0.01)\n",
    "train_step = my_optim.minimize(loss)"
   ]
  },
  {
   "cell_type": "code",
   "execution_count": 15,
   "metadata": {},
   "outputs": [],
   "source": [
    "classification_lr = tf.round(tf.sigmoid(y_pred))\n",
    "correct_classification = tf.cast(tf.equal(classification_lr, y_target), tf.float32)\n",
    "accuracy = tf.reduce_mean(correct_classification)"
   ]
  },
  {
   "cell_type": "code",
   "execution_count": 16,
   "metadata": {},
   "outputs": [
    {
     "name": "stdout",
     "output_type": "stream",
     "text": [
      "Loss: 1.1674443\n",
      "Loss: 0.88393587\n",
      "Loss: 0.7624809\n",
      "Loss: 0.66236705\n",
      "Loss: 0.7664185\n",
      "Loss: 0.8329659\n",
      "Loss: 0.63792616\n",
      "Loss: 0.714931\n",
      "Loss: 0.6061134\n",
      "Loss: 0.7181149\n",
      "Loss: 0.79305124\n",
      "Loss: 0.60228395\n",
      "Loss: 0.8497261\n",
      "Loss: 0.5528612\n",
      "Loss: 0.6752695\n",
      "Loss: 0.5899946\n",
      "Loss: 0.68110025\n",
      "Loss: 0.62090474\n",
      "Loss: 0.688471\n",
      "Loss: 0.5617332\n"
     ]
    }
   ],
   "source": [
    "loss_vec = []\n",
    "train_acc = []\n",
    "test_acc = []\n",
    "for i in range(2000):\n",
    "    rand_idx = np.random.choice(len(x_vals_train), size=batch_size)\n",
    "    rand_x = x_vals_train[rand_idx]\n",
    "    rand_y = np.transpose([y_vals_train[rand_idx]])\n",
    "    session.run(train_step, feed_dict={x_data: rand_x, y_target: rand_y})\n",
    "    temp_loss = session.run(loss, feed_dict={x_data: rand_x, y_target: rand_y})\n",
    "    loss_vec.append(temp_loss)\n",
    "    temp_acc_train = session.run(accuracy, \n",
    "                                 feed_dict={x_data: x_vals_train, y_target: np.transpose([y_vals_train])})\n",
    "    train_acc.append(temp_acc_train)\n",
    "    temp_acc_test = session.run(accuracy, \n",
    "                                feed_dict={x_data: x_vals_test[0],\n",
    "                                           y_target: np.transpose([y_vals_test])})\n",
    "    test_acc.append(temp_acc_test)\n",
    "    if(i+1)%100==0:\n",
    "        print(\"Loss: \"+str(temp_loss))"
   ]
  },
  {
   "cell_type": "code",
   "execution_count": 18,
   "metadata": {},
   "outputs": [
    {
     "data": {
      "image/png": "[encoded data removed]",
      "text/plain": [
       "<Figure size 432x288 with 1 Axes>"
      ]
     },
     "metadata": {
      "needs_background": "light"
     },
     "output_type": "display_data"
    }
   ],
   "source": [
    "plt.plot(loss_vec, 'k-')\n",
    "plt.title('Training Loss')\n",
    "plt.xlabel('Iteracion')\n",
    "plt.ylabel('Loss')\n",
    "plt.ylim([0,2])\n",
    "plt.show()"
   ]
  },
  {
   "cell_type": "code",
   "execution_count": 19,
   "metadata": {},
   "outputs": [
    {
     "data": {
      "image/png": "[encoded data removed]",
      "text/plain": [
       "<Figure size 432x288 with 1 Axes>"
      ]
     },
     "metadata": {
      "needs_background": "light"
     },
     "output_type": "display_data"
    }
   ],
   "source": [
    "plt.plot(train_acc, 'b-', label = 'Training accuracy')\n",
    "plt.plot(test_acc, 'r--', label = 'Test accuracy')\n",
    "plt.xlabel('Iteration')\n",
    "plt.ylabel('Accuracy')\n",
    "plt.title('Training and test accuracy')\n",
    "plt.legend(loc = 'lower right')\n",
    "plt.show()"
   ]
  },
  {
   "cell_type": "markdown",
   "metadata": {},
   "source": [
    "If we want to predict new data using the trained model:"
   ]
  },
  {
   "cell_type": "code",
   "execution_count": 34,
   "metadata": {},
   "outputs": [
    {
     "name": "stdout",
     "output_type": "stream",
     "text": [
      "Prediction =  [-0.56987077]\n"
     ]
    }
   ],
   "source": [
    "data = [[0.25806452, 0.2147651 , 0.        , 1.        , 1.        ,\n",
    "       0.        , 0.        ]]\n",
    "prediction = session.run(y_pred, feed_dict={x_data: data})\n",
    "print('Prediction = ', prediction[0])"
   ]
  },
  {
   "cell_type": "markdown",
   "metadata": {},
   "source": [
    "Note: Is necesary to implement a sigmoid function to the prediction result!"
   ]
  }
 ],
 "metadata": {
  "kernelspec": {
   "display_name": "Python 3",
   "language": "python",
   "name": "python3"
  },
  "language_info": {
   "codemirror_mode": {
    "name": "ipython",
    "version": 3
   },
   "file_extension": ".py",
   "mimetype": "text/x-python",
   "name": "python",
   "nbconvert_exporter": "python",
   "pygments_lexer": "ipython3",
   "version": "3.7.6"
  }
 },
 "nbformat": 4,
 "nbformat_minor": 4
}
