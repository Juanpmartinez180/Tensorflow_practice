{
 "cells": [
  {
   "cell_type": "markdown",
   "metadata": {},
   "source": [
    "# Elastic net linear regression\n",
    "\n",
    "- This method combine Ridge and Lasso regularization.\n"
   ]
  },
  {
   "cell_type": "code",
   "execution_count": 39,
   "metadata": {},
   "outputs": [],
   "source": [
    "import numpy as np\n",
    "import matplotlib.pyplot as plt\n",
    "import tensorflow as tf\n",
    "from sklearn import datasets\n",
    "\n",
    "%config Completer.use_jedi = False"
   ]
  },
  {
   "cell_type": "code",
   "execution_count": 2,
   "metadata": {},
   "outputs": [],
   "source": [
    "session = tf.Session()\n",
    "iris = datasets.load_iris()"
   ]
  },
  {
   "cell_type": "markdown",
   "metadata": {},
   "source": [
    "### Data import"
   ]
  },
  {
   "cell_type": "code",
   "execution_count": 4,
   "metadata": {},
   "outputs": [],
   "source": [
    "x_vals = np.array([[x[1], x[2], x[3]] for x in iris.data])\n",
    "y_vals = np.array([x[0] for x in iris.data])"
   ]
  },
  {
   "cell_type": "markdown",
   "metadata": {},
   "source": [
    "### Hyperparameters"
   ]
  },
  {
   "cell_type": "code",
   "execution_count": 5,
   "metadata": {},
   "outputs": [],
   "source": [
    "batch_size = 50\n",
    "learning_rate = 0.001"
   ]
  },
  {
   "cell_type": "markdown",
   "metadata": {},
   "source": [
    "### Variable definition\n",
    "\n",
    "- $x \\in\\mathbb R³$\n",
    "- $A \\in\\mathbb R_{3\\times1}$\n",
    "- $y = Ax + b \\in\\mathbb R$"
   ]
  },
  {
   "cell_type": "code",
   "execution_count": 25,
   "metadata": {},
   "outputs": [],
   "source": [
    "x_data = tf.placeholder(shape = [None, 3], dtype = tf.float32)\n",
    "y_target = tf.placeholder(shape = [None, 1], dtype = tf.float32)\n",
    "A = tf.Variable(tf.random_normal(shape = [3, 1]))\n",
    "b = tf.Variable(tf.random_normal(shape = [1, 1]))\n",
    "y_pred = tf.add(tf.matmul(x_data, A), b)"
   ]
  },
  {
   "cell_type": "markdown",
   "metadata": {},
   "source": [
    "Loss Function:\n",
    "    $$ Loss = \\sum\\frac{(y_r - y_p)²}{n} + \\alpha \\cdot |A| + \\beta \\cdot A²$$"
   ]
  },
  {
   "cell_type": "code",
   "execution_count": 26,
   "metadata": {},
   "outputs": [],
   "source": [
    "elastic_param1 = tf.constant(1.0)\n",
    "elastic_param2 = tf.constant(1.0)\n",
    "l1_a_loss = tf.reduce_mean(tf.abs(A))\n",
    "l2_a_loss = tf.reduce_mean(tf.square(A))\n",
    "e1_term = tf.multiply(elastic_param1, l1_a_loss)\n",
    "e2_term = tf.multiply(elastic_param2, l2_a_loss)\n",
    "\n",
    "loss = tf.expand_dims(tf.add(tf.add(tf.reduce_mean(tf.square(y_target - y_pred)), e1_term), e2_term), 0)"
   ]
  },
  {
   "cell_type": "markdown",
   "metadata": {},
   "source": [
    "Variable initialization"
   ]
  },
  {
   "cell_type": "code",
   "execution_count": 42,
   "metadata": {},
   "outputs": [],
   "source": [
    "init = tf.global_variables_initializer()\n",
    "session.run(init)"
   ]
  },
  {
   "cell_type": "markdown",
   "metadata": {},
   "source": [
    "Optimizer and loss function"
   ]
  },
  {
   "cell_type": "code",
   "execution_count": 43,
   "metadata": {},
   "outputs": [],
   "source": [
    "my_opt = tf.train.GradientDescentOptimizer(learning_rate = learning_rate)\n",
    "train_step = my_opt.minimize(loss)"
   ]
  },
  {
   "cell_type": "markdown",
   "metadata": {},
   "source": [
    "### Model training"
   ]
  },
  {
   "cell_type": "code",
   "execution_count": 44,
   "metadata": {},
   "outputs": [
    {
     "name": "stdout",
     "output_type": "stream",
     "text": [
      "Step #100A = [[ 0.10295342]\n",
      " [ 1.5185349 ]\n",
      " [-0.5781966 ]]b = [[-0.02682763]] Loss = [3.7098544]\n",
      "Step #200A = [[ 0.39184168]\n",
      " [ 1.2924117 ]\n",
      " [-0.5793459 ]]b = [[0.06522826]] Loss = [3.02919]\n",
      "Step #300A = [[ 0.5768411 ]\n",
      " [ 1.1332092 ]\n",
      " [-0.55201435]]b = [[0.13583978]] Loss = [1.9724151]\n",
      "Step #400A = [[ 0.71338356]\n",
      " [ 1.0172395 ]\n",
      " [-0.5093304 ]]b = [[0.19675325]] Loss = [1.8313138]\n",
      "Step #500A = [[ 0.79382443]\n",
      " [ 0.92736495]\n",
      " [-0.4587868 ]]b = [[0.24574783]] Loss = [1.5854023]\n",
      "Step #600A = [[ 0.84849936]\n",
      " [ 0.86350065]\n",
      " [-0.40220916]]b = [[0.2895781]] Loss = [1.5121857]\n",
      "Step #700A = [[ 0.88302183]\n",
      " [ 0.81135184]\n",
      " [-0.34479016]]b = [[0.32912293]] Loss = [1.4259065]\n",
      "Step #800A = [[ 0.90307206]\n",
      " [ 0.7670337 ]\n",
      " [-0.28939423]]b = [[0.36555842]] Loss = [1.4134017]\n",
      "Step #900A = [[ 0.91458035]\n",
      " [ 0.7285373 ]\n",
      " [-0.23530217]]b = [[0.39990157]] Loss = [1.2632008]\n",
      "Step #1000A = [[ 0.92501366]\n",
      " [ 0.70107925]\n",
      " [-0.18217543]]b = [[0.43459454]] Loss = [1.2549897]\n"
     ]
    }
   ],
   "source": [
    "loss_vec = []\n",
    "for i in range(1000):\n",
    "    rand_idx = np.random.choice(len(x_vals), size = batch_size)\n",
    "    rand_x = x_vals[rand_idx]\n",
    "    rand_y = np.transpose([y_vals[rand_idx]])\n",
    "    session.run(train_step, feed_dict = {x_data: rand_x,\n",
    "                                         y_target: rand_y})\n",
    "    temp_loss = session.run(loss, feed_dict = {x_data: rand_x,\n",
    "                                               y_target: rand_y})\n",
    "    loss_vec.append(temp_loss[0])\n",
    "    if (i+1)%100 == 0:\n",
    "        print('Step #'+str(i+1)+\n",
    "              'A = '+str(session.run(A))+\n",
    "              'b = '+str(session.run(b))+\n",
    "              ' Loss = '+str(temp_loss))"
   ]
  },
  {
   "cell_type": "code",
   "execution_count": 45,
   "metadata": {},
   "outputs": [
    {
     "data": {
      "text/plain": [
       "Text(0, 0.5, 'Loss')"
      ]
     },
     "execution_count": 45,
     "metadata": {},
     "output_type": "execute_result"
    },
    {
     "data": {
      "image/png": "[encoded data removed]",
      "text/plain": [
       "<Figure size 432x288 with 1 Axes>"
      ]
     },
     "metadata": {
      "needs_background": "light"
     },
     "output_type": "display_data"
    }
   ],
   "source": [
    "plt.plot(loss_vec)\n",
    "plt.title('Training Loss')\n",
    "plt.xlabel('Iteration')\n",
    "plt.ylabel('Loss')"
   ]
  },
  {
   "cell_type": "code",
   "execution_count": 51,
   "metadata": {},
   "outputs": [
    {
     "name": "stdout",
     "output_type": "stream",
     "text": [
      "Elastic net regression equation = 0.925x1 + 0.701x2 + -0.182x3 + 0.435\n"
     ]
    }
   ],
   "source": [
    "slope = session.run(A)\n",
    "[[intercept]] = session.run(b)\n",
    "\n",
    "print('Elastic net regression equation = '+ str(np.round(slope[0][0], 3))+'x1 + '+\n",
    "                                                        str(np.round(slope[1][0], 3))+'x2 + '+\n",
    "                                                        str(np.round(slope[2][0], 3))+'x3 + '+str(np.round(intercept,3)))"
   ]
  }
 ],
 "metadata": {
  "kernelspec": {
   "display_name": "Python 3",
   "language": "python",
   "name": "python3"
  },
  "language_info": {
   "codemirror_mode": {
    "name": "ipython",
    "version": 3
   },
   "file_extension": ".py",
   "mimetype": "text/x-python",
   "name": "python",
   "nbconvert_exporter": "python",
   "pygments_lexer": "ipython3",
   "version": "3.7.6"
  }
 },
 "nbformat": 4,
 "nbformat_minor": 4
}
