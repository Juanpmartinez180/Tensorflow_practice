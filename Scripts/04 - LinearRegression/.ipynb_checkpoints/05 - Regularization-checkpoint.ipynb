{
 "cells": [
  {
   "cell_type": "markdown",
   "metadata": {},
   "source": [
    "# LASSO and RIDGE regularization \n",
    "\n",
    "Starting from a normal linear regression the idea is to add a new term to limit the slope (partial) in the equation.\n",
    "The idea is to limit the influence of some of the features in the label data.\n",
    "\n",
    "The normal linear regression is:\n",
    "$$y = Ax + b$$\n",
    "\n"
   ]
  },
  {
   "cell_type": "code",
   "execution_count": 1,
   "metadata": {},
   "outputs": [],
   "source": [
    "import numpy as np\n",
    "import matplotlib.pyplot as plt\n",
    "import tensorflow as tf\n",
    "from sklearn import datasets\n",
    "\n",
    "session = tf.Session()\n",
    "iris = datasets.load_iris()\n",
    "\n",
    "%config Completer.use_jedi = False"
   ]
  },
  {
   "cell_type": "code",
   "execution_count": 2,
   "metadata": {},
   "outputs": [],
   "source": [
    "x_vals = np.array([x[3] for x in iris.data])\n",
    "y_vals = np.array([x[0] for x in iris.data])"
   ]
  },
  {
   "cell_type": "code",
   "execution_count": 72,
   "metadata": {},
   "outputs": [],
   "source": [
    "batch_size = 50\n",
    "learning_rate = 0.0008\n",
    "x_data = tf.placeholder(shape = [None, 1], dtype= tf.float32)\n",
    "y_target = tf.placeholder(shape = [None, 1], dtype = tf.float32)\n",
    "A = tf.Variable(tf.random_normal(shape = [1,1]))\n",
    "b = tf.Variable(tf.random_normal(shape = [1,1]))\n",
    "y_pred = tf.add(tf.matmul(x_data, A), b)"
   ]
  },
  {
   "cell_type": "markdown",
   "metadata": {},
   "source": [
    "## Heavy side function\n",
    "\n",
    "We use this special function to limit the slope of the regression. In this case we are aiming for slope not greater than 0.9 (Lasso hyperparameter)\n",
    "\n",
    "$$HeavySide = \\frac{1}{1 + e^{-100(A - Lasso)}}$$\n",
    "\n",
    "The Lasso regularization consists in the Heavyside function multiplied by a parameter C. Finally the loss function is:\n",
    "\n",
    "$$ \\sum\\frac{(y_r - y_p)²}{n} \\frac{C}{1 + e^{-100(A - Lasso)}}$$"
   ]
  },
  {
   "cell_type": "code",
   "execution_count": 78,
   "metadata": {},
   "outputs": [],
   "source": [
    "lasso_param = tf.constant(0.9)\n",
    "heavyside_step = tf.truediv(1.0, tf.add(1.0, tf.exp(tf.multiply(-100.0, tf.subtract(A, lasso_param) ) ) ) )\n",
    "regularization_params = tf.multiply(heavyside_step, 99.0)\n",
    "loss = tf.add(tf.reduce_mean(tf.square(y_target - y_pred)), regularization_params)"
   ]
  },
  {
   "cell_type": "code",
   "execution_count": 79,
   "metadata": {},
   "outputs": [],
   "source": [
    "init = tf.global_variables_initializer()\n",
    "session.run(init)     #Variables initialization"
   ]
  },
  {
   "cell_type": "code",
   "execution_count": 80,
   "metadata": {},
   "outputs": [],
   "source": [
    "my_opt = tf.train.GradientDescentOptimizer(learning_rate = learning_rate)\n",
    "train_step = my_opt.minimize(loss)"
   ]
  },
  {
   "cell_type": "markdown",
   "metadata": {},
   "source": [
    "### Model training"
   ]
  },
  {
   "cell_type": "code",
   "execution_count": 81,
   "metadata": {},
   "outputs": [
    {
     "name": "stdout",
     "output_type": "stream",
     "text": [
      "Step #100A = [[0.82895064]]b = [[1.7486157]] Loss = [[10.155561]]\n",
      "Step #200A = [[0.8256071]]b = [[2.208633]] Loss = [[6.816853]]\n",
      "Step #300A = [[0.82439774]]b = [[2.6000693]] Loss = [[5.410045]]\n",
      "Step #400A = [[0.82386816]]b = [[2.933651]] Loss = [[3.698141]]\n",
      "Step #500A = [[0.8214554]]b = [[3.2172647]] Loss = [[2.7260814]]\n",
      "Step #600A = [[0.8200888]]b = [[3.4587846]] Loss = [[2.080694]]\n",
      "Step #700A = [[0.81973803]]b = [[3.6667874]] Loss = [[2.0377605]]\n",
      "Step #800A = [[0.81746006]]b = [[3.8441985]] Loss = [[1.1476073]]\n",
      "Step #900A = [[0.8157986]]b = [[3.9943504]] Loss = [[0.98734504]]\n",
      "Step #1000A = [[0.814105]]b = [[4.123106]] Loss = [[0.65885305]]\n",
      "Step #1100A = [[0.8130227]]b = [[4.233333]] Loss = [[0.8608094]]\n",
      "Step #1200A = [[0.81121534]]b = [[4.3279376]] Loss = [[0.57468617]]\n",
      "Step #1300A = [[0.80957663]]b = [[4.4081583]] Loss = [[0.4827073]]\n",
      "Step #1400A = [[0.80890054]]b = [[4.476888]] Loss = [[0.49703753]]\n",
      "Step #1500A = [[0.80756396]]b = [[4.5361943]] Loss = [[0.26903012]]\n",
      "Step #1600A = [[0.80664766]]b = [[4.588475]] Loss = [[0.33668253]]\n",
      "Step #1700A = [[0.8038261]]b = [[4.631278]] Loss = [[0.30654746]]\n",
      "Step #1800A = [[0.803311]]b = [[4.6691504]] Loss = [[0.11607791]]\n",
      "Step #1900A = [[0.8030846]]b = [[4.7015805]] Loss = [[0.2204475]]\n",
      "Step #2000A = [[0.8009985]]b = [[4.729481]] Loss = [[0.20146531]]\n"
     ]
    }
   ],
   "source": [
    "loss_vect = []\n",
    "for i in range(2000):\n",
    "    rand_idx = np.random.choice(len(x_vals), size = batch_size)\n",
    "    rand_x = np.transpose([x_vals[rand_idx]])\n",
    "    rand_y = np.transpose([y_vals[rand_idx]])\n",
    "    session.run(train_step, feed_dict = {x_data: rand_x,\n",
    "                                         y_target: rand_y})\n",
    "    temp_loss = session.run(loss, feed_dict = {x_data: rand_x,\n",
    "                                               y_target: rand_y})\n",
    "    loss_vect.append(temp_loss)\n",
    "    if(i+1)%100 == 0:\n",
    "        print('Step #'+str(i+1)+\n",
    "              'A = '+str(session.run(A))+\n",
    "              'b = '+str(session.run(b))+\n",
    "              ' Loss = '+str(temp_loss))"
   ]
  },
  {
   "cell_type": "code",
   "execution_count": 82,
   "metadata": {},
   "outputs": [
    {
     "data": {
      "image/png": "[encoded data removed]",
      "text/plain": [
       "<Figure size 432x288 with 1 Axes>"
      ]
     },
     "metadata": {
      "needs_background": "light"
     },
     "output_type": "display_data"
    }
   ],
   "source": [
    "plt.plot(np.array(loss_vect).reshape(-1,1), label = 'Lasso regularization')\n",
    "plt.title('Loss')\n",
    "plt.xlabel('Iteration')\n",
    "plt.ylabel('Loss')\n",
    "plt.legend()\n",
    "plt.show()"
   ]
  },
  {
   "cell_type": "markdown",
   "metadata": {},
   "source": [
    "Note = Learning rate hyperparameter is very sensitive. If the loss function doesn't converge try with a smaller value!"
   ]
  },
  {
   "cell_type": "markdown",
   "metadata": {},
   "source": [
    "### Regression equation"
   ]
  },
  {
   "cell_type": "code",
   "execution_count": 40,
   "metadata": {},
   "outputs": [
    {
     "name": "stdout",
     "output_type": "stream",
     "text": [
      "Regression equation using Lasso regularization =  0.802x + 4.719\n"
     ]
    }
   ],
   "source": [
    "[[slope]] = session.run(A)\n",
    "[[intercept]] = session.run(b)\n",
    "print('Regression equation using Lasso regularization = ', str(np.round(slope, 3)) + 'x + '+ str(np.round(intercept,3)))"
   ]
  },
  {
   "cell_type": "markdown",
   "metadata": {},
   "source": [
    "### Regression model fitting"
   ]
  },
  {
   "cell_type": "code",
   "execution_count": 41,
   "metadata": {},
   "outputs": [
    {
     "data": {
      "image/png": "[encoded data removed]",
      "text/plain": [
       "<Figure size 432x288 with 1 Axes>"
      ]
     },
     "metadata": {
      "needs_background": "light"
     },
     "output_type": "display_data"
    }
   ],
   "source": [
    "best_fit = []\n",
    "for i in x_vals:\n",
    "    best_fit.append(slope * i + intercept)\n",
    "\n",
    "plt.plot(x_vals, y_vals, 'o', label = 'Data')\n",
    "plt.plot(x_vals, best_fit, 'r-', label = 'Lasso Regression', linewidth = 3)\n",
    "plt.legend(loc = 'upper left')\n",
    "plt.title('Sepalo Lenght vs Petalo widht')\n",
    "plt.show()\n"
   ]
  },
  {
   "cell_type": "markdown",
   "metadata": {},
   "source": [
    "# Ridge regression\n",
    "\n",
    "$$\\sum\\frac{(y_r-y_p)²}{n} + ridge_p\\cdot A^2$$"
   ]
  },
  {
   "cell_type": "code",
   "execution_count": 73,
   "metadata": {},
   "outputs": [],
   "source": [
    "ridge_param = tf.constant(1.0)\n",
    "ridge_loss = tf.reduce_mean(tf.square(A))\n",
    "loss = tf.expand_dims(tf.add(tf.reduce_mean(tf.square(y_target - y_pred)), tf.multiply(ridge_param, ridge_loss)), 0)"
   ]
  },
  {
   "cell_type": "code",
   "execution_count": 74,
   "metadata": {},
   "outputs": [],
   "source": [
    "init = tf.global_variables_initializer()\n",
    "session.run(init)     #Variables initialization"
   ]
  },
  {
   "cell_type": "code",
   "execution_count": 75,
   "metadata": {},
   "outputs": [],
   "source": [
    "my_opt = tf.train.GradientDescentOptimizer(learning_rate = learning_rate)\n",
    "train_step = my_opt.minimize(loss)"
   ]
  },
  {
   "cell_type": "markdown",
   "metadata": {},
   "source": [
    "### Model training"
   ]
  },
  {
   "cell_type": "code",
   "execution_count": 76,
   "metadata": {},
   "outputs": [
    {
     "name": "stdout",
     "output_type": "stream",
     "text": [
      "Step #100A = [[1.4983251]]b = [[-0.73353803]] Loss = [25.909557]\n",
      "Step #200A = [[1.9388657]]b = [[-0.07112502]] Loss = [18.16264]\n",
      "Step #300A = [[2.1215627]]b = [[0.4381962]] Loss = [14.552784]\n",
      "Step #400A = [[2.1636333]]b = [[0.8597586]] Loss = [11.845059]\n",
      "Step #500A = [[2.1300683]]b = [[1.2160571]] Loss = [10.701323]\n",
      "Step #600A = [[2.060281]]b = [[1.528044]] Loss = [8.270433]\n",
      "Step #700A = [[1.9701525]]b = [[1.8125598]] Loss = [7.4599113]\n",
      "Step #800A = [[1.8743478]]b = [[2.067885]] Loss = [6.859624]\n",
      "Step #900A = [[1.7788733]]b = [[2.305231]] Loss = [6.451536]\n",
      "Step #1000A = [[1.6795113]]b = [[2.5197816]] Loss = [5.0517807]\n",
      "Step #1100A = [[1.5904672]]b = [[2.7223628]] Loss = [4.494628]\n",
      "Step #1200A = [[1.5021846]]b = [[2.9102082]] Loss = [4.554845]\n",
      "Step #1300A = [[1.4236724]]b = [[3.0863204]] Loss = [3.0884593]\n",
      "Step #1400A = [[1.350415]]b = [[3.247138]] Loss = [2.9794931]\n",
      "Step #1500A = [[1.2800272]]b = [[3.3963158]] Loss = [2.5683923]\n",
      "Step #1600A = [[1.214224]]b = [[3.537555]] Loss = [2.5390084]\n",
      "Step #1700A = [[1.1570964]]b = [[3.669493]] Loss = [2.214168]\n",
      "Step #1800A = [[1.0998646]]b = [[3.7899668]] Loss = [1.9386085]\n",
      "Step #1900A = [[1.046312]]b = [[3.903124]] Loss = [1.8920598]\n",
      "Step #2000A = [[0.99641764]]b = [[4.007692]] Loss = [1.6841353]\n",
      "Step #2100A = [[0.9508768]]b = [[4.1053147]] Loss = [1.5402501]\n",
      "Step #2200A = [[0.907342]]b = [[4.1970735]] Loss = [1.3445101]\n",
      "Step #2300A = [[0.8682742]]b = [[4.2830815]] Loss = [1.0983611]\n",
      "Step #2400A = [[0.8350015]]b = [[4.3638606]] Loss = [1.1341013]\n",
      "Step #2500A = [[0.79933876]]b = [[4.436468]] Loss = [1.0289018]\n",
      "Step #2600A = [[0.76761335]]b = [[4.5061936]] Loss = [0.9068631]\n",
      "Step #2700A = [[0.7380033]]b = [[4.5712657]] Loss = [0.951725]\n",
      "Step #2800A = [[0.71067274]]b = [[4.6321754]] Loss = [1.0167203]\n",
      "Step #2900A = [[0.68435717]]b = [[4.689108]] Loss = [0.8142494]\n",
      "Step #3000A = [[0.65636766]]b = [[4.7392883]] Loss = [0.855801]\n"
     ]
    }
   ],
   "source": [
    "loss_vect_ridge = []\n",
    "for i in range(3000):\n",
    "    rand_idx = np.random.choice(len(x_vals), size = batch_size)\n",
    "    rand_x = np.transpose([x_vals[rand_idx]])\n",
    "    rand_y = np.transpose([y_vals[rand_idx]])\n",
    "    session.run(train_step, feed_dict = {x_data: rand_x,\n",
    "                                         y_target: rand_y})\n",
    "    temp_loss = session.run(loss, feed_dict = {x_data: rand_x,\n",
    "                                               y_target: rand_y})\n",
    "    loss_vect_ridge.append(temp_loss)\n",
    "    if(i+1)%100 == 0:\n",
    "        print('Step #'+str(i+1)+\n",
    "              'A = '+str(session.run(A))+\n",
    "              'b = '+str(session.run(b))+\n",
    "              ' Loss = '+str(temp_loss))"
   ]
  },
  {
   "cell_type": "code",
   "execution_count": 77,
   "metadata": {},
   "outputs": [
    {
     "data": {
      "image/png": "[encoded data removed]",
      "text/plain": [
       "<Figure size 432x288 with 1 Axes>"
      ]
     },
     "metadata": {
      "needs_background": "light"
     },
     "output_type": "display_data"
    }
   ],
   "source": [
    "plt.plot(np.array(loss_vect_ridge).reshape(-1,1), label = 'Lasso regularization')\n",
    "plt.title('Loss')\n",
    "plt.xlabel('Iteration')\n",
    "plt.ylabel('Loss')\n",
    "plt.legend()\n",
    "plt.show()"
   ]
  },
  {
   "cell_type": "markdown",
   "metadata": {},
   "source": [
    "### Regression equation"
   ]
  },
  {
   "cell_type": "code",
   "execution_count": 69,
   "metadata": {},
   "outputs": [
    {
     "name": "stdout",
     "output_type": "stream",
     "text": [
      "Regression equation using Lasso regularization =  0.653x + 4.755\n"
     ]
    }
   ],
   "source": [
    "[[slope]] = session.run(A)\n",
    "[[intercept]] = session.run(b)\n",
    "print('Regression equation using Lasso regularization = ', str(np.round(slope, 3)) + 'x + '+ str(np.round(intercept,3)))"
   ]
  },
  {
   "cell_type": "markdown",
   "metadata": {},
   "source": [
    "### Regression model fitting"
   ]
  },
  {
   "cell_type": "code",
   "execution_count": 71,
   "metadata": {},
   "outputs": [
    {
     "data": {
      "image/png": "[encoded data removed]",
      "text/plain": [
       "<Figure size 432x288 with 1 Axes>"
      ]
     },
     "metadata": {
      "needs_background": "light"
     },
     "output_type": "display_data"
    }
   ],
   "source": [
    "best_fit = []\n",
    "for i in x_vals:\n",
    "    best_fit.append(slope * i + intercept)\n",
    "\n",
    "plt.plot(x_vals, y_vals, 'o', label = 'Data')\n",
    "plt.plot(x_vals, best_fit, 'r-', label = 'Ridge Regression', linewidth = 3)\n",
    "plt.legend(loc = 'upper left')\n",
    "plt.title('Sepalo Lenght vs Petalo widht')\n",
    "plt.show()"
   ]
  }
 ],
 "metadata": {
  "kernelspec": {
   "display_name": "Python 3",
   "language": "python",
   "name": "python3"
  },
  "language_info": {
   "codemirror_mode": {
    "name": "ipython",
    "version": 3
   },
   "file_extension": ".py",
   "mimetype": "text/x-python",
   "name": "python",
   "nbconvert_exporter": "python",
   "pygments_lexer": "ipython3",
   "version": "3.7.6"
  }
 },
 "nbformat": 4,
 "nbformat_minor": 4
}
