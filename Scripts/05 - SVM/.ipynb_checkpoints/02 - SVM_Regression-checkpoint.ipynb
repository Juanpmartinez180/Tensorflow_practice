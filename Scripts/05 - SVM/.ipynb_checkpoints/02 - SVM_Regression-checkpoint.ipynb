{
 "cells": [
  {
   "cell_type": "markdown",
   "metadata": {},
   "source": [
    "# SVM for Regression problems\n",
    "\n",
    "Is posibble to use SVM algortihm to infer a linear regression in a dataset.\n",
    "Classic SVM is based on maximize the gap (distance) between points without touching them.\n",
    "If now we try to minimize the distance to the line but including the maximum possible data points.\n",
    "\n",
    "- Loss Function\n",
    "$$ Loss = \\frac{1}{n}\\sum_{i=1}^n \\max(0, |y_i-(Ax_i+b)-\\epsilon|$$\n",
    "Where:\n",
    "- $\\varepsilon$: Parameter that forces the loss function to converge to 0 incluiding all the data points."
   ]
  },
  {
   "cell_type": "markdown",
   "metadata": {},
   "source": [
    "### Library import"
   ]
  },
  {
   "cell_type": "code",
   "execution_count": 1,
   "metadata": {},
   "outputs": [],
   "source": [
    "import numpy as np\n",
    "import matplotlib.pyplot as plt\n",
    "import tensorflow as tf\n",
    "from sklearn import datasets\n",
    "%config Completer.use_jedi = False\n",
    "\n",
    "session = tf.Session()\n",
    "iris = datasets.load_iris()"
   ]
  },
  {
   "cell_type": "markdown",
   "metadata": {},
   "source": [
    "### Data ingestion - Train/test dataset split"
   ]
  },
  {
   "cell_type": "code",
   "execution_count": 2,
   "metadata": {},
   "outputs": [],
   "source": [
    "x_vals = np.array([x[3] for x in iris.data])\n",
    "y_vals = np.array([y[0] for y in iris.data])\n",
    "\n",
    "train_idx = np.random.choice(len(x_vals), round(len(x_vals)*0.8), replace = False)\n",
    "test_idx = np.array(list(set(range(len(x_vals)))-set(train_idx)))\n",
    "x_vals_train = x_vals[train_idx]\n",
    "x_vals_test = x_vals[test_idx]\n",
    "y_vals_train = y_vals[train_idx]\n",
    "y_vals_test = y_vals[test_idx]"
   ]
  },
  {
   "cell_type": "code",
   "execution_count": 3,
   "metadata": {},
   "outputs": [
    {
     "data": {
      "image/png": "[encoded data removed]",
      "text/plain": [
       "<Figure size 432x288 with 1 Axes>"
      ]
     },
     "metadata": {
      "needs_background": "light"
     },
     "output_type": "display_data"
    }
   ],
   "source": [
    "plt.plot(x_vals, y_vals, 'o')\n",
    "plt.title('Data')\n",
    "plt.show()"
   ]
  },
  {
   "cell_type": "markdown",
   "metadata": {},
   "source": [
    "### Tensorflow variables declaration\n",
    "- Needed variables\n",
    "- Loss function definition\n",
    "- Accuracy metric\n",
    "- Variable initilization"
   ]
  },
  {
   "cell_type": "code",
   "execution_count": 4,
   "metadata": {},
   "outputs": [],
   "source": [
    "batch_size = 100    #If the number is too small the convergence would be affected\n",
    "learning_rate = 0.05\n",
    "\n",
    "x_data = tf.placeholder(shape = [None, 1], dtype = tf.float32)\n",
    "y_target = tf.placeholder(shape = [None, 1], dtype = tf.float32)\n",
    "\n",
    "A = tf.Variable(tf.random_normal(shape = [1,1]))\n",
    "b = tf.Variable(tf.random_normal(shape = [1,1]))"
   ]
  },
  {
   "cell_type": "code",
   "execution_count": 5,
   "metadata": {},
   "outputs": [],
   "source": [
    "model_output = tf.add(tf.matmul(x_data, A), b)"
   ]
  },
  {
   "cell_type": "code",
   "execution_count": 6,
   "metadata": {},
   "outputs": [],
   "source": [
    "epsilon = tf.constant(0.5)\n",
    "loss = tf.reduce_mean(tf.maximum(0.0, tf.subtract(tf.abs(tf.subtract(model_output, y_target)), epsilon)))"
   ]
  },
  {
   "cell_type": "code",
   "execution_count": 7,
   "metadata": {},
   "outputs": [
    {
     "name": "stdout",
     "output_type": "stream",
     "text": [
      "WARNING:tensorflow:From /home/juan/anaconda3/lib/python3.7/site-packages/tensorflow/python/ops/math_grad.py:1250: add_dispatch_support.<locals>.wrapper (from tensorflow.python.ops.array_ops) is deprecated and will be removed in a future version.\n",
      "Instructions for updating:\n",
      "Use tf.where in 2.0, which has the same broadcast rule as np.where\n"
     ]
    }
   ],
   "source": [
    "my_opt = tf.train.GradientDescentOptimizer(learning_rate)\n",
    "train_step = my_opt.minimize(loss)\n",
    "\n",
    "init = tf.global_variables_initializer()\n",
    "session.run(init)"
   ]
  },
  {
   "cell_type": "markdown",
   "metadata": {},
   "source": [
    "### Model training"
   ]
  },
  {
   "cell_type": "code",
   "execution_count": 8,
   "metadata": {},
   "outputs": [
    {
     "name": "stdout",
     "output_type": "stream",
     "text": [
      "Step #50, A = [[3.4480684]], b = [[0.64092153]], Train Loss = 1.2979764, Test Loss = 1.6812911\n",
      "Step #100, A = [[2.9903188]], b = [[1.3174214]], Train Loss = 1.0321065, Test Loss = 1.3479561\n",
      "Step #150, A = [[2.6090693]], b = [[1.9619218]], Train Loss = 0.80274206, Test Loss = 1.0306159\n",
      "Step #200, A = [[2.2421198]], b = [[2.6004212]], Train Loss = 0.5853054, Test Loss = 0.73061055\n",
      "Step #250, A = [[1.9002196]], b = [[3.221421]], Train Loss = 0.3854681, Test Loss = 0.44905454\n",
      "Step #300, A = [[1.5822699]], b = [[3.7859204]], Train Loss = 0.21723051, Test Loss = 0.21729235\n"
     ]
    }
   ],
   "source": [
    "train_loss = []\n",
    "test_loss = []\n",
    "\n",
    "for i in range(300):\n",
    "    rand_idx = np.random.choice(len(x_vals_train), size = batch_size)\n",
    "    rand_x = np.transpose([x_vals_train[rand_idx]])\n",
    "    rand_y = np.transpose([y_vals_train[rand_idx]])\n",
    "    session.run(train_step, feed_dict = {x_data: rand_x,\n",
    "                                         y_target: rand_y})\n",
    "\n",
    "    \n",
    "    train_loss_temp = session.run(loss, feed_dict = {x_data: np.transpose([x_vals_train]),\n",
    "                                                        y_target: np.transpose([y_vals_train])})\n",
    "    train_loss.append(train_loss_temp)\n",
    "    \n",
    "    test_loss_temp = session.run(loss, feed_dict = {x_data: np.transpose([x_vals_test]),\n",
    "                                                    y_target: np.transpose([y_vals_test])})\n",
    "    test_loss.append(test_loss_temp)\n",
    "    if (i+1)%50 == 0:\n",
    "        print('Step #'+str(i+1)+\n",
    "              ', A = '+str(session.run(A))+\n",
    "              ', b = '+str(session.run(b))+\n",
    "              ', Train Loss = '+str(train_loss_temp)+\n",
    "              ', Test Loss = '+str(test_loss_temp))"
   ]
  },
  {
   "cell_type": "code",
   "execution_count": 9,
   "metadata": {},
   "outputs": [
    {
     "data": {
      "text/plain": [
       "Text(0.5, 1.0, 'Training Loss')"
      ]
     },
     "execution_count": 9,
     "metadata": {},
     "output_type": "execute_result"
    },
    {
     "data": {
      "image/png": "[encoded data removed]",
      "text/plain": [
       "<Figure size 432x288 with 1 Axes>"
      ]
     },
     "metadata": {
      "needs_background": "light"
     },
     "output_type": "display_data"
    }
   ],
   "source": [
    "plt.plot(train_loss, 'k', label = 'Train Loss')\n",
    "plt.plot(test_loss, 'r-', label = 'Test Loss')\n",
    "plt.legend(loc = 'upper left')\n",
    "plt.xlabel('Step')\n",
    "plt.ylabel('Loss')\n",
    "plt.title('Training Loss')"
   ]
  },
  {
   "cell_type": "markdown",
   "metadata": {},
   "source": [
    "### Linear equation"
   ]
  },
  {
   "cell_type": "code",
   "execution_count": 15,
   "metadata": {},
   "outputs": [],
   "source": [
    "[[slope]] = session.run(A)\n",
    "[[intercept]] = session.run(b)\n",
    "widht = session.run(epsilon)\n",
    "\n",
    "best_fit = []\n",
    "best_fit_upper = []\n",
    "best_fit_lower = []\n",
    "for i in x_vals:\n",
    "    best_fit.append(slope*i + intercept)\n",
    "    best_fit_upper.append(slope*i + intercept + widht)\n",
    "    best_fit_lower.append(slope*i + intercept - widht)"
   ]
  },
  {
   "cell_type": "code",
   "execution_count": 17,
   "metadata": {},
   "outputs": [
    {
     "data": {
      "image/png": "[encoded data removed]",
      "text/plain": [
       "<Figure size 432x288 with 1 Axes>"
      ]
     },
     "metadata": {
      "needs_background": "light"
     },
     "output_type": "display_data"
    }
   ],
   "source": [
    "plt.plot(x_vals, y_vals, 'o', label = 'Iris Flowers')\n",
    "plt.plot(x_vals, best_fit, 'r-', label = 'SVM Regression', linewidth = 3)\n",
    "plt.plot(x_vals, best_fit_upper, 'r--', linewidth = 1)\n",
    "plt.plot(x_vals, best_fit_lower, 'r--', linewidth = 1)\n",
    "plt.legend(loc = 'lower right')\n",
    "plt.ylim([0,10])\n",
    "plt.xlabel('Width')\n",
    "plt.ylabel('Lenght')\n",
    "plt.title('Iris SVM regression')\n",
    "plt.show()\n"
   ]
  }
 ],
 "metadata": {
  "kernelspec": {
   "display_name": "Python 3",
   "language": "python",
   "name": "python3"
  },
  "language_info": {
   "codemirror_mode": {
    "name": "ipython",
    "version": 3
   },
   "file_extension": ".py",
   "mimetype": "text/x-python",
   "name": "python",
   "nbconvert_exporter": "python",
   "pygments_lexer": "ipython3",
   "version": "3.7.6"
  }
 },
 "nbformat": 4,
 "nbformat_minor": 4
}
