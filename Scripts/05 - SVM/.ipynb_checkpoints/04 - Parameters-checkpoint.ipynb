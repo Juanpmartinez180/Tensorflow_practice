{
 "cells": [
  {
   "cell_type": "markdown",
   "metadata": {},
   "source": [
    "# Gaussian Kernel Parameters\n"
   ]
  },
  {
   "cell_type": "markdown",
   "metadata": {},
   "source": [
    "## Library and dataset import"
   ]
  },
  {
   "cell_type": "code",
   "execution_count": 1,
   "metadata": {},
   "outputs": [],
   "source": [
    "import numpy as np\n",
    "import matplotlib.pyplot as plt\n",
    "import tensorflow as tf\n",
    "from sklearn import datasets\n",
    "%config Completer.use_jedi = False\n",
    "session = tf.Session()"
   ]
  },
  {
   "cell_type": "code",
   "execution_count": 2,
   "metadata": {},
   "outputs": [],
   "source": [
    "iris = datasets.load_iris()\n",
    "x_vals = np.array([[x[0], x[3]] for x in iris.data])\n",
    "y_vals = np.array([1 if y == 0 else -1 for y in iris.target])\n",
    "\n",
    "class1_x = [x[0] for i, x in enumerate(x_vals) if y_vals[i] == 1]\n",
    "class1_y = [x[1] for i, x in enumerate(x_vals) if y_vals[i] == 1]\n",
    "\n",
    "class2_x = [x[0] for i, x in enumerate(x_vals) if y_vals[i] == -1]\n",
    "class2_y = [x[1] for i, x in enumerate(x_vals) if y_vals[i] == -1]\n"
   ]
  },
  {
   "cell_type": "markdown",
   "metadata": {},
   "source": [
    "### Variable creation"
   ]
  },
  {
   "cell_type": "code",
   "execution_count": 3,
   "metadata": {},
   "outputs": [],
   "source": [
    "batch_size = 150\n",
    "x_data = tf.placeholder(shape = [None, 2], dtype = tf.float32)\n",
    "y_target = tf.placeholder(shape = [None, 1], dtype = tf.float32)\n",
    "\n",
    "prediction_grid = tf.placeholder(shape = [None, 2], dtype = tf.float32)\n",
    "\n",
    "b = tf.Variable(tf.random_normal(shape = [1, batch_size]))"
   ]
  },
  {
   "cell_type": "markdown",
   "metadata": {},
   "source": [
    "### Gaussian kernel"
   ]
  },
  {
   "cell_type": "code",
   "execution_count": 26,
   "metadata": {},
   "outputs": [],
   "source": [
    "gamma = tf.constant(-5.0)\n",
    "dist = tf.reduce_sum(tf.square(x_data), 1)\n",
    "dist = tf.reshape(dist, [-1, 1])\n",
    "sq_dist = tf.add(tf.subtract(dist, tf.multiply(2.0, tf.matmul(x_data, tf.transpose(x_data)))), tf.transpose(dist))\n",
    "my_kernel = tf.exp(tf.multiply(gamma, tf.abs(sq_dist)))"
   ]
  },
  {
   "cell_type": "markdown",
   "metadata": {},
   "source": [
    "### SVM general solution"
   ]
  },
  {
   "cell_type": "code",
   "execution_count": 14,
   "metadata": {},
   "outputs": [],
   "source": [
    "first_sum = tf.reduce_sum(b)\n",
    "b_vect_cross = tf.matmul(tf.transpose(b), b)\n",
    "y_target_cross = tf.matmul(y_target, tf.transpose(y_target))\n",
    "\n",
    "second_sum = tf.reduce_sum(tf.multiply(my_kernel, tf.multiply(b_vect_cross, y_target_cross)))\n",
    "loss = tf.negative(tf.subtract(first_sum, second_sum))"
   ]
  },
  {
   "cell_type": "markdown",
   "metadata": {},
   "source": [
    "### Prediction Kernel"
   ]
  },
  {
   "cell_type": "code",
   "execution_count": 15,
   "metadata": {},
   "outputs": [],
   "source": [
    "rA = tf.reshape(tf.reduce_sum(tf.square(x_data), 1), [-1, 1])\n",
    "rB = tf.reshape(tf.reduce_sum(tf.square(prediction_grid), 1), [-1, 1])\n",
    "\n",
    "pred_sq_dist = tf.add(tf.subtract(rA, tf.multiply(2.0, tf.matmul(x_data, tf.transpose(prediction_grid)))), tf.transpose(rB))\n",
    "pred_kernel = tf.exp(tf.multiply(gamma, tf.abs(pred_sq_dist)))\n",
    "\n",
    "prediction_output = tf.matmul(tf.multiply(tf.transpose(y_target), b), pred_kernel)\n",
    "prediction = tf.sign(prediction_output - tf.reduce_mean(prediction_output))\n",
    "\n",
    "accuracy = tf.reduce_mean(tf.cast(tf.equal(tf.squeeze(prediction), tf.squeeze(y_target)), tf.float32))"
   ]
  },
  {
   "cell_type": "markdown",
   "metadata": {},
   "source": [
    "### Algorithm train"
   ]
  },
  {
   "cell_type": "code",
   "execution_count": 21,
   "metadata": {},
   "outputs": [],
   "source": [
    "learning_rate = 0.01\n",
    "my_opt = tf.train.GradientDescentOptimizer(learning_rate = learning_rate)\n",
    "train_step = my_opt.minimize(loss)"
   ]
  },
  {
   "cell_type": "markdown",
   "metadata": {},
   "source": [
    "### Variable initilization"
   ]
  },
  {
   "cell_type": "code",
   "execution_count": 22,
   "metadata": {},
   "outputs": [],
   "source": [
    "init = tf.global_variables_initializer()\n",
    "session.run(init)"
   ]
  },
  {
   "cell_type": "markdown",
   "metadata": {},
   "source": [
    "## Model training"
   ]
  },
  {
   "cell_type": "code",
   "execution_count": 23,
   "metadata": {},
   "outputs": [
    {
     "name": "stdout",
     "output_type": "stream",
     "text": [
      "Step #50Loss = 15.709322Accuracy = 0.68666667\n",
      "Step #100Loss = 2.955657Accuracy = 0.97333336\n",
      "Step #150Loss = -0.14957333Accuracy = 0.8333333\n",
      "Step #200Loss = -1.8952826Accuracy = 0.98\n",
      "Step #250Loss = -2.1500018Accuracy = 0.9866667\n",
      "Step #300Loss = -2.0722756Accuracy = 0.99333334\n",
      "Step #350Loss = -2.018245Accuracy = 0.98\n",
      "Step #400Loss = -1.952348Accuracy = 0.9866667\n"
     ]
    }
   ],
   "source": [
    "loss_vect = []\n",
    "batch_acc = []\n",
    "\n",
    "for i in range(400):\n",
    "    rand_idx = np.random.choice(len(x_vals), size = batch_size)\n",
    "    rand_x = x_vals[rand_idx]\n",
    "    rand_y = np.transpose([y_vals[rand_idx]])\n",
    "    session.run(train_step, feed_dict= {x_data: rand_x,\n",
    "                                        y_target: rand_y})\n",
    "    temp_loss = session.run(loss, feed_dict= {x_data: rand_x,\n",
    "                                              y_target: rand_y})\n",
    "    loss_vect.append(temp_loss)\n",
    "    \n",
    "    temp_acc = session.run(accuracy, feed_dict= {x_data: rand_x,\n",
    "                                                 y_target: rand_y,\n",
    "                                                 prediction_grid: rand_x})\n",
    "    batch_acc.append(temp_acc)\n",
    "    \n",
    "    if (i+1)%50 == 0:\n",
    "        print('Step #'+str(i+1)+\n",
    "              'Loss = '+str(temp_loss)+\n",
    "              'Accuracy = '+str(temp_acc))"
   ]
  },
  {
   "cell_type": "code",
   "execution_count": 24,
   "metadata": {},
   "outputs": [
    {
     "data": {
      "image/png": "[encoded data removed]",
      "text/plain": [
       "<Figure size 432x288 with 1 Axes>"
      ]
     },
     "metadata": {
      "needs_background": "light"
     },
     "output_type": "display_data"
    }
   ],
   "source": [
    "plt.plot(loss_vect, 'k-')\n",
    "plt.title('Training Loss')\n",
    "plt.xlabel('Step')\n",
    "plt.ylabel('Loss')\n",
    "plt.show()"
   ]
  },
  {
   "cell_type": "markdown",
   "metadata": {},
   "source": [
    "### Result visualization"
   ]
  },
  {
   "cell_type": "code",
   "execution_count": 25,
   "metadata": {},
   "outputs": [
    {
     "data": {
      "image/png": "[encoded data removed]",
      "text/plain": [
       "<Figure size 432x288 with 1 Axes>"
      ]
     },
     "metadata": {
      "needs_background": "light"
     },
     "output_type": "display_data"
    }
   ],
   "source": [
    "x_min, x_max = x_vals[:, 0].min()-1, x_vals[:, 0].max()+1\n",
    "y_min, y_max = x_vals[:, 1].min()-1, x_vals[:, 1].max()+1\n",
    "\n",
    "xx, yy = np.meshgrid(np.arange(x_min, x_max, 0.02), np.arange(y_min, y_max, 0.02))\n",
    "\n",
    "grid_points = np.c_[xx.ravel(), yy.ravel()]\n",
    "\n",
    "[grid_predictions] = session.run(prediction, feed_dict={x_data: x_vals,\n",
    "                                                       y_target: np.transpose([y_vals]),\n",
    "                                                       prediction_grid: grid_points})\n",
    "\n",
    "grid_predictions = grid_predictions.reshape(xx.shape)\n",
    "\n",
    "\n",
    "x_min, x_max = x_vals[:,0].min()-1, x_vals[:,0].max()+1\n",
    "y_min, y_max = x_vals[:,1].min()-1, x_vals[:,1].max()+1\n",
    "\n",
    "xx, yy = np.meshgrid(np.arange(x_min, x_max, 0.02), np.arange(y_min, y_max, 0.02))\n",
    "\n",
    "grid_points = np.c_[xx.ravel(), yy.ravel()]\n",
    "\n",
    "[grid_predictions] = session.run(prediction, feed_dict={x_data: x_vals,\n",
    "                                                   y_target: np.transpose([y_vals]),\n",
    "                                                   prediction_grid: grid_points})\n",
    "\n",
    "grid_predictions = grid_predictions.reshape(xx.shape)\n",
    "\n",
    "plt.contourf(xx, yy, grid_predictions, cmap = plt.cm.Paired, alpha = 0.7)\n",
    "plt.plot(class1_x, class1_y, 'ro', label = 'Iris Setosa')\n",
    "plt.plot(class2_x, class2_y, 'bx', label = 'Iris No Setosa')\n",
    "plt.legend(loc = 'lower right')\n",
    "\n",
    "plt.title('SVM Gaussian Kernel Gamma = '+str(-session.run(gamma)))\n",
    "plt.show()"
   ]
  },
  {
   "cell_type": "code",
   "execution_count": null,
   "metadata": {},
   "outputs": [],
   "source": []
  }
 ],
 "metadata": {
  "kernelspec": {
   "display_name": "Python 3",
   "language": "python",
   "name": "python3"
  },
  "language_info": {
   "codemirror_mode": {
    "name": "ipython",
    "version": 3
   },
   "file_extension": ".py",
   "mimetype": "text/x-python",
   "name": "python",
   "nbconvert_exporter": "python",
   "pygments_lexer": "ipython3",
   "version": "3.7.6"
  }
 },
 "nbformat": 4,
 "nbformat_minor": 4
}
