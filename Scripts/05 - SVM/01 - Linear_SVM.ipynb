{
 "cells": [
  {
   "cell_type": "markdown",
   "metadata": {},
   "source": [
    " # Linear SVM\n",
    " \n",
    " - Create a SVM binary classifier using Iris dataset\n",
    "Using the equation:\n",
    "$$\\frac{1}{n}\\sum_{i=1}^n \\max(0, 1-y_i(Ax_i-b))+\\alpha||A||²$$\n",
    "Where:\n",
    "- $A$ Slope vector for each variable\n",
    "- $b$ Intercept point\n",
    "- $x = (x_1, x_2,\\cdots, x_n)$ Data vector\n",
    "- $y_i$ Object class (-1 or 1)\n",
    "- $\\alpha$ Regularization coeficient and separation softer"
   ]
  },
  {
   "cell_type": "markdown",
   "metadata": {},
   "source": [
    "### Library import"
   ]
  },
  {
   "cell_type": "code",
   "execution_count": 2,
   "metadata": {},
   "outputs": [
    {
     "name": "stderr",
     "output_type": "stream",
     "text": [
      "/home/juan/anaconda3/lib/python3.7/importlib/_bootstrap.py:219: RuntimeWarning: numpy.ufunc size changed, may indicate binary incompatibility. Expected 216, got 192\n",
      "  return f(*args, **kwds)\n",
      "/home/juan/anaconda3/lib/python3.7/importlib/_bootstrap.py:219: RuntimeWarning: numpy.ufunc size changed, may indicate binary incompatibility. Expected 192 from C header, got 216 from PyObject\n",
      "  return f(*args, **kwds)\n",
      "/home/juan/anaconda3/lib/python3.7/importlib/_bootstrap.py:219: RuntimeWarning: numpy.ufunc size changed, may indicate binary incompatibility. Expected 192 from C header, got 216 from PyObject\n",
      "  return f(*args, **kwds)\n"
     ]
    }
   ],
   "source": [
    "import numpy as np\n",
    "import matplotlib.pyplot as plt\n",
    "import tensorflow as tf\n",
    "from sklearn import datasets\n",
    "%config Completer.use_jedi = False\n",
    "\n",
    "session = tf.Session()\n",
    "iris = datasets.load_iris()"
   ]
  },
  {
   "cell_type": "markdown",
   "metadata": {},
   "source": [
    "### Data ingestion - Train/test dataset split"
   ]
  },
  {
   "cell_type": "code",
   "execution_count": 3,
   "metadata": {},
   "outputs": [],
   "source": [
    "x_vals = np.array([[x[0], x[3]] for x in iris.data])\n",
    "y_vals = np.array([1 if y == 0 else -1 for y in iris.target])"
   ]
  },
  {
   "cell_type": "code",
   "execution_count": 4,
   "metadata": {},
   "outputs": [],
   "source": [
    "train_idx = np.random.choice(len(x_vals), round(len(x_vals)*0.8), replace = False)\n",
    "test_idx = np.array(list(set(range(len(x_vals)))-set(train_idx)))\n",
    "x_vals_train = x_vals[train_idx]\n",
    "x_vals_test = x_vals[test_idx]\n",
    "y_vals_train = y_vals[train_idx]\n",
    "y_vals_test = y_vals[test_idx]"
   ]
  },
  {
   "cell_type": "markdown",
   "metadata": {},
   "source": [
    "### Tensorflow variables declaration\n",
    "- Needed variables\n",
    "- Loss function definition\n",
    "- Accuracy metric\n",
    "- Variable initilization"
   ]
  },
  {
   "cell_type": "code",
   "execution_count": 65,
   "metadata": {},
   "outputs": [],
   "source": [
    "batch_size = 100    #If the number is too small the convergence would be affected\n",
    "\n",
    "x_data = tf.placeholder(shape = [None, 2], dtype = tf.float32)\n",
    "y_target = tf.placeholder(shape = [None, 1], dtype = tf.float32)\n",
    "\n",
    "A = tf.Variable(tf.random_normal(shape = [2,1]))\n",
    "b = tf.Variable(tf.random_normal(shape = [1,1]))"
   ]
  },
  {
   "cell_type": "code",
   "execution_count": 66,
   "metadata": {},
   "outputs": [],
   "source": [
    "model_output = tf.subtract(tf.matmul(x_data, A), b)"
   ]
  },
  {
   "cell_type": "code",
   "execution_count": 67,
   "metadata": {},
   "outputs": [],
   "source": [
    "l2_norm = tf.reduce_sum(tf.square(A))\n",
    "alpha = tf.constant([0.1])\n",
    "classification_term = tf.reduce_mean(tf.maximum(0.0, tf.subtract(1.0, tf.multiply(model_output, y_target))))\n",
    "\n",
    "loss = tf.add(classification_term, tf.multiply(alpha, l2_norm))"
   ]
  },
  {
   "cell_type": "code",
   "execution_count": 68,
   "metadata": {},
   "outputs": [],
   "source": [
    "prediction = tf.sign(model_output)\n",
    "accuracy = tf.reduce_mean(tf.cast(tf.equal(prediction, y_target), tf.float32))"
   ]
  },
  {
   "cell_type": "code",
   "execution_count": 69,
   "metadata": {},
   "outputs": [],
   "source": [
    "my_optim = tf.train.GradientDescentOptimizer(0.01)\n",
    "train_step = my_optim.minimize(loss)\n",
    "\n",
    "init = tf.global_variables_initializer()\n",
    "session.run(init)"
   ]
  },
  {
   "cell_type": "code",
   "execution_count": 70,
   "metadata": {},
   "outputs": [
    {
     "name": "stdout",
     "output_type": "stream",
     "text": [
      "Step #50, A = [[-0.43457898]\n",
      " [ 0.9837983 ]], b = [[-0.02380762]], Loss = [0.9320573]\n",
      "Step #100, A = [[-0.34920847]\n",
      " [ 0.66642135]], b = [[-0.06670761]], Loss = [0.96168804]\n",
      "Step #150, A = [[-0.2954354 ]\n",
      " [ 0.38763022]], b = [[-0.10180759]], Loss = [0.5690424]\n",
      "Step #200, A = [[-0.2314559 ]\n",
      " [ 0.15592968]], b = [[-0.13390762]], Loss = [0.7047973]\n",
      "Step #250, A = [[-0.17596723]\n",
      " [-0.03316985]], b = [[-0.16260763]], Loss = [0.58269805]\n",
      "Step #300, A = [[-0.1291128 ]\n",
      " [-0.20134419]], b = [[-0.1943076]], Loss = [0.7139786]\n",
      "Step #350, A = [[-0.11094865]\n",
      " [-0.33283153]], b = [[-0.2203076]], Loss = [0.5928871]\n",
      "Step #400, A = [[-0.08829544]\n",
      " [-0.44674328]], b = [[-0.24850762]], Loss = [0.5854683]\n",
      "Step #450, A = [[-0.0759206 ]\n",
      " [-0.55411285]], b = [[-0.2762076]], Loss = [0.3866112]\n",
      "Step #500, A = [[-0.05295769]\n",
      " [-0.64765227]], b = [[-0.30670756]], Loss = [0.5214215]\n",
      "Step #550, A = [[-0.02163272]\n",
      " [-0.73115796]], b = [[-0.34020764]], Loss = [0.5620475]\n",
      "Step #600, A = [[-0.01084229]\n",
      " [-0.803966  ]], b = [[-0.36940768]], Loss = [0.45738605]\n",
      "Step #650, A = [[ 5.1347306e-05]\n",
      " [-8.7516123e-01]], b = [[-0.40030763]], Loss = [0.4373759]\n",
      "Step #700, A = [[ 0.00901145]\n",
      " [-0.9379277 ]], b = [[-0.43050754]], Loss = [0.45709756]\n",
      "Step #750, A = [[ 0.02287184]\n",
      " [-1.0014538 ]], b = [[-0.46470746]], Loss = [0.46442577]\n",
      "Step #800, A = [[ 0.01111087]\n",
      " [-1.0505865 ]], b = [[-0.49010745]], Loss = [0.405927]\n",
      "Step #850, A = [[ 0.03708015]\n",
      " [-1.0899901 ]], b = [[-0.5239074]], Loss = [0.39288518]\n",
      "Step #900, A = [[ 0.03551803]\n",
      " [-1.1370136 ]], b = [[-0.55320734]], Loss = [0.4030478]\n",
      "Step #950, A = [[ 0.04591136]\n",
      " [-1.1741861 ]], b = [[-0.5848071]], Loss = [0.4577704]\n",
      "Step #1000, A = [[ 0.05004503]\n",
      " [-1.2110603 ]], b = [[-0.6154069]], Loss = [0.41362572]\n"
     ]
    }
   ],
   "source": [
    "loss_vect = []\n",
    "train_acc = []\n",
    "test_acc = []\n",
    "for i in range(1000):\n",
    "    rand_idx = np.random.choice(len(x_vals_train), size = batch_size)\n",
    "    rand_x = x_vals_train[rand_idx]\n",
    "    rand_y = np.transpose([y_vals_train[rand_idx]])\n",
    "    session.run(train_step, feed_dict = {x_data: rand_x,\n",
    "                                         y_target: rand_y})\n",
    "    temp_loss = session.run(loss, feed_dict = {x_data: rand_x,\n",
    "                                               y_target: rand_y})\n",
    "    loss_vect.append(temp_loss)\n",
    "    \n",
    "    train_acc_temp = session.run(accuracy, feed_dict = {x_data: x_vals_train,\n",
    "                                                        y_target: np.transpose([y_vals_train])})\n",
    "    train_acc.append(train_acc_temp)\n",
    "    \n",
    "    test_acc_temp = session.run(accuracy, feed_dict = {x_data: x_vals_test,\n",
    "                                                       y_target: np.transpose([y_vals_test])})\n",
    "    test_acc.append(test_acc_temp)\n",
    "    if (i+1)%50 == 0:\n",
    "        print('Step #'+str(i+1)+\n",
    "              ', A = '+str(session.run(A))+\n",
    "              ', b = '+str(session.run(b))+\n",
    "              ', Loss = '+str(temp_loss))"
   ]
  },
  {
   "cell_type": "code",
   "execution_count": 71,
   "metadata": {},
   "outputs": [
    {
     "data": {
      "text/plain": [
       "Text(0.5, 1.0, 'Training Loss')"
      ]
     },
     "execution_count": 71,
     "metadata": {},
     "output_type": "execute_result"
    },
    {
     "data": {
      "image/png": "[encoded data removed]",
      "text/plain": [
       "<Figure size 432x288 with 1 Axes>"
      ]
     },
     "metadata": {
      "needs_background": "light"
     },
     "output_type": "display_data"
    }
   ],
   "source": [
    "plt.plot(loss_vect, 'k')\n",
    "plt.xlabel('Step')\n",
    "plt.ylabel('Loss')\n",
    "plt.title('Training Loss')"
   ]
  },
  {
   "cell_type": "markdown",
   "metadata": {},
   "source": [
    "### Linear equation"
   ]
  },
  {
   "cell_type": "code",
   "execution_count": 72,
   "metadata": {},
   "outputs": [],
   "source": [
    "[[a1], [a2]] = session.run(A)\n",
    "[[b]] = session.run(b)\n",
    "\n",
    "slope = -a2/a1\n",
    "y_intercept = b/a1\n",
    "\n",
    "x1_vals = [d[1] for d in x_vals]\n",
    "\n",
    "best_fit = []\n",
    "\n",
    "for i in x1_vals:\n",
    "    best_fit.append(slope*i + y_intercept)\n",
    "\n",
    "setosa_x = [d[1] for i, d in enumerate(x_vals) if y_vals[i] == 1]\n",
    "setosa_y = [d[0] for i, d in enumerate(x_vals) if y_vals[i] == 1]\n",
    "\n",
    "no_setosa_x = [d[1] for i, d in enumerate(x_vals) if y_vals[i] == -1]\n",
    "no_setosa_y = [d[0] for i, d in enumerate(x_vals) if y_vals[i] == -1]"
   ]
  },
  {
   "cell_type": "code",
   "execution_count": 73,
   "metadata": {},
   "outputs": [
    {
     "data": {
      "text/plain": [
       "Text(0.5, 1.0, 'Setosa/No setosa classification')"
      ]
     },
     "execution_count": 73,
     "metadata": {},
     "output_type": "execute_result"
    },
    {
     "data": {
      "image/png": "[encoded data removed]",
      "text/plain": [
       "<Figure size 432x288 with 1 Axes>"
      ]
     },
     "metadata": {
      "needs_background": "light"
     },
     "output_type": "display_data"
    }
   ],
   "source": [
    "plt.plot(setosa_x, setosa_y, 'o', label = 'Setosa')\n",
    "plt.plot(no_setosa_x, no_setosa_y, 'x', label = 'No Setosa')\n",
    "plt.plot(x1_vals, best_fit, 'r-', label = 'Linear classifier', linewidth = 3)\n",
    "plt.ylim([0,10])\n",
    "plt.legend(loc = 'lower right')\n",
    "plt.xlabel('Width')\n",
    "plt.ylabel('Lenght')\n",
    "plt.title('Setosa/No setosa classification')"
   ]
  },
  {
   "cell_type": "markdown",
   "metadata": {},
   "source": [
    "### Metrics"
   ]
  },
  {
   "cell_type": "code",
   "execution_count": 74,
   "metadata": {},
   "outputs": [
    {
     "data": {
      "image/png": "[encoded data removed]",
      "text/plain": [
       "<Figure size 432x288 with 1 Axes>"
      ]
     },
     "metadata": {
      "needs_background": "light"
     },
     "output_type": "display_data"
    }
   ],
   "source": [
    "plt.plot(train_acc, 'k-', label = 'Training accuracy')\n",
    "plt.plot(test_acc, 'r--', label = 'Test accuracy')\n",
    "plt.xlabel('Iteration')\n",
    "plt.ylabel('Accuracy')\n",
    "plt.legend(loc = 'lower right')\n",
    "plt.ylim([0,1])\n",
    "plt.show()"
   ]
  }
 ],
 "metadata": {
  "kernelspec": {
   "display_name": "Python 3",
   "language": "python",
   "name": "python3"
  },
  "language_info": {
   "codemirror_mode": {
    "name": "ipython",
    "version": 3
   },
   "file_extension": ".py",
   "mimetype": "text/x-python",
   "name": "python",
   "nbconvert_exporter": "python",
   "pygments_lexer": "ipython3",
   "version": "3.7.6"
  }
 },
 "nbformat": 4,
 "nbformat_minor": 4
}
