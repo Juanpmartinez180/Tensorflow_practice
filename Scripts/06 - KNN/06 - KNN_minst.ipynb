{
 "cells": [
  {
   "cell_type": "markdown",
   "metadata": {},
   "source": [
    "# Image Classification using KNN\n",
    "\n",
    "The idea is to use the KNN multiclass algorithm to classify the 10 differents categories of the Mnist image dataset.\n",
    "Mnist dataset is composed by over 60k images of 28x28px representing numbers from 0 to 9. Each number represent a category or label."
   ]
  },
  {
   "cell_type": "markdown",
   "metadata": {},
   "source": [
    "Library import"
   ]
  },
  {
   "cell_type": "code",
   "execution_count": 3,
   "metadata": {},
   "outputs": [],
   "source": [
    "import numpy as np\n",
    "import matplotlib.pyplot as plt\n",
    "import tensorflow as tf\n",
    "import random\n",
    "from PIL import Image\n",
    "from tensorflow.examples.tutorials.mnist import input_data\n",
    "\n",
    "session = tf.Session()\n",
    "%config Completer.use_jedi = False"
   ]
  },
  {
   "cell_type": "markdown",
   "metadata": {},
   "source": [
    "Dataset import"
   ]
  },
  {
   "cell_type": "code",
   "execution_count": 4,
   "metadata": {
    "collapsed": true,
    "jupyter": {
     "outputs_hidden": true
    }
   },
   "outputs": [
    {
     "name": "stdout",
     "output_type": "stream",
     "text": [
      "WARNING:tensorflow:From <ipython-input-4-1ad323e5ad3c>:1: read_data_sets (from tensorflow.contrib.learn.python.learn.datasets.mnist) is deprecated and will be removed in a future version.\n",
      "Instructions for updating:\n",
      "Please use alternatives such as official/mnist/dataset.py from tensorflow/models.\n",
      "WARNING:tensorflow:From /home/juan/anaconda3/lib/python3.7/site-packages/tensorflow/contrib/learn/python/learn/datasets/mnist.py:260: maybe_download (from tensorflow.contrib.learn.python.learn.datasets.base) is deprecated and will be removed in a future version.\n",
      "Instructions for updating:\n",
      "Please write your own downloading logic.\n",
      "WARNING:tensorflow:From /home/juan/anaconda3/lib/python3.7/site-packages/tensorflow/contrib/learn/python/learn/datasets/mnist.py:262: extract_images (from tensorflow.contrib.learn.python.learn.datasets.mnist) is deprecated and will be removed in a future version.\n",
      "Instructions for updating:\n",
      "Please use tf.data to implement this functionality.\n",
      "Extracting ../../Datasets/MNIST_data/train-images-idx3-ubyte.gz\n",
      "WARNING:tensorflow:From /home/juan/anaconda3/lib/python3.7/site-packages/tensorflow/contrib/learn/python/learn/datasets/mnist.py:267: extract_labels (from tensorflow.contrib.learn.python.learn.datasets.mnist) is deprecated and will be removed in a future version.\n",
      "Instructions for updating:\n",
      "Please use tf.data to implement this functionality.\n",
      "Extracting ../../Datasets/MNIST_data/train-labels-idx1-ubyte.gz\n",
      "WARNING:tensorflow:From /home/juan/anaconda3/lib/python3.7/site-packages/tensorflow/contrib/learn/python/learn/datasets/mnist.py:110: dense_to_one_hot (from tensorflow.contrib.learn.python.learn.datasets.mnist) is deprecated and will be removed in a future version.\n",
      "Instructions for updating:\n",
      "Please use tf.one_hot on tensors.\n",
      "Extracting ../../Datasets/MNIST_data/t10k-images-idx3-ubyte.gz\n",
      "Extracting ../../Datasets/MNIST_data/t10k-labels-idx1-ubyte.gz\n",
      "WARNING:tensorflow:From /home/juan/anaconda3/lib/python3.7/site-packages/tensorflow/contrib/learn/python/learn/datasets/mnist.py:290: DataSet.__init__ (from tensorflow.contrib.learn.python.learn.datasets.mnist) is deprecated and will be removed in a future version.\n",
      "Instructions for updating:\n",
      "Please use alternatives such as official/mnist/dataset.py from tensorflow/models.\n"
     ]
    }
   ],
   "source": [
    "mnist = input_data.read_data_sets('../../Datasets/MNIST_data/', one_hot=True)"
   ]
  },
  {
   "cell_type": "markdown",
   "metadata": {},
   "source": [
    "Dataset split into Train and test samples."
   ]
  },
  {
   "cell_type": "code",
   "execution_count": 40,
   "metadata": {},
   "outputs": [],
   "source": [
    "train_size = 30000\n",
    "test_size = 120\n",
    "\n",
    "rand_train_idx = np.random.choice(len(mnist.train.images), train_size, replace = False)\n",
    "rand_test_idx = np.random.choice(len(mnist.test.images), test_size, replace = False)\n",
    "\n",
    "x_vals_train = mnist.train.images[rand_train_idx]\n",
    "x_vals_test = mnist.test.images[rand_test_idx]\n",
    "\n",
    "y_vals_train = mnist.train.labels[rand_train_idx]\n",
    "y_vals_test = mnist.test.labels[rand_test_idx]"
   ]
  },
  {
   "cell_type": "markdown",
   "metadata": {},
   "source": [
    "### TF variable definition\n",
    "\n",
    "KNN hyperparamters"
   ]
  },
  {
   "cell_type": "code",
   "execution_count": 36,
   "metadata": {},
   "outputs": [],
   "source": [
    "k = 4\n",
    "batch_size = 6"
   ]
  },
  {
   "cell_type": "markdown",
   "metadata": {},
   "source": [
    "General variables"
   ]
  },
  {
   "cell_type": "code",
   "execution_count": 6,
   "metadata": {},
   "outputs": [],
   "source": [
    "x_data_train = tf.placeholder(shape = [None, 784], dtype = tf.float32)\n",
    "x_data_test = tf.placeholder(shape = [None, 784], dtype = tf.float32)\n",
    "\n",
    "y_target_train = tf.placeholder(shape = [None, 10], dtype = tf.float32)\n",
    "y_target_test = tf.placeholder(shape = [None, 10], dtype = tf.float32)"
   ]
  },
  {
   "cell_type": "markdown",
   "metadata": {},
   "source": [
    "Distance L1"
   ]
  },
  {
   "cell_type": "code",
   "execution_count": 7,
   "metadata": {},
   "outputs": [],
   "source": [
    "distance = tf.reduce_sum(tf.abs(tf.subtract(x_data_train, tf.expand_dims(x_data_test, 1))), reduction_indices = 2)"
   ]
  },
  {
   "cell_type": "markdown",
   "metadata": {},
   "source": [
    "Find the top K values and index of the shortest distance to the point. Then count the associated label values and keep only the category wich has the higher count."
   ]
  },
  {
   "cell_type": "code",
   "execution_count": 10,
   "metadata": {},
   "outputs": [],
   "source": [
    "top_k_xvals, top_k_idx = tf.nn.top_k(tf.negative(distance), k = k)\n",
    "prediction_idx = tf.gather(y_target_train, top_k_idx)\n",
    "count_of_preds = tf.reduce_sum(prediction_idx, reduction_indices = 1)\n",
    "prediction = tf.argmax(count_of_preds)"
   ]
  },
  {
   "cell_type": "markdown",
   "metadata": {},
   "source": [
    "### KNN classification Loop"
   ]
  },
  {
   "cell_type": "code",
   "execution_count": 15,
   "metadata": {},
   "outputs": [],
   "source": [
    "num_of_loops = int(np.ceil(len(x_vals_test))/batch_size)"
   ]
  },
  {
   "cell_type": "code",
   "execution_count": 41,
   "metadata": {},
   "outputs": [],
   "source": [
    "test_output = []\n",
    "actual_vals = []\n",
    "for i in range(num_of_loops):\n",
    "    min_idx = i*batch_size\n",
    "    max_idx = min((i+1)*batch_size, len(x_vals_test))\n",
    "    \n",
    "    x_batch = x_vals_test[min_idx:max_idx]\n",
    "    y_batch = y_vals_test[min_idx:max_idx]\n",
    "    \n",
    "    predictions = session.run(prediction, feed_dict = {x_data_train: x_vals_train,\n",
    "                                                       x_data_test: x_batch,\n",
    "                                                       y_target_train: y_vals_train,\n",
    "                                                       y_target_test: y_batch})\n",
    "    test_output.extend(predictions)\n",
    "    actual_vals.extend(np.argmax(y_batch, axis = 1))"
   ]
  },
  {
   "cell_type": "code",
   "execution_count": 42,
   "metadata": {},
   "outputs": [
    {
     "name": "stdout",
     "output_type": "stream",
     "text": [
      "Accuracy for K = 4 is :0.12499999999999999\n"
     ]
    }
   ],
   "source": [
    "accuracy = sum([1./test_size for i in range(test_size) if test_output[i] == actual_vals[i]])\n",
    "print('Accuracy for K = '+str(k)+' is :'+str(accuracy))"
   ]
  },
  {
   "cell_type": "code",
   "execution_count": null,
   "metadata": {},
   "outputs": [],
   "source": []
  },
  {
   "cell_type": "code",
   "execution_count": 43,
   "metadata": {
    "collapsed": true,
    "jupyter": {
     "outputs_hidden": true
    }
   },
   "outputs": [
    {
     "data": {
      "image/png": "[encoded data removed]",
      "text/plain": [
       "<Figure size 432x288 with 6 Axes>"
      ]
     },
     "metadata": {
      "needs_background": "light"
     },
     "output_type": "display_data"
    }
   ],
   "source": [
    "actuals = np.argmax(y_batch, axis = 1)\n",
    "n_row = 2\n",
    "n_col = 3\n",
    "\n",
    "for i in range(len(actuals)):\n",
    "    plt.subplot(n_row, n_col, i+1)\n",
    "    plt.imshow(np.reshape(x_batch[i], [28,28]), cmap = 'Greys_r')\n",
    "    plt.title('Actual: '+str(actuals[i])+', Prediction: '+str(predictions[i]), fontsize = 10)\n",
    "    frame = plt.gca()\n",
    "    frame.axes.get_xaxis().set_visible(False)\n",
    "    frame.axes.get_yaxis().set_visible(False)\n",
    "    "
   ]
  }
 ],
 "metadata": {
  "kernelspec": {
   "display_name": "Python 3",
   "language": "python",
   "name": "python3"
  },
  "language_info": {
   "codemirror_mode": {
    "name": "ipython",
    "version": 3
   },
   "file_extension": ".py",
   "mimetype": "text/x-python",
   "name": "python",
   "nbconvert_exporter": "python",
   "pygments_lexer": "ipython3",
   "version": "3.7.6"
  }
 },
 "nbformat": 4,
 "nbformat_minor": 4
}
