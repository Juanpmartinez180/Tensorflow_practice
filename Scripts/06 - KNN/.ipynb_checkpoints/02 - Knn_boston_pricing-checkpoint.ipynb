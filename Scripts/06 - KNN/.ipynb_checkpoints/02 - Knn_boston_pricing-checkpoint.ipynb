{
 "cells": [
  {
   "cell_type": "markdown",
   "metadata": {},
   "source": [
    "# Boston Houses Pricing using K-NN"
   ]
  },
  {
   "cell_type": "markdown",
   "metadata": {},
   "source": [
    "## Library and dataset import"
   ]
  },
  {
   "cell_type": "code",
   "execution_count": 116,
   "metadata": {},
   "outputs": [],
   "source": [
    "import numpy as np\n",
    "import matplotlib.pyplot as plt\n",
    "import tensorflow as tf\n",
    "from sklearn import datasets\n",
    "import requests\n",
    "\n",
    "session = tf.Session()\n",
    "%config Completer.use_jedi = False"
   ]
  },
  {
   "cell_type": "code",
   "execution_count": 117,
   "metadata": {},
   "outputs": [],
   "source": [
    "url = 'https://archive.ics.uci.edu/ml/machine-learning-databases/housing/housing.data'\n",
    "housing_header = ['CRIM', #      per capita crime rate by town\n",
    "                 'ZN', #        proportion of residential land zoned for lots over 25,000 sq.ft.\n",
    "                 'INDUS', #     proportion of non-retail business acres per town\n",
    "                 'CHAS', #      Charles River dummy variable (= 1 if tract bounds river; 0 otherwise)\n",
    "                 'NOX', #       nitric oxides concentration (parts per 10 million)\n",
    "                 'R', #        average number of rooms per dwelling\n",
    "                 'AGE', #       proportion of owner-occupied units built prior to 1940\n",
    "                 'DIS', #       weighted distances to five Boston employment centres\n",
    "                 'RAD', #       index of accessibility to radial highways\n",
    "                 'TAX', #      full-value property-tax rate per $10,000\n",
    "                 'PTRATIO', #  pupil-teacher ratio by town\n",
    "                 'B', #        1000(Bk - 0.63)^2 where Bk is the proportion of blacks by town\n",
    "                 'LSTAT', #    % lower status of the population\n",
    "                 'MEDV'] #     Median value of owner-occupied homes in $1000's \n",
    "cols_used = [\"CRIM\", \"INDUS\", \"NOX\", \"R\", \"AGE\", \"DIS\", \"TAX\", \"PTRATIO\", \"B\", \"LSTAT\"]\n",
    "num_features = len(cols_used)"
   ]
  },
  {
   "cell_type": "code",
   "execution_count": 118,
   "metadata": {},
   "outputs": [],
   "source": [
    "housing_file = requests.get(url)"
   ]
  },
  {
   "cell_type": "markdown",
   "metadata": {},
   "source": [
    "### Data selection and training/test split"
   ]
  },
  {
   "cell_type": "code",
   "execution_count": 119,
   "metadata": {},
   "outputs": [],
   "source": [
    "housing_data =[[float(x) for x in y.split(' ') if len(x)>=1] for y in housing_file.text.split('\\n') if len(y)>=1]\n",
    "y_vals = np.transpose([np.array([y[13] for y in housing_data])])\n",
    "x_vals = np.array([[x for i,x in enumerate(y) if housing_header[i] in cols_used] for y in housing_data])"
   ]
  },
  {
   "cell_type": "code",
   "execution_count": 120,
   "metadata": {},
   "outputs": [],
   "source": [
    "x_vals = (x_vals - x_vals.min(0))/x_vals.ptp(0)"
   ]
  },
  {
   "cell_type": "code",
   "execution_count": 121,
   "metadata": {},
   "outputs": [],
   "source": [
    "train_idx = np.random.choice(len(x_vals), round(len(x_vals)*0.8), replace=False)\n",
    "test_idx = np.array(list(set(range(len(x_vals)))-set(train_idx)))\n",
    "x_vals_train = x_vals[train_idx]\n",
    "x_vals_test = x_vals[test_idx]\n",
    "\n",
    "y_vals_train = y_vals[train_idx]\n",
    "y_vals_test = y_vals[test_idx]"
   ]
  },
  {
   "cell_type": "markdown",
   "metadata": {},
   "source": [
    "### KNN "
   ]
  },
  {
   "cell_type": "code",
   "execution_count": 122,
   "metadata": {},
   "outputs": [],
   "source": [
    "k = 4  #Hyperparameter (apriori selected)\n",
    "batch_size = len(x_vals_test)"
   ]
  },
  {
   "cell_type": "markdown",
   "metadata": {},
   "source": [
    "### Variables\n",
    "\n",
    "General variables:"
   ]
  },
  {
   "cell_type": "code",
   "execution_count": 123,
   "metadata": {},
   "outputs": [],
   "source": [
    "x_data_train = tf.placeholder(shape=[None, num_features], dtype=tf.float32)\n",
    "x_data_test = tf.placeholder(shape=[None, num_features], dtype=tf.float32)\n",
    "\n",
    "y_target_train = tf.placeholder(shape = [None, 1], dtype=tf.float32)\n",
    "y_target_test = tf.placeholder(shape=[None, 1], dtype=tf.float32)"
   ]
  },
  {
   "cell_type": "markdown",
   "metadata": {},
   "source": [
    "L1 distance:"
   ]
  },
  {
   "cell_type": "code",
   "execution_count": 124,
   "metadata": {},
   "outputs": [],
   "source": [
    "distance = tf.reduce_sum(tf.abs(tf.subtract(x_data_train, tf.expand_dims(x_data_test,1))), reduction_indices=2)"
   ]
  },
  {
   "cell_type": "markdown",
   "metadata": {},
   "source": [
    "The k max values along the distance tensor:"
   ]
  },
  {
   "cell_type": "code",
   "execution_count": 125,
   "metadata": {},
   "outputs": [],
   "source": [
    "top_k_xvals, top_k_idx = tf.nn.top_k(tf.negative(distance), k = k)"
   ]
  },
  {
   "cell_type": "markdown",
   "metadata": {},
   "source": [
    "Weighted average:"
   ]
  },
  {
   "cell_type": "code",
   "execution_count": 126,
   "metadata": {},
   "outputs": [],
   "source": [
    "x_sums = tf.expand_dims(tf.reduce_sum(top_k_xvals,1),1)\n",
    "x_sums_rep = tf.matmul(x_sums, tf.ones([1,k], tf.float32))\n",
    "x_vals_w = tf.expand_dims(tf.divide(top_k_xvals, x_sums_rep),1) # -> wi = di / \\sum(dj)"
   ]
  },
  {
   "cell_type": "code",
   "execution_count": 127,
   "metadata": {},
   "outputs": [],
   "source": [
    "top_k_yvals = tf.gather(y_target_train, top_k_idx)\n",
    "prediction = tf.squeeze(tf.matmul(x_vals_w, top_k_yvals),axis=[1]) ## \\sum w_i y_i"
   ]
  },
  {
   "cell_type": "markdown",
   "metadata": {},
   "source": [
    "Error metric Mean squared error:"
   ]
  },
  {
   "cell_type": "code",
   "execution_count": 128,
   "metadata": {},
   "outputs": [],
   "source": [
    "mse = tf.div(tf.reduce_sum(tf.square(tf.subtract(prediction, y_target_test))), batch_size)"
   ]
  },
  {
   "cell_type": "code",
   "execution_count": 129,
   "metadata": {},
   "outputs": [],
   "source": [
    "init = tf.global_variables_initializer()\n",
    "session.run(init)"
   ]
  },
  {
   "cell_type": "code",
   "execution_count": 130,
   "metadata": {},
   "outputs": [
    {
     "name": "stdout",
     "output_type": "stream",
     "text": [
      "MSE = 13.941\n"
     ]
    }
   ],
   "source": [
    "num_loops = int(np.ceil(len(x_vals_test)/batch_size))\n",
    "\n",
    "for i in range(num_loops):\n",
    "    min_idx = i*batch_size\n",
    "    max_idx = min((i+1)*batch_size, len(x_vals_train))\n",
    "    x_batch = x_vals_test[min_idx:max_idx]\n",
    "    y_batch = y_vals_test[min_idx:max_idx]\n",
    "        \n",
    "    predictions = session.run(prediction, feed_dict={x_data_train: x_vals_train,\n",
    "                                                     x_data_test: x_batch,\n",
    "                                                     y_target_train: y_vals_train,\n",
    "                                                     y_target_test: y_batch})\n",
    "    \n",
    "    batch_mse = session.run(mse, feed_dict = {x_data_train: x_vals_train,\n",
    "                                              x_data_test: x_batch,\n",
    "                                              y_target_train: y_vals_train,\n",
    "                                              y_target_test: y_batch})\n",
    "    print('MSE = '+str(np.round(batch_mse,3)))\n",
    "    "
   ]
  },
  {
   "cell_type": "markdown",
   "metadata": {},
   "source": [
    "### Data visualization"
   ]
  },
  {
   "cell_type": "code",
   "execution_count": 131,
   "metadata": {},
   "outputs": [
    {
     "data": {
      "image/png": "[encoded data removed]",
      "text/plain": [
       "<Figure size 432x288 with 1 Axes>"
      ]
     },
     "metadata": {
      "needs_background": "light"
     },
     "output_type": "display_data"
    }
   ],
   "source": [
    "bins = np.linspace(5, 50, 45)\n",
    "plt.hist(predictions, bins, alpha = 0.5, label = 'Prediction')\n",
    "plt.hist(y_batch, bins, alpha = 0.5, label = 'Real Data')\n",
    "plt.title('Real vs predicted values')\n",
    "plt.xlabel('House price in k$')\n",
    "plt.ylabel('Frequency')\n",
    "plt.legend(loc = 'upper right')\n",
    "plt.show()"
   ]
  },
  {
   "cell_type": "markdown",
   "metadata": {},
   "source": [
    "## Hyperparameter optimization\n",
    "\n",
    "Function to run multiple K values"
   ]
  },
  {
   "cell_type": "code",
   "execution_count": 132,
   "metadata": {},
   "outputs": [],
   "source": [
    "def knn(k):\n",
    "    batch_size = len(x_vals_test)\n",
    "    \n",
    "    top_k_xvals, top_k_idx = tf.nn.top_k(tf.negative(distance), k = k)\n",
    "    x_sums = tf.expand_dims(tf.reduce_sum(top_k_xvals,1),1)\n",
    "    x_sums_rep = tf.matmul(x_sums, tf.ones([1,k], tf.float32))\n",
    "    x_vals_w = tf.expand_dims(tf.divide(top_k_xvals, x_sums_rep),1) # -> wi = di / \\sum(dj)\n",
    "    top_k_yvals = tf.gather(y_target_train, top_k_idx)\n",
    "    prediction = tf.squeeze(tf.matmul(x_vals_w, top_k_yvals),axis=[1]) ## \\sum w_i y_i\n",
    "    mse = tf.div(tf.reduce_sum(tf.square(tf.subtract(prediction, y_target_test))), batch_size)\n",
    "    \n",
    "    min_idx = i*batch_size\n",
    "    max_idx = min((i+1)*batch_size, len(x_vals_train))\n",
    "    x_batch = x_vals_test[min_idx:max_idx]\n",
    "    y_batch = y_vals_test[min_idx:max_idx]\n",
    "        \n",
    "    predictions = session.run(prediction, feed_dict={x_data_train: x_vals_train,\n",
    "                                                     x_data_test: x_batch,\n",
    "                                                     y_target_train: y_vals_train,\n",
    "                                                     y_target_test: y_batch})\n",
    "    \n",
    "    batch_mse = session.run(mse, feed_dict = {x_data_train: x_vals_train,\n",
    "                                              x_data_test: x_batch,\n",
    "                                              y_target_train: y_vals_train,\n",
    "                                              y_target_test: y_batch})\n",
    "    \n",
    "    return batch_mse"
   ]
  },
  {
   "cell_type": "markdown",
   "metadata": {},
   "source": [
    "Then run the function and plot the results"
   ]
  },
  {
   "cell_type": "code",
   "execution_count": 137,
   "metadata": {},
   "outputs": [
    {
     "name": "stdout",
     "output_type": "stream",
     "text": [
      "K value = 2, MSE = 16.143534\n",
      "K value = 3, MSE = 14.79128\n",
      "K value = 4, MSE = 13.941324\n",
      "K value = 5, MSE = 16.811495\n",
      "K value = 6, MSE = 19.195654\n",
      "K value = 7, MSE = 22.201672\n",
      "K value = 8, MSE = 23.548855\n",
      "K value = 9, MSE = 23.893429\n",
      "K value = 10, MSE = 26.050323\n",
      "K value = 11, MSE = 26.69566\n",
      "K value = 12, MSE = 26.151365\n",
      "K value = 13, MSE = 26.139854\n",
      "K value = 14, MSE = 26.721123\n",
      "K value = 15, MSE = 25.750755\n",
      "K value = 16, MSE = 24.77194\n",
      "K value = 17, MSE = 23.723093\n",
      "K value = 18, MSE = 24.36045\n",
      "K value = 19, MSE = 23.46726\n",
      "K value = 20, MSE = 23.731335\n",
      "K value = 21, MSE = 23.455803\n",
      "K value = 22, MSE = 24.39538\n",
      "K value = 23, MSE = 24.607027\n",
      "K value = 24, MSE = 24.948687\n",
      "K value = 25, MSE = 25.878223\n",
      "K value = 26, MSE = 26.057943\n",
      "K value = 27, MSE = 26.224775\n",
      "K value = 28, MSE = 25.700546\n",
      "K value = 29, MSE = 26.11315\n"
     ]
    },
    {
     "data": {
      "image/png": "[encoded data removed]",
      "text/plain": [
       "<Figure size 432x288 with 1 Axes>"
      ]
     },
     "metadata": {
      "needs_background": "light"
     },
     "output_type": "display_data"
    }
   ],
   "source": [
    "mse_k = []\n",
    "for k in range(2, 30):\n",
    "    mse_temp = knn(k)\n",
    "    mse_k.append(mse_temp)\n",
    "    print('K value = '+str(k)+', MSE = '+str(mse_temp))\n",
    "\n",
    "plt.plot(mse_k, 'k-', label = 'MSE')\n",
    "plt.xlabel('K')\n",
    "plt.ylabel('MSE')\n",
    "plt.title('MSE vs K number')\n",
    "plt.show()"
   ]
  }
 ],
 "metadata": {
  "kernelspec": {
   "display_name": "Python 3",
   "language": "python",
   "name": "python3"
  },
  "language_info": {
   "codemirror_mode": {
    "name": "ipython",
    "version": 3
   },
   "file_extension": ".py",
   "mimetype": "text/x-python",
   "name": "python",
   "nbconvert_exporter": "python",
   "pygments_lexer": "ipython3",
   "version": "3.7.6"
  }
 },
 "nbformat": 4,
 "nbformat_minor": 4
}
