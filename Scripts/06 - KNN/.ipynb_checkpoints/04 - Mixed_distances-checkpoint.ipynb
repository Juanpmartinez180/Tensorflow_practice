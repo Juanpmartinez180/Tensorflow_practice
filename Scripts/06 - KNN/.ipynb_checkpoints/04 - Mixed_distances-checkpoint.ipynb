{
 "cells": [
  {
   "cell_type": "markdown",
   "metadata": {},
   "source": [
    "# Weighted distances for multiple variables\n",
    "\n",
    "$$D(x,y) = \\sqrt{(x-y)^T\\cdot A\\cdot(x-y)}$$\n",
    "\n",
    "- $A$ is a diagonal matrix"
   ]
  },
  {
   "cell_type": "markdown",
   "metadata": {},
   "source": [
    "## Library and dataset import"
   ]
  },
  {
   "cell_type": "code",
   "execution_count": 1,
   "metadata": {},
   "outputs": [],
   "source": [
    "import numpy as np\n",
    "import matplotlib.pyplot as plt\n",
    "import tensorflow as tf\n",
    "import requests\n",
    "\n",
    "%config Completer.use_jedi = False\n",
    "session = tf.Session()"
   ]
  },
  {
   "cell_type": "markdown",
   "metadata": {},
   "source": [
    "Create url and import the data"
   ]
  },
  {
   "cell_type": "code",
   "execution_count": 2,
   "metadata": {},
   "outputs": [],
   "source": [
    "url = 'https://archive.ics.uci.edu/ml/machine-learning-databases/housing/housing.data'\n",
    "housing_file = requests.get(url)"
   ]
  },
  {
   "cell_type": "markdown",
   "metadata": {},
   "source": [
    "Feature selection using header values"
   ]
  },
  {
   "cell_type": "code",
   "execution_count": 3,
   "metadata": {},
   "outputs": [],
   "source": [
    "housing_header = ['CRIM', #      per capita crime rate by town\n",
    "                 'ZN', #        proportion of residential land zoned for lots over 25,000 sq.ft.\n",
    "                 'INDUS', #     proportion of non-retail business acres per town\n",
    "                 'CHAS', #      Charles River dummy variable (= 1 if tract bounds river; 0 otherwise)\n",
    "                 'NOX', #       nitric oxides concentration (parts per 10 million)\n",
    "                 'R', #        average number of rooms per dwelling\n",
    "                 'AGE', #       proportion of owner-occupied units built prior to 1940\n",
    "                 'DIS', #       weighted distances to five Boston employment centres\n",
    "                 'RAD', #       index of accessibility to radial highways\n",
    "                 'TAX', #      full-value property-tax rate per $10,000\n",
    "                 'PTRATIO', #  pupil-teacher ratio by town\n",
    "                 'B', #        1000(Bk - 0.63)^2 where Bk is the proportion of blacks by town\n",
    "                 'LSTAT', #    % lower status of the population\n",
    "                 'MEDV'] #     Median value of owner-occupied homes in $1000's \n",
    "cols_used = [\"CRIM\", \"INDUS\", \"NOX\", \"R\", \"AGE\", \"DIS\", \"TAX\", \"PTRATIO\", \"B\", \"LSTAT\"]\n",
    "num_features = len(cols_used)"
   ]
  },
  {
   "cell_type": "markdown",
   "metadata": {},
   "source": [
    "## Data selection and test/training dataset split"
   ]
  },
  {
   "cell_type": "markdown",
   "metadata": {},
   "source": [
    "First clean the raw data. X and Y values assignment"
   ]
  },
  {
   "cell_type": "code",
   "execution_count": 4,
   "metadata": {},
   "outputs": [],
   "source": [
    "housing_data =[[float(x) for x in y.split(' ') if len(x)>=1] for y in housing_file.text.split('\\n') if len(y)>=1]\n",
    "y_vals = np.transpose([np.array([y[13] for y in housing_data])])\n",
    "x_vals = np.array([[x for i,x in enumerate(y) if housing_header[i] in cols_used] for y in housing_data])"
   ]
  },
  {
   "cell_type": "markdown",
   "metadata": {},
   "source": [
    "Normalize between 0 and 1 the X values"
   ]
  },
  {
   "cell_type": "code",
   "execution_count": 5,
   "metadata": {},
   "outputs": [],
   "source": [
    "x_vals = (x_vals - x_vals.min(0))/x_vals.ptp(0)"
   ]
  },
  {
   "cell_type": "markdown",
   "metadata": {},
   "source": [
    "Train and test data split"
   ]
  },
  {
   "cell_type": "code",
   "execution_count": 6,
   "metadata": {},
   "outputs": [],
   "source": [
    "train_idx = np.random.choice(len(x_vals), round(len(x_vals)*0.8), replace=False)\n",
    "test_idx = np.array(list(set(range(len(x_vals)))-set(train_idx)))\n",
    "x_vals_train = x_vals[train_idx]\n",
    "x_vals_test = x_vals[test_idx]\n",
    "\n",
    "y_vals_train = y_vals[train_idx]\n",
    "y_vals_test = y_vals[test_idx]"
   ]
  },
  {
   "cell_type": "markdown",
   "metadata": {},
   "source": [
    "Calculate the standard deviation of each feature"
   ]
  },
  {
   "cell_type": "code",
   "execution_count": 7,
   "metadata": {},
   "outputs": [],
   "source": [
    "weight_diag = x_vals.std(0)"
   ]
  },
  {
   "cell_type": "markdown",
   "metadata": {},
   "source": [
    "# KNN algorithm\n",
    "\n",
    "Hyperparameter definition"
   ]
  },
  {
   "cell_type": "code",
   "execution_count": 8,
   "metadata": {},
   "outputs": [],
   "source": [
    "k = 4  #Hyperparameter (apriori selected)\n",
    "batch_size = len(x_vals_test)"
   ]
  },
  {
   "cell_type": "markdown",
   "metadata": {},
   "source": [
    "### TensorFlow variable creation"
   ]
  },
  {
   "cell_type": "markdown",
   "metadata": {},
   "source": [
    "General variables"
   ]
  },
  {
   "cell_type": "code",
   "execution_count": 9,
   "metadata": {},
   "outputs": [],
   "source": [
    "x_data_train = tf.placeholder(shape=[None, num_features], dtype=tf.float32)\n",
    "x_data_test = tf.placeholder(shape=[None, num_features], dtype=tf.float32)\n",
    "\n",
    "y_target_train = tf.placeholder(shape = [None, 1], dtype=tf.float32)\n",
    "y_target_test = tf.placeholder(shape=[None, 1], dtype=tf.float32)"
   ]
  },
  {
   "cell_type": "markdown",
   "metadata": {},
   "source": [
    "Diagonal weighted matrix using features std"
   ]
  },
  {
   "cell_type": "code",
   "execution_count": 10,
   "metadata": {},
   "outputs": [],
   "source": [
    "weight_matrix = tf.cast(tf.diag(weight_diag), dtype = tf.float32)"
   ]
  },
  {
   "cell_type": "markdown",
   "metadata": {},
   "source": [
    "Distance using the weighted matrix and the beggining formula"
   ]
  },
  {
   "cell_type": "code",
   "execution_count": 11,
   "metadata": {},
   "outputs": [],
   "source": [
    "subs_term = tf.subtract(x_data_train, tf.expand_dims(x_data_test, 1))\n",
    "first_prod = tf.matmul(subs_term, tf.tile(tf.expand_dims(weight_matrix, 0), [batch_size, 1, 1]))\n",
    "second_prod = tf.matmul(first_prod, tf.transpose(subs_term, perm = [0,2,1]))\n",
    "\n",
    "distance = tf.sqrt(tf.matrix_diag_part(second_prod))"
   ]
  },
  {
   "cell_type": "markdown",
   "metadata": {},
   "source": [
    "The k max values along the distance tensor:"
   ]
  },
  {
   "cell_type": "code",
   "execution_count": 12,
   "metadata": {},
   "outputs": [],
   "source": [
    "top_k_xvals, top_k_idx = tf.nn.top_k(tf.negative(distance), k = k)"
   ]
  },
  {
   "cell_type": "markdown",
   "metadata": {},
   "source": [
    "Weighted average"
   ]
  },
  {
   "cell_type": "code",
   "execution_count": 13,
   "metadata": {},
   "outputs": [],
   "source": [
    "x_sums = tf.expand_dims(tf.reduce_sum(top_k_xvals,1),1)\n",
    "x_sums_rep = tf.matmul(x_sums, tf.ones([1,k], tf.float32))\n",
    "x_vals_w = tf.expand_dims(tf.divide(top_k_xvals, x_sums_rep),1) # -> wi = di / \\sum(dj)"
   ]
  },
  {
   "cell_type": "markdown",
   "metadata": {},
   "source": [
    "Prediction:"
   ]
  },
  {
   "cell_type": "code",
   "execution_count": 14,
   "metadata": {},
   "outputs": [],
   "source": [
    "top_k_yvals = tf.gather(y_target_train, top_k_idx)\n",
    "prediction = tf.squeeze(tf.matmul(x_vals_w, top_k_yvals),axis=[1]) ## \\sum w_i y_i"
   ]
  },
  {
   "cell_type": "markdown",
   "metadata": {},
   "source": [
    "Error metric Mean squared error:"
   ]
  },
  {
   "cell_type": "code",
   "execution_count": 15,
   "metadata": {},
   "outputs": [
    {
     "name": "stdout",
     "output_type": "stream",
     "text": [
      "WARNING:tensorflow:From <ipython-input-15-c60c649b86ec>:1: div (from tensorflow.python.ops.math_ops) is deprecated and will be removed in a future version.\n",
      "Instructions for updating:\n",
      "Deprecated in favor of operator or tf.math.divide.\n"
     ]
    }
   ],
   "source": [
    "mse = tf.div(tf.reduce_sum(tf.square(tf.subtract(prediction, y_target_test))), batch_size)"
   ]
  },
  {
   "cell_type": "markdown",
   "metadata": {},
   "source": [
    "Variable initialization:"
   ]
  },
  {
   "cell_type": "code",
   "execution_count": 16,
   "metadata": {},
   "outputs": [],
   "source": [
    "init = tf.global_variables_initializer()\n",
    "session.run(init)"
   ]
  },
  {
   "cell_type": "markdown",
   "metadata": {},
   "source": [
    "### Model prediction"
   ]
  },
  {
   "cell_type": "code",
   "execution_count": 17,
   "metadata": {},
   "outputs": [
    {
     "name": "stdout",
     "output_type": "stream",
     "text": [
      "MSE = 11.564\n"
     ]
    }
   ],
   "source": [
    "num_loops = int(np.ceil(len(x_vals_test)/batch_size))\n",
    "\n",
    "for i in range(num_loops):\n",
    "    min_idx = i*batch_size\n",
    "    max_idx = min((i+1)*batch_size, len(x_vals_train))\n",
    "    x_batch = x_vals_test[min_idx:max_idx]\n",
    "    y_batch = y_vals_test[min_idx:max_idx]\n",
    "        \n",
    "    predictions = session.run(prediction, feed_dict={x_data_train: x_vals_train,\n",
    "                                                     x_data_test: x_batch,\n",
    "                                                     y_target_train: y_vals_train,\n",
    "                                                     y_target_test: y_batch})\n",
    "    \n",
    "    batch_mse = session.run(mse, feed_dict = {x_data_train: x_vals_train,\n",
    "                                              x_data_test: x_batch,\n",
    "                                              y_target_train: y_vals_train,\n",
    "                                              y_target_test: y_batch})\n",
    "    print('MSE = '+str(np.round(batch_mse,3)))"
   ]
  },
  {
   "cell_type": "markdown",
   "metadata": {},
   "source": [
    "## Data Visualization"
   ]
  },
  {
   "cell_type": "code",
   "execution_count": 18,
   "metadata": {},
   "outputs": [
    {
     "data": {
      "image/png": "[encoded data removed]",
      "text/plain": [
       "<Figure size 432x288 with 1 Axes>"
      ]
     },
     "metadata": {
      "needs_background": "light"
     },
     "output_type": "display_data"
    }
   ],
   "source": [
    "bins = np.linspace(5, 50, 45)\n",
    "plt.hist(predictions, bins, alpha = 0.5, label = 'Prediction')\n",
    "plt.hist(y_batch, bins, alpha = 0.5, label = 'Real Data')\n",
    "plt.title('Real vs predicted values')\n",
    "plt.xlabel('House price in k$')\n",
    "plt.ylabel('Frequency')\n",
    "plt.legend(loc = 'upper right')\n",
    "plt.show()"
   ]
  },
  {
   "cell_type": "markdown",
   "metadata": {},
   "source": [
    "### Hyperparameter optimization\n",
    "\n",
    "Function to run multiple K values:"
   ]
  },
  {
   "cell_type": "code",
   "execution_count": 19,
   "metadata": {},
   "outputs": [],
   "source": [
    "def knn(k):\n",
    "    batch_size = len(x_vals_test)\n",
    "    \n",
    "    top_k_xvals, top_k_idx = tf.nn.top_k(tf.negative(distance), k = k)\n",
    "    x_sums = tf.expand_dims(tf.reduce_sum(top_k_xvals,1),1)\n",
    "    x_sums_rep = tf.matmul(x_sums, tf.ones([1,k], tf.float32))\n",
    "    x_vals_w = tf.expand_dims(tf.divide(top_k_xvals, x_sums_rep),1) # -> wi = di / \\sum(dj)\n",
    "    top_k_yvals = tf.gather(y_target_train, top_k_idx)\n",
    "    prediction = tf.squeeze(tf.matmul(x_vals_w, top_k_yvals),axis=[1]) ## \\sum w_i y_i\n",
    "    mse = tf.div(tf.reduce_sum(tf.square(tf.subtract(prediction, y_target_test))), batch_size)\n",
    "    \n",
    "    min_idx = i*batch_size\n",
    "    max_idx = min((i+1)*batch_size, len(x_vals_train))\n",
    "    x_batch = x_vals_test[min_idx:max_idx]\n",
    "    y_batch = y_vals_test[min_idx:max_idx]\n",
    "        \n",
    "    predictions = session.run(prediction, feed_dict={x_data_train: x_vals_train,\n",
    "                                                     x_data_test: x_batch,\n",
    "                                                     y_target_train: y_vals_train,\n",
    "                                                     y_target_test: y_batch})\n",
    "    \n",
    "    batch_mse = session.run(mse, feed_dict = {x_data_train: x_vals_train,\n",
    "                                              x_data_test: x_batch,\n",
    "                                              y_target_train: y_vals_train,\n",
    "                                              y_target_test: y_batch})\n",
    "    \n",
    "    return batch_mse"
   ]
  },
  {
   "cell_type": "markdown",
   "metadata": {},
   "source": [
    "Then run the function to see the results:"
   ]
  },
  {
   "cell_type": "code",
   "execution_count": 20,
   "metadata": {},
   "outputs": [
    {
     "name": "stdout",
     "output_type": "stream",
     "text": [
      "K value = 2, MSE = 18.32489\n",
      "K value = 3, MSE = 12.14937\n",
      "K value = 4, MSE = 11.564157\n",
      "K value = 5, MSE = 12.217177\n",
      "K value = 6, MSE = 16.045332\n",
      "K value = 7, MSE = 18.510786\n",
      "K value = 8, MSE = 18.994642\n",
      "K value = 9, MSE = 21.977562\n",
      "K value = 10, MSE = 23.380709\n",
      "K value = 11, MSE = 23.120495\n",
      "K value = 12, MSE = 22.926983\n",
      "K value = 13, MSE = 23.072237\n",
      "K value = 14, MSE = 23.626179\n",
      "K value = 15, MSE = 23.69198\n",
      "K value = 16, MSE = 24.541056\n",
      "K value = 17, MSE = 25.151245\n",
      "K value = 18, MSE = 24.565376\n",
      "K value = 19, MSE = 24.459558\n",
      "K value = 20, MSE = 24.491858\n",
      "K value = 21, MSE = 25.190023\n",
      "K value = 22, MSE = 24.926756\n",
      "K value = 23, MSE = 25.465807\n",
      "K value = 24, MSE = 25.021975\n",
      "K value = 25, MSE = 25.143456\n",
      "K value = 26, MSE = 25.36186\n",
      "K value = 27, MSE = 24.461546\n",
      "K value = 28, MSE = 24.239988\n",
      "K value = 29, MSE = 24.647926\n"
     ]
    },
    {
     "data": {
      "image/png": "[encoded data removed]",
      "text/plain": [
       "<Figure size 432x288 with 1 Axes>"
      ]
     },
     "metadata": {
      "needs_background": "light"
     },
     "output_type": "display_data"
    }
   ],
   "source": [
    "mse_k = []\n",
    "for k in range(2, 30):\n",
    "    mse_temp = knn(k)\n",
    "    mse_k.append(mse_temp)\n",
    "    print('K value = '+str(k)+', MSE = '+str(mse_temp))\n",
    "\n",
    "plt.plot(mse_k, 'k-', label = 'MSE')\n",
    "plt.xlabel('K')\n",
    "plt.ylabel('MSE')\n",
    "plt.title('MSE vs K number')\n",
    "plt.show()"
   ]
  }
 ],
 "metadata": {
  "kernelspec": {
   "display_name": "Python 3",
   "language": "python",
   "name": "python3"
  },
  "language_info": {
   "codemirror_mode": {
    "name": "ipython",
    "version": 3
   },
   "file_extension": ".py",
   "mimetype": "text/x-python",
   "name": "python",
   "nbconvert_exporter": "python",
   "pygments_lexer": "ipython3",
   "version": "3.7.6"
  }
 },
 "nbformat": 4,
 "nbformat_minor": 4
}
