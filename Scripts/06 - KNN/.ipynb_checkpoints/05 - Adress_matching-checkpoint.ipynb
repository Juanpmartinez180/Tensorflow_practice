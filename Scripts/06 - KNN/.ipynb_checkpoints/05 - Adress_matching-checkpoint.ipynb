{
 "cells": [
  {
   "cell_type": "markdown",
   "metadata": {},
   "source": [
    "## "
   ]
  },
  {
   "cell_type": "markdown",
   "metadata": {},
   "source": [
    "# Correct delivery Adress"
   ]
  },
  {
   "cell_type": "markdown",
   "metadata": {},
   "source": [
    "Library import"
   ]
  },
  {
   "cell_type": "code",
   "execution_count": 1,
   "metadata": {},
   "outputs": [],
   "source": [
    "import random\n",
    "import string\n",
    "import numpy as np\n",
    "import tensorflow as tf\n",
    "import matplotlib.pyplot as plt\n",
    "\n",
    "session = tf.Session()\n",
    "%config Completer.use_jedi = False"
   ]
  },
  {
   "cell_type": "markdown",
   "metadata": {},
   "source": [
    "### Dataset creation"
   ]
  },
  {
   "cell_type": "code",
   "execution_count": 2,
   "metadata": {},
   "outputs": [],
   "source": [
    "n = 10 #Number of streets\n",
    "street_names = ['diagon', 'elm', 'abbey', 'grand', 'python']\n",
    "street_type = ['callejon', 'calle', 'carrera', 'via', 'avenida']\n",
    "street_zips = [random.randint(20000, 29999) for i in range(5)]  #Postal Code\n",
    "numbers = [random.randint(1, 999) for i in range(n)]"
   ]
  },
  {
   "cell_type": "markdown",
   "metadata": {},
   "source": [
    "Feature engineering. Create Street adresses using the names and zips defined using random choice."
   ]
  },
  {
   "cell_type": "code",
   "execution_count": 3,
   "metadata": {},
   "outputs": [],
   "source": [
    "streets = [random.choice(street_names) for i in range(n)]\n",
    "street_pref = [random.choice(street_type) for i in range(n)]  #Street prefix\n",
    "zips = [random.choice(street_zips) for i in range(n)]  #Street zip\n",
    "fulls_streets = [x +' '+ y +' '+str(z) for x,y,z in zip(street_pref, streets, numbers)]  #Street name+prefix+zip\n",
    "reference_data = [list(x) for x in zip(fulls_streets, zips)]  #Zip code adding"
   ]
  },
  {
   "cell_type": "markdown",
   "metadata": {},
   "source": [
    "Function to create typos (errors) in the data, induced by a probability."
   ]
  },
  {
   "cell_type": "code",
   "execution_count": 4,
   "metadata": {},
   "outputs": [],
   "source": [
    "def create_typo(s, prob = 0.75):\n",
    "    if random.uniform(0,1) < prob:\n",
    "        rand_idx = random.choice(range(len(s)))\n",
    "        s_list = list(s)\n",
    "        s_list[rand_idx] = random.choice(string.ascii_lowercase)\n",
    "        s = ''.join(s_list)\n",
    "    return(s)"
   ]
  },
  {
   "cell_type": "markdown",
   "metadata": {},
   "source": [
    "Create typos in the street name"
   ]
  },
  {
   "cell_type": "code",
   "execution_count": 5,
   "metadata": {},
   "outputs": [],
   "source": [
    "typo_streets = [create_typo(x) for x in streets]\n",
    "typo_full_streets = [x+' '+y+' '+str(z) for x,y,z in zip(street_pref, typo_streets, numbers)]\n",
    "test_data = [list(x) for x in zip(typo_full_streets, zips)]"
   ]
  },
  {
   "cell_type": "code",
   "execution_count": 6,
   "metadata": {},
   "outputs": [
    {
     "data": {
      "text/plain": [
       "[['calle diagcn 424', 25712],\n",
       " ['carrera kbbey 383', 25712],\n",
       " ['callejon diagon 695', 25712],\n",
       " ['calle dython 350', 22710],\n",
       " ['callejon elm 18', 21460],\n",
       " ['avenida ezm 137', 29682],\n",
       " ['calle pythpn 522', 21460],\n",
       " ['calle diagor 541', 21460],\n",
       " ['avenida epm 411', 22710],\n",
       " ['via exm 902', 25712]]"
      ]
     },
     "execution_count": 6,
     "metadata": {},
     "output_type": "execute_result"
    }
   ],
   "source": [
    "test_data"
   ]
  },
  {
   "cell_type": "markdown",
   "metadata": {},
   "source": [
    "## TF variable creation"
   ]
  },
  {
   "cell_type": "markdown",
   "metadata": {},
   "source": [
    "Data variables:"
   ]
  },
  {
   "cell_type": "code",
   "execution_count": 7,
   "metadata": {},
   "outputs": [],
   "source": [
    "test_address = tf.sparse_placeholder(dtype = tf.string)\n",
    "test_zip = tf.placeholder(shape = [None, 1], dtype = tf.float32)\n",
    "\n",
    "ref_address = tf.sparse_placeholder(dtype = tf.string)\n",
    "ref_zip = tf.placeholder(shape = [None, n], dtype = tf.float32)"
   ]
  },
  {
   "cell_type": "markdown",
   "metadata": {},
   "source": [
    "Distances between zip codes and between adresses"
   ]
  },
  {
   "cell_type": "code",
   "execution_count": 8,
   "metadata": {},
   "outputs": [],
   "source": [
    "zip_dist = tf.square(tf.subtract(ref_zip, test_zip))\n",
    "adress_dist = tf.edit_distance(test_address, ref_address, normalize = True)"
   ]
  },
  {
   "cell_type": "markdown",
   "metadata": {},
   "source": [
    "Insted of using distances to compute difference between 2 objects, we introduce the similarity concept.\n",
    "\n",
    "- $S(x,y) = 0$ if $x$ & $y$ are totally different\n",
    "- $S(x,x) = 1$ due every object is similar to itself\n",
    "- $S(x,y) = \\frac{D - d(x,y)}{D-d}$, $D$ = max distance, $d$ = min distance"
   ]
  },
  {
   "cell_type": "code",
   "execution_count": 16,
   "metadata": {},
   "outputs": [],
   "source": [
    "zip_max = tf.gather(tf.squeeze(zip_dist), tf.argmax(zip_dist, 1))\n",
    "zip_min = tf.gather(tf.squeeze(zip_dist), tf.argmin(zip_dist, 1))\n",
    "\n",
    "zip_sim = tf.divide(tf.subtract(zip_max, zip_dist), tf.subtract(zip_max, zip_min))\n",
    "\n",
    "address_sim = tf.subtract(1.0, adress_dist)  #-> Due address dist is normalized, Dmax =1 D_min = 0"
   ]
  },
  {
   "cell_type": "markdown",
   "metadata": {},
   "source": [
    "Now we can combine the similarities using a weighted parameter.\n",
    "\n",
    "$$S(x,y) = \\sum_{i=1}^k w_iS_k(x,y):\\quad \\sum_{i=1}^k w_i = 1$$\n",
    "\n",
    "In this case the weighted parameters are:"
   ]
  },
  {
   "cell_type": "code",
   "execution_count": 17,
   "metadata": {},
   "outputs": [],
   "source": [
    "address_wi = 0.5 \n",
    "zip_wi = 1.0 - address_wi\n",
    "\n",
    "weighted_sim = tf.add(tf.transpose(tf.multiply(address_wi, address_sim)), tf.multiply(zip_wi, zip_sim))"
   ]
  },
  {
   "cell_type": "markdown",
   "metadata": {},
   "source": [
    "The best match index is given by:"
   ]
  },
  {
   "cell_type": "code",
   "execution_count": 18,
   "metadata": {},
   "outputs": [],
   "source": [
    "top_match_idx = tf.argmax(weighted_sim,1)"
   ]
  },
  {
   "cell_type": "markdown",
   "metadata": {},
   "source": [
    "A function defined to create sparse matrix based on the number of letters of each word"
   ]
  },
  {
   "cell_type": "code",
   "execution_count": 19,
   "metadata": {},
   "outputs": [],
   "source": [
    "def sparse_from_word_vector(word_vector):\n",
    "    num_words = len(word_vector)\n",
    "    idx = [[xi, 0, yi] for xi, x in enumerate(word_vector) for yi, y in enumerate(x)]\n",
    "    chars = list(''.join(word_vector))\n",
    "    return(tf.SparseTensorValue(idx, chars, [num_words, 1, 1]))"
   ]
  },
  {
   "cell_type": "markdown",
   "metadata": {},
   "source": [
    "Separate the data into address and zip, then feed the sparse matrix creator function"
   ]
  },
  {
   "cell_type": "code",
   "execution_count": 20,
   "metadata": {},
   "outputs": [],
   "source": [
    "reference_address = [x[0] for x in reference_data]\n",
    "reference_zips = np.array([[x[1] for x in reference_data]])\n",
    "\n",
    "sparse_ref_set = sparse_from_word_vector(reference_address)"
   ]
  },
  {
   "cell_type": "code",
   "execution_count": 22,
   "metadata": {},
   "outputs": [
    {
     "name": "stdout",
     "output_type": "stream",
     "text": [
      "Original Address = calle diagcn 424, 25712\n",
      "Corrected Address = calle diagon 424, 25712\n",
      "\n",
      "Original Address = carrera kbbey 383, 25712\n",
      "Corrected Address = carrera abbey 383, 25712\n",
      "\n",
      "Original Address = callejon diagon 695, 25712\n",
      "Corrected Address = callejon diagon 695, 25712\n",
      "\n",
      "Original Address = calle dython 350, 22710\n",
      "Corrected Address = calle python 350, 22710\n",
      "\n",
      "Original Address = callejon elm 18, 21460\n",
      "Corrected Address = callejon elm 18, 21460\n",
      "\n",
      "Original Address = avenida ezm 137, 29682\n",
      "Corrected Address = avenida elm 137, 29682\n",
      "\n",
      "Original Address = calle pythpn 522, 21460\n",
      "Corrected Address = calle python 522, 21460\n",
      "\n",
      "Original Address = calle diagor 541, 21460\n",
      "Corrected Address = calle diagon 541, 21460\n",
      "\n",
      "Original Address = avenida epm 411, 22710\n",
      "Corrected Address = avenida elm 411, 22710\n",
      "\n",
      "Original Address = via exm 902, 25712\n",
      "Corrected Address = via elm 902, 25712\n",
      "\n"
     ]
    }
   ],
   "source": [
    "for i in range(n):\n",
    "    test_address_entry = test_data[i][0]\n",
    "    test_zip_entry = [[test_data[i][1]]]\n",
    "    \n",
    "    test_address_rep = [test_address_entry]*n\n",
    "    sparse_test_set = sparse_from_word_vector(test_address_rep)\n",
    "    \n",
    "    feed_dict = {test_address: sparse_test_set,\n",
    "                test_zip: test_zip_entry,\n",
    "                ref_address: sparse_ref_set,\n",
    "                ref_zip: reference_zips}\n",
    "    best_match = session.run(top_match_idx, feed_dict = feed_dict)\n",
    "    best_address = reference_address[best_match[0]]\n",
    "    [best_zip] = reference_zips[0][best_match]\n",
    "    [[test_zip_aux]] = test_zip_entry\n",
    "    \n",
    "    print('Original Address = '+str(test_address_entry)+', '+str(test_zip_aux))\n",
    "    print('Corrected Address = '+str(best_address)+', '+str(best_zip)+'\\n')"
   ]
  }
 ],
 "metadata": {
  "kernelspec": {
   "display_name": "Python 3",
   "language": "python",
   "name": "python3"
  },
  "language_info": {
   "codemirror_mode": {
    "name": "ipython",
    "version": 3
   },
   "file_extension": ".py",
   "mimetype": "text/x-python",
   "name": "python",
   "nbconvert_exporter": "python",
   "pygments_lexer": "ipython3",
   "version": "3.7.6"
  }
 },
 "nbformat": 4,
 "nbformat_minor": 4
}
