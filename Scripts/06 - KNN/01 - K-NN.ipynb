{
 "cells": [
  {
   "cell_type": "markdown",
   "metadata": {},
   "source": [
    "# K-Nearest Neighbors\n",
    "\n",
    "Starting with a trining dataset $(x_1,x_2,\\cdots,x_n)$ with categories $(y_1, y_2,\\cdots, y_n)$\n",
    "To predict the category wich a new data point $z$ belongs to we need to look at the nearest neighbors.\n",
    "Also we can use this technic to compute a Regression in case that the $y_i$ distribution where cointinuous.\n",
    "\n",
    "In case of discrete distribution with $j$ categories the prediction is computed by a majority vote using the distance to the K nearest neighbors\n",
    " $$f(z) = \\max_{j} \\sum_{i=1}^k \\phi(d_{ij})I_{ij}$$\n",
    "\n",
    "Where:\n",
    "- $I_{ij}$ is 1 if the $i$ point belongs to the $j-class$ and 0 for all the others.\n",
    "\n",
    "In case of continuous distribution (regression) the prediction is computed using the weighted mean of the $k$ nearest points\n",
    "$$f(z) = \\frac{1}{k}\\sum_{i=1}^k\\phi(d_i)$$\n",
    "\n",
    "If $x,y$ are vectors in $\\mathbb R^m$ then  the most used distance metrics are:\n",
    "- $d_{L1}(x,y) = |x-y| = |x_1-y_1| + |x_2-y_2|+\\cdots|x_m-y_m|$\n",
    "- $d_{L2}(x,y) = ||x-y|| = \\sqrt{(x_1-y_1)²+(x_2-y_2)²+\\cdots +(x_m-y_m)²}$\n"
   ]
  },
  {
   "cell_type": "markdown",
   "metadata": {},
   "source": [
    "## Library and dataset import"
   ]
  },
  {
   "cell_type": "code",
   "execution_count": null,
   "metadata": {},
   "outputs": [],
   "source": [
    "import numpy as np\n",
    "import matplotlib.pyplot as plt\n",
    "import tensorflow as tf\n",
    "from sklearn import datasets\n",
    "\n",
    "session = tf.Session()\n",
    "%config Completer.use_jedi = False"
   ]
  }
 ],
 "metadata": {
  "kernelspec": {
   "display_name": "Python 3",
   "language": "python",
   "name": "python3"
  },
  "language_info": {
   "codemirror_mode": {
    "name": "ipython",
    "version": 3
   },
   "file_extension": ".py",
   "mimetype": "text/x-python",
   "name": "python",
   "nbconvert_exporter": "python",
   "pygments_lexer": "ipython3",
   "version": "3.7.6"
  }
 },
 "nbformat": 4,
 "nbformat_minor": 4
}
