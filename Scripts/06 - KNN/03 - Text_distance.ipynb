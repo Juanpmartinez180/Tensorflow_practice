{
 "cells": [
  {
   "cell_type": "markdown",
   "metadata": {},
   "source": [
    "# Levenshtein distance\n",
    "\n",
    "Created to compute a distance between words. Is defined by the minimal number of operations to transform a **char** in to another.\n",
    "$x,y \\in S$ where $S$ is the String set, entonces $d(x,y)$ is defined as the number of operations needed to convert the word $x$ in $y$. Transformation operations are:\n",
    "- Insert a new Char\n",
    "- Delet a Char\n",
    "- Change one Char for other\n",
    "\n"
   ]
  },
  {
   "cell_type": "markdown",
   "metadata": {},
   "source": [
    "## Library and dataset import"
   ]
  },
  {
   "cell_type": "code",
   "execution_count": 3,
   "metadata": {},
   "outputs": [],
   "source": [
    "import numpy as np\n",
    "import matplotlib.pyplot as plt\n",
    "import tensorflow as tf\n",
    "from sklearn import datasets\n",
    "import requests\n",
    "\n",
    "session = tf.Session()\n",
    "%config Completer.use_jedi = False"
   ]
  },
  {
   "cell_type": "markdown",
   "metadata": {},
   "source": [
    "Real and to-test words"
   ]
  },
  {
   "cell_type": "code",
   "execution_count": 4,
   "metadata": {},
   "outputs": [],
   "source": [
    "hypothesis = list('casa')\n",
    "truth = list('calle')"
   ]
  },
  {
   "cell_type": "markdown",
   "metadata": {},
   "source": [
    "Create sparse matrix to each word"
   ]
  },
  {
   "cell_type": "code",
   "execution_count": 5,
   "metadata": {},
   "outputs": [],
   "source": [
    "h1 = tf.SparseTensor([[0,0,0],[0,0,1],[0,0,2],[0,0,3]], hypothesis, [1,1,1])\n",
    "t1 = tf.SparseTensor([[0,0,0],[0,0,1],[0,0,2],[0,0,3],[0,0,4]], truth, [1,1,1])"
   ]
  },
  {
   "cell_type": "markdown",
   "metadata": {},
   "source": [
    "The result is a sparsed matrix mostly filled with 0, but where each vector represent a specific Char of the word."
   ]
  },
  {
   "cell_type": "code",
   "execution_count": 6,
   "metadata": {},
   "outputs": [
    {
     "data": {
      "text/plain": [
       "SparseTensorValue(indices=array([[0, 0, 0],\n",
       "       [0, 0, 1],\n",
       "       [0, 0, 2],\n",
       "       [0, 0, 3]]), values=array([b'c', b'a', b's', b'a'], dtype=object), dense_shape=array([1, 1, 1]))"
      ]
     },
     "execution_count": 6,
     "metadata": {},
     "output_type": "execute_result"
    }
   ],
   "source": [
    "session.run(h1)"
   ]
  },
  {
   "cell_type": "markdown",
   "metadata": {},
   "source": [
    "Calculate the distance between the two words"
   ]
  },
  {
   "cell_type": "code",
   "execution_count": 7,
   "metadata": {},
   "outputs": [
    {
     "name": "stdout",
     "output_type": "stream",
     "text": [
      "Number of operations needed =  [[3.]]\n",
      "Distance =  [[0.6]]\n"
     ]
    }
   ],
   "source": [
    "print('Number of operations needed = ', session.run(tf.edit_distance(h1, t1, normalize=False)))\n",
    "print('Distance = ', session.run(tf.edit_distance(h1, t1, normalize=True)))"
   ]
  },
  {
   "cell_type": "markdown",
   "metadata": {},
   "source": [
    "Example 2"
   ]
  },
  {
   "cell_type": "code",
   "execution_count": 8,
   "metadata": {},
   "outputs": [],
   "source": [
    "hypothesis2 = list('casacalle')\n",
    "truth2 = list('callescalles')\n",
    "\n",
    "h2 = tf.SparseTensor([[0,0,0],[0,0,1],[0,0,2],[0,0,3],\n",
    "                      [0,1,0],[0,1,1],[0,1,2],[0,1,3],[0,1,4]],\n",
    "                      hypothesis2,\n",
    "                      [1,2,4])\n",
    "t2 = tf.SparseTensor([[0,0,0],[0,0,1],[0,0,2],[0,0,3],[0,0,4],[0,0,5],\n",
    "                      [0,1,0],[0,1,1],[0,1,2],[0,1,3],[0,1,4],[0,1,5]],\n",
    "                      truth2,\n",
    "                      [1,2,6])"
   ]
  },
  {
   "cell_type": "code",
   "execution_count": 9,
   "metadata": {},
   "outputs": [
    {
     "name": "stdout",
     "output_type": "stream",
     "text": [
      "Number of operations needed =  [[4. 1.]]\n",
      "Distance =  [[0.6666667  0.16666667]]\n"
     ]
    }
   ],
   "source": [
    "print('Number of operations needed = ', session.run(tf.edit_distance(h2,t2, normalize=False)))\n",
    "print('Distance = ', session.run(tf.edit_distance(h2,t2, normalize=True)))"
   ]
  },
  {
   "cell_type": "markdown",
   "metadata": {},
   "source": [
    "Example 3, a more general approach to the problem solution.."
   ]
  },
  {
   "cell_type": "code",
   "execution_count": 19,
   "metadata": {},
   "outputs": [],
   "source": [
    "hypothesis_words = ['casa', 'casita', 'caseron', 'tensor', 'python']\n",
    "truth_word = ['algoritmo']"
   ]
  },
  {
   "cell_type": "markdown",
   "metadata": {},
   "source": [
    "To create the argument of the sparsed matrix:"
   ]
  },
  {
   "cell_type": "code",
   "execution_count": 11,
   "metadata": {},
   "outputs": [
    {
     "name": "stdout",
     "output_type": "stream",
     "text": [
      "Hypothesis Sparsed matrix argument =  [[0, 0, 0], [0, 0, 1], [0, 0, 2], [0, 0, 3], [1, 0, 0], [1, 0, 1], [1, 0, 2], [1, 0, 3], [1, 0, 4], [1, 0, 5], [2, 0, 0], [2, 0, 1], [2, 0, 2], [2, 0, 3], [2, 0, 4], [2, 0, 5], [2, 0, 6], [3, 0, 0], [3, 0, 1], [3, 0, 2], [3, 0, 3], [3, 0, 4], [3, 0, 5], [4, 0, 0], [4, 0, 1], [4, 0, 2], [4, 0, 3], [4, 0, 4], [4, 0, 5]]\n",
      "\n",
      "Words chars =  ['c', 'a', 's', 'a', 'c', 'a', 's', 'i', 't', 'a', 'c', 'a', 's', 'e', 'r', 'o', 'n', 't', 'e', 'n', 's', 'o', 'r', 'p', 'y', 't', 'h', 'o', 'n']\n"
     ]
    }
   ],
   "source": [
    "num_h_words = len(hypothesis_words)\n",
    "h_idx = [[xi, 0, yi] for xi, x in enumerate(hypothesis_words) for yi, y in enumerate(x)]\n",
    "\n",
    "h_chars = list(''.join(hypothesis_words))\n",
    "\n",
    "h3 = tf.SparseTensor(h_idx, h_chars, [num_h_words, 1, 1])\n",
    "\n",
    "print('Hypothesis Sparsed matrix argument = ',h_idx)\n",
    "print('\\nWords chars = ', h_chars)"
   ]
  },
  {
   "cell_type": "code",
   "execution_count": 21,
   "metadata": {},
   "outputs": [
    {
     "name": "stdout",
     "output_type": "stream",
     "text": [
      "Truth Sparsed matrix argument =  [[0, 0, 0], [0, 0, 1], [0, 0, 2], [0, 0, 3], [0, 0, 4], [0, 0, 5], [0, 0, 6], [0, 0, 7], [0, 0, 8], [1, 0, 0], [1, 0, 1], [1, 0, 2], [1, 0, 3], [1, 0, 4], [1, 0, 5], [1, 0, 6], [1, 0, 7], [1, 0, 8], [2, 0, 0], [2, 0, 1], [2, 0, 2], [2, 0, 3], [2, 0, 4], [2, 0, 5], [2, 0, 6], [2, 0, 7], [2, 0, 8], [3, 0, 0], [3, 0, 1], [3, 0, 2], [3, 0, 3], [3, 0, 4], [3, 0, 5], [3, 0, 6], [3, 0, 7], [3, 0, 8], [4, 0, 0], [4, 0, 1], [4, 0, 2], [4, 0, 3], [4, 0, 4], [4, 0, 5], [4, 0, 6], [4, 0, 7], [4, 0, 8]]\n",
      "\n",
      "Word chars =  ['a', 'l', 'g', 'o', 'r', 'i', 't', 'm', 'o', 'a', 'l', 'g', 'o', 'r', 'i', 't', 'm', 'o', 'a', 'l', 'g', 'o', 'r', 'i', 't', 'm', 'o', 'a', 'l', 'g', 'o', 'r', 'i', 't', 'm', 'o', 'a', 'l', 'g', 'o', 'r', 'i', 't', 'm', 'o']\n"
     ]
    }
   ],
   "source": [
    "truth_word_vect = truth_word*num_h_words\n",
    "\n",
    "t_idx = [[xi,0,yi]for xi, x in enumerate(truth_word_vect) for yi, y in enumerate(x)]\n",
    "t_chars = list(''.join(truth_word_vect))\n",
    "t3 = tf.SparseTensor(t_idx, t_chars, [num_h_words,1,1])\n",
    "\n",
    "print('Truth Sparsed matrix argument = ',t_idx)\n",
    "print('\\nWord chars = ', t_chars)"
   ]
  },
  {
   "cell_type": "markdown",
   "metadata": {},
   "source": [
    "Finally the distance is:"
   ]
  },
  {
   "cell_type": "code",
   "execution_count": 15,
   "metadata": {},
   "outputs": [
    {
     "name": "stdout",
     "output_type": "stream",
     "text": [
      "Number of changes needed =  [[9.]\n",
      " [7.]\n",
      " [8.]\n",
      " [8.]\n",
      " [8.]]\n",
      "Distance between words =  [[1.       ]\n",
      " [0.7777778]\n",
      " [0.8888889]\n",
      " [0.8888889]\n",
      " [0.8888889]]\n"
     ]
    }
   ],
   "source": [
    "print('Number of changes needed = ', session.run(tf.edit_distance(h3, t3, normalize=False)))\n",
    "print('Distance between words = ', session.run(tf.edit_distance(h3, t3, normalize=True)))"
   ]
  },
  {
   "cell_type": "code",
   "execution_count": 16,
   "metadata": {},
   "outputs": [],
   "source": [
    "def create_sparse_words_vect(word_list):\n",
    "    num_words = len(word_list)\n",
    "    idx = [[xi, 0, yi] for xi, x in enumerate(word_list) for yi, y in enumerate(x)]\n",
    "    chars = list(''.join(word_list))\n",
    "    return tf.SparseTensorValue(idx, chars, [num_words,1,1])"
   ]
  },
  {
   "cell_type": "code",
   "execution_count": 23,
   "metadata": {},
   "outputs": [
    {
     "name": "stdout",
     "output_type": "stream",
     "text": [
      "Distance between words =  [[1.       ]\n",
      " [0.7777778]\n",
      " [0.8888889]\n",
      " [0.8888889]\n",
      " [0.8888889]]\n"
     ]
    }
   ],
   "source": [
    "hyp_strin_sp = create_sparse_words_vect(hypothesis_words)\n",
    "tr_string_sp = create_sparse_words_vect(truth_word*len(hypothesis_words))\n",
    "\n",
    "h_input = tf.sparse_placeholder(dtype = tf.string)\n",
    "t_input = tf.sparse_placeholder(dtype = tf.string)\n",
    "\n",
    "edit_distance = tf.edit_distance(h_input, t_input, normalize= True)\n",
    "\n",
    "feed_dict = {h_input: hyp_strin_sp, t_input: tr_string_sp}\n",
    "\n",
    "print('Distance between words = ',session.run(edit_distance, feed_dict=feed_dict))"
   ]
  },
  {
   "cell_type": "markdown",
   "metadata": {},
   "source": [
    "# Other Distances metrics to compare words\n",
    "\n",
    "- Hamming Distance\n",
    "    - Both words need to have the same lenght\n",
    "    - Defined as $D(s_1,s_2) = \\sum_{i=1}^n I_i$\n",
    "        - Where $I_i=1$ if both words has the same caracter in the $i$ position. It would be 0 in other case.\n",
    "        - $n = $ number of char in the word.\n",
    "- Cosine Distance\n",
    "    - Defined as the dot product of the difference of the k-gramas over the norm of the values.\n",
    "     $$D(s_1,s_2) = 1 - \\frac{k(s_1)\\cdot k(s_2)}{||k(s_1||\\cdot||k(s_2||}$$\n",
    "- Jaccard Distance\n",
    "    - Number of char in common between 2 words over the total char joint of the words\n",
    "    $$D(s_1,s_2) = \\frac{|s_1\\cap s_2|}{|s_1\\cup s_2|}$$"
   ]
  }
 ],
 "metadata": {
  "kernelspec": {
   "display_name": "Python 3",
   "language": "python",
   "name": "python3"
  },
  "language_info": {
   "codemirror_mode": {
    "name": "ipython",
    "version": 3
   },
   "file_extension": ".py",
   "mimetype": "text/x-python",
   "name": "python",
   "nbconvert_exporter": "python",
   "pygments_lexer": "ipython3",
   "version": "3.7.6"
  }
 },
 "nbformat": 4,
 "nbformat_minor": 4
}
