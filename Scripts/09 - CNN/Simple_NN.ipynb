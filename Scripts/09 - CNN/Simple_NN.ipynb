{
 "cells": [
  {
   "cell_type": "markdown",
   "metadata": {},
   "source": [
    "# Simple Convolutional Neural Network\n",
    "\n",
    "Using:\n",
    "- 2 layers of convolution + ReLu + MaxPoolin\n",
    "- 2 Fully connected layers\n",
    "\n",
    "Library import"
   ]
  },
  {
   "cell_type": "code",
   "execution_count": 2,
   "metadata": {},
   "outputs": [],
   "source": [
    "import numpy as np\n",
    "import matplotlib.pyplot as plt\n",
    "import tensorflow as tf\n",
    "from tensorflow.examples.tutorials.mnist import input_data\n",
    "from tensorflow.python.framework import ops\n",
    "session = tf.Session()\n",
    "%config Completer.use_jedi = False\n",
    "\n",
    "ops.reset_default_graph()\n",
    "session = tf.Session()"
   ]
  },
  {
   "cell_type": "markdown",
   "metadata": {},
   "source": [
    "Dataset import"
   ]
  },
  {
   "cell_type": "code",
   "execution_count": 4,
   "metadata": {},
   "outputs": [
    {
     "name": "stdout",
     "output_type": "stream",
     "text": [
      "Extracting ../../Datasets/MNIST_data/train-images-idx3-ubyte.gz\n",
      "Extracting ../../Datasets/MNIST_data/train-labels-idx1-ubyte.gz\n",
      "Extracting ../../Datasets/MNIST_data/t10k-images-idx3-ubyte.gz\n",
      "Extracting ../../Datasets/MNIST_data/t10k-labels-idx1-ubyte.gz\n"
     ]
    }
   ],
   "source": [
    "data_dir = '../../Datasets/MNIST_data/'\n",
    "mnist = input_data.read_data_sets(data_dir, one_hot = False)"
   ]
  },
  {
   "cell_type": "markdown",
   "metadata": {},
   "source": [
    "Training/test dataset split"
   ]
  },
  {
   "cell_type": "code",
   "execution_count": 5,
   "metadata": {},
   "outputs": [],
   "source": [
    "train_xdata = np.array([np.reshape(x, (28,28)) for x in mnist.train.images])\n",
    "test_xdata = np.array([np.reshape(x, (28,28)) for x in mnist.test.images])\n",
    "\n",
    "train_labels = mnist.train.labels\n",
    "test_labels = mnist.test.labels"
   ]
  },
  {
   "cell_type": "markdown",
   "metadata": {},
   "source": [
    "Model parameters"
   ]
  },
  {
   "cell_type": "code",
   "execution_count": 36,
   "metadata": {},
   "outputs": [],
   "source": [
    "batch_size = 50\n",
    "learning_rate = 0.005\n",
    "evaluation_size = 500\n",
    "image_width = train_xdata[0].shape[0]\n",
    "image_height = train_xdata[0].shape[1]\n",
    "target_size = max(train_labels) + 1\n",
    "num_channels = 1 #data colors -- B&W = 1 // RGB = 3\n",
    "generations = 500\n",
    "eval_every = 5\n",
    "conv1_features = 25\n",
    "conv2_features = 50\n",
    "max_pool_size1 = 2   #Max pooling window size 2x2\n",
    "max_pool_size2 = 2\n",
    "full_connected_size1 = 100"
   ]
  },
  {
   "cell_type": "markdown",
   "metadata": {},
   "source": [
    "Variables definition"
   ]
  },
  {
   "cell_type": "code",
   "execution_count": 37,
   "metadata": {},
   "outputs": [],
   "source": [
    "x_input_shape = (batch_size, image_width, image_height, num_channels)\n",
    "x_input = tf.placeholder(tf.float32, shape = x_input_shape)\n",
    "y_target = tf.placeholder(tf.int32, shape = batch_size)\n",
    "\n",
    "eval_input_shape = (evaluation_size, image_width, image_height, num_channels)\n",
    "eval_input = tf.placeholder(tf.float32, shape = eval_input_shape)\n",
    "eval_target = tf.placeholder(tf.float32, shape = evaluation_size)"
   ]
  },
  {
   "cell_type": "markdown",
   "metadata": {},
   "source": [
    "Convolutional Operations"
   ]
  },
  {
   "cell_type": "code",
   "execution_count": 38,
   "metadata": {},
   "outputs": [],
   "source": [
    "conv1_weight = tf.Variable(tf.truncated_normal([4, 4, num_channels, conv1_features], stddev = 0.1, dtype= tf.float32))\n",
    "conv1_bias = tf.Variable(tf.zeros([conv1_features], dtype = tf.float32))\n",
    "\n",
    "conv2_weight = tf.Variable(tf.truncated_normal([4, 4, conv1_features, conv2_features], stddev = 0.1, dtype= tf.float32))\n",
    "conv2_bias = tf.Variable(tf.zeros([conv2_features], dtype = tf.float32))"
   ]
  },
  {
   "cell_type": "markdown",
   "metadata": {},
   "source": [
    "Fully connected layers definition"
   ]
  },
  {
   "cell_type": "code",
   "execution_count": 39,
   "metadata": {},
   "outputs": [],
   "source": [
    "resulting_width = image_width // (max_pool_size1 * max_pool_size2)  #Image result after convolution\n",
    "result_height = image_height // (max_pool_size1 * max_pool_size2)\n",
    "\n",
    "full1_input_size = resulting_width * result_height * conv2_features\n",
    "full1_weight = tf.Variable(tf.truncated_normal([full1_input_size, full_connected_size1], stddev= 0.1, dtype = tf.float32))\n",
    "full1_bias = tf.Variable(tf.truncated_normal([full_connected_size1], stddev = 0.1, dtype = tf.float32))\n",
    "\n",
    "full2_weight = tf.Variable(tf.truncated_normal([full_connected_size1, target_size], stddev = 0.1, dtype = tf.float32))\n",
    "full2_bias = tf.Variable(tf.truncated_normal([target_size], stddev = 0.1, dtype = tf.float32))"
   ]
  },
  {
   "cell_type": "markdown",
   "metadata": {},
   "source": [
    "Neural network definition.\n",
    "\n",
    "This function is responsable of apply all the operations related to CNN to the data feed into the training loop."
   ]
  },
  {
   "cell_type": "code",
   "execution_count": 40,
   "metadata": {},
   "outputs": [],
   "source": [
    "def my_conv_neural_net(input_data):\n",
    "    #First layer == Conv + ReLu + MaxPool\n",
    "    conv1 = tf.nn.conv2d(input_data, conv1_weight, strides = [1,1,1,1], padding = 'SAME')\n",
    "    relu1 = tf.nn.relu(tf.nn.bias_add(conv1, conv1_bias))\n",
    "    max_pool1 = tf.nn.max_pool(relu1, ksize=[1, max_pool_size1, max_pool_size1, 1],\n",
    "                               strides = [1, max_pool_size1, max_pool_size1, 1], padding = 'SAME')\n",
    "    #Second layer == Conv + ReLu + MaxPool\n",
    "    conv2 = tf.nn.conv2d(max_pool1, conv2_weight, strides = [1,1,1,1], padding = 'SAME')\n",
    "    relu2 = tf.nn.relu(tf.nn.bias_add(conv2, conv2_bias))\n",
    "    max_pool2 = tf.nn.max_pool(relu2, ksize=[1, max_pool_size2, max_pool_size2, 1],\n",
    "                               strides = [1, max_pool_size2, max_pool_size2, 1], padding = 'SAME')    \n",
    "    #Flattening == 1xN vector to Fully connected layer\n",
    "    final_conv_shape = max_pool2.get_shape().as_list()\n",
    "    final_shape = final_conv_shape[1] * final_conv_shape [2] * final_conv_shape [3]\n",
    "    flat_output = tf.reshape(max_pool2, [final_conv_shape[0], final_shape])\n",
    "    #Third layer == fully connected\n",
    "    fully_connected_1 = tf.nn.relu(tf.add(tf.matmul(flat_output, full1_weight), full1_bias))\n",
    "    #Fourth layer == fully connected\n",
    "    fully_connected_2 = tf.add(tf.matmul(fully_connected_1, full2_weight), full2_bias)\n",
    "    return fully_connected_2"
   ]
  },
  {
   "cell_type": "code",
   "execution_count": 41,
   "metadata": {},
   "outputs": [],
   "source": [
    "model_output = my_conv_neural_net(x_input)\n",
    "test_model_output = my_conv_neural_net(eval_input)"
   ]
  },
  {
   "cell_type": "markdown",
   "metadata": {},
   "source": [
    "Loss function.\n",
    "\n",
    "Using softmax regularization with logits. "
   ]
  },
  {
   "cell_type": "code",
   "execution_count": 42,
   "metadata": {},
   "outputs": [],
   "source": [
    "loss = tf.reduce_mean(tf.nn.sparse_softmax_cross_entropy_with_logits(logits = model_output, labels= y_target))"
   ]
  },
  {
   "cell_type": "markdown",
   "metadata": {},
   "source": [
    "Prediction function. Using the probability of the model output then convert to a number and compare with the validation dataset. "
   ]
  },
  {
   "cell_type": "code",
   "execution_count": 43,
   "metadata": {},
   "outputs": [],
   "source": [
    "prediction = tf.nn.softmax(model_output)\n",
    "test_prediction = tf.nn.softmax(test_model_output)\n",
    "\n",
    "def get_accuracy(logits, targets):\n",
    "    batch_predictions = np.argmax(logits, axis = 1)\n",
    "    num_corrects = np.sum(np.equal(batch_predictions, targets))\n",
    "    return 100.0*num_corrects / batch_predictions.shape[0]"
   ]
  },
  {
   "cell_type": "markdown",
   "metadata": {},
   "source": [
    "Train step using Momentum optimizer and loss function."
   ]
  },
  {
   "cell_type": "code",
   "execution_count": 44,
   "metadata": {},
   "outputs": [],
   "source": [
    "my_optim = tf.train.MomentumOptimizer(learning_rate = learning_rate, momentum = 0.9)\n",
    "train_step = my_optim.minimize(loss)"
   ]
  },
  {
   "cell_type": "markdown",
   "metadata": {},
   "source": [
    "Variable initialization"
   ]
  },
  {
   "cell_type": "code",
   "execution_count": 45,
   "metadata": {},
   "outputs": [],
   "source": [
    "init = tf.global_variables_initializer()\n",
    "session.run(init)"
   ]
  },
  {
   "cell_type": "markdown",
   "metadata": {},
   "source": [
    "Training Loop"
   ]
  },
  {
   "cell_type": "code",
   "execution_count": 47,
   "metadata": {},
   "outputs": [
    {
     "name": "stdout",
     "output_type": "stream",
     "text": [
      "Iteration #5. Train Loss: 2.111. Train Accuracy: 40.000. Test Accuracy: 27.400\n",
      "Iteration #10. Train Loss: 2.132. Train Accuracy: 30.000. Test Accuracy: 36.000\n",
      "Iteration #15. Train Loss: 1.922. Train Accuracy: 32.000. Test Accuracy: 50.000\n",
      "Iteration #20. Train Loss: 1.573. Train Accuracy: 56.000. Test Accuracy: 56.000\n",
      "Iteration #25. Train Loss: 1.421. Train Accuracy: 66.000. Test Accuracy: 64.400\n",
      "Iteration #30. Train Loss: 1.123. Train Accuracy: 70.000. Test Accuracy: 67.600\n",
      "Iteration #35. Train Loss: 0.932. Train Accuracy: 78.000. Test Accuracy: 72.400\n",
      "Iteration #40. Train Loss: 0.746. Train Accuracy: 80.000. Test Accuracy: 75.800\n",
      "Iteration #45. Train Loss: 0.702. Train Accuracy: 80.000. Test Accuracy: 83.000\n",
      "Iteration #50. Train Loss: 0.748. Train Accuracy: 72.000. Test Accuracy: 81.200\n",
      "Iteration #55. Train Loss: 0.391. Train Accuracy: 90.000. Test Accuracy: 86.200\n",
      "Iteration #60. Train Loss: 0.439. Train Accuracy: 82.000. Test Accuracy: 87.200\n",
      "Iteration #65. Train Loss: 0.341. Train Accuracy: 90.000. Test Accuracy: 84.800\n",
      "Iteration #70. Train Loss: 0.447. Train Accuracy: 80.000. Test Accuracy: 82.800\n",
      "Iteration #75. Train Loss: 0.439. Train Accuracy: 94.000. Test Accuracy: 84.600\n",
      "Iteration #80. Train Loss: 0.635. Train Accuracy: 78.000. Test Accuracy: 83.600\n",
      "Iteration #85. Train Loss: 0.202. Train Accuracy: 94.000. Test Accuracy: 81.400\n",
      "Iteration #90. Train Loss: 0.209. Train Accuracy: 92.000. Test Accuracy: 89.200\n",
      "Iteration #95. Train Loss: 0.305. Train Accuracy: 90.000. Test Accuracy: 89.800\n",
      "Iteration #100. Train Loss: 0.298. Train Accuracy: 88.000. Test Accuracy: 87.800\n",
      "Iteration #105. Train Loss: 0.417. Train Accuracy: 90.000. Test Accuracy: 87.400\n",
      "Iteration #110. Train Loss: 0.195. Train Accuracy: 96.000. Test Accuracy: 92.200\n",
      "Iteration #115. Train Loss: 0.235. Train Accuracy: 96.000. Test Accuracy: 89.800\n",
      "Iteration #120. Train Loss: 0.361. Train Accuracy: 88.000. Test Accuracy: 89.000\n",
      "Iteration #125. Train Loss: 0.341. Train Accuracy: 84.000. Test Accuracy: 91.200\n",
      "Iteration #130. Train Loss: 0.428. Train Accuracy: 92.000. Test Accuracy: 91.000\n",
      "Iteration #135. Train Loss: 0.172. Train Accuracy: 94.000. Test Accuracy: 93.000\n",
      "Iteration #140. Train Loss: 0.297. Train Accuracy: 92.000. Test Accuracy: 93.800\n",
      "Iteration #145. Train Loss: 0.288. Train Accuracy: 88.000. Test Accuracy: 93.200\n",
      "Iteration #150. Train Loss: 0.369. Train Accuracy: 90.000. Test Accuracy: 91.200\n",
      "Iteration #155. Train Loss: 0.276. Train Accuracy: 94.000. Test Accuracy: 90.400\n",
      "Iteration #160. Train Loss: 0.384. Train Accuracy: 90.000. Test Accuracy: 92.400\n",
      "Iteration #165. Train Loss: 0.334. Train Accuracy: 94.000. Test Accuracy: 93.000\n",
      "Iteration #170. Train Loss: 0.174. Train Accuracy: 96.000. Test Accuracy: 91.200\n",
      "Iteration #175. Train Loss: 0.294. Train Accuracy: 92.000. Test Accuracy: 93.200\n",
      "Iteration #180. Train Loss: 0.227. Train Accuracy: 94.000. Test Accuracy: 92.600\n",
      "Iteration #185. Train Loss: 0.145. Train Accuracy: 96.000. Test Accuracy: 92.800\n",
      "Iteration #190. Train Loss: 0.153. Train Accuracy: 92.000. Test Accuracy: 94.400\n",
      "Iteration #195. Train Loss: 0.194. Train Accuracy: 92.000. Test Accuracy: 90.800\n",
      "Iteration #200. Train Loss: 0.068. Train Accuracy: 100.000. Test Accuracy: 93.200\n",
      "Iteration #205. Train Loss: 0.157. Train Accuracy: 94.000. Test Accuracy: 91.200\n",
      "Iteration #210. Train Loss: 0.247. Train Accuracy: 90.000. Test Accuracy: 95.000\n",
      "Iteration #215. Train Loss: 0.079. Train Accuracy: 100.000. Test Accuracy: 92.200\n",
      "Iteration #220. Train Loss: 0.239. Train Accuracy: 90.000. Test Accuracy: 91.800\n",
      "Iteration #225. Train Loss: 0.487. Train Accuracy: 86.000. Test Accuracy: 91.000\n",
      "Iteration #230. Train Loss: 0.223. Train Accuracy: 90.000. Test Accuracy: 94.000\n",
      "Iteration #235. Train Loss: 0.074. Train Accuracy: 98.000. Test Accuracy: 95.200\n",
      "Iteration #240. Train Loss: 0.111. Train Accuracy: 96.000. Test Accuracy: 91.400\n",
      "Iteration #245. Train Loss: 0.116. Train Accuracy: 96.000. Test Accuracy: 94.200\n",
      "Iteration #250. Train Loss: 0.085. Train Accuracy: 98.000. Test Accuracy: 93.000\n",
      "Iteration #255. Train Loss: 0.292. Train Accuracy: 92.000. Test Accuracy: 93.800\n",
      "Iteration #260. Train Loss: 0.212. Train Accuracy: 92.000. Test Accuracy: 91.000\n",
      "Iteration #265. Train Loss: 0.396. Train Accuracy: 90.000. Test Accuracy: 92.200\n",
      "Iteration #270. Train Loss: 0.086. Train Accuracy: 100.000. Test Accuracy: 94.000\n",
      "Iteration #275. Train Loss: 0.231. Train Accuracy: 92.000. Test Accuracy: 95.400\n",
      "Iteration #280. Train Loss: 0.237. Train Accuracy: 96.000. Test Accuracy: 94.600\n",
      "Iteration #285. Train Loss: 0.244. Train Accuracy: 92.000. Test Accuracy: 94.600\n",
      "Iteration #290. Train Loss: 0.131. Train Accuracy: 98.000. Test Accuracy: 95.400\n",
      "Iteration #295. Train Loss: 0.226. Train Accuracy: 92.000. Test Accuracy: 91.200\n",
      "Iteration #300. Train Loss: 0.331. Train Accuracy: 94.000. Test Accuracy: 95.800\n",
      "Iteration #305. Train Loss: 0.181. Train Accuracy: 94.000. Test Accuracy: 93.600\n",
      "Iteration #310. Train Loss: 0.423. Train Accuracy: 90.000. Test Accuracy: 95.000\n",
      "Iteration #315. Train Loss: 0.269. Train Accuracy: 88.000. Test Accuracy: 91.600\n",
      "Iteration #320. Train Loss: 0.119. Train Accuracy: 98.000. Test Accuracy: 93.400\n",
      "Iteration #325. Train Loss: 0.198. Train Accuracy: 92.000. Test Accuracy: 94.200\n",
      "Iteration #330. Train Loss: 0.070. Train Accuracy: 98.000. Test Accuracy: 94.000\n",
      "Iteration #335. Train Loss: 0.216. Train Accuracy: 94.000. Test Accuracy: 95.200\n",
      "Iteration #340. Train Loss: 0.049. Train Accuracy: 100.000. Test Accuracy: 95.600\n",
      "Iteration #345. Train Loss: 0.124. Train Accuracy: 94.000. Test Accuracy: 95.800\n",
      "Iteration #350. Train Loss: 0.048. Train Accuracy: 100.000. Test Accuracy: 95.400\n",
      "Iteration #355. Train Loss: 0.132. Train Accuracy: 98.000. Test Accuracy: 95.600\n",
      "Iteration #360. Train Loss: 0.042. Train Accuracy: 100.000. Test Accuracy: 95.800\n",
      "Iteration #365. Train Loss: 0.147. Train Accuracy: 98.000. Test Accuracy: 95.800\n",
      "Iteration #370. Train Loss: 0.164. Train Accuracy: 96.000. Test Accuracy: 94.400\n",
      "Iteration #375. Train Loss: 0.175. Train Accuracy: 96.000. Test Accuracy: 92.200\n",
      "Iteration #380. Train Loss: 0.112. Train Accuracy: 96.000. Test Accuracy: 95.800\n",
      "Iteration #385. Train Loss: 0.204. Train Accuracy: 92.000. Test Accuracy: 93.600\n",
      "Iteration #390. Train Loss: 0.093. Train Accuracy: 98.000. Test Accuracy: 94.800\n",
      "Iteration #395. Train Loss: 0.090. Train Accuracy: 98.000. Test Accuracy: 95.400\n",
      "Iteration #400. Train Loss: 0.144. Train Accuracy: 96.000. Test Accuracy: 96.400\n",
      "Iteration #405. Train Loss: 0.154. Train Accuracy: 96.000. Test Accuracy: 94.600\n",
      "Iteration #410. Train Loss: 0.272. Train Accuracy: 92.000. Test Accuracy: 92.600\n",
      "Iteration #415. Train Loss: 0.198. Train Accuracy: 92.000. Test Accuracy: 94.000\n",
      "Iteration #420. Train Loss: 0.077. Train Accuracy: 100.000. Test Accuracy: 94.400\n",
      "Iteration #425. Train Loss: 0.236. Train Accuracy: 88.000. Test Accuracy: 94.400\n",
      "Iteration #430. Train Loss: 0.200. Train Accuracy: 92.000. Test Accuracy: 93.800\n",
      "Iteration #435. Train Loss: 0.296. Train Accuracy: 92.000. Test Accuracy: 94.200\n",
      "Iteration #440. Train Loss: 0.090. Train Accuracy: 96.000. Test Accuracy: 96.000\n",
      "Iteration #445. Train Loss: 0.086. Train Accuracy: 98.000. Test Accuracy: 96.400\n",
      "Iteration #450. Train Loss: 0.231. Train Accuracy: 88.000. Test Accuracy: 95.400\n",
      "Iteration #455. Train Loss: 0.126. Train Accuracy: 98.000. Test Accuracy: 95.400\n",
      "Iteration #460. Train Loss: 0.294. Train Accuracy: 94.000. Test Accuracy: 95.000\n",
      "Iteration #465. Train Loss: 0.368. Train Accuracy: 94.000. Test Accuracy: 95.200\n",
      "Iteration #470. Train Loss: 0.069. Train Accuracy: 98.000. Test Accuracy: 95.400\n",
      "Iteration #475. Train Loss: 0.120. Train Accuracy: 94.000. Test Accuracy: 94.200\n",
      "Iteration #480. Train Loss: 0.082. Train Accuracy: 96.000. Test Accuracy: 96.200\n",
      "Iteration #485. Train Loss: 0.118. Train Accuracy: 96.000. Test Accuracy: 96.600\n",
      "Iteration #490. Train Loss: 0.246. Train Accuracy: 96.000. Test Accuracy: 98.200\n",
      "Iteration #495. Train Loss: 0.194. Train Accuracy: 94.000. Test Accuracy: 96.600\n",
      "Iteration #500. Train Loss: 0.110. Train Accuracy: 96.000. Test Accuracy: 94.400\n"
     ]
    }
   ],
   "source": [
    "train_loss = []\n",
    "train_acc = []\n",
    "test_acc = []\n",
    "i_vals = []\n",
    "\n",
    "for i in range(generations):\n",
    "    rand_idx = np.random.choice(len(train_xdata), size = batch_size)\n",
    "    rand_x = train_xdata[rand_idx]\n",
    "    rand_x = np.expand_dims(rand_x, 3)\n",
    "    rand_y = train_labels[rand_idx]\n",
    "    train_dict = {x_input: rand_x,\n",
    "                  y_target: rand_y}\n",
    "    session.run(train_step, feed_dict= train_dict)\n",
    "    temp_train_loss, temp_train_preds = session.run([loss, prediction], feed_dict = train_dict)\n",
    "    temp_train_acc = get_accuracy(temp_train_preds, rand_y)\n",
    "    \n",
    "    if (i+1) % eval_every == 0:\n",
    "        rand_idx_eval = np.random.choice(len(test_xdata), size = evaluation_size)\n",
    "        rand_x_eval = test_xdata[rand_idx_eval]\n",
    "        rand_x_eval = np.expand_dims(rand_x_eval, 3)\n",
    "        rand_y_eval = test_labels[rand_idx_eval]\n",
    "        test_dict = {eval_input: rand_x_eval,\n",
    "                      eval_target: rand_y_eval}\n",
    "        temp_test_preds = session.run(test_prediction, feed_dict = test_dict)\n",
    "        temp_test_acc = get_accuracy(temp_test_preds, rand_y_eval)\n",
    "        \n",
    "        train_loss.append(temp_train_loss)\n",
    "        train_acc.append(temp_train_acc)\n",
    "        test_acc.append(temp_test_acc)\n",
    "        \n",
    "        acc_and_loss = [(i+1), temp_train_loss, temp_train_acc, temp_test_acc]\n",
    "        acc_and_loss = [np.round(x,3) for x in acc_and_loss]\n",
    "        print('Iteration #{}. Train Loss: {:.3f}. Train Accuracy: {:.3f}. Test Accuracy: {:.3f}'.format(*acc_and_loss))\n",
    "        "
   ]
  },
  {
   "cell_type": "markdown",
   "metadata": {},
   "source": [
    "Model Performance"
   ]
  },
  {
   "cell_type": "code",
   "execution_count": 51,
   "metadata": {},
   "outputs": [
    {
     "data": {
      "image/png": "[encoded data removed]",
      "text/plain": [
       "<Figure size 432x288 with 1 Axes>"
      ]
     },
     "metadata": {
      "needs_background": "light"
     },
     "output_type": "display_data"
    }
   ],
   "source": [
    "plt.plot(np.arange(0,500,5), train_loss, 'k-')\n",
    "plt.title('Softmax training Loss')\n",
    "plt.xlabel('Iteration')\n",
    "plt.ylabel('Loss')\n",
    "plt.show()\n"
   ]
  },
  {
   "cell_type": "code",
   "execution_count": 57,
   "metadata": {},
   "outputs": [
    {
     "data": {
      "image/png": "[encoded data removed]",
      "text/plain": [
       "<Figure size 432x288 with 1 Axes>"
      ]
     },
     "metadata": {
      "needs_background": "light"
     },
     "output_type": "display_data"
    }
   ],
   "source": [
    "plt.plot(np.arange(0,500,5), train_acc, 'r-', label = 'Training')\n",
    "plt.plot(np.arange(0,500,5), test_acc, 'b--', label = 'Test')\n",
    "plt.xlabel('Step')\n",
    "plt.ylabel('Accuracy [%]')\n",
    "plt.ylim([0,100])\n",
    "plt.legend(loc = 'lower right')\n",
    "plt.show()"
   ]
  },
  {
   "cell_type": "code",
   "execution_count": 61,
   "metadata": {},
   "outputs": [
    {
     "data": {
      "image/png": "[encoded data removed]",
      "text/plain": [
       "<Figure size 432x288 with 6 Axes>"
      ]
     },
     "metadata": {
      "needs_background": "light"
     },
     "output_type": "display_data"
    }
   ],
   "source": [
    "actuals = rand_y[0:6]\n",
    "predictions = np.argmax(temp_train_preds, axis = 1)[0:6]\n",
    "images = np.squeeze(rand_x[0:6])\n",
    "nrow = 2\n",
    "ncols = 3\n",
    "for i in range(6):\n",
    "    plt.subplot(nrow, ncols, i+1)\n",
    "    plt.imshow(np.reshape(images[i], [28,28]), cmap = 'Greys_r')\n",
    "    plt.title('Actual: '+str(actuals[i]) + 'Prediction: '+str(predictions[i]), fontsize = 10)\n",
    "    frame = plt.gca()\n",
    "    frame.axes.get_xaxis().set_visible(False)\n",
    "    frame.axes.get_yaxis().set_visible(False)\n",
    "    "
   ]
  },
  {
   "cell_type": "code",
   "execution_count": null,
   "metadata": {},
   "outputs": [],
   "source": []
  }
 ],
 "metadata": {
  "kernelspec": {
   "display_name": "Python 3",
   "language": "python",
   "name": "python3"
  },
  "language_info": {
   "codemirror_mode": {
    "name": "ipython",
    "version": 3
   },
   "file_extension": ".py",
   "mimetype": "text/x-python",
   "name": "python",
   "nbconvert_exporter": "python",
   "pygments_lexer": "ipython3",
   "version": "3.7.6"
  }
 },
 "nbformat": 4,
 "nbformat_minor": 4
}
