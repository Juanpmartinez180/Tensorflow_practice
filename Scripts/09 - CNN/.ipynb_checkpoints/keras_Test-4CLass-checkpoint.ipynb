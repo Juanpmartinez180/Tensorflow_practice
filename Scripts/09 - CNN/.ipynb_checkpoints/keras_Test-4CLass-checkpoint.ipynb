{
 "cells": [
  {
   "cell_type": "code",
   "execution_count": 1,
   "metadata": {},
   "outputs": [
    {
     "name": "stderr",
     "output_type": "stream",
     "text": [
      "Using TensorFlow backend.\n"
     ]
    }
   ],
   "source": [
    "#library import\n",
    "import numpy as np\n",
    "import matplotlib.pyplot as plt\n",
    "import pandas as pd\n",
    "import tensorflow as tf\n",
    "\n",
    "#---- CNN model build ----\n",
    "import keras \n",
    "from keras.models import Sequential\n",
    "from keras.layers import Conv2D\n",
    "from keras.layers import MaxPooling2D\n",
    "from keras.layers import Flatten\n",
    "from keras.layers import Dense"
   ]
  },
  {
   "cell_type": "code",
   "execution_count": 2,
   "metadata": {},
   "outputs": [
    {
     "name": "stdout",
     "output_type": "stream",
     "text": [
      "WARNING:tensorflow:From /home/juan/anaconda3/lib/python3.7/site-packages/keras/backend/tensorflow_backend.py:74: The name tf.get_default_graph is deprecated. Please use tf.compat.v1.get_default_graph instead.\n",
      "\n",
      "WARNING:tensorflow:From /home/juan/anaconda3/lib/python3.7/site-packages/keras/backend/tensorflow_backend.py:517: The name tf.placeholder is deprecated. Please use tf.compat.v1.placeholder instead.\n",
      "\n",
      "WARNING:tensorflow:From /home/juan/anaconda3/lib/python3.7/site-packages/keras/backend/tensorflow_backend.py:4138: The name tf.random_uniform is deprecated. Please use tf.random.uniform instead.\n",
      "\n",
      "WARNING:tensorflow:From /home/juan/anaconda3/lib/python3.7/site-packages/keras/backend/tensorflow_backend.py:3976: The name tf.nn.max_pool is deprecated. Please use tf.nn.max_pool2d instead.\n",
      "\n",
      "WARNING:tensorflow:From /home/juan/anaconda3/lib/python3.7/site-packages/keras/optimizers.py:790: The name tf.train.Optimizer is deprecated. Please use tf.compat.v1.train.Optimizer instead.\n",
      "\n",
      "WARNING:tensorflow:From /home/juan/anaconda3/lib/python3.7/site-packages/keras/backend/tensorflow_backend.py:3376: The name tf.log is deprecated. Please use tf.math.log instead.\n",
      "\n",
      "WARNING:tensorflow:From /home/juan/anaconda3/lib/python3.7/site-packages/tensorflow/python/ops/nn_impl.py:180: add_dispatch_support.<locals>.wrapper (from tensorflow.python.ops.array_ops) is deprecated and will be removed in a future version.\n",
      "Instructions for updating:\n",
      "Use tf.where in 2.0, which has the same broadcast rule as np.where\n"
     ]
    }
   ],
   "source": [
    "classifier =  Sequential()\n",
    "\n",
    "#Convolution layer\n",
    "classifier.add( Conv2D(filters = 32, kernel_size = 3, \n",
    "                       input_shape = (64,64,1), activation = 'relu' ) )\n",
    "#Max pooling layer\n",
    "classifier.add( MaxPooling2D(pool_size = 2, strides = 2) )\n",
    "\n",
    "\n",
    "\"\"\"Adding another convolution and maxpooling layers to increase precision\n",
    "\"\"\"\n",
    "#Convolution layer\n",
    "classifier.add( Conv2D(filters = 32, kernel_size = 3, \n",
    "                       activation = 'relu' ) )\n",
    "#Max pooling layer\n",
    "classifier.add( MaxPooling2D(pool_size = 2, strides = 2) )\n",
    "\n",
    "#Flattening layer\n",
    "classifier.add( Flatten() )\n",
    "\n",
    "#Hidden layer 1\n",
    "classifier.add( Dense(units = 256, kernel_initializer = 'uniform', activation = 'relu') )\n",
    "#Hidden layer 2\n",
    "classifier.add( Dense(units = 128, kernel_initializer = 'uniform', activation = 'relu') )\n",
    "\n",
    "#Output layer\n",
    "classifier.add( Dense(units = 4, kernel_initializer = 'uniform', activation = 'sigmoid') )\n",
    "\n",
    "\n",
    "opt = keras.optimizers.Adam(lr=0.0005, beta_1=0.9, beta_2=0.999, epsilon=1e-08, decay=0.0)\n",
    "#ANN compile\n",
    "classifier.compile( optimizer = opt, loss = 'binary_crossentropy', metrics = ['accuracy'])"
   ]
  },
  {
   "cell_type": "code",
   "execution_count": 3,
   "metadata": {},
   "outputs": [
    {
     "name": "stdout",
     "output_type": "stream",
     "text": [
      "Found 3199 images belonging to 4 classes.\n",
      "Found 800 images belonging to 4 classes.\n"
     ]
    }
   ],
   "source": [
    "#---- CNN model training ----\n",
    "#Image import \n",
    "from keras.preprocessing.image import ImageDataGenerator\n",
    "\n",
    "train_datagen = ImageDataGenerator(rescale = 1./255,\n",
    "                                   shear_range=0.2,\n",
    "                                   zoom_range=0.2,\n",
    "                                   horizontal_flip=True)\n",
    "\n",
    "test_datagen = ImageDataGenerator(rescale = 1./255)\n",
    "\n",
    "training_dataset = train_datagen.flow_from_directory('Dataset/Training/',\n",
    "                                                    target_size = (64,64),\n",
    "                                                    color_mode = 'grayscale',\n",
    "                                                    batch_size = 32,\n",
    "                                                    classes = ['Tornado', 'CBR', 'Biz', 'Goldwing'],\n",
    "                                                    class_mode = 'categorical')\n",
    "testing_dataset = test_datagen.flow_from_directory('Dataset/Test/',\n",
    "                                                        target_size = (64,64),\n",
    "                                                        color_mode = 'grayscale',\n",
    "                                                        batch_size = 32,\n",
    "                                                        classes = ['Tornado', 'CBR', 'Biz', 'Goldwing'],\n",
    "                                                        class_mode = 'categorical')\n"
   ]
  },
  {
   "cell_type": "code",
   "execution_count": null,
   "metadata": {},
   "outputs": [
    {
     "name": "stdout",
     "output_type": "stream",
     "text": [
      "WARNING:tensorflow:From /home/juan/anaconda3/lib/python3.7/site-packages/keras/backend/tensorflow_backend.py:986: The name tf.assign_add is deprecated. Please use tf.compat.v1.assign_add instead.\n",
      "\n",
      "Epoch 1/5\n",
      "500/500 [==============================] - 201s 402ms/step - loss: 0.4864 - acc: 0.7798 - val_loss: 0.4585 - val_acc: 0.8037\n",
      "Epoch 2/5\n",
      "500/500 [==============================] - 202s 403ms/step - loss: 0.3253 - acc: 0.8619 - val_loss: 0.4080 - val_acc: 0.8391\n",
      "Epoch 3/5\n",
      "499/500 [============================>.] - ETA: 0s - loss: 0.2439 - acc: 0.9002"
     ]
    }
   ],
   "source": [
    "classifier.fit_generator(training_dataset,\n",
    "                        steps_per_epoch = 500,\n",
    "                        epochs = 5,\n",
    "                        validation_data = testing_dataset,\n",
    "                        validation_steps = 200 )"
   ]
  },
  {
   "cell_type": "markdown",
   "metadata": {},
   "source": [
    "## Validation set prediction and confussion matrix"
   ]
  },
  {
   "cell_type": "code",
   "execution_count": null,
   "metadata": {},
   "outputs": [],
   "source": [
    "generator = test_datagen.flow_from_directory('Dataset/validation/',\n",
    "                                                        target_size = (64,64),\n",
    "                                                        color_mode = 'grayscale',\n",
    "                                                        batch_size = 52,\n",
    "                                                        classes = ['Tornado', 'CBR', 'Biz', 'Goldwing'], \n",
    "                                                        class_mode = None,\n",
    "                                                        shuffle = False)\n",
    "\n",
    "probabilities = classifier.predict_generator(generator, 1)\n",
    "\n",
    "predicted_class_indices=np.argmax(probabilities,axis=1)\n",
    "labels=(generator.class_indices)\n",
    "labels2=dict((v,k) for k,v in labels.items())\n",
    "predictions=[labels2[k] for k in predicted_class_indices]\n",
    "print(predicted_class_indices)\n",
    "print(labels)\n",
    "print(predictions)"
   ]
  },
  {
   "cell_type": "markdown",
   "metadata": {},
   "source": [
    "Model performance:"
   ]
  },
  {
   "cell_type": "code",
   "execution_count": null,
   "metadata": {},
   "outputs": [],
   "source": [
    "from sklearn.metrics import confusion_matrix\n",
    "y_test = predicted_class_indices\n",
    "y_pred = generator.classes\n",
    "\n",
    "confusion = confusion_matrix(y_test, y_pred)\n",
    "print('Confusion Matrix\\n')\n",
    "print(confusion)\n",
    "\n",
    "#importing accuracy_score, precision_score, recall_score, f1_score\n",
    "from sklearn.metrics import accuracy_score, precision_score, recall_score, f1_score\n",
    "print('\\nAccuracy: {:.2f}\\n'.format(accuracy_score(y_test, y_pred)))\n",
    "\n",
    "print('Micro Precision: {:.2f}'.format(precision_score(y_test, y_pred, average='micro')))\n",
    "print('Micro Recall: {:.2f}'.format(recall_score(y_test, y_pred, average='micro')))\n",
    "print('Micro F1-score: {:.2f}\\n'.format(f1_score(y_test, y_pred, average='micro')))\n",
    "\n",
    "print('Macro Precision: {:.2f}'.format(precision_score(y_test, y_pred, average='macro')))\n",
    "print('Macro Recall: {:.2f}'.format(recall_score(y_test, y_pred, average='macro')))\n",
    "print('Macro F1-score: {:.2f}\\n'.format(f1_score(y_test, y_pred, average='macro')))\n",
    "\n",
    "print('Weighted Precision: {:.2f}'.format(precision_score(y_test, y_pred, average='weighted')))\n",
    "print('Weighted Recall: {:.2f}'.format(recall_score(y_test, y_pred, average='weighted')))\n",
    "print('Weighted F1-score: {:.2f}'.format(f1_score(y_test, y_pred, average='weighted')))\n",
    "\n",
    "from sklearn.metrics import classification_report\n",
    "print('\\nClassification Report\\n')\n",
    "print(classification_report(y_test, y_pred, target_names=['Tornado', 'CBR', 'Biz', 'Goldwing']))"
   ]
  },
  {
   "cell_type": "markdown",
   "metadata": {},
   "source": [
    "# Predictions"
   ]
  },
  {
   "cell_type": "code",
   "execution_count": null,
   "metadata": {},
   "outputs": [],
   "source": [
    "data_image = 'Dataset/validation/Goldwing//Image1003.jpg'\n",
    "image = tf.keras.preprocessing.image.load_img(data_image, color_mode= 'grayscale', target_size=(64,64), interpolation= 'nearest')\n",
    "\n",
    "input_arr = tf.keras.preprocessing.image.img_to_array(image)\n",
    "input_arr = np.array([input_arr])\n",
    "\n",
    "image"
   ]
  },
  {
   "cell_type": "code",
   "execution_count": null,
   "metadata": {},
   "outputs": [],
   "source": [
    "image = tf.keras.preprocessing.image.load_img(data_image, color_mode= 'grayscale', target_size=None, interpolation= 'nearest')\n",
    "image"
   ]
  },
  {
   "cell_type": "code",
   "execution_count": null,
   "metadata": {},
   "outputs": [],
   "source": [
    "predicted_class_indices=classifier.predict_classes(input_arr)\n",
    "labels=(generator.class_indices)\n",
    "labels2=dict((v,k) for k,v in labels.items())\n",
    "predictions=[labels2[k] for k in predicted_class_indices]\n",
    "\n",
    "print('Predicted Honda Model: ',predictions[0])"
   ]
  },
  {
   "cell_type": "code",
   "execution_count": null,
   "metadata": {},
   "outputs": [],
   "source": [
    "final_image = tf.image.resize_image_with_crop_or_pad(input_arr, 64,64)\n",
    "\n",
    "prediction = classifier.predict_on_batch(x = final_image)\n",
    "prediction>0.5\n",
    "\n",
    "predicted_class_indices=np.argmax(prediction,axis=1)\n",
    "labels=(generator.class_indices)\n",
    "labels2=dict((v,k) for k,v in labels.items())\n",
    "predictions=[labels2[k] for k in predicted_class_indices]\n",
    "\n",
    "predictions"
   ]
  },
  {
   "cell_type": "markdown",
   "metadata": {},
   "source": [
    "### Model saving"
   ]
  },
  {
   "cell_type": "code",
   "execution_count": null,
   "metadata": {},
   "outputs": [],
   "source": [
    "classifier.summary()"
   ]
  },
  {
   "cell_type": "code",
   "execution_count": null,
   "metadata": {},
   "outputs": [],
   "source": [
    "classifier.save('honda_classifier.H5')"
   ]
  }
 ],
 "metadata": {
  "kernelspec": {
   "display_name": "Python 3",
   "language": "python",
   "name": "python3"
  },
  "language_info": {
   "codemirror_mode": {
    "name": "ipython",
    "version": 3
   },
   "file_extension": ".py",
   "mimetype": "text/x-python",
   "name": "python",
   "nbconvert_exporter": "python",
   "pygments_lexer": "ipython3",
   "version": "3.7.6"
  }
 },
 "nbformat": 4,
 "nbformat_minor": 4
}
