{
 "cells": [
  {
   "cell_type": "code",
   "execution_count": 148,
   "metadata": {},
   "outputs": [],
   "source": [
    "#library import\n",
    "import numpy as np\n",
    "import matplotlib.pyplot as plt\n",
    "import pandas as pd\n",
    "import tensorflow as tf\n",
    "\n",
    "#---- CNN model build ----\n",
    "import keras \n",
    "from keras.models import Sequential\n",
    "from keras.layers import Conv2D\n",
    "from keras.layers import MaxPooling2D\n",
    "from keras.layers import Flatten\n",
    "from keras.layers import Dense"
   ]
  },
  {
   "cell_type": "code",
   "execution_count": 86,
   "metadata": {},
   "outputs": [],
   "source": [
    "classifier =  Sequential()\n",
    "\n",
    "#Convolution layer\n",
    "classifier.add( Conv2D(filters = 32, kernel_size = 3, \n",
    "                       input_shape = (64,64,1), activation = 'relu' ) )\n",
    "#Max pooling layer\n",
    "classifier.add( MaxPooling2D(pool_size = 2, strides = 2) )\n",
    "\n",
    "\n",
    "\"\"\"Adding another convolution and maxpooling layers to increase precision\n",
    "\"\"\"\n",
    "#Convolution layer\n",
    "classifier.add( Conv2D(filters = 32, kernel_size = 3, \n",
    "                       activation = 'relu' ) )\n",
    "#Max pooling layer\n",
    "classifier.add( MaxPooling2D(pool_size = 2, strides = 2) )\n",
    "\n",
    "\n",
    "#Flattening layer\n",
    "classifier.add( Flatten() )\n",
    "\n",
    "#Hidden layer\n",
    "classifier.add( Dense(units = 128, kernel_initializer = 'uniform', activation = 'relu') )\n",
    "\n",
    "#Output layer\n",
    "classifier.add( Dense(units = 3, kernel_initializer = 'uniform', activation = 'sigmoid') )\n",
    "\n",
    "\n",
    "opt = keras.optimizers.Adam(lr=0.001, beta_1=0.9, beta_2=0.999, epsilon=1e-08, decay=0.0)\n",
    "#ANN compile\n",
    "classifier.compile( optimizer = opt, loss = 'binary_crossentropy', metrics = ['accuracy'])"
   ]
  },
  {
   "cell_type": "code",
   "execution_count": 88,
   "metadata": {},
   "outputs": [
    {
     "name": "stdout",
     "output_type": "stream",
     "text": [
      "Found 2399 images belonging to 3 classes.\n",
      "Found 600 images belonging to 3 classes.\n"
     ]
    }
   ],
   "source": [
    "#---- CNN model training ----\n",
    "#Image import \n",
    "from keras.preprocessing.image import ImageDataGenerator\n",
    "\n",
    "train_datagen = ImageDataGenerator(rescale = 1./255,\n",
    "                                   shear_range=0.2,\n",
    "                                   zoom_range=0.2,\n",
    "                                   horizontal_flip=True)\n",
    "\n",
    "test_datagen = ImageDataGenerator(rescale = 1./255)\n",
    "\n",
    "training_dataset = train_datagen.flow_from_directory('Dataset/Training/',\n",
    "                                                    target_size = (64,64),\n",
    "                                                    color_mode = 'grayscale',\n",
    "                                                    batch_size = 32,\n",
    "                                                    classes = ['Tornado', 'CBR', 'Biz'],\n",
    "                                                    class_mode = 'categorical')\n",
    "testing_dataset = test_datagen.flow_from_directory('Dataset/Test/',\n",
    "                                                        target_size = (64,64),\n",
    "                                                        color_mode = 'grayscale',\n",
    "                                                        batch_size = 32,\n",
    "                                                        classes = ['Tornado', 'CBR', 'Biz'],\n",
    "                                                        class_mode = 'categorical')\n"
   ]
  },
  {
   "cell_type": "code",
   "execution_count": 89,
   "metadata": {},
   "outputs": [
    {
     "name": "stdout",
     "output_type": "stream",
     "text": [
      "Epoch 1/3\n",
      "200/200 [==============================] - 97s 484ms/step - loss: 0.5427 - acc: 0.7261 - val_loss: 0.4356 - val_acc: 0.8103\n",
      "Epoch 2/3\n",
      "200/200 [==============================] - 94s 471ms/step - loss: 0.3912 - acc: 0.8274 - val_loss: 0.3437 - val_acc: 0.8570\n",
      "Epoch 3/3\n",
      "200/200 [==============================] - 97s 483ms/step - loss: 0.3303 - acc: 0.8557 - val_loss: 0.3605 - val_acc: 0.8500\n"
     ]
    },
    {
     "data": {
      "text/plain": [
       "<keras.callbacks.History at 0x7f55928a1490>"
      ]
     },
     "execution_count": 89,
     "metadata": {},
     "output_type": "execute_result"
    }
   ],
   "source": [
    "classifier.fit_generator(training_dataset,\n",
    "                        steps_per_epoch = 200,\n",
    "                        epochs = 3,\n",
    "                        validation_data = testing_dataset,\n",
    "                        validation_steps = 200 )"
   ]
  },
  {
   "cell_type": "markdown",
   "metadata": {},
   "source": [
    "## Validation set prediction and confussion matrix"
   ]
  },
  {
   "cell_type": "code",
   "execution_count": 212,
   "metadata": {},
   "outputs": [
    {
     "name": "stdout",
     "output_type": "stream",
     "text": [
      "Found 39 images belonging to 3 classes.\n",
      "[0 0 0 1 1 1 0 0 0 0 2 0 0 1 1 1 1 1 1 1 1 1 1 1 1 1 2 2 2 2 2 1 1 2 1 2 1\n",
      " 2 2]\n",
      "{'Tornado': 0, 'CBR': 1, 'Biz': 2}\n",
      "['Tornado', 'Tornado', 'Tornado', 'CBR', 'CBR', 'CBR', 'Tornado', 'Tornado', 'Tornado', 'Tornado', 'Biz', 'Tornado', 'Tornado', 'CBR', 'CBR', 'CBR', 'CBR', 'CBR', 'CBR', 'CBR', 'CBR', 'CBR', 'CBR', 'CBR', 'CBR', 'CBR', 'Biz', 'Biz', 'Biz', 'Biz', 'Biz', 'CBR', 'CBR', 'Biz', 'CBR', 'Biz', 'CBR', 'Biz', 'Biz']\n"
     ]
    }
   ],
   "source": [
    "generator = test_datagen.flow_from_directory('Dataset/validation/',\n",
    "                                                        target_size = (64,64),\n",
    "                                                        color_mode = 'grayscale',\n",
    "                                                        batch_size = 39,\n",
    "                                                        classes = ['Tornado', 'CBR', 'Biz'], \n",
    "                                                        class_mode = None,\n",
    "                                                        shuffle = False)\n",
    "\n",
    "probabilities = classifier.predict_generator(generator, 1)\n",
    "\n",
    "predicted_class_indices=np.argmax(probabilities,axis=1)\n",
    "labels=(generator.class_indices)\n",
    "labels2=dict((v,k) for k,v in labels.items())\n",
    "predictions=[labels2[k] for k in predicted_class_indices]\n",
    "print(predicted_class_indices)\n",
    "print(labels)\n",
    "print(predictions)"
   ]
  },
  {
   "cell_type": "markdown",
   "metadata": {},
   "source": [
    "Confussion Matrix:"
   ]
  },
  {
   "cell_type": "code",
   "execution_count": 213,
   "metadata": {},
   "outputs": [
    {
     "name": "stdout",
     "output_type": "stream",
     "text": [
      "[[ 9  0  0]\n",
      " [ 3 13  4]\n",
      " [ 1  0  9]]\n"
     ]
    }
   ],
   "source": [
    "from sklearn.metrics import confusion_matrix\n",
    "print(confusion_matrix(predicted_class_indices, generator.classes))"
   ]
  },
  {
   "cell_type": "markdown",
   "metadata": {},
   "source": [
    "Validation Accuracy:"
   ]
  },
  {
   "cell_type": "code",
   "execution_count": 217,
   "metadata": {},
   "outputs": [
    {
     "name": "stdout",
     "output_type": "stream",
     "text": [
      "Confusion Matrix\n",
      "\n",
      "[[ 9  0  0]\n",
      " [ 3 13  4]\n",
      " [ 1  0  9]]\n",
      "\n",
      "Accuracy: 0.79\n",
      "\n",
      "Micro Precision: 0.79\n",
      "Micro Recall: 0.79\n",
      "Micro F1-score: 0.79\n",
      "\n",
      "Macro Precision: 0.79\n",
      "Macro Recall: 0.85\n",
      "Macro F1-score: 0.80\n",
      "\n",
      "Weighted Precision: 0.85\n",
      "Weighted Recall: 0.79\n",
      "Weighted F1-score: 0.79\n",
      "\n",
      "Classification Report\n",
      "\n",
      "              precision    recall  f1-score   support\n",
      "\n",
      "     Tornado       0.69      1.00      0.82         9\n",
      "         CBR       1.00      0.65      0.79        20\n",
      "         Biz       0.69      0.90      0.78        10\n",
      "\n",
      "    accuracy                           0.79        39\n",
      "   macro avg       0.79      0.85      0.80        39\n",
      "weighted avg       0.85      0.79      0.79        39\n",
      "\n"
     ]
    }
   ],
   "source": [
    "y_test = predicted_class_indices\n",
    "y_pred = generator.classes\n",
    "\n",
    "confusion = confusion_matrix(y_test, y_pred)\n",
    "print('Confusion Matrix\\n')\n",
    "print(confusion)\n",
    "\n",
    "#importing accuracy_score, precision_score, recall_score, f1_score\n",
    "from sklearn.metrics import accuracy_score, precision_score, recall_score, f1_score\n",
    "print('\\nAccuracy: {:.2f}\\n'.format(accuracy_score(y_test, y_pred)))\n",
    "\n",
    "print('Micro Precision: {:.2f}'.format(precision_score(y_test, y_pred, average='micro')))\n",
    "print('Micro Recall: {:.2f}'.format(recall_score(y_test, y_pred, average='micro')))\n",
    "print('Micro F1-score: {:.2f}\\n'.format(f1_score(y_test, y_pred, average='micro')))\n",
    "\n",
    "print('Macro Precision: {:.2f}'.format(precision_score(y_test, y_pred, average='macro')))\n",
    "print('Macro Recall: {:.2f}'.format(recall_score(y_test, y_pred, average='macro')))\n",
    "print('Macro F1-score: {:.2f}\\n'.format(f1_score(y_test, y_pred, average='macro')))\n",
    "\n",
    "print('Weighted Precision: {:.2f}'.format(precision_score(y_test, y_pred, average='weighted')))\n",
    "print('Weighted Recall: {:.2f}'.format(recall_score(y_test, y_pred, average='weighted')))\n",
    "print('Weighted F1-score: {:.2f}'.format(f1_score(y_test, y_pred, average='weighted')))\n",
    "\n",
    "from sklearn.metrics import classification_report\n",
    "print('\\nClassification Report\\n')\n",
    "print(classification_report(y_test, y_pred, target_names=['Tornado', 'CBR', 'Biz']))"
   ]
  },
  {
   "cell_type": "markdown",
   "metadata": {},
   "source": [
    "# Predictions"
   ]
  },
  {
   "cell_type": "code",
   "execution_count": 219,
   "metadata": {},
   "outputs": [
    {
     "data": {
      "image/png": "[encoded data removed]",
      "text/plain": [
       "<PIL.Image.Image image mode=L size=64x64 at 0x7F55702DC750>"
      ]
     },
     "execution_count": 219,
     "metadata": {},
     "output_type": "execute_result"
    }
   ],
   "source": [
    "data_image = 'Dataset/validation/CBR/Image1006.jpg'\n",
    "image = tf.keras.preprocessing.image.load_img(data_image, color_mode= 'grayscale', target_size=(64,64), interpolation= 'nearest')\n",
    "\n",
    "input_arr = tf.keras.preprocessing.image.img_to_array(image)\n",
    "input_arr = np.array([input_arr])\n",
    "\n",
    "image"
   ]
  },
  {
   "cell_type": "code",
   "execution_count": 220,
   "metadata": {},
   "outputs": [
    {
     "data": {
      "image/png": "[encoded data removed]",
      "text/plain": [
       "<PIL.Image.Image image mode=L size=100x100 at 0x7F55702FDC10>"
      ]
     },
     "execution_count": 220,
     "metadata": {},
     "output_type": "execute_result"
    }
   ],
   "source": [
    "image = tf.keras.preprocessing.image.load_img(data_image, grayscale= True, color_mode= 'rgb', target_size=None, interpolation= 'nearest')\n",
    "image"
   ]
  },
  {
   "cell_type": "code",
   "execution_count": 221,
   "metadata": {},
   "outputs": [
    {
     "name": "stdout",
     "output_type": "stream",
     "text": [
      "Predicted Honda Model:  CBR\n"
     ]
    }
   ],
   "source": [
    "predicted_class_indices=classifier.predict_classes(input_arr)\n",
    "labels=(generator.class_indices)\n",
    "labels2=dict((v,k) for k,v in labels.items())\n",
    "predictions=[labels2[k] for k in predicted_class_indices]\n",
    "\n",
    "print('Predicted Honda Model: ',predictions[0])"
   ]
  },
  {
   "cell_type": "code",
   "execution_count": 211,
   "metadata": {},
   "outputs": [
    {
     "data": {
      "text/plain": [
       "['Tornado']"
      ]
     },
     "execution_count": 211,
     "metadata": {},
     "output_type": "execute_result"
    }
   ],
   "source": [
    "final_image = tf.image.resize_image_with_crop_or_pad(input_arr, 64,64)\n",
    "\n",
    "prediction = classifier.predict_on_batch(x = final_image)\n",
    "prediction>0.5\n",
    "\n",
    "predicted_class_indices=np.argmax(prediction,axis=1)\n",
    "labels=(generator.class_indices)\n",
    "labels2=dict((v,k) for k,v in labels.items())\n",
    "predictions=[labels2[k] for k in predicted_class_indices]\n",
    "\n",
    "predictions"
   ]
  },
  {
   "cell_type": "markdown",
   "metadata": {},
   "source": [
    "### Model saving"
   ]
  },
  {
   "cell_type": "code",
   "execution_count": 172,
   "metadata": {},
   "outputs": [
    {
     "name": "stdout",
     "output_type": "stream",
     "text": [
      "_________________________________________________________________\n",
      "Layer (type)                 Output Shape              Param #   \n",
      "=================================================================\n",
      "conv2d_7 (Conv2D)            (None, 62, 62, 32)        320       \n",
      "_________________________________________________________________\n",
      "max_pooling2d_7 (MaxPooling2 (None, 31, 31, 32)        0         \n",
      "_________________________________________________________________\n",
      "conv2d_8 (Conv2D)            (None, 29, 29, 32)        9248      \n",
      "_________________________________________________________________\n",
      "max_pooling2d_8 (MaxPooling2 (None, 14, 14, 32)        0         \n",
      "_________________________________________________________________\n",
      "flatten_4 (Flatten)          (None, 6272)              0         \n",
      "_________________________________________________________________\n",
      "dense_7 (Dense)              (None, 128)               802944    \n",
      "_________________________________________________________________\n",
      "dense_8 (Dense)              (None, 3)                 387       \n",
      "=================================================================\n",
      "Total params: 812,899\n",
      "Trainable params: 812,899\n",
      "Non-trainable params: 0\n",
      "_________________________________________________________________\n"
     ]
    }
   ],
   "source": [
    "classifier.summary()"
   ]
  },
  {
   "cell_type": "code",
   "execution_count": 170,
   "metadata": {},
   "outputs": [],
   "source": [
    "classifier.save('honda_classifier.H5')"
   ]
  }
 ],
 "metadata": {
  "kernelspec": {
   "display_name": "Python 3",
   "language": "python",
   "name": "python3"
  },
  "language_info": {
   "codemirror_mode": {
    "name": "ipython",
    "version": 3
   },
   "file_extension": ".py",
   "mimetype": "text/x-python",
   "name": "python",
   "nbconvert_exporter": "python",
   "pygments_lexer": "ipython3",
   "version": "3.7.6"
  }
 },
 "nbformat": 4,
 "nbformat_minor": 4
}
