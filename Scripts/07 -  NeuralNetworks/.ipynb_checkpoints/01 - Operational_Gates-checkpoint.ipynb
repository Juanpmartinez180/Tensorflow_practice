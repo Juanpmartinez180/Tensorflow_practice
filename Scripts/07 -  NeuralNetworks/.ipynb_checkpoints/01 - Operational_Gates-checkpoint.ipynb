{
 "cells": [
  {
   "cell_type": "markdown",
   "metadata": {},
   "source": [
    "# Neural Networks\n",
    "\n",
    "- Backpropagation is a mechanism responsible of update the Neural network weight values.\n",
    "\n",
    "In TF given the following function:\n",
    "$f(x) = a \\cdot x + b$\n",
    "\n",
    "Where:\n",
    "- a -> variable\n",
    "- b -> variable\n",
    "- x -> placeholder"
   ]
  },
  {
   "cell_type": "markdown",
   "metadata": {},
   "source": [
    "## Operational \n",
    "\n",
    "Goal: $f(x) = a\\cdot x$"
   ]
  },
  {
   "cell_type": "markdown",
   "metadata": {},
   "source": [
    "Library import"
   ]
  },
  {
   "cell_type": "code",
   "execution_count": 1,
   "metadata": {},
   "outputs": [],
   "source": [
    "import numpy as np\n",
    "import matplotlib.pyplot as plt\n",
    "import tensorflow as tf\n",
    "\n",
    "\n",
    "session = tf.Session()\n",
    "%config Completer.use_jedi = False"
   ]
  },
  {
   "cell_type": "markdown",
   "metadata": {},
   "source": [
    "TF variable declaration"
   ]
  },
  {
   "cell_type": "code",
   "execution_count": 36,
   "metadata": {},
   "outputs": [],
   "source": [
    "a = tf.Variable(tf.constant(4.0))\n",
    "x_val = 5.0\n",
    "x_data = tf.placeholder(dtype = tf.float32)"
   ]
  },
  {
   "cell_type": "markdown",
   "metadata": {},
   "source": [
    "Logic operation to compute:"
   ]
  },
  {
   "cell_type": "code",
   "execution_count": 37,
   "metadata": {},
   "outputs": [],
   "source": [
    "multiplication = tf.multiply(a, x_data)"
   ]
  },
  {
   "cell_type": "markdown",
   "metadata": {},
   "source": [
    "Loss function using L2 distance:\n",
    "\n",
    "$$ loss = (a \\cdot x - target)²$$ "
   ]
  },
  {
   "cell_type": "code",
   "execution_count": 38,
   "metadata": {},
   "outputs": [],
   "source": [
    "loss = tf.square(tf.subtract(multiplication, 50.0))"
   ]
  },
  {
   "cell_type": "markdown",
   "metadata": {},
   "source": [
    "Variable initialization"
   ]
  },
  {
   "cell_type": "code",
   "execution_count": 39,
   "metadata": {},
   "outputs": [],
   "source": [
    "init = tf.global_variables_initializer()\n",
    "session.run(init)"
   ]
  },
  {
   "cell_type": "markdown",
   "metadata": {},
   "source": [
    "Optimizer using Gradient descent and predefined Loss function"
   ]
  },
  {
   "cell_type": "code",
   "execution_count": 40,
   "metadata": {},
   "outputs": [],
   "source": [
    "learning_rate = 0.01\n",
    "my_opt = tf.train.GradientDescentOptimizer(learning_rate)\n",
    "train_step = my_opt.minimize(loss)"
   ]
  },
  {
   "cell_type": "markdown",
   "metadata": {},
   "source": [
    "Training Loop"
   ]
  },
  {
   "cell_type": "code",
   "execution_count": 41,
   "metadata": {},
   "outputs": [
    {
     "name": "stdout",
     "output_type": "stream",
     "text": [
      "a value optmization to achieve a*5 = 50\n",
      "7.0x5.0 = 35.0\n",
      "8.5x5.0 = 42.5\n",
      "9.25x5.0 = 46.25\n",
      "9.625x5.0 = 48.125\n",
      "9.8125x5.0 = 49.0625\n",
      "9.90625x5.0 = 49.53125\n",
      "9.953125x5.0 = 49.765625\n",
      "9.9765625x5.0 = 49.882812\n",
      "9.988281x5.0 = 49.941406\n",
      "9.994141x5.0 = 49.970703\n"
     ]
    }
   ],
   "source": [
    "print('a value optmization to achieve a*5 = 50')\n",
    "for i in range(10):\n",
    "    session.run(train_step, feed_dict = {x_data: x_val})\n",
    "    a_val = session.run(a)\n",
    "    mult_out = session.run(multiplication, feed_dict = {x_data: x_val})\n",
    "    \n",
    "    print(str(a_val)+'x'+str(x_val)+' = '+str(mult_out))"
   ]
  },
  {
   "cell_type": "markdown",
   "metadata": {},
   "source": [
    "Let's try another example to a better understand..\n",
    "With the following equation:\n",
    "$$f(x) = a\\cdot x + b$$\n",
    "The idea is run a NN to find the $a$ and $b$ values to have a solution $f(x) = 50.0$"
   ]
  },
  {
   "cell_type": "markdown",
   "metadata": {},
   "source": [
    "First, the variables that TF will need to use:"
   ]
  },
  {
   "cell_type": "code",
   "execution_count": 43,
   "metadata": {},
   "outputs": [],
   "source": [
    "a = tf.Variable(tf.constant(1.0))\n",
    "b = tf.Variable(tf.constant(2.0))\n",
    "x_data = tf.placeholder(dtype = tf.float32)\n",
    "\n",
    "x_val = 5.0  "
   ]
  },
  {
   "cell_type": "markdown",
   "metadata": {},
   "source": [
    "The logic operation to compute is the equation to solve:"
   ]
  },
  {
   "cell_type": "code",
   "execution_count": 44,
   "metadata": {},
   "outputs": [],
   "source": [
    "eq = tf.add(b, tf.multiply(a, x_data))"
   ]
  },
  {
   "cell_type": "markdown",
   "metadata": {},
   "source": [
    "As a loss function let's use a L2 distance to compute:"
   ]
  },
  {
   "cell_type": "code",
   "execution_count": 49,
   "metadata": {},
   "outputs": [],
   "source": [
    "loss = tf.square(tf.subtract(eq, 50.0))"
   ]
  },
  {
   "cell_type": "markdown",
   "metadata": {},
   "source": [
    "Variable initialization.."
   ]
  },
  {
   "cell_type": "code",
   "execution_count": 59,
   "metadata": {},
   "outputs": [],
   "source": [
    "init = tf.global_variables_initializer()\n",
    "session.run(init)"
   ]
  },
  {
   "cell_type": "markdown",
   "metadata": {},
   "source": [
    "NN uses a feedback value known as retropropagation, this value is computed by a function that calculate the feedback value for each train step.. In this case we're going to use a Gradient Descent optimizer to run our loss function as a optimizer parameter."
   ]
  },
  {
   "cell_type": "code",
   "execution_count": 51,
   "metadata": {},
   "outputs": [],
   "source": [
    "learning_rate = 0.01\n",
    "my_opt = tf.train.GradientDescentOptimizer(learning_rate)\n",
    "train_step = my_opt.minimize(loss)"
   ]
  },
  {
   "cell_type": "markdown",
   "metadata": {},
   "source": [
    "Training loop:"
   ]
  },
  {
   "cell_type": "code",
   "execution_count": 61,
   "metadata": {},
   "outputs": [
    {
     "name": "stdout",
     "output_type": "stream",
     "text": [
      "Computed a and b values to solve the proposed equation\n",
      "Current a value: 5.2999997, Current b value: 2.86, Current equation output: 29.359999, Loss: 426.00964\n",
      "Current a value: 7.364, Current b value: 3.2728, Current equation output: 40.0928, Loss: 98.15261\n",
      "Current a value: 8.35472, Current b value: 3.470944, Current equation output: 45.244545, Loss: 22.614353\n",
      "Current a value: 8.830266, Current b value: 3.566053, Current equation output: 47.71738, Loss: 5.2103515\n",
      "Current a value: 9.058528, Current b value: 3.6117053, Current equation output: 48.904346, Loss: 1.2004566\n",
      "Current a value: 9.168094, Current b value: 3.6336184, Current equation output: 49.474087, Loss: 0.27658474\n",
      "Current a value: 9.220685, Current b value: 3.6441367, Current equation output: 49.747562, Loss: 0.06372474\n",
      "Current a value: 9.245929, Current b value: 3.6491854, Current equation output: 49.87883, Loss: 0.014682179\n",
      "Current a value: 9.258046, Current b value: 3.6516087, Current equation output: 49.941837, Loss: 0.0033828984\n",
      "Current a value: 9.263863, Current b value: 3.652772, Current equation output: 49.972084, Loss: 0.0007793005\n"
     ]
    }
   ],
   "source": [
    "print('Computed a and b values to solve the proposed equation')\n",
    "\n",
    "a_vals = []\n",
    "b_vals = []\n",
    "sol = []\n",
    "loss_vect = []\n",
    "\n",
    "for i in range(10):\n",
    "    session.run(train_step, feed_dict = {x_data: x_val})\n",
    "    current_a_val = session.run(a)\n",
    "    a_vals.append(current_a_val)\n",
    "    current_b_val = session.run(b)\n",
    "    b_vals.append(current_b_val)\n",
    "    current_output = session.run(eq, feed_dict = {x_data: x_val})\n",
    "    sol.append(current_output)\n",
    "    current_loss = session.run(loss, feed_dict = {x_data: x_val})\n",
    "    loss_vect.append(current_loss)\n",
    "    \n",
    "    print('Current a value: '+str(current_a_val)+\n",
    "          ', Current b value: '+str(current_b_val)+\n",
    "          ', Current equation output: '+str(current_output)+\n",
    "          ', Loss: '+str(current_loss))"
   ]
  },
  {
   "cell_type": "code",
   "execution_count": 77,
   "metadata": {},
   "outputs": [
    {
     "data": {
      "image/png": "[encoded data removed]",
      "text/plain": [
       "<Figure size 432x288 with 3 Axes>"
      ]
     },
     "metadata": {
      "needs_background": "light"
     },
     "output_type": "display_data"
    }
   ],
   "source": [
    "\n",
    "plt.subplot(1,3,1)\n",
    "plt.plot(a_vals, label = 'a')\n",
    "plt.plot(b_vals, label = 'b')\n",
    "plt.plot(sol, label = 'Sol')\n",
    "plt.legend(loc = 'upper left')\n",
    "plt.title('Equation values')\n",
    "\n",
    "plt.subplot(1,3,2)\n",
    "plt.plot(loss_vect, label = 'Loss')\n",
    "plt.title('Loss')\n",
    "plt.legend(loc = 'upper right')\n",
    "\n",
    "plt.subplot(1,3,3)\n",
    "plt.plot(sol, label = 'Solution')\n",
    "plt.title('Equation Solution')\n",
    "plt.legend()\n",
    "\n",
    "plt.show()"
   ]
  },
  {
   "cell_type": "code",
   "execution_count": null,
   "metadata": {},
   "outputs": [],
   "source": []
  }
 ],
 "metadata": {
  "kernelspec": {
   "display_name": "Python 3",
   "language": "python",
   "name": "python3"
  },
  "language_info": {
   "codemirror_mode": {
    "name": "ipython",
    "version": 3
   },
   "file_extension": ".py",
   "mimetype": "text/x-python",
   "name": "python",
   "nbconvert_exporter": "python",
   "pygments_lexer": "ipython3",
   "version": "3.7.6"
  }
 },
 "nbformat": 4,
 "nbformat_minor": 4
}
