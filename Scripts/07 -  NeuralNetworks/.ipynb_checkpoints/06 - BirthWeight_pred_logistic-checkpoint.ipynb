{
 "cells": [
  {
   "cell_type": "markdown",
   "metadata": {},
   "source": [
    "## Improve prediction results of a linear model using Neural Networks\n",
    "\n",
    "We're going to replicate the Birth Weight prediction but instead of using NN to predict the value, we will use Logistic Regression as a linear model and Neural networks to improve the overall model performance.\n",
    "\n",
    "Library import"
   ]
  },
  {
   "cell_type": "code",
   "execution_count": 1,
   "metadata": {},
   "outputs": [],
   "source": [
    "import numpy as np\n",
    "import matplotlib.pyplot as plt\n",
    "import tensorflow as tf\n",
    "import requests\n",
    "\n",
    "session = tf.Session()\n",
    "%config Completer.use_jedi = False"
   ]
  },
  {
   "cell_type": "markdown",
   "metadata": {},
   "source": [
    "Dataset import"
   ]
  },
  {
   "cell_type": "code",
   "execution_count": 2,
   "metadata": {},
   "outputs": [],
   "source": [
    "url = 'https://raw.githubusercontent.com/joanby/tensorflow/master/datasets/birthweight.csv'\n",
    "birth_file = requests.get(url)\n",
    "birth_data = birth_file.text.split('\\r\\n')\n",
    "\n",
    "birth_header = birth_data[0].split(',')\n",
    "birth_data = [[float(x) for x in y.split(',') if len(x)>=1] for y in birth_data[1:] if len(y)>=1]"
   ]
  },
  {
   "cell_type": "markdown",
   "metadata": {},
   "source": [
    "Features and label split"
   ]
  },
  {
   "cell_type": "code",
   "execution_count": 3,
   "metadata": {},
   "outputs": [
    {
     "name": "stdout",
     "output_type": "stream",
     "text": [
      "['LOW', 'AGE', 'LWT', 'RACE', 'SMOKE', 'PTL', 'HT', 'UI', 'BWT']\n"
     ]
    }
   ],
   "source": [
    "print(birth_header)"
   ]
  },
  {
   "cell_type": "code",
   "execution_count": 4,
   "metadata": {},
   "outputs": [],
   "source": [
    "y_vals = np.array([x[0] for x in birth_data])\n",
    "x_vals = np.array([x[1:8] for x in birth_data])"
   ]
  },
  {
   "cell_type": "markdown",
   "metadata": {},
   "source": [
    "Random state seed"
   ]
  },
  {
   "cell_type": "code",
   "execution_count": 5,
   "metadata": {},
   "outputs": [],
   "source": [
    "seed = 2019\n",
    "tf.set_random_seed(seed)\n",
    "np.random.seed(seed)\n",
    "batch_size = 100"
   ]
  },
  {
   "cell_type": "markdown",
   "metadata": {},
   "source": [
    "Train/test dataset split"
   ]
  },
  {
   "cell_type": "code",
   "execution_count": 6,
   "metadata": {},
   "outputs": [],
   "source": [
    "train_idx = np.random.choice(a = len(x_vals), size = round(len(x_vals)*0.8), replace = False)\n",
    "test_idx = np.array(list(set(range(len(x_vals)))-set(train_idx)))\n",
    "\n",
    "x_vals_train = x_vals[train_idx]\n",
    "y_vals_train = y_vals[train_idx]\n",
    "\n",
    "x_vals_test = x_vals[test_idx]\n",
    "y_vals_test = y_vals[test_idx]"
   ]
  },
  {
   "cell_type": "markdown",
   "metadata": {},
   "source": [
    "Data normalization"
   ]
  },
  {
   "cell_type": "code",
   "execution_count": 7,
   "metadata": {},
   "outputs": [
    {
     "name": "stderr",
     "output_type": "stream",
     "text": [
      "/home/juan/anaconda3/lib/python3.7/site-packages/numpy/lib/type_check.py:461: VisibleDeprecationWarning: Creating an ndarray from ragged nested sequences (which is a list-or-tuple of lists-or-tuples-or ndarrays with different lengths or shapes) is deprecated. If you meant to do this, you must specify 'dtype=object' when creating the ndarray\n",
      "  x = _nx.array(x, subok=True, copy=copy)\n"
     ]
    }
   ],
   "source": [
    "def normalize_col(m, col_min = np.array([None]), col_max = np.array([None])):\n",
    "    if not col_min[0]:\n",
    "        col_min = m.min(axis = 0)\n",
    "    if not col_max[0]:\n",
    "        col_max = m.max(axis = 0)\n",
    "    return (m - col_min)/(col_max-col_min), col_min, col_max\n",
    "\n",
    "x_vals_train, train_min, train_max = np.nan_to_num(normalize_col(x_vals_train))\n",
    "x_vals_test,_,_ = np.nan_to_num(normalize_col(x_vals_test, train_min, train_max))"
   ]
  },
  {
   "cell_type": "markdown",
   "metadata": {},
   "source": [
    "### TensorFlow variables declaration\n",
    "\n",
    "Global variables"
   ]
  },
  {
   "cell_type": "code",
   "execution_count": 8,
   "metadata": {},
   "outputs": [],
   "source": [
    "x_data = tf.placeholder(shape = [None, 7], dtype = tf.float32)\n",
    "y_target = tf.placeholder(shape = [None, 1], dtype = tf.float32)"
   ]
  },
  {
   "cell_type": "markdown",
   "metadata": {},
   "source": [
    "Generic functions to intialize variables and to create NN layers using (or not) sigmoid function as activation."
   ]
  },
  {
   "cell_type": "code",
   "execution_count": 9,
   "metadata": {},
   "outputs": [],
   "source": [
    "def init_variables(shape):\n",
    "    return tf.Variable(tf.random_normal(shape = shape))\n",
    "def logistic(input_layer, multiplication_weight, bias_weight, activation_sig = True):\n",
    "    linear_layer = tf.add(tf.matmul(input_layer, multiplication_weight), bias_weight)\n",
    "    if activation_sig:\n",
    "        return tf.nn.relu(linear_layer)\n",
    "    #return tf.nn.sigmoid(linear_layer) \n",
    "    else:\n",
    "        return linear_layer"
   ]
  },
  {
   "cell_type": "markdown",
   "metadata": {},
   "source": [
    "We're going to create a NN with sigmoid activation function using the following topology:\n",
    "- Input layer size: 7 -> Hidden layer_1 size: 14\n",
    "- Hidden layer_1 size: 14 -> Hidden layer_2 size: 5\n",
    "- Hidden layer_2 size: 5 -> Output layer size: 1"
   ]
  },
  {
   "cell_type": "code",
   "execution_count": 10,
   "metadata": {},
   "outputs": [],
   "source": [
    "A1 = init_variables(shape = [7, 14])\n",
    "b1 = init_variables(shape = [14])\n",
    "logistic_layer_1 = logistic(x_data, A1, b1)\n",
    "\n",
    "A2 = init_variables(shape = [14, 10])\n",
    "b2 = init_variables(shape = [10])\n",
    "logistic_layer_2 = logistic(logistic_layer_1, A2, b2)\n",
    "\n",
    "A3 = init_variables(shape = [10,5])\n",
    "b3 = init_variables(shape = [5])\n",
    "logistic_layer_3 = logistic(logistic_layer_2, A3, b3)\n",
    "\n",
    "A4 = init_variables(shape = [5, 1])\n",
    "b4 = init_variables(shape = [1])\n",
    "final_output = logistic(logistic_layer_3, A4, b4, activation_sig = False)"
   ]
  },
  {
   "cell_type": "markdown",
   "metadata": {},
   "source": [
    "Loss function using logistic regression to return a probability as a metric to compute the loss and therefore to feed backpropagation loop"
   ]
  },
  {
   "cell_type": "code",
   "execution_count": 11,
   "metadata": {},
   "outputs": [
    {
     "name": "stdout",
     "output_type": "stream",
     "text": [
      "WARNING:tensorflow:From /home/juan/anaconda3/lib/python3.7/site-packages/tensorflow/python/ops/nn_impl.py:180: add_dispatch_support.<locals>.wrapper (from tensorflow.python.ops.array_ops) is deprecated and will be removed in a future version.\n",
      "Instructions for updating:\n",
      "Use tf.where in 2.0, which has the same broadcast rule as np.where\n"
     ]
    }
   ],
   "source": [
    "loss = tf.reduce_mean(tf.nn.sigmoid_cross_entropy_with_logits(logits = final_output, labels = y_target))"
   ]
  },
  {
   "cell_type": "markdown",
   "metadata": {},
   "source": [
    "Optimizer and training step"
   ]
  },
  {
   "cell_type": "code",
   "execution_count": 12,
   "metadata": {},
   "outputs": [],
   "source": [
    "learning_rate = 0.0004\n",
    "my_opt = tf.train.AdamOptimizer(learning_rate= learning_rate)\n",
    "train_step = my_opt.minimize(loss)"
   ]
  },
  {
   "cell_type": "markdown",
   "metadata": {},
   "source": [
    "Variables initializer"
   ]
  },
  {
   "cell_type": "code",
   "execution_count": 13,
   "metadata": {},
   "outputs": [],
   "source": [
    "init = tf.global_variables_initializer()\n",
    "session.run(init)"
   ]
  },
  {
   "cell_type": "markdown",
   "metadata": {},
   "source": [
    "### Model training\n",
    "\n",
    "Firts let's create accuracy parameter using the prediction output values from our NN and the target from the Dataset:"
   ]
  },
  {
   "cell_type": "code",
   "execution_count": 14,
   "metadata": {},
   "outputs": [],
   "source": [
    "prediction = tf.round(tf.nn.sigmoid(final_output))\n",
    "prediction_correct = tf.cast(tf.equal(prediction, y_target), tf.float32)\n",
    "accuracy = tf.reduce_mean(prediction_correct)"
   ]
  },
  {
   "cell_type": "markdown",
   "metadata": {},
   "source": [
    "Training loop"
   ]
  },
  {
   "cell_type": "code",
   "execution_count": 15,
   "metadata": {},
   "outputs": [
    {
     "name": "stdout",
     "output_type": "stream",
     "text": [
      "Step #50 ,Loss: 4.2631006, Accuracy: 0.34437087\n",
      "Step #100 ,Loss: 2.5464709, Accuracy: 0.4834437\n",
      "Step #150 ,Loss: 1.5046065, Accuracy: 0.49006623\n",
      "Step #200 ,Loss: 1.1886114, Accuracy: 0.6225166\n",
      "Step #250 ,Loss: 0.6065953, Accuracy: 0.7086093\n",
      "Step #300 ,Loss: 0.629975, Accuracy: 0.7152318\n",
      "Step #350 ,Loss: 0.62348175, Accuracy: 0.7218543\n",
      "Step #400 ,Loss: 0.6423924, Accuracy: 0.7350993\n",
      "Step #450 ,Loss: 0.7710842, Accuracy: 0.7615894\n",
      "Step #500 ,Loss: 0.535508, Accuracy: 0.7682119\n",
      "Step #550 ,Loss: 0.57175803, Accuracy: 0.77483445\n",
      "Step #600 ,Loss: 0.49147442, Accuracy: 0.78807944\n",
      "Step #650 ,Loss: 0.47017497, Accuracy: 0.78145695\n",
      "Step #700 ,Loss: 0.49870256, Accuracy: 0.794702\n",
      "Step #750 ,Loss: 0.48596153, Accuracy: 0.8013245\n",
      "Step #800 ,Loss: 0.54631704, Accuracy: 0.8013245\n",
      "Step #850 ,Loss: 0.5127561, Accuracy: 0.8013245\n",
      "Step #900 ,Loss: 0.40705, Accuracy: 0.794702\n",
      "Step #950 ,Loss: 0.6406487, Accuracy: 0.794702\n",
      "Step #1000 ,Loss: 0.48043138, Accuracy: 0.794702\n",
      "Step #1050 ,Loss: 0.4948493, Accuracy: 0.794702\n",
      "Step #1100 ,Loss: 0.47443733, Accuracy: 0.794702\n",
      "Step #1150 ,Loss: 0.4191159, Accuracy: 0.794702\n",
      "Step #1200 ,Loss: 0.5303411, Accuracy: 0.8013245\n",
      "Step #1250 ,Loss: 0.43775472, Accuracy: 0.8013245\n",
      "Step #1300 ,Loss: 0.4613383, Accuracy: 0.8013245\n",
      "Step #1350 ,Loss: 0.44890308, Accuracy: 0.794702\n",
      "Step #1400 ,Loss: 0.41682044, Accuracy: 0.794702\n",
      "Step #1450 ,Loss: 0.5854701, Accuracy: 0.78807944\n",
      "Step #1500 ,Loss: 0.4669196, Accuracy: 0.794702\n"
     ]
    }
   ],
   "source": [
    "training_loss_vect = []\n",
    "test_loss_vect = []\n",
    "training_acc = []\n",
    "test_acc = []\n",
    "\n",
    "for i in range(1500):\n",
    "    rand_idx = np.random.choice(len(x_vals_train), size = batch_size)\n",
    "    rand_x = x_vals_train[rand_idx]\n",
    "    rand_y = np.transpose([y_vals_train[rand_idx]])\n",
    "    \n",
    "    session.run(train_step, feed_dict = {x_data: rand_x,\n",
    "                                         y_target: rand_y})\n",
    "    temp_training_loss = session.run(loss, feed_dict = {x_data: rand_x,\n",
    "                                                        y_target: rand_y})\n",
    "    training_loss_vect.append(temp_training_loss)\n",
    "    \n",
    "    temp_test_loss = session.run(loss, feed_dict = {x_data: x_vals_test,\n",
    "                                                    y_target: np.transpose([y_vals_test])})\n",
    "    test_loss_vect.append(temp_test_loss)\n",
    "    \n",
    "    temp_training_accuracy = session.run(accuracy, feed_dict = {x_data: x_vals_train,\n",
    "                                                                y_target: np.transpose([y_vals_train])})\n",
    "    training_acc.append(temp_training_accuracy)\n",
    "    \n",
    "    temp_test_accuracy = session.run(accuracy, feed_dict = {x_data: x_vals_test,\n",
    "                                                            y_target: np.transpose([y_vals_test])})\n",
    "    test_acc.append(temp_test_accuracy)\n",
    "    \n",
    "    if (i+1)%50 == 0:\n",
    "        print('Step #'+str(i+1)+\n",
    "              ' ,Loss: '+str(temp_training_loss)+\n",
    "              ', Accuracy: '+str(temp_training_accuracy))"
   ]
  },
  {
   "cell_type": "markdown",
   "metadata": {},
   "source": [
    "Let's see the Loss over the training step!"
   ]
  },
  {
   "cell_type": "code",
   "execution_count": 16,
   "metadata": {},
   "outputs": [
    {
     "data": {
      "image/png": "[encoded data removed]",
      "text/plain": [
       "<Figure size 432x288 with 1 Axes>"
      ]
     },
     "metadata": {
      "needs_background": "light"
     },
     "output_type": "display_data"
    }
   ],
   "source": [
    "plt.plot(training_loss_vect, 'r-', label = 'Training')\n",
    "plt.plot(test_loss_vect, 'b--', label = 'Test')\n",
    "plt.title('Training Loss')\n",
    "plt.xlabel('Step')\n",
    "plt.ylabel('Loss (L1)')\n",
    "plt.legend(loc = 'upper right')\n",
    "plt.show()"
   ]
  },
  {
   "cell_type": "markdown",
   "metadata": {},
   "source": [
    "At around 500 steps test loss is increasing but training loss keeps a negative slop. A clear sign of Overfitting.\n",
    "\n",
    "Let's see now the accuracy over the training step.."
   ]
  },
  {
   "cell_type": "code",
   "execution_count": 17,
   "metadata": {},
   "outputs": [
    {
     "data": {
      "image/png": "[encoded data removed]",
      "text/plain": [
       "<Figure size 432x288 with 1 Axes>"
      ]
     },
     "metadata": {
      "needs_background": "light"
     },
     "output_type": "display_data"
    }
   ],
   "source": [
    "plt.plot(training_acc, 'r-', label = 'Training')\n",
    "plt.plot(test_acc, 'b--', label = 'Test')\n",
    "plt.title('Training Accuracy')\n",
    "plt.xlabel('Step')\n",
    "plt.ylabel('Accuracy')\n",
    "plt.legend(loc = 'lower right')\n",
    "plt.show()"
   ]
  },
  {
   "cell_type": "markdown",
   "metadata": {},
   "source": [
    "Again a big differece in slope and value of the accuracy starting near step #500. \n"
   ]
  }
 ],
 "metadata": {
  "kernelspec": {
   "display_name": "Python 3",
   "language": "python",
   "name": "python3"
  },
  "language_info": {
   "codemirror_mode": {
    "name": "ipython",
    "version": 3
   },
   "file_extension": ".py",
   "mimetype": "text/x-python",
   "name": "python",
   "nbconvert_exporter": "python",
   "pygments_lexer": "ipython3",
   "version": "3.7.6"
  }
 },
 "nbformat": 4,
 "nbformat_minor": 4
}
