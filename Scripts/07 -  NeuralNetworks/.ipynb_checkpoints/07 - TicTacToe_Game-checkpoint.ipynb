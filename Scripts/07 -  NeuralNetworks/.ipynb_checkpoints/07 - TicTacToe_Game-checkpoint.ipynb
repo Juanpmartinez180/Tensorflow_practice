{
 "cells": [
  {
   "cell_type": "markdown",
   "metadata": {},
   "source": [
    "# Tic Tac Toe Game\n",
    "\n",
    "Starting from a optimal moves dataset (stored in path) the idea is create a NN capable of play Tic tac toe with us.\n",
    "NN will be trained and then tested with out-of-dataset data.\n",
    "\n",
    "Library import"
   ]
  },
  {
   "cell_type": "code",
   "execution_count": 1,
   "metadata": {},
   "outputs": [],
   "source": [
    "import numpy as np\n",
    "import matplotlib.pyplot as plt\n",
    "import csv\n",
    "import random\n",
    "import tensorflow as tf\n",
    "\n",
    "session = tf.Session()\n",
    "%config Completer.use_jedi = False"
   ]
  },
  {
   "cell_type": "markdown",
   "metadata": {},
   "source": [
    "To a better result visualization we define the following function:"
   ]
  },
  {
   "cell_type": "code",
   "execution_count": 2,
   "metadata": {},
   "outputs": [],
   "source": [
    "def print_board(board):\n",
    "    symbols = ['O', ' ', 'X']\n",
    "    board_plus1 = [int(x)+1 for x in board]\n",
    "    board_line1 = '{}|{}|{}'.format(symbols[board_plus1[0]], symbols[board_plus1[1]], symbols[board_plus1[2]])\n",
    "    board_line2 = '{}|{}|{}'.format(symbols[board_plus1[3]], symbols[board_plus1[4]], symbols[board_plus1[5]])\n",
    "    board_line3 = '{}|{}|{}'.format(symbols[board_plus1[6]], symbols[board_plus1[7]], symbols[board_plus1[8]])\n",
    "    print(board_line1)\n",
    "    print('_____')\n",
    "    print(board_line2)\n",
    "    print('_____')\n",
    "    print(board_line3)"
   ]
  },
  {
   "cell_type": "code",
   "execution_count": 3,
   "metadata": {},
   "outputs": [
    {
     "name": "stdout",
     "output_type": "stream",
     "text": [
      "O| | \n",
      "_____\n",
      "X|X| \n",
      "_____\n",
      " |O|X\n"
     ]
    }
   ],
   "source": [
    "print_board([-1,0,0,1,1,0,0,-1,1])"
   ]
  },
  {
   "cell_type": "markdown",
   "metadata": {},
   "source": [
    "For data augmentation we use the following function wich transform our input data using rotations and flips."
   ]
  },
  {
   "cell_type": "code",
   "execution_count": 4,
   "metadata": {},
   "outputs": [],
   "source": [
    "def get_symetry(board, response, transformation):\n",
    "    '''\n",
    "    :param board: 9int list composed by:\n",
    "        - O = -1, Enemy symbol\n",
    "        - X = 1, Player symbol\n",
    "        -' '= 0, Empty cell\n",
    "    :param transformation: \n",
    "        - Rotate90, Rotate180, Rotate270, Flip_v, Flip_h\n",
    "    :return: tuple(new_board, new_response)\n",
    "    '''\n",
    "    if transformation == 'rotate180':\n",
    "        new_response = 8 - response\n",
    "        return board[::-1], new_response\n",
    "    elif transformation == 'rotate90':\n",
    "        new_response = [6,3,0,7,4,1,8,5,2].index(response)\n",
    "        tuple_board = list(zip(*[board[6:9], board[3:6], board[0:3]]))\n",
    "        return [value for item in tuple_board for value in item], new_response\n",
    "    elif transformation == 'rotate270':\n",
    "        new_response = [2,5,8,1,4,7,0,3,6].index(response)\n",
    "        tuple_board = list(zip(*[board[0:3], board[3:6], board[6:9]]))[::-1]\n",
    "        return [value for item in tuple_board for value in item], new_response\n",
    "    elif transformation == 'flip_v':\n",
    "        new_response = [6,7,8,3,4,5,0,1,2].index(response)\n",
    "        return board[6:9]+board[3:6]+board[0:3], new_response\n",
    "    elif transformation == 'flip_h':\n",
    "        new_response = [2,1,0,5,4,3,8,7,6].index(response)\n",
    "        new_board = board[::-1]\n",
    "        return new_board[6:9]+new_board[3:6]+new_board[0:3], new_response\n",
    "    else:\n",
    "        raise ValueError('This movement is not programmed')"
   ]
  },
  {
   "cell_type": "code",
   "execution_count": 5,
   "metadata": {},
   "outputs": [
    {
     "name": "stdout",
     "output_type": "stream",
     "text": [
      "X|O| \n",
      "_____\n",
      " |X|X\n",
      "_____\n",
      " | |O\n"
     ]
    },
    {
     "data": {
      "text/plain": [
       "([1, -1, 0, 0, 1, 1, 0, 0, -1], 7)"
      ]
     },
     "execution_count": 5,
     "metadata": {},
     "output_type": "execute_result"
    }
   ],
   "source": [
    "print_board(get_symetry([-1,0,0,1,1,0,0,-1,1], 1, 'rotate180')[0])\n",
    "get_symetry([-1,0,0,1,1,0,0,-1,1], 1, 'rotate180')"
   ]
  },
  {
   "cell_type": "markdown",
   "metadata": {},
   "source": [
    "To read the dataset csv file and return a list of the board positions and the best possible movement we use the following function:"
   ]
  },
  {
   "cell_type": "code",
   "execution_count": 6,
   "metadata": {},
   "outputs": [],
   "source": [
    "def get_moves_from_csv(csv_file):\n",
    "    '''\n",
    "    :param csv_file: CSV file with the answers for every esential board configuration\n",
    "    :return moves: list with the best possibles board movements \n",
    "    '''\n",
    "    moves = []\n",
    "    with open(csv_file, 'rt') as csvfile:\n",
    "        reader = csv.reader(csvfile, delimiter = ',')\n",
    "        for row in reader:\n",
    "            moves.append(([int(x) for x in row[0:9]], int(row[9])))\n",
    "    return moves"
   ]
  },
  {
   "cell_type": "code",
   "execution_count": 7,
   "metadata": {},
   "outputs": [],
   "source": [
    "moves = get_moves_from_csv('../../Datasets/moves_tic_tac_toe.csv')"
   ]
  },
  {
   "cell_type": "markdown",
   "metadata": {},
   "source": [
    "Now with the dataset we can create a function to iterate multiple transformations to train the algoritm with more board cases."
   ]
  },
  {
   "cell_type": "code",
   "execution_count": 8,
   "metadata": {},
   "outputs": [],
   "source": [
    "def get_random_move(moves, rand_transforms = 2):\n",
    "    (board, response) = random.choice(moves)\n",
    "    possible_transforms = ['rotate90', 'rotate180', 'rotate270', 'flip_v', 'flip_h']\n",
    "    for i in range(rand_transforms):\n",
    "        rand_transforms = random.choice(possible_transforms)\n",
    "        (board, response) = get_symetry(board, response, rand_transforms)\n",
    "    return board, response"
   ]
  },
  {
   "cell_type": "code",
   "execution_count": 9,
   "metadata": {},
   "outputs": [
    {
     "data": {
      "text/plain": [
       "([1, -1, -1, 0, -1, 0, 0, 1, 0], 6)"
      ]
     },
     "execution_count": 9,
     "metadata": {},
     "output_type": "execute_result"
    }
   ],
   "source": [
    "get_random_move(moves, 2)"
   ]
  },
  {
   "cell_type": "markdown",
   "metadata": {},
   "source": [
    "### Model creation\n",
    "\n",
    "Trainin/test dataset "
   ]
  },
  {
   "cell_type": "code",
   "execution_count": 10,
   "metadata": {},
   "outputs": [],
   "source": [
    "batch_size = 50\n",
    "train_lenght = 500  #Number of moves to iterate\n",
    "train_set = []\n",
    "for t in range(train_lenght):\n",
    "    train_set.append(get_random_move(moves))\n",
    "test_board = [-1,0,0,1,-1,-1,0,0,1] #->6    #Move to test\n",
    "train_set = [x for x in train_set if x[0] != test_board]  "
   ]
  },
  {
   "cell_type": "markdown",
   "metadata": {},
   "source": [
    "Function to initialize the weights with normal distribution"
   ]
  },
  {
   "cell_type": "code",
   "execution_count": 11,
   "metadata": {},
   "outputs": [],
   "source": [
    "def init_weights(shape):\n",
    "    return tf.Variable(tf.random_normal(shape))"
   ]
  },
  {
   "cell_type": "markdown",
   "metadata": {},
   "source": [
    "Function to create the model layers"
   ]
  },
  {
   "cell_type": "code",
   "execution_count": 12,
   "metadata": {},
   "outputs": [],
   "source": [
    "def model(x, A1, A2, b1, b2): \n",
    "    layer1 = tf.nn.sigmoid(tf.add(tf.matmul(x, A1), b1))\n",
    "    layer2 = tf.add(tf.matmul(layer1, A2), b2)\n",
    "    return layer2"
   ]
  },
  {
   "cell_type": "code",
   "execution_count": 13,
   "metadata": {},
   "outputs": [],
   "source": [
    "X = tf.placeholder(shape = [None, 9], dtype = tf.float32)\n",
    "Y = tf.placeholder(shape = [None], dtype = tf.int32)\n",
    "A1 = init_weights([9, 81])\n",
    "b1 = init_weights([81])\n",
    "A2 = init_weights([81, 9])\n",
    "b2 = init_weights([9])\n",
    "model_output = model(X, A1, A2, b1, b2)"
   ]
  },
  {
   "cell_type": "markdown",
   "metadata": {},
   "source": [
    "Loss function"
   ]
  },
  {
   "cell_type": "code",
   "execution_count": 22,
   "metadata": {},
   "outputs": [],
   "source": [
    "learning_rate = 0.01\n",
    "loss = tf.reduce_mean(tf.nn.sparse_softmax_cross_entropy_with_logits(logits = model_output, labels = Y))\n",
    "train_step = tf.train.GradientDescentOptimizer(learning_rate).minimize(loss)"
   ]
  },
  {
   "cell_type": "markdown",
   "metadata": {},
   "source": [
    "Prediction Function"
   ]
  },
  {
   "cell_type": "code",
   "execution_count": 15,
   "metadata": {},
   "outputs": [],
   "source": [
    "prediction = tf.argmax(model_output, 1)"
   ]
  },
  {
   "cell_type": "markdown",
   "metadata": {},
   "source": [
    "Variables initializer"
   ]
  },
  {
   "cell_type": "code",
   "execution_count": 23,
   "metadata": {},
   "outputs": [],
   "source": [
    "init = tf.global_variables_initializer()\n",
    "session.run(init)"
   ]
  },
  {
   "cell_type": "markdown",
   "metadata": {},
   "source": [
    "#### Training Loop"
   ]
  },
  {
   "cell_type": "code",
   "execution_count": 24,
   "metadata": {},
   "outputs": [
    {
     "name": "stdout",
     "output_type": "stream",
     "text": [
      "Step #1000, Loss: 2.2295334\n",
      "Step #2000, Loss: 1.9646381\n",
      "Step #3000, Loss: 1.5602918\n",
      "Step #4000, Loss: 1.4532294\n",
      "Step #5000, Loss: 1.2337291\n",
      "Step #6000, Loss: 1.0826235\n",
      "Step #7000, Loss: 1.162037\n",
      "Step #8000, Loss: 1.1484972\n",
      "Step #9000, Loss: 1.0783063\n",
      "Step #10000, Loss: 0.9908406\n"
     ]
    }
   ],
   "source": [
    "loss_vect = []\n",
    "for i in range(10000):\n",
    "    rand_idx = np.random.choice(range(len(train_set)), batch_size, replace = False)\n",
    "    batch_data = [train_set[i] for i in rand_idx]\n",
    "    x_input = [x[0] for x in batch_data]\n",
    "    y_target = np.array([y[1] for y in batch_data])\n",
    "    session.run(train_step, feed_dict = {X: x_input,\n",
    "                                        Y: y_target})\n",
    "    temp_loss = session.run(loss, feed_dict = {X: x_input,\n",
    "                                               Y: y_target})\n",
    "    loss_vect.append(temp_loss)\n",
    "    if (i+1)%1000 == 0:\n",
    "        print('Step #'+str(i+1)+\n",
    "              ', Loss: '+str(temp_loss))"
   ]
  },
  {
   "cell_type": "code",
   "execution_count": 25,
   "metadata": {},
   "outputs": [
    {
     "data": {
      "image/png": "[encoded data removed]",
      "text/plain": [
       "<Figure size 432x288 with 1 Axes>"
      ]
     },
     "metadata": {
      "needs_background": "light"
     },
     "output_type": "display_data"
    }
   ],
   "source": [
    "plt.plot(loss_vect, 'k-', label = 'Loss')\n",
    "plt.title('Training Loss')\n",
    "plt.xlabel('Iteration')\n",
    "plt.ylabel('Loss')\n",
    "plt.legend(loc = 'upper right')\n",
    "plt.show()"
   ]
  },
  {
   "cell_type": "markdown",
   "metadata": {},
   "source": [
    "### Trained model test"
   ]
  },
  {
   "cell_type": "code",
   "execution_count": 28,
   "metadata": {},
   "outputs": [
    {
     "name": "stdout",
     "output_type": "stream",
     "text": [
      "[3]\n"
     ]
    }
   ],
   "source": [
    "test_board = [-1,0,0,1,-1,-1,0,0,1] #->6    #Move to test\n",
    "test_boards = [test_board]\n",
    "feed_dict = {X: test_boards}\n",
    "logits = session.run(model_output, feed_dict = feed_dict)\n",
    "predictions = session.run(prediction, feed_dict = feed_dict)\n",
    "\n",
    "print(predictions)"
   ]
  },
  {
   "cell_type": "markdown",
   "metadata": {},
   "source": [
    "Let's create a function to play with the computer!\n",
    "\n",
    "First a function to check if the actual board has a winning combination:"
   ]
  },
  {
   "cell_type": "code",
   "execution_count": 37,
   "metadata": {},
   "outputs": [],
   "source": [
    "def check(board):\n",
    "    wins = [[0,1,2], [3,4,5], [6,7,8],   #Horizontal winning combination\n",
    "            [0,3,6], [1,4,7], [2,5,8],   #Vertical\n",
    "            [0,4,8], [2,4,6]]            #Diagonal\n",
    "    for i in range(len(wins)):\n",
    "        if board[wins[i][0]] == board[wins[i][1]] == board[wins[i][2]] == 1.0:\n",
    "            return 1\n",
    "        elif board[wins[i][0]] == board[wins[i][1]] == board[wins[i][2]] == -1.0:\n",
    "            return 1\n",
    "    return 0        "
   ]
  },
  {
   "cell_type": "code",
   "execution_count": 43,
   "metadata": {},
   "outputs": [
    {
     "name": "stdin",
     "output_type": "stream",
     "text": [
      "Input game position (0-8):  4\n"
     ]
    },
    {
     "name": "stdout",
     "output_type": "stream",
     "text": [
      "Model move: \n",
      " | | \n",
      "_____\n",
      " |X| \n",
      "_____\n",
      " | |O\n"
     ]
    },
    {
     "name": "stdin",
     "output_type": "stream",
     "text": [
      "Input game position (0-8):  0\n"
     ]
    },
    {
     "name": "stdout",
     "output_type": "stream",
     "text": [
      "Model move: \n",
      "X| | \n",
      "_____\n",
      " |X| \n",
      "_____\n",
      "O| |O\n"
     ]
    },
    {
     "name": "stdin",
     "output_type": "stream",
     "text": [
      "Input game position (0-8):  3\n"
     ]
    },
    {
     "name": "stdout",
     "output_type": "stream",
     "text": [
      "Model move: \n",
      "X| |O\n",
      "_____\n",
      "X|X| \n",
      "_____\n",
      "O| |O\n"
     ]
    },
    {
     "name": "stdin",
     "output_type": "stream",
     "text": [
      "Input game position (0-8):  1\n"
     ]
    },
    {
     "name": "stdout",
     "output_type": "stream",
     "text": [
      "Model move: \n",
      "X|X|O\n",
      "_____\n",
      "X|X| \n",
      "_____\n",
      "O|O|O\n",
      "Game Over\n"
     ]
    }
   ],
   "source": [
    "game_tracker = [0,0,0,0,0,0,0,0,0]\n",
    "win_logical =  False\n",
    "num_moves = 0\n",
    "\n",
    "while not win_logical:\n",
    "    player_idx = input('Input game position (0-8): ')\n",
    "    num_moves += 1\n",
    "    game_tracker[int(player_idx)] = 1.0\n",
    "    \n",
    "    [potential_moves] = session.run(model_output, feed_dict = {X: [game_tracker]})\n",
    "    allowed_moves = [ix for ix, x in enumerate(game_tracker) if x==0]\n",
    "    model_move = np.argmax([x if ix in allowed_moves else -9999 for ix, x in enumerate(potential_moves)])\n",
    "    game_tracker[int(model_move)] = -1\n",
    "    \n",
    "    print('Model move: ')\n",
    "    print_board(game_tracker)\n",
    "    if check(game_tracker) == 1 or num_moves >= 5:\n",
    "        print('Game Over')\n",
    "        win_logical = True"
   ]
  },
  {
   "cell_type": "code",
   "execution_count": null,
   "metadata": {},
   "outputs": [],
   "source": []
  }
 ],
 "metadata": {
  "kernelspec": {
   "display_name": "Python 3",
   "language": "python",
   "name": "python3"
  },
  "language_info": {
   "codemirror_mode": {
    "name": "ipython",
    "version": 3
   },
   "file_extension": ".py",
   "mimetype": "text/x-python",
   "name": "python",
   "nbconvert_exporter": "python",
   "pygments_lexer": "ipython3",
   "version": "3.7.6"
  }
 },
 "nbformat": 4,
 "nbformat_minor": 4
}
