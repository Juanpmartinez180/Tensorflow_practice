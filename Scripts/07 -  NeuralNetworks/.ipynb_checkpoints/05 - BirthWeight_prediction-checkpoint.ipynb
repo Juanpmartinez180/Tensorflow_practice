{
 "cells": [
  {
   "cell_type": "markdown",
   "metadata": {},
   "source": [
    "## Birth weight prediction\n",
    "\n",
    "Using Tensorflow to predict if the weight of a new born child is correct or under the mean.\n",
    "\n",
    "#### Model \n",
    "- Regression problem\n",
    "- Metric is accuracy\n",
    "- Using 3 hidden layers."
   ]
  },
  {
   "cell_type": "markdown",
   "metadata": {},
   "source": [
    "Library import"
   ]
  },
  {
   "cell_type": "code",
   "execution_count": 1,
   "metadata": {},
   "outputs": [],
   "source": [
    "import numpy as np\n",
    "import matplotlib.pyplot as plt\n",
    "import tensorflow as tf\n",
    "import requests\n",
    "\n",
    "session = tf.Session()\n",
    "%config Completer.use_jedi = False"
   ]
  },
  {
   "cell_type": "markdown",
   "metadata": {},
   "source": [
    "Dataset import"
   ]
  },
  {
   "cell_type": "code",
   "execution_count": 2,
   "metadata": {},
   "outputs": [],
   "source": [
    "url = 'https://raw.githubusercontent.com/joanby/tensorflow/master/datasets/birthweight.csv'\n",
    "birth_file = requests.get(url)\n",
    "birth_data = birth_file.text.split('\\r\\n')\n",
    "\n",
    "birth_header = birth_data[0].split(',')\n",
    "birth_data = [[float(x) for x in y.split(',') if len(x)>=1] for y in birth_data[1:] if len(y)>=1]"
   ]
  },
  {
   "cell_type": "markdown",
   "metadata": {},
   "source": [
    "Features and label split"
   ]
  },
  {
   "cell_type": "code",
   "execution_count": 3,
   "metadata": {},
   "outputs": [
    {
     "name": "stdout",
     "output_type": "stream",
     "text": [
      "['LOW', 'AGE', 'LWT', 'RACE', 'SMOKE', 'PTL', 'HT', 'UI', 'BWT']\n"
     ]
    }
   ],
   "source": [
    "print(birth_header)"
   ]
  },
  {
   "cell_type": "code",
   "execution_count": 4,
   "metadata": {},
   "outputs": [],
   "source": [
    "y_vals = np.array([x[8] for x in birth_data])\n",
    "x_vals = np.array([x[1:8] for x in birth_data])"
   ]
  },
  {
   "cell_type": "markdown",
   "metadata": {},
   "source": [
    "Random state seed "
   ]
  },
  {
   "cell_type": "code",
   "execution_count": 5,
   "metadata": {},
   "outputs": [],
   "source": [
    "seed = 2019\n",
    "tf.set_random_seed(seed)\n",
    "np.random.seed(seed)\n",
    "batch_size = 100"
   ]
  },
  {
   "cell_type": "markdown",
   "metadata": {},
   "source": [
    "#### Train/test dataset split"
   ]
  },
  {
   "cell_type": "code",
   "execution_count": 6,
   "metadata": {},
   "outputs": [],
   "source": [
    "train_idx = np.random.choice(a = len(x_vals), size = round(len(x_vals)*0.8), replace = False)\n",
    "test_idx = np.array(list(set(range(len(x_vals)))-set(train_idx)))\n",
    "\n",
    "x_vals_train = x_vals[train_idx]\n",
    "y_vals_train = y_vals[train_idx]\n",
    "\n",
    "x_vals_test = x_vals[test_idx]\n",
    "y_vals_test = y_vals[test_idx]"
   ]
  },
  {
   "cell_type": "markdown",
   "metadata": {},
   "source": [
    "#### Dataset normalization."
   ]
  },
  {
   "cell_type": "code",
   "execution_count": 7,
   "metadata": {},
   "outputs": [
    {
     "name": "stderr",
     "output_type": "stream",
     "text": [
      "/home/juan/anaconda3/lib/python3.7/site-packages/numpy/lib/type_check.py:461: VisibleDeprecationWarning: Creating an ndarray from ragged nested sequences (which is a list-or-tuple of lists-or-tuples-or ndarrays with different lengths or shapes) is deprecated. If you meant to do this, you must specify 'dtype=object' when creating the ndarray\n",
      "  x = _nx.array(x, subok=True, copy=copy)\n"
     ]
    }
   ],
   "source": [
    "def normalize_col(m, col_min = np.array([None]), col_max = np.array([None])):\n",
    "    if not col_min[0]:\n",
    "        col_min = m.min(axis = 0)\n",
    "    if not col_max[0]:\n",
    "        col_max = m.max(axis = 0)\n",
    "    return (m - col_min)/(col_max-col_min), col_min, col_max\n",
    "\n",
    "x_vals_train, train_min, train_max = np.nan_to_num(normalize_col(x_vals_train))\n",
    "x_vals_test,_,_ = np.nan_to_num(normalize_col(x_vals_test, train_min, train_max))"
   ]
  },
  {
   "cell_type": "markdown",
   "metadata": {
    "jupyter": {
     "outputs_hidden": true
    }
   },
   "source": [
    "#### Tensorflow variable declaration\n",
    "\n",
    "First we define 2 generic functions to return a distribution variable using a given shape and std dev.\n",
    "$Weight$ is going to be used to initialize the weights of the neural network and $bias$ to initialize the bias value of every layer."
   ]
  },
  {
   "cell_type": "code",
   "execution_count": 8,
   "metadata": {},
   "outputs": [],
   "source": [
    "def init_weight(shape, st_dev):\n",
    "    weight = tf.Variable(tf.random_normal(shape = shape, stddev= st_dev))\n",
    "    return weight\n",
    "\n",
    "def init_bias(shape, st_dev):\n",
    "    bias = tf.Variable(tf.random_normal(shape = shape, stddev = st_dev))\n",
    "    return bias"
   ]
  },
  {
   "cell_type": "markdown",
   "metadata": {},
   "source": [
    "Feature and label placeholders"
   ]
  },
  {
   "cell_type": "code",
   "execution_count": 9,
   "metadata": {},
   "outputs": [],
   "source": [
    "x_data = tf.placeholder(shape = [None, 7], dtype = tf.float32)\n",
    "y_target = tf.placeholder(shape = [None, 1], dtype = tf.float32)"
   ]
  },
  {
   "cell_type": "markdown",
   "metadata": {},
   "source": [
    "Function to automatize the hidden layers operation"
   ]
  },
  {
   "cell_type": "code",
   "execution_count": 10,
   "metadata": {},
   "outputs": [],
   "source": [
    "def full_connected(input_layer, weights, biases):\n",
    "    layer = tf.add(tf.matmul(input_layer, weights), biases)\n",
    "    return(layer)"
   ]
  },
  {
   "cell_type": "markdown",
   "metadata": {},
   "source": [
    "Now lets define the size of every hidden layer and then run the generic functions to create them.\n",
    "- Input value size : 7 -> hidden layer_1 size : 25. First layer have 7*25+25 = 200 variables\n",
    "- Hidden layer_1 size : 25 -> Hidden layer_2 size : 10. Second layer have 25*10+10 = 260 variables\n",
    "- Hidden layer_2 size : 10 -> Hidden layer_3 size : 3. Third layer have 10*3+3 = 33 variables.\n",
    "- Hidden layer 3 size : 3 -> Hidden layer_4 size : 1. Fourth layer have 3*1+1 = 4 variables.\n",
    "\n",
    "In total we have 497 variables!\n",
    "\n",
    "Layers definition:"
   ]
  },
  {
   "cell_type": "code",
   "execution_count": 11,
   "metadata": {},
   "outputs": [],
   "source": [
    "w1 = init_weight(shape = [7,25], st_dev= 10.0)\n",
    "b1 = init_bias(shape = [25], st_dev= 10.0)\n",
    "layer1 = full_connected(x_data, w1, b1)\n",
    "\n",
    "w2 = init_weight(shape = [25,10], st_dev= 10.0)\n",
    "b2 = init_bias(shape = [10], st_dev= 10.0)\n",
    "layer2 = full_connected(layer1, w2, b2)\n",
    "\n",
    "w3 = init_weight(shape = [10,3], st_dev= 10.0)\n",
    "b3 = init_bias(shape = [3], st_dev= 10.0)\n",
    "layer3 = full_connected(layer2, w3, b3)\n",
    "\n",
    "w4 = init_weight(shape = [3,1], st_dev= 10.0)\n",
    "b4 = init_bias(shape = [1], st_dev= 10.0)\n",
    "layer4 = full_connected(layer3, w4, b4)"
   ]
  },
  {
   "cell_type": "markdown",
   "metadata": {},
   "source": [
    "Loss function using Adam optimizer"
   ]
  },
  {
   "cell_type": "code",
   "execution_count": 12,
   "metadata": {},
   "outputs": [],
   "source": [
    "loss = tf.reduce_mean(tf.abs(y_target - layer4))\n",
    "my_optim = tf.train.AdamOptimizer(0.05)\n",
    "train_step = my_optim.minimize(loss)"
   ]
  },
  {
   "cell_type": "markdown",
   "metadata": {},
   "source": [
    "Variable initialization"
   ]
  },
  {
   "cell_type": "code",
   "execution_count": 24,
   "metadata": {},
   "outputs": [],
   "source": [
    "init = tf.global_variables_initializer()\n",
    "session.run(init)"
   ]
  },
  {
   "cell_type": "markdown",
   "metadata": {},
   "source": [
    "### Model training"
   ]
  },
  {
   "cell_type": "code",
   "execution_count": 25,
   "metadata": {},
   "outputs": [
    {
     "name": "stdout",
     "output_type": "stream",
     "text": [
      "Step #30Loss: 94350.93\n",
      "Step #60Loss: 10038.403\n",
      "Step #90Loss: 1972.9727\n",
      "Step #120Loss: 1903.3882\n",
      "Step #150Loss: 2590.4783\n",
      "Step #180Loss: 1320.6964\n",
      "Step #210Loss: 4082.98\n",
      "Step #240Loss: 1435.2206\n",
      "Step #270Loss: 1330.1188\n",
      "Step #300Loss: 1570.5228\n"
     ]
    }
   ],
   "source": [
    "train_loss = []\n",
    "test_loss = []\n",
    "train_acc = []\n",
    "for i in range(300):\n",
    "    rand_idx = np.random.choice(len(x_vals_train), size = batch_size)\n",
    "    rand_x = x_vals_train[rand_idx]\n",
    "    rand_y = np.transpose([y_vals_train[rand_idx]])\n",
    "    \n",
    "    session.run(train_step, feed_dict = {x_data: rand_x,\n",
    "                                         y_target: rand_y})\n",
    "    train_temp_loss = session.run(loss, feed_dict = {x_data: rand_x,\n",
    "                                               y_target: rand_y})\n",
    "    train_loss.append(train_temp_loss)\n",
    "    \n",
    "    test_temp_loss = session.run(loss, feed_dict = {x_data: x_vals_test,\n",
    "                                                    y_target: np.transpose([y_vals_test])})\n",
    "    test_loss.append(test_temp_loss)\n",
    "    \n",
    "    temp_acc = \n",
    "    \n",
    "    if (i+1)%30 == 0:\n",
    "        print('Step #'+str(i+1)+\n",
    "              'Loss: '+str(train_temp_loss))"
   ]
  },
  {
   "cell_type": "code",
   "execution_count": 26,
   "metadata": {},
   "outputs": [
    {
     "data": {
      "image/png": "[encoded data removed]",
      "text/plain": [
       "<Figure size 432x288 with 1 Axes>"
      ]
     },
     "metadata": {
      "needs_background": "light"
     },
     "output_type": "display_data"
    }
   ],
   "source": [
    "plt.plot(train_loss, 'r-', label = 'Training')\n",
    "plt.plot(test_loss, 'b--', label = 'Testing')\n",
    "plt.title('Training and test Loss')\n",
    "plt.xlabel('Step')\n",
    "plt.ylabel('Loss (L1)')\n",
    "plt.legend(loc = 'upper right')\n",
    "plt.show()"
   ]
  },
  {
   "cell_type": "markdown",
   "metadata": {},
   "source": [
    "### Model evaluation"
   ]
  },
  {
   "cell_type": "code",
   "execution_count": 29,
   "metadata": {},
   "outputs": [],
   "source": [
    "actuals = np.array([x[0] for x in birth_data])\n",
    "test_actuals = actuals[test_idx]\n",
    "train_actuals = actuals[train_idx]\n",
    "test_pred = [x[0] for x in session.run(layer4, feed_dict= {x_data: x_vals_test})]\n",
    "train_pred = [x[0] for x in session.run(layer4, feed_dict = {x_data: x_vals_train})]\n",
    "test_pred = np.array([1.0 if x<2500.0 else 0.0 for x in test_pred])\n",
    "train_pred = np.array([1.0 if x<2500.0 else 0.0 for x in train_pred])"
   ]
  },
  {
   "cell_type": "code",
   "execution_count": 30,
   "metadata": {},
   "outputs": [
    {
     "name": "stdout",
     "output_type": "stream",
     "text": [
      "Test accuracy: 0.5\n",
      "Train accuracy: 0.5960264900662252\n"
     ]
    }
   ],
   "source": [
    "test_acc = np.mean([x==y for x,y in zip(test_pred, test_actuals)])\n",
    "train_acc = np.mean([x==y for x,y in zip(train_pred, train_actuals)])\n",
    "\n",
    "print('Test accuracy: '+str(test_acc))\n",
    "print('Train accuracy: '+str(train_acc))"
   ]
  },
  {
   "cell_type": "code",
   "execution_count": null,
   "metadata": {},
   "outputs": [],
   "source": []
  }
 ],
 "metadata": {
  "kernelspec": {
   "display_name": "Python 3",
   "language": "python",
   "name": "python3"
  },
  "language_info": {
   "codemirror_mode": {
    "name": "ipython",
    "version": 3
   },
   "file_extension": ".py",
   "mimetype": "text/x-python",
   "name": "python",
   "nbconvert_exporter": "python",
   "pygments_lexer": "ipython3",
   "version": "3.7.6"
  }
 },
 "nbformat": 4,
 "nbformat_minor": 4
}
