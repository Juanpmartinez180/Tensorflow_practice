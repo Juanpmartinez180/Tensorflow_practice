{
 "cells": [
  {
   "cell_type": "markdown",
   "metadata": {},
   "source": [
    "# Activation Functions\n",
    "\n",
    "This functions are located at the end of the neural network. Are created to put a threshold level to activate the output layer.\n",
    "There are two main types of activaction functions, Sigmoid and ReLu.\n",
    "\n",
    "### Sigmoid \n",
    "$$sigmoid(x) = \\sigma (x) = \\frac{1}{1+e^x}$$\n",
    "\n",
    "### ReLu (Rectificador lineal unitario)\n",
    "$$f(x) = max(0,x)$$"
   ]
  },
  {
   "cell_type": "markdown",
   "metadata": {},
   "source": [
    "Library import"
   ]
  },
  {
   "cell_type": "code",
   "execution_count": 1,
   "metadata": {},
   "outputs": [],
   "source": [
    "import numpy as np\n",
    "import matplotlib.pyplot as plt\n",
    "import tensorflow as tf\n",
    "\n",
    "\n",
    "session = tf.Session()\n",
    "%config Completer.use_jedi = False"
   ]
  },
  {
   "cell_type": "markdown",
   "metadata": {},
   "source": [
    "Set Random seed values and batch size"
   ]
  },
  {
   "cell_type": "code",
   "execution_count": 2,
   "metadata": {},
   "outputs": [],
   "source": [
    "tf.set_random_seed(2019)\n",
    "np.random.seed(2019)\n",
    "batch_size = 50"
   ]
  },
  {
   "cell_type": "markdown",
   "metadata": {},
   "source": [
    "Tensorflow variables and X distribution"
   ]
  },
  {
   "cell_type": "code",
   "execution_count": 3,
   "metadata": {},
   "outputs": [],
   "source": [
    "a1 = tf.Variable(tf.random_normal(shape = [1,1]))\n",
    "b1 = tf.Variable(tf.random_normal(shape = [1,1]))\n",
    "\n",
    "a2 = tf.Variable(tf.random_normal(shape = [1,1]))\n",
    "b2 = tf.Variable(tf.random_normal(shape = [1,1]))\n",
    "\n",
    "x = np.random.normal(loc = 5, scale = 0.25, size = 1000)   #1000 values with std 0.25 and mean 5\n",
    "x_data = tf.placeholder(shape = [None, 1], dtype = tf.float32 )"
   ]
  },
  {
   "cell_type": "markdown",
   "metadata": {},
   "source": [
    "Definition of activation functions to test"
   ]
  },
  {
   "cell_type": "code",
   "execution_count": 4,
   "metadata": {},
   "outputs": [],
   "source": [
    "sigmoid_act = tf.sigmoid(tf.add(tf.matmul(x_data, a1), b1))\n",
    "relu_act = tf.nn.relu(tf.add(tf.matmul(x_data, a2), b2))"
   ]
  },
  {
   "cell_type": "markdown",
   "metadata": {},
   "source": [
    "Target value and loss functions:"
   ]
  },
  {
   "cell_type": "code",
   "execution_count": 5,
   "metadata": {},
   "outputs": [],
   "source": [
    "target = 0.75\n",
    "loss1 = tf.reduce_mean(tf.square(tf.subtract(sigmoid_act, target)))\n",
    "loss2 = tf.reduce_mean(tf.square(tf.subtract(relu_act, target)))"
   ]
  },
  {
   "cell_type": "markdown",
   "metadata": {},
   "source": [
    "Backward propagation optimizer and training functions definition"
   ]
  },
  {
   "cell_type": "code",
   "execution_count": 6,
   "metadata": {},
   "outputs": [],
   "source": [
    "learning_rate = 0.01\n",
    "\n",
    "my_optim = tf.train.GradientDescentOptimizer(learning_rate=learning_rate)\n",
    "train_step_sigmoid = my_optim.minimize(loss1)\n",
    "train_step_relu = my_optim.minimize(loss2)"
   ]
  },
  {
   "cell_type": "code",
   "execution_count": 13,
   "metadata": {},
   "outputs": [],
   "source": [
    "init = tf.global_variables_initializer()\n",
    "session.run(init)"
   ]
  },
  {
   "cell_type": "markdown",
   "metadata": {},
   "source": [
    "Training loop:"
   ]
  },
  {
   "cell_type": "code",
   "execution_count": 14,
   "metadata": {},
   "outputs": [],
   "source": [
    "loss_vect_sigmoid = []\n",
    "loss_vect_relu = []\n",
    "activ_sigmoid = []\n",
    "activ_relu = []\n",
    "for i in range(1000):\n",
    "    rand_idx = np.random.choice(len(x), size = batch_size)\n",
    "    x_vals = np.transpose([x[rand_idx]])\n",
    "    session.run(train_step_sigmoid, feed_dict = {x_data: x_vals})\n",
    "    session.run(train_step_relu, feed_dict = {x_data: x_vals})\n",
    "    \n",
    "    loss_vect_sigmoid.append(session.run(loss1, feed_dict = {x_data: x_vals}))\n",
    "    loss_vect_relu.append(session.run(loss2, feed_dict = {x_data: x_vals}))\n",
    "    \n",
    "    activ_sigmoid.append(np.mean(session.run(sigmoid_act, feed_dict={x_data: x_vals})))\n",
    "    activ_relu.append(np.mean(session.run(relu_act, feed_dict = {x_data: x_vals})))"
   ]
  },
  {
   "cell_type": "code",
   "execution_count": 15,
   "metadata": {},
   "outputs": [
    {
     "data": {
      "text/plain": [
       "<matplotlib.legend.Legend at 0x7f45e52c84d0>"
      ]
     },
     "execution_count": 15,
     "metadata": {},
     "output_type": "execute_result"
    },
    {
     "data": {
      "image/png": "[encoded data removed]",
      "text/plain": [
       "<Figure size 432x288 with 1 Axes>"
      ]
     },
     "metadata": {
      "needs_background": "light"
     },
     "output_type": "display_data"
    }
   ],
   "source": [
    "plt.plot(activ_sigmoid, 'r-', label = 'Sigmoid activ. function')\n",
    "plt.plot(activ_relu, 'b--', label = 'ReLu activ. function')\n",
    "plt.ylim([0.0, 2.0])\n",
    "plt.title('Activation Functions')\n",
    "plt.xlabel('Step')\n",
    "plt.ylabel('Model prediction')\n",
    "plt.legend(loc = 'lower right')"
   ]
  },
  {
   "cell_type": "code",
   "execution_count": 16,
   "metadata": {},
   "outputs": [
    {
     "data": {
      "image/png": "[encoded data removed]",
      "text/plain": [
       "<Figure size 432x288 with 1 Axes>"
      ]
     },
     "metadata": {
      "needs_background": "light"
     },
     "output_type": "display_data"
    }
   ],
   "source": [
    "plt.plot(loss_vect_sigmoid, 'r-', label = 'Sigmoid Loss')\n",
    "plt.plot(loss_vect_relu, 'b--', label = 'ReLu Loss')\n",
    "plt.ylim([0., 1.])\n",
    "plt.title('Loss Functions')\n",
    "plt.xlabel('Step')\n",
    "plt.ylabel('Loss')\n",
    "plt.legend(loc = 'upper right')\n",
    "plt.show()"
   ]
  }
 ],
 "metadata": {
  "kernelspec": {
   "display_name": "Python 3",
   "language": "python",
   "name": "python3"
  },
  "language_info": {
   "codemirror_mode": {
    "name": "ipython",
    "version": 3
   },
   "file_extension": ".py",
   "mimetype": "text/x-python",
   "name": "python",
   "nbconvert_exporter": "python",
   "pygments_lexer": "ipython3",
   "version": "3.7.6"
  }
 },
 "nbformat": 4,
 "nbformat_minor": 4
}
